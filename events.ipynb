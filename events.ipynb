{
 "metadata": {
  "language_info": {
   "codemirror_mode": {
    "name": "ipython",
    "version": 3
   },
   "file_extension": ".py",
   "mimetype": "text/x-python",
   "name": "python",
   "nbconvert_exporter": "python",
   "pygments_lexer": "ipython3",
   "version": "3.6.10-final"
  },
  "orig_nbformat": 2,
  "kernelspec": {
   "name": "python3",
   "display_name": "Python 3.6.10 64-bit ('PythonData': conda)",
   "metadata": {
    "interpreter": {
     "hash": "e7fc2354c13015bdfad1755b4a48a3eeb5cb703f1c2bff07599d6953b8d3ca77"
    }
   }
  }
 },
 "nbformat": 4,
 "nbformat_minor": 2,
 "cells": [
  {
   "source": [
    "# EXTRACTION\n",
    "## Data Source\n",
    "- Use Events API: https://api.predicthq.com/v1/events?\n",
    "## Methodology\n",
    "### Data Analysis - View Data\n",
    "1. Convert to json format and read json. Determine which variables are useful and required for the deliverable.\n",
    "\n",
    "FINDINGS: The API allows user to call for 50 entries/page, and up to 100 pages. i.e. Each time a call is made, there are only 50 entry results. \n",
    "### Data Analysis - Deetermine and Extract Data Required\n",
    "\n",
    "- Number of entries required: 5000. \n",
    "    1. Loop and set offset at every 50 interval (0, 50, 100, 150 etc until it reaches 4950. 5000 results max from API.)\n",
    "- Variables required: id, country, category, title, start_date, end_date, country, location\n",
    "    2. Use pandas to filter for the variables required. \n",
    "        - *location is the coordinates\n",
    "\n",
    "# TRANSFORMATION\n",
    "- Concatonate the dataframes together (from all 100 pages) and save the final dataframe to a variable.\n",
    "\n",
    "# LOAD\n",
    "- Load data into PostSQL\n",
    "\n",
    "-------------------------------"
   ],
   "cell_type": "markdown",
   "metadata": {}
  },
  {
   "source": [
    "# EXTRACTION"
   ],
   "cell_type": "markdown",
   "metadata": {}
  },
  {
   "cell_type": "code",
   "execution_count": 1,
   "metadata": {},
   "outputs": [],
   "source": [
    "# Dependencies\n",
    "import pandas\n",
    "import requests\n",
    "import pprint\n",
    "import json\n",
    "import requests\n",
    "import pandas as pd\n",
    "from pandas.io.json import json_normalize \n",
    "from sqlalchemy import create_engine\n",
    "\n",
    "# Credential File: py_config.py containing variable ACCESS_TOKEN = \"xxxxxxxxx\"\n",
    "import py_config"
   ]
  },
  {
   "source": [
    "## Data Analysis - View Data\n",
    "Convert to json format and read json. Determine which variables are useful and required for the deliverable."
   ],
   "cell_type": "markdown",
   "metadata": {}
  },
  {
   "cell_type": "code",
   "execution_count": 2,
   "metadata": {},
   "outputs": [],
   "source": [
    "# Connect to API url and get data\n",
    "# Variable ACCESS_TOKEN is referenced in py_config.py file and is in list .gitignore\n",
    "response = requests.get(\n",
    "    url =\"https://api.predicthq.com/v1/events?\",\n",
    "    headers={\n",
    "      \"Authorization\": f\"Bearer {py_config.ACCESS_TOKEN}\",\n",
    "      \"Accept\": \"application/json\"\n",
    "    },\n",
    "    # params={\n",
    "    #     \"limit\": 50,\n",
    "    params={\n",
    "      \"limit\":10,\n",
    "      \"country\": \"AU\",\n",
    "      \"start\": \"2021-01-01\",\n",
    "      \"end\": \"2022-12-31\"\n",
    "    # }\n",
    "    }\n",
    ")"
   ]
  },
  {
   "cell_type": "code",
   "execution_count": 3,
   "metadata": {},
   "outputs": [
    {
     "output_type": "stream",
     "name": "stdout",
     "text": [
      "{\n    \"count\": 5000,\n    \"next\": \"https://api.predicthq.com/v1/events/?country=AU&end=2022-12-31&limit=10&offset=10&start=2021-01-01\",\n    \"overflow\": true,\n    \"previous\": null,\n    \"results\": [\n        {\n            \"aviation_rank\": null,\n            \"brand_safe\": true,\n            \"category\": \"community\",\n            \"country\": \"AU\",\n            \"description\": \"The Busy Peacock is a place to come and let the children experiment and create. Be it mud, paint, glue, goo, water play, sensory rice play or otherwise, all those things you really want your child to experience but just not in your own home.\\n\\n45 minute play session running Tuesday \\u2013 Sunday, check the calendar for session times and availability.\",\n            \"duration\": 2700,\n            \"end\": \"2021-07-21T00:15:00Z\",\n            \"entities\": [\n                {\n                    \"category\": \"community\",\n                    \"entity_id\": \"Dn7bwAXxAEg29PzwifNf5V\",\n                    \"labels\": [\n                        \"community\",\n                        \"event-group\",\n                        \"recurring\"\n                    ],\n                    \"name\": \"Messy Play Sessions\",\n                    \"type\": \"event-group\"\n                }\n            ],\n            \"first_seen\": \"2020-11-18T06:35:06Z\",\n            \"id\": \"UZGsZMeY5YegR7MMdD\",\n            \"labels\": [\n                \"community\"\n            ],\n            \"local_rank\": 0,\n            \"location\": [\n                145.18578,\n                -38.261048\n            ],\n            \"phq_attendance\": null,\n            \"place_hierarchies\": [\n                [\n                    \"6295630\",\n                    \"6255151\",\n                    \"2077456\",\n                    \"2145234\",\n                    \"7839813\",\n                    \"2154395\"\n                ]\n            ],\n            \"private\": false,\n            \"rank\": 0,\n            \"relevance\": 1.0,\n            \"scope\": \"locality\",\n            \"start\": \"2021-07-20T23:30:00Z\",\n            \"state\": \"active\",\n            \"timezone\": \"Australia/Melbourne\",\n            \"title\": \"Messy Play Sessions\",\n            \"updated\": \"2020-11-18T06:48:00Z\"\n        },\n        {\n            \"aviation_rank\": null,\n            \"brand_safe\": true,\n            \"category\": \"conferences\",\n            \"country\": \"AU\",\n            \"description\": \"This workshop will explore the benefits and barriers to engaging families and others in the treatment of young people with mental ill-health\",\n            \"duration\": 25200,\n            \"end\": \"2021-07-21T06:30:00Z\",\n            \"entities\": [],\n            \"first_seen\": \"2021-01-26T07:50:49Z\",\n            \"id\": \"eQN8f47RzTXvibpxY7\",\n            \"labels\": [\n                \"conference\",\n                \"health\"\n            ],\n            \"local_rank\": 0,\n            \"location\": [\n                144.947904,\n                -37.780223\n            ],\n            \"phq_attendance\": null,\n            \"place_hierarchies\": [\n                [\n                    \"6295630\",\n                    \"6255151\",\n                    \"2077456\",\n                    \"2145234\",\n                    \"7839805\",\n                    \"2158177\"\n                ],\n                [\n                    \"6295630\",\n                    \"6255151\",\n                    \"2077456\",\n                    \"2145234\",\n                    \"7839805\",\n                    \"7281804\"\n                ]\n            ],\n            \"private\": false,\n            \"rank\": 0,\n            \"relevance\": 1.0,\n            \"scope\": \"locality\",\n            \"start\": \"2021-07-20T23:30:00Z\",\n            \"state\": \"active\",\n            \"timezone\": \"Australia/Melbourne\",\n            \"title\": \"INVOLVING FAMILIES AND OTHERS IN THE CARE OF YOUNG PEOPLE\",\n            \"updated\": \"2021-01-26T07:52:26Z\"\n        },\n        {\n            \"aviation_rank\": 0,\n            \"brand_safe\": true,\n            \"category\": \"conferences\",\n            \"country\": \"AU\",\n            \"description\": \"\",\n            \"duration\": 32400,\n            \"end\": \"2021-07-21T08:00:00Z\",\n            \"entities\": [\n                {\n                    \"category\": \"conferences\",\n                    \"entity_id\": \"G3EQ2FUNKgmcdjgtCy7YkX\",\n                    \"formatted_address\": \"8 Whiteman St Southbank VIC 3006\",\n                    \"labels\": [\n                        \"conference\",\n                        \"event-group\"\n                    ],\n                    \"name\": \"Future of Financial Services\",\n                    \"type\": \"event-group\"\n                },\n                {\n                    \"entity_id\": \"nSefEmFFYeKvx6YFVUThjj\",\n                    \"formatted_address\": \"8 Whiteman St\\nSouthbank VIC 3006\\nAustralia\",\n                    \"name\": \"The Pub at Crown\",\n                    \"type\": \"venue\"\n                }\n            ],\n            \"first_seen\": \"2021-02-07T15:50:42Z\",\n            \"id\": \"57NrcFdTDNZcHGZ5Jw\",\n            \"labels\": [\n                \"conference\"\n            ],\n            \"local_rank\": 56,\n            \"location\": [\n                144.959213,\n                -37.82341\n            ],\n            \"phq_attendance\": 600,\n            \"place_hierarchies\": [\n                [\n                    \"6295630\",\n                    \"6255151\",\n                    \"2077456\",\n                    \"2145234\",\n                    \"7839805\",\n                    \"2158177\"\n                ]\n            ],\n            \"private\": false,\n            \"rank\": 46,\n            \"relevance\": 1.0,\n            \"scope\": \"locality\",\n            \"start\": \"2021-07-20T23:00:00Z\",\n            \"state\": \"active\",\n            \"timezone\": \"Australia/Melbourne\",\n            \"title\": \"Future of Financial Services\",\n            \"updated\": \"2021-03-19T15:48:49Z\"\n        },\n        {\n            \"aviation_rank\": null,\n            \"brand_safe\": true,\n            \"category\": \"expos\",\n            \"country\": \"AU\",\n            \"description\": \"Discover objects of rare beauty and items of curiosity and wonder in this exhibition. Drawn from the rich and diverse Trevor Kennedy Collection, this selection of stunning artworks, ceramics, furniture and jewellery highlights Australia\\u2019s history, culture and identity.\\n\\nOpen Times: Daily: 9am-5pm\",\n            \"duration\": 28800,\n            \"end\": \"2021-07-21T07:00:00Z\",\n            \"entities\": [\n                {\n                    \"category\": \"expos\",\n                    \"entity_id\": \"aTApFCCi542T6J2Eu43jGX\",\n                    \"labels\": [\n                        \"event-group\",\n                        \"expo\",\n                        \"recurring\"\n                    ],\n                    \"name\": \"The Trevor Kennedy Collection: Highlights\",\n                    \"type\": \"event-group\"\n                },\n                {\n                    \"entity_id\": \"3B3FqxeXvKHJTL7hN4wS3UL\",\n                    \"formatted_address\": \"Lawson Crescent Acton Peninsula\\nCanberra ACT 2600\\nAustralia\",\n                    \"name\": \"National Museum of Australia\",\n                    \"type\": \"venue\"\n                }\n            ],\n            \"first_seen\": \"2021-04-20T06:41:52Z\",\n            \"id\": \"5gt6YrELDVgyH9H6N4\",\n            \"labels\": [\n                \"expo\"\n            ],\n            \"local_rank\": 70,\n            \"location\": [\n                149.119532,\n                -35.292481\n            ],\n            \"phq_attendance\": 562,\n            \"place_hierarchies\": [\n                [\n                    \"6295630\",\n                    \"6255151\",\n                    \"2077456\",\n                    \"2177478\",\n                    \"2172517\"\n                ]\n            ],\n            \"private\": false,\n            \"rank\": 45,\n            \"relevance\": 1.0,\n            \"scope\": \"locality\",\n            \"start\": \"2021-07-20T23:00:00Z\",\n            \"state\": \"active\",\n            \"timezone\": \"Australia/Sydney\",\n            \"title\": \"The Trevor Kennedy Collection: Highlights\",\n            \"updated\": \"2021-04-20T07:05:10Z\"\n        },\n        {\n            \"aviation_rank\": null,\n            \"brand_safe\": true,\n            \"category\": \"expos\",\n            \"country\": \"AU\",\n            \"description\": \"Experience one of the largest stock selling centres in New South Wales.\\nGunnedah Saleyards is located on the edge of town, just a kilometre from the town centre on the Kamilaroi highway towards Narrabri.\\n\\nCattle Stock sales are held every Tuesday, with all cattle sold live weight.\\n\\nSaleyards auctions are proceeding as usual, however non-essential personnel are asked not to attend in order to maintain safety standards.\",\n            \"duration\": 7200,\n            \"end\": \"2021-07-21T01:00:00Z\",\n            \"entities\": [\n                {\n                    \"category\": \"expos\",\n                    \"entity_id\": \"7YcCaPcvZ7ANVcuYkgvJLv\",\n                    \"labels\": [\n                        \"event-group\",\n                        \"expo\",\n                        \"recurring\"\n                    ],\n                    \"name\": \"Gunnedah Saleyards\",\n                    \"type\": \"event-group\"\n                }\n            ],\n            \"first_seen\": \"2021-04-13T06:35:03Z\",\n            \"id\": \"65grzvvvAQcmZH7rim\",\n            \"labels\": [\n                \"expo\"\n            ],\n            \"local_rank\": 73,\n            \"location\": [\n                150.224511,\n                -30.958274\n            ],\n            \"phq_attendance\": 562,\n            \"place_hierarchies\": [\n                [\n                    \"6295630\",\n                    \"6255151\",\n                    \"2077456\",\n                    \"2155400\",\n                    \"7839725\",\n                    \"2164205\"\n                ]\n            ],\n            \"private\": false,\n            \"rank\": 45,\n            \"relevance\": 1.0,\n            \"scope\": \"locality\",\n            \"start\": \"2021-07-20T23:00:00Z\",\n            \"state\": \"active\",\n            \"timezone\": \"Australia/Sydney\",\n            \"title\": \"Gunnedah Saleyards\",\n            \"updated\": \"2021-04-13T06:46:31Z\"\n        },\n        {\n            \"aviation_rank\": null,\n            \"brand_safe\": true,\n            \"category\": \"expos\",\n            \"country\": \"AU\",\n            \"description\": \"PlayUP is the Museum of Australian Democracy's imaginative family space with activities to educate, excite and challenge young minds.\\n\\nWith listening pods and a roleplay Kindness Caf\\u00e9, a fuzzy felt wall and facilitated craft activities, PlayUP has a range of exciting and immersive experiences that flip the traditional idea of museums completely on its head.\\n\\nBookings are essential.\\n\\nOpen Times: Daily: 9am-5pm\",\n            \"duration\": 28800,\n            \"end\": \"2021-07-21T07:00:00Z\",\n            \"entities\": [\n                {\n                    \"category\": \"expos\",\n                    \"entity_id\": \"itALLWYpzvpGMAqC8ASvsT\",\n                    \"labels\": [\n                        \"event-group\",\n                        \"expo\",\n                        \"recurring\"\n                    ],\n                    \"name\": \"PlayUP: The Right to Have an Opinion and Be Heard\",\n                    \"type\": \"event-group\"\n                }\n            ],\n            \"first_seen\": \"2021-03-23T06:01:49Z\",\n            \"id\": \"7yXLeY7ZcWoLx8YQU9\",\n            \"labels\": [\n                \"expo\"\n            ],\n            \"local_rank\": 70,\n            \"location\": [\n                149.129768,\n                -35.301112\n            ],\n            \"phq_attendance\": 562,\n            \"place_hierarchies\": [\n                [\n                    \"6295630\",\n                    \"6255151\",\n                    \"2077456\",\n                    \"2177478\",\n                    \"2172517\"\n                ]\n            ],\n            \"private\": false,\n            \"rank\": 45,\n            \"relevance\": 1.0,\n            \"scope\": \"locality\",\n            \"start\": \"2021-07-20T23:00:00Z\",\n            \"state\": \"active\",\n            \"timezone\": \"Australia/Sydney\",\n            \"title\": \"PlayUP: The Right to Have an Opinion and Be Heard\",\n            \"updated\": \"2021-03-23T08:31:56Z\"\n        },\n        {\n            \"aviation_rank\": null,\n            \"brand_safe\": true,\n            \"category\": \"expos\",\n            \"country\": \"AU\",\n            \"description\": \"An informative and visual display in recognition of the resilience, spirit and sheer hard work of the indigenous men and women who played a vital role in establishing the cattle industry in the Gulf Region. The display enhances the experience at the Normanton Visitor Information Centre, housed in the historic and heritage-listed Burns Philp building, which attracts tourists travelling on both, the Matilda Way and Savannah Way. The Stock Workers display is complemented by the photographic Indigenous Rodeo Riders exhibition, featuring riders from the area and local poems.\",\n            \"duration\": 25200,\n            \"end\": \"2021-07-21T06:00:00Z\",\n            \"entities\": [\n                {\n                    \"category\": \"expos\",\n                    \"entity_id\": \"KCMHGXPVBUW8gD2iSsZndN\",\n                    \"labels\": [\n                        \"community\",\n                        \"event-group\",\n                        \"expo\",\n                        \"recurring\"\n                    ],\n                    \"name\": \"Indigenous Stock Workers and Rodeo Riders Displays\",\n                    \"type\": \"event-group\"\n                }\n            ],\n            \"first_seen\": \"2020-12-17T06:33:48Z\",\n            \"id\": \"9JFGB6yX8SjKcm3BZm\",\n            \"labels\": [\n                \"community\",\n                \"expo\"\n            ],\n            \"local_rank\": 75,\n            \"location\": [\n                141.081268,\n                -17.668348\n            ],\n            \"phq_attendance\": 562,\n            \"place_hierarchies\": [\n                [\n                    \"6295630\",\n                    \"6255151\",\n                    \"2077456\",\n                    \"2152274\",\n                    \"7839568\",\n                    \"2155085\"\n                ]\n            ],\n            \"private\": false,\n            \"rank\": 45,\n            \"relevance\": 1.0,\n            \"scope\": \"locality\",\n            \"start\": \"2021-07-20T23:00:00Z\",\n            \"state\": \"active\",\n            \"timezone\": \"Australia/Brisbane\",\n            \"title\": \"Indigenous Stock Workers and Rodeo Riders Displays\",\n            \"updated\": \"2021-01-18T22:08:33Z\"\n        },\n        {\n            \"aviation_rank\": 0,\n            \"brand_safe\": true,\n            \"category\": \"conferences\",\n            \"country\": \"AU\",\n            \"description\": \"\",\n            \"duration\": 118800,\n            \"end\": \"2021-07-22T08:00:00Z\",\n            \"entities\": [\n                {\n                    \"entity_id\": \"3AdSUYSNnAXV7jnbvJS48BH\",\n                    \"formatted_address\": \"Wheat Road\\nSydney NSW 2000\\nAustralia\",\n                    \"name\": \"Dockside\",\n                    \"type\": \"venue\"\n                }\n            ],\n            \"first_seen\": \"2020-09-07T14:32:51Z\",\n            \"id\": \"Aii4mGwYmU6GLoCY97\",\n            \"labels\": [\n                \"conference\",\n                \"health\",\n                \"technology\"\n            ],\n            \"local_rank\": 47,\n            \"location\": [\n                151.202228,\n                -33.871976\n            ],\n            \"phq_attendance\": 300,\n            \"place_hierarchies\": [\n                [\n                    \"6295630\",\n                    \"6255151\",\n                    \"2077456\",\n                    \"2155400\",\n                    \"6619279\",\n                    \"2147714\"\n                ]\n            ],\n            \"private\": false,\n            \"rank\": 40,\n            \"relevance\": 1.0,\n            \"scope\": \"locality\",\n            \"start\": \"2021-07-20T23:00:00Z\",\n            \"state\": \"active\",\n            \"timezone\": \"Australia/Sydney\",\n            \"title\": \"Fitness Industry Technology Summit\",\n            \"updated\": \"2021-02-04T14:08:50Z\"\n        },\n        {\n            \"aviation_rank\": null,\n            \"brand_safe\": true,\n            \"category\": \"community\",\n            \"country\": \"AU\",\n            \"description\": \"The workshop starts with a short talk about opals with examples to look at and handle. Then you get to choose a parcel of three opals per person, ranging in size from six-twelve carats. You then learn how to polish them and release the gorgeous fire within the stones, which takes approximately two hours for all three stones. \\n\\nThis gives people the unique experience of polishing genuine Australian opal. There is nowhere else where you can polish opals and it is very likely that the opals you leave with will be worth more than the money you spent on this workshop. In fact, potentially you could polish an opal that is worth hundreds of dollars as it is impossible to see what an opal will look like before it's been polished, truly the luck of the draw. \\n\\nBut this workshop gives you the information to help you make an informed choice of the parcel of opals you'll choose.When the opals have been polished, they are placed in a small display case for you to take home or, alternatively, they can be set in a piece of jewellery either on site or by your own jeweller back home.\",\n            \"duration\": 10800,\n            \"end\": \"2021-07-21T02:00:00Z\",\n            \"entities\": [\n                {\n                    \"category\": \"community\",\n                    \"entity_id\": \"WyuSXvLNHDDBxnVAUuwKbE\",\n                    \"labels\": [\n                        \"community\",\n                        \"event-group\",\n                        \"recurring\"\n                    ],\n                    \"name\": \"The Polished Opal\",\n                    \"type\": \"event-group\"\n                }\n            ],\n            \"first_seen\": \"2019-12-09T07:03:51Z\",\n            \"id\": \"EJqNn748zA5y6wMUQq\",\n            \"labels\": [\n                \"community\"\n            ],\n            \"local_rank\": 0,\n            \"location\": [\n                150.333328,\n                -33.702448\n            ],\n            \"phq_attendance\": null,\n            \"place_hierarchies\": [\n                [\n                    \"6295630\",\n                    \"6255151\",\n                    \"2077456\",\n                    \"2155400\",\n                    \"2175228\",\n                    \"2161776\"\n                ],\n                [\n                    \"6295630\",\n                    \"6255151\",\n                    \"2077456\",\n                    \"2155400\",\n                    \"2175228\",\n                    \"2160297\"\n                ]\n            ],\n            \"private\": false,\n            \"rank\": 0,\n            \"relevance\": 1.0,\n            \"scope\": \"locality\",\n            \"start\": \"2021-07-20T23:00:00Z\",\n            \"state\": \"active\",\n            \"timezone\": \"Australia/Sydney\",\n            \"title\": \"The Polished Opal\",\n            \"updated\": \"2020-07-02T23:02:56Z\"\n        },\n        {\n            \"aviation_rank\": null,\n            \"brand_safe\": true,\n            \"category\": \"expos\",\n            \"country\": \"AU\",\n            \"description\": \"Truth, Power and a Free press is a compelling exhibition that explores the relationship between trusted media sources and a healthy democracy.\\n\\nIconic objects from Australia\\u2019s media history are brought together for the first time including the printing press used by the Father of Federation, Sir Henry Parkes, Peter Greste\\u2019s letters smuggled to his family from an Egyptian prison and the protective body armour vest worn by war photographer, Neil Davis.\\n\\nThrough an immersive seven-foot-tall audiovisual display, some of Australia\\u2019s most respected journalists share their personal stories for the battle for truth. They explain why they do the work they do, the courage it takes and the responsibility they feel for reporting fairly and fearlessly.\\n\\nBe inspired to understand how to navigate filter bubbles, fakes news and the importance of a free press.\\n\\nFind out if you can tell the truth.\\n\\nOpen Times: Daily: 9am-5pm\",\n            \"duration\": 28800,\n            \"end\": \"2021-07-21T07:00:00Z\",\n            \"entities\": [\n                {\n                    \"category\": \"expos\",\n                    \"entity_id\": \"DwUuivF6i5yYfcSn9hRKBg\",\n                    \"labels\": [\n                        \"event-group\",\n                        \"expo\",\n                        \"recurring\"\n                    ],\n                    \"name\": \"Truth, Power and a Free Press\",\n                    \"type\": \"event-group\"\n                },\n                {\n                    \"entity_id\": \"nSfpQNnykcDGsU9U6CJqk8\",\n                    \"formatted_address\": \"Old Parliament House\\n18 King George Ter\\nParkes Australia Capital Territory 2600\\nAustralia\",\n                    \"name\": \"Museum of Australian Democracy\",\n                    \"type\": \"venue\"\n                }\n            ],\n            \"first_seen\": \"2020-07-02T06:35:22Z\",\n            \"id\": \"EuRTzyaAcG7KyFV5E3\",\n            \"labels\": [\n                \"expo\"\n            ],\n            \"local_rank\": 71,\n            \"location\": [\n                149.129959,\n                -35.30196\n            ],\n            \"phq_attendance\": 562,\n            \"place_hierarchies\": [\n                [\n                    \"6295630\",\n                    \"6255151\",\n                    \"2077456\",\n                    \"2177478\",\n                    \"2172517\"\n                ]\n            ],\n            \"private\": false,\n            \"rank\": 45,\n            \"relevance\": 1.0,\n            \"scope\": \"locality\",\n            \"start\": \"2021-07-20T23:00:00Z\",\n            \"state\": \"active\",\n            \"timezone\": \"Australia/Sydney\",\n            \"title\": \"Truth, Power and a Free Press\",\n            \"updated\": \"2021-03-31T06:58:42Z\"\n        }\n    ]\n}\n"
     ]
    }
   ],
   "source": [
    "# Convert data to json format (all data)\n",
    "# Save to variable \"data1\"\n",
    "data = response.json()\n",
    "\n",
    "# Print json (formatted) and analyse which variables to use for deliverable\n",
    "print(json.dumps(data, indent=4, sort_keys=True))"
   ]
  },
  {
   "cell_type": "code",
   "execution_count": 4,
   "metadata": {},
   "outputs": [
    {
     "output_type": "execute_result",
     "data": {
      "text/plain": [
       "{'relevance': 1.0,\n",
       " 'id': 'UZGsZMeY5YegR7MMdD',\n",
       " 'title': 'Messy Play Sessions',\n",
       " 'description': 'The Busy Peacock is a place to come and let the children experiment and create. Be it mud, paint, glue, goo, water play, sensory rice play or otherwise, all those things you really want your child to experience but just not in your own home.\\n\\n45 minute play session running Tuesday – Sunday, check the calendar for session times and availability.',\n",
       " 'category': 'community',\n",
       " 'labels': ['community'],\n",
       " 'rank': 0,\n",
       " 'local_rank': 0,\n",
       " 'aviation_rank': None,\n",
       " 'phq_attendance': None,\n",
       " 'entities': [{'entity_id': 'Dn7bwAXxAEg29PzwifNf5V',\n",
       "   'name': 'Messy Play Sessions',\n",
       "   'type': 'event-group',\n",
       "   'category': 'community',\n",
       "   'labels': ['community', 'event-group', 'recurring']}],\n",
       " 'duration': 2700,\n",
       " 'start': '2021-07-20T23:30:00Z',\n",
       " 'end': '2021-07-21T00:15:00Z',\n",
       " 'updated': '2020-11-18T06:48:00Z',\n",
       " 'first_seen': '2020-11-18T06:35:06Z',\n",
       " 'timezone': 'Australia/Melbourne',\n",
       " 'location': [145.18578, -38.261048],\n",
       " 'scope': 'locality',\n",
       " 'country': 'AU',\n",
       " 'place_hierarchies': [['6295630',\n",
       "   '6255151',\n",
       "   '2077456',\n",
       "   '2145234',\n",
       "   '7839813',\n",
       "   '2154395']],\n",
       " 'state': 'active',\n",
       " 'brand_safe': True,\n",
       " 'private': False}"
      ]
     },
     "metadata": {},
     "execution_count": 4
    }
   ],
   "source": [
    "data['results'][0]"
   ]
  },
  {
   "cell_type": "code",
   "execution_count": 5,
   "metadata": {},
   "outputs": [
    {
     "output_type": "stream",
     "name": "stdout",
     "text": [
      "[\n    {\n        \"aviation_rank\": null,\n        \"brand_safe\": true,\n        \"category\": \"community\",\n        \"country\": \"AU\",\n        \"description\": \"The Busy Peacock is a place to come and let the children experiment and create. Be it mud, paint, glue, goo, water play, sensory rice play or otherwise, all those things you really want your child to experience but just not in your own home.\\n\\n45 minute play session running Tuesday \\u2013 Sunday, check the calendar for session times and availability.\",\n        \"duration\": 2700,\n        \"end\": \"2021-07-21T00:15:00Z\",\n        \"entities\": [\n            {\n                \"category\": \"community\",\n                \"entity_id\": \"Dn7bwAXxAEg29PzwifNf5V\",\n                \"labels\": [\n                    \"community\",\n                    \"event-group\",\n                    \"recurring\"\n                ],\n                \"name\": \"Messy Play Sessions\",\n                \"type\": \"event-group\"\n            }\n        ],\n        \"first_seen\": \"2020-11-18T06:35:06Z\",\n        \"id\": \"UZGsZMeY5YegR7MMdD\",\n        \"labels\": [\n            \"community\"\n        ],\n        \"local_rank\": 0,\n        \"location\": [\n            145.18578,\n            -38.261048\n        ],\n        \"phq_attendance\": null,\n        \"place_hierarchies\": [\n            [\n                \"6295630\",\n                \"6255151\",\n                \"2077456\",\n                \"2145234\",\n                \"7839813\",\n                \"2154395\"\n            ]\n        ],\n        \"private\": false,\n        \"rank\": 0,\n        \"relevance\": 1.0,\n        \"scope\": \"locality\",\n        \"start\": \"2021-07-20T23:30:00Z\",\n        \"state\": \"active\",\n        \"timezone\": \"Australia/Melbourne\",\n        \"title\": \"Messy Play Sessions\",\n        \"updated\": \"2020-11-18T06:48:00Z\"\n    },\n    {\n        \"aviation_rank\": null,\n        \"brand_safe\": true,\n        \"category\": \"conferences\",\n        \"country\": \"AU\",\n        \"description\": \"This workshop will explore the benefits and barriers to engaging families and others in the treatment of young people with mental ill-health\",\n        \"duration\": 25200,\n        \"end\": \"2021-07-21T06:30:00Z\",\n        \"entities\": [],\n        \"first_seen\": \"2021-01-26T07:50:49Z\",\n        \"id\": \"eQN8f47RzTXvibpxY7\",\n        \"labels\": [\n            \"conference\",\n            \"health\"\n        ],\n        \"local_rank\": 0,\n        \"location\": [\n            144.947904,\n            -37.780223\n        ],\n        \"phq_attendance\": null,\n        \"place_hierarchies\": [\n            [\n                \"6295630\",\n                \"6255151\",\n                \"2077456\",\n                \"2145234\",\n                \"7839805\",\n                \"2158177\"\n            ],\n            [\n                \"6295630\",\n                \"6255151\",\n                \"2077456\",\n                \"2145234\",\n                \"7839805\",\n                \"7281804\"\n            ]\n        ],\n        \"private\": false,\n        \"rank\": 0,\n        \"relevance\": 1.0,\n        \"scope\": \"locality\",\n        \"start\": \"2021-07-20T23:30:00Z\",\n        \"state\": \"active\",\n        \"timezone\": \"Australia/Melbourne\",\n        \"title\": \"INVOLVING FAMILIES AND OTHERS IN THE CARE OF YOUNG PEOPLE\",\n        \"updated\": \"2021-01-26T07:52:26Z\"\n    },\n    {\n        \"aviation_rank\": 0,\n        \"brand_safe\": true,\n        \"category\": \"conferences\",\n        \"country\": \"AU\",\n        \"description\": \"\",\n        \"duration\": 32400,\n        \"end\": \"2021-07-21T08:00:00Z\",\n        \"entities\": [\n            {\n                \"category\": \"conferences\",\n                \"entity_id\": \"G3EQ2FUNKgmcdjgtCy7YkX\",\n                \"formatted_address\": \"8 Whiteman St Southbank VIC 3006\",\n                \"labels\": [\n                    \"conference\",\n                    \"event-group\"\n                ],\n                \"name\": \"Future of Financial Services\",\n                \"type\": \"event-group\"\n            },\n            {\n                \"entity_id\": \"nSefEmFFYeKvx6YFVUThjj\",\n                \"formatted_address\": \"8 Whiteman St\\nSouthbank VIC 3006\\nAustralia\",\n                \"name\": \"The Pub at Crown\",\n                \"type\": \"venue\"\n            }\n        ],\n        \"first_seen\": \"2021-02-07T15:50:42Z\",\n        \"id\": \"57NrcFdTDNZcHGZ5Jw\",\n        \"labels\": [\n            \"conference\"\n        ],\n        \"local_rank\": 56,\n        \"location\": [\n            144.959213,\n            -37.82341\n        ],\n        \"phq_attendance\": 600,\n        \"place_hierarchies\": [\n            [\n                \"6295630\",\n                \"6255151\",\n                \"2077456\",\n                \"2145234\",\n                \"7839805\",\n                \"2158177\"\n            ]\n        ],\n        \"private\": false,\n        \"rank\": 46,\n        \"relevance\": 1.0,\n        \"scope\": \"locality\",\n        \"start\": \"2021-07-20T23:00:00Z\",\n        \"state\": \"active\",\n        \"timezone\": \"Australia/Melbourne\",\n        \"title\": \"Future of Financial Services\",\n        \"updated\": \"2021-03-19T15:48:49Z\"\n    },\n    {\n        \"aviation_rank\": null,\n        \"brand_safe\": true,\n        \"category\": \"expos\",\n        \"country\": \"AU\",\n        \"description\": \"Discover objects of rare beauty and items of curiosity and wonder in this exhibition. Drawn from the rich and diverse Trevor Kennedy Collection, this selection of stunning artworks, ceramics, furniture and jewellery highlights Australia\\u2019s history, culture and identity.\\n\\nOpen Times: Daily: 9am-5pm\",\n        \"duration\": 28800,\n        \"end\": \"2021-07-21T07:00:00Z\",\n        \"entities\": [\n            {\n                \"category\": \"expos\",\n                \"entity_id\": \"aTApFCCi542T6J2Eu43jGX\",\n                \"labels\": [\n                    \"event-group\",\n                    \"expo\",\n                    \"recurring\"\n                ],\n                \"name\": \"The Trevor Kennedy Collection: Highlights\",\n                \"type\": \"event-group\"\n            },\n            {\n                \"entity_id\": \"3B3FqxeXvKHJTL7hN4wS3UL\",\n                \"formatted_address\": \"Lawson Crescent Acton Peninsula\\nCanberra ACT 2600\\nAustralia\",\n                \"name\": \"National Museum of Australia\",\n                \"type\": \"venue\"\n            }\n        ],\n        \"first_seen\": \"2021-04-20T06:41:52Z\",\n        \"id\": \"5gt6YrELDVgyH9H6N4\",\n        \"labels\": [\n            \"expo\"\n        ],\n        \"local_rank\": 70,\n        \"location\": [\n            149.119532,\n            -35.292481\n        ],\n        \"phq_attendance\": 562,\n        \"place_hierarchies\": [\n            [\n                \"6295630\",\n                \"6255151\",\n                \"2077456\",\n                \"2177478\",\n                \"2172517\"\n            ]\n        ],\n        \"private\": false,\n        \"rank\": 45,\n        \"relevance\": 1.0,\n        \"scope\": \"locality\",\n        \"start\": \"2021-07-20T23:00:00Z\",\n        \"state\": \"active\",\n        \"timezone\": \"Australia/Sydney\",\n        \"title\": \"The Trevor Kennedy Collection: Highlights\",\n        \"updated\": \"2021-04-20T07:05:10Z\"\n    },\n    {\n        \"aviation_rank\": null,\n        \"brand_safe\": true,\n        \"category\": \"expos\",\n        \"country\": \"AU\",\n        \"description\": \"Experience one of the largest stock selling centres in New South Wales.\\nGunnedah Saleyards is located on the edge of town, just a kilometre from the town centre on the Kamilaroi highway towards Narrabri.\\n\\nCattle Stock sales are held every Tuesday, with all cattle sold live weight.\\n\\nSaleyards auctions are proceeding as usual, however non-essential personnel are asked not to attend in order to maintain safety standards.\",\n        \"duration\": 7200,\n        \"end\": \"2021-07-21T01:00:00Z\",\n        \"entities\": [\n            {\n                \"category\": \"expos\",\n                \"entity_id\": \"7YcCaPcvZ7ANVcuYkgvJLv\",\n                \"labels\": [\n                    \"event-group\",\n                    \"expo\",\n                    \"recurring\"\n                ],\n                \"name\": \"Gunnedah Saleyards\",\n                \"type\": \"event-group\"\n            }\n        ],\n        \"first_seen\": \"2021-04-13T06:35:03Z\",\n        \"id\": \"65grzvvvAQcmZH7rim\",\n        \"labels\": [\n            \"expo\"\n        ],\n        \"local_rank\": 73,\n        \"location\": [\n            150.224511,\n            -30.958274\n        ],\n        \"phq_attendance\": 562,\n        \"place_hierarchies\": [\n            [\n                \"6295630\",\n                \"6255151\",\n                \"2077456\",\n                \"2155400\",\n                \"7839725\",\n                \"2164205\"\n            ]\n        ],\n        \"private\": false,\n        \"rank\": 45,\n        \"relevance\": 1.0,\n        \"scope\": \"locality\",\n        \"start\": \"2021-07-20T23:00:00Z\",\n        \"state\": \"active\",\n        \"timezone\": \"Australia/Sydney\",\n        \"title\": \"Gunnedah Saleyards\",\n        \"updated\": \"2021-04-13T06:46:31Z\"\n    },\n    {\n        \"aviation_rank\": null,\n        \"brand_safe\": true,\n        \"category\": \"expos\",\n        \"country\": \"AU\",\n        \"description\": \"PlayUP is the Museum of Australian Democracy's imaginative family space with activities to educate, excite and challenge young minds.\\n\\nWith listening pods and a roleplay Kindness Caf\\u00e9, a fuzzy felt wall and facilitated craft activities, PlayUP has a range of exciting and immersive experiences that flip the traditional idea of museums completely on its head.\\n\\nBookings are essential.\\n\\nOpen Times: Daily: 9am-5pm\",\n        \"duration\": 28800,\n        \"end\": \"2021-07-21T07:00:00Z\",\n        \"entities\": [\n            {\n                \"category\": \"expos\",\n                \"entity_id\": \"itALLWYpzvpGMAqC8ASvsT\",\n                \"labels\": [\n                    \"event-group\",\n                    \"expo\",\n                    \"recurring\"\n                ],\n                \"name\": \"PlayUP: The Right to Have an Opinion and Be Heard\",\n                \"type\": \"event-group\"\n            }\n        ],\n        \"first_seen\": \"2021-03-23T06:01:49Z\",\n        \"id\": \"7yXLeY7ZcWoLx8YQU9\",\n        \"labels\": [\n            \"expo\"\n        ],\n        \"local_rank\": 70,\n        \"location\": [\n            149.129768,\n            -35.301112\n        ],\n        \"phq_attendance\": 562,\n        \"place_hierarchies\": [\n            [\n                \"6295630\",\n                \"6255151\",\n                \"2077456\",\n                \"2177478\",\n                \"2172517\"\n            ]\n        ],\n        \"private\": false,\n        \"rank\": 45,\n        \"relevance\": 1.0,\n        \"scope\": \"locality\",\n        \"start\": \"2021-07-20T23:00:00Z\",\n        \"state\": \"active\",\n        \"timezone\": \"Australia/Sydney\",\n        \"title\": \"PlayUP: The Right to Have an Opinion and Be Heard\",\n        \"updated\": \"2021-03-23T08:31:56Z\"\n    },\n    {\n        \"aviation_rank\": null,\n        \"brand_safe\": true,\n        \"category\": \"expos\",\n        \"country\": \"AU\",\n        \"description\": \"An informative and visual display in recognition of the resilience, spirit and sheer hard work of the indigenous men and women who played a vital role in establishing the cattle industry in the Gulf Region. The display enhances the experience at the Normanton Visitor Information Centre, housed in the historic and heritage-listed Burns Philp building, which attracts tourists travelling on both, the Matilda Way and Savannah Way. The Stock Workers display is complemented by the photographic Indigenous Rodeo Riders exhibition, featuring riders from the area and local poems.\",\n        \"duration\": 25200,\n        \"end\": \"2021-07-21T06:00:00Z\",\n        \"entities\": [\n            {\n                \"category\": \"expos\",\n                \"entity_id\": \"KCMHGXPVBUW8gD2iSsZndN\",\n                \"labels\": [\n                    \"community\",\n                    \"event-group\",\n                    \"expo\",\n                    \"recurring\"\n                ],\n                \"name\": \"Indigenous Stock Workers and Rodeo Riders Displays\",\n                \"type\": \"event-group\"\n            }\n        ],\n        \"first_seen\": \"2020-12-17T06:33:48Z\",\n        \"id\": \"9JFGB6yX8SjKcm3BZm\",\n        \"labels\": [\n            \"community\",\n            \"expo\"\n        ],\n        \"local_rank\": 75,\n        \"location\": [\n            141.081268,\n            -17.668348\n        ],\n        \"phq_attendance\": 562,\n        \"place_hierarchies\": [\n            [\n                \"6295630\",\n                \"6255151\",\n                \"2077456\",\n                \"2152274\",\n                \"7839568\",\n                \"2155085\"\n            ]\n        ],\n        \"private\": false,\n        \"rank\": 45,\n        \"relevance\": 1.0,\n        \"scope\": \"locality\",\n        \"start\": \"2021-07-20T23:00:00Z\",\n        \"state\": \"active\",\n        \"timezone\": \"Australia/Brisbane\",\n        \"title\": \"Indigenous Stock Workers and Rodeo Riders Displays\",\n        \"updated\": \"2021-01-18T22:08:33Z\"\n    },\n    {\n        \"aviation_rank\": 0,\n        \"brand_safe\": true,\n        \"category\": \"conferences\",\n        \"country\": \"AU\",\n        \"description\": \"\",\n        \"duration\": 118800,\n        \"end\": \"2021-07-22T08:00:00Z\",\n        \"entities\": [\n            {\n                \"entity_id\": \"3AdSUYSNnAXV7jnbvJS48BH\",\n                \"formatted_address\": \"Wheat Road\\nSydney NSW 2000\\nAustralia\",\n                \"name\": \"Dockside\",\n                \"type\": \"venue\"\n            }\n        ],\n        \"first_seen\": \"2020-09-07T14:32:51Z\",\n        \"id\": \"Aii4mGwYmU6GLoCY97\",\n        \"labels\": [\n            \"conference\",\n            \"health\",\n            \"technology\"\n        ],\n        \"local_rank\": 47,\n        \"location\": [\n            151.202228,\n            -33.871976\n        ],\n        \"phq_attendance\": 300,\n        \"place_hierarchies\": [\n            [\n                \"6295630\",\n                \"6255151\",\n                \"2077456\",\n                \"2155400\",\n                \"6619279\",\n                \"2147714\"\n            ]\n        ],\n        \"private\": false,\n        \"rank\": 40,\n        \"relevance\": 1.0,\n        \"scope\": \"locality\",\n        \"start\": \"2021-07-20T23:00:00Z\",\n        \"state\": \"active\",\n        \"timezone\": \"Australia/Sydney\",\n        \"title\": \"Fitness Industry Technology Summit\",\n        \"updated\": \"2021-02-04T14:08:50Z\"\n    },\n    {\n        \"aviation_rank\": null,\n        \"brand_safe\": true,\n        \"category\": \"community\",\n        \"country\": \"AU\",\n        \"description\": \"The workshop starts with a short talk about opals with examples to look at and handle. Then you get to choose a parcel of three opals per person, ranging in size from six-twelve carats. You then learn how to polish them and release the gorgeous fire within the stones, which takes approximately two hours for all three stones. \\n\\nThis gives people the unique experience of polishing genuine Australian opal. There is nowhere else where you can polish opals and it is very likely that the opals you leave with will be worth more than the money you spent on this workshop. In fact, potentially you could polish an opal that is worth hundreds of dollars as it is impossible to see what an opal will look like before it's been polished, truly the luck of the draw. \\n\\nBut this workshop gives you the information to help you make an informed choice of the parcel of opals you'll choose.When the opals have been polished, they are placed in a small display case for you to take home or, alternatively, they can be set in a piece of jewellery either on site or by your own jeweller back home.\",\n        \"duration\": 10800,\n        \"end\": \"2021-07-21T02:00:00Z\",\n        \"entities\": [\n            {\n                \"category\": \"community\",\n                \"entity_id\": \"WyuSXvLNHDDBxnVAUuwKbE\",\n                \"labels\": [\n                    \"community\",\n                    \"event-group\",\n                    \"recurring\"\n                ],\n                \"name\": \"The Polished Opal\",\n                \"type\": \"event-group\"\n            }\n        ],\n        \"first_seen\": \"2019-12-09T07:03:51Z\",\n        \"id\": \"EJqNn748zA5y6wMUQq\",\n        \"labels\": [\n            \"community\"\n        ],\n        \"local_rank\": 0,\n        \"location\": [\n            150.333328,\n            -33.702448\n        ],\n        \"phq_attendance\": null,\n        \"place_hierarchies\": [\n            [\n                \"6295630\",\n                \"6255151\",\n                \"2077456\",\n                \"2155400\",\n                \"2175228\",\n                \"2161776\"\n            ],\n            [\n                \"6295630\",\n                \"6255151\",\n                \"2077456\",\n                \"2155400\",\n                \"2175228\",\n                \"2160297\"\n            ]\n        ],\n        \"private\": false,\n        \"rank\": 0,\n        \"relevance\": 1.0,\n        \"scope\": \"locality\",\n        \"start\": \"2021-07-20T23:00:00Z\",\n        \"state\": \"active\",\n        \"timezone\": \"Australia/Sydney\",\n        \"title\": \"The Polished Opal\",\n        \"updated\": \"2020-07-02T23:02:56Z\"\n    },\n    {\n        \"aviation_rank\": null,\n        \"brand_safe\": true,\n        \"category\": \"expos\",\n        \"country\": \"AU\",\n        \"description\": \"Truth, Power and a Free press is a compelling exhibition that explores the relationship between trusted media sources and a healthy democracy.\\n\\nIconic objects from Australia\\u2019s media history are brought together for the first time including the printing press used by the Father of Federation, Sir Henry Parkes, Peter Greste\\u2019s letters smuggled to his family from an Egyptian prison and the protective body armour vest worn by war photographer, Neil Davis.\\n\\nThrough an immersive seven-foot-tall audiovisual display, some of Australia\\u2019s most respected journalists share their personal stories for the battle for truth. They explain why they do the work they do, the courage it takes and the responsibility they feel for reporting fairly and fearlessly.\\n\\nBe inspired to understand how to navigate filter bubbles, fakes news and the importance of a free press.\\n\\nFind out if you can tell the truth.\\n\\nOpen Times: Daily: 9am-5pm\",\n        \"duration\": 28800,\n        \"end\": \"2021-07-21T07:00:00Z\",\n        \"entities\": [\n            {\n                \"category\": \"expos\",\n                \"entity_id\": \"DwUuivF6i5yYfcSn9hRKBg\",\n                \"labels\": [\n                    \"event-group\",\n                    \"expo\",\n                    \"recurring\"\n                ],\n                \"name\": \"Truth, Power and a Free Press\",\n                \"type\": \"event-group\"\n            },\n            {\n                \"entity_id\": \"nSfpQNnykcDGsU9U6CJqk8\",\n                \"formatted_address\": \"Old Parliament House\\n18 King George Ter\\nParkes Australia Capital Territory 2600\\nAustralia\",\n                \"name\": \"Museum of Australian Democracy\",\n                \"type\": \"venue\"\n            }\n        ],\n        \"first_seen\": \"2020-07-02T06:35:22Z\",\n        \"id\": \"EuRTzyaAcG7KyFV5E3\",\n        \"labels\": [\n            \"expo\"\n        ],\n        \"local_rank\": 71,\n        \"location\": [\n            149.129959,\n            -35.30196\n        ],\n        \"phq_attendance\": 562,\n        \"place_hierarchies\": [\n            [\n                \"6295630\",\n                \"6255151\",\n                \"2077456\",\n                \"2177478\",\n                \"2172517\"\n            ]\n        ],\n        \"private\": false,\n        \"rank\": 45,\n        \"relevance\": 1.0,\n        \"scope\": \"locality\",\n        \"start\": \"2021-07-20T23:00:00Z\",\n        \"state\": \"active\",\n        \"timezone\": \"Australia/Sydney\",\n        \"title\": \"Truth, Power and a Free Press\",\n        \"updated\": \"2021-03-31T06:58:42Z\"\n    }\n]\n-----------------\n"
     ]
    }
   ],
   "source": [
    "# Extract data within dictionary key \"results\"\n",
    "# Save to variable \"data1\"\n",
    "data1 = data['results']\n",
    "print(json.dumps(data1, indent=4, sort_keys=True))\n",
    "print('-----------------')"
   ]
  },
  {
   "cell_type": "code",
   "execution_count": 28,
   "metadata": {},
   "outputs": [
    {
     "output_type": "execute_result",
     "data": {
      "text/plain": [
       "[{'name': 'Taree Zone Field',\n",
       "  'entity_id': '35xJ2iHewafn5WFK7qnt2Sh',\n",
       "  'formatted_address': '21 Manning River Drive\\nTaree NSW 2430\\nAustralia',\n",
       "  'type': 'venue'}]"
      ]
     },
     "metadata": {},
     "execution_count": 28
    }
   ],
   "source": [
    "address_df.entities.head()[0]"
   ]
  },
  {
   "cell_type": "code",
   "execution_count": 11,
   "metadata": {},
   "outputs": [
    {
     "output_type": "stream",
     "name": "stdout",
     "text": [
      "[{'entity_id': 'G3EQ2FUNKgmcdjgtCy7YkX', 'name': 'Future of Financial Services', 'type': 'event-group', 'formatted_address': '8 Whiteman St Southbank VIC 3006', 'category': 'conferences', 'labels': ['conference', 'event-group']}, {'name': 'The Pub at Crown', 'entity_id': 'nSefEmFFYeKvx6YFVUThjj', 'formatted_address': '8 Whiteman St\\nSouthbank VIC 3006\\nAustralia', 'type': 'venue'}]\n[{'entity_id': 'aTApFCCi542T6J2Eu43jGX', 'name': 'The Trevor Kennedy Collection: Highlights', 'type': 'event-group', 'category': 'expos', 'labels': ['event-group', 'expo', 'recurring']}, {'name': 'National Museum of Australia', 'entity_id': '3B3FqxeXvKHJTL7hN4wS3UL', 'formatted_address': 'Lawson Crescent Acton Peninsula\\nCanberra ACT 2600\\nAustralia', 'type': 'venue'}]\n[{'entity_id': 'DwUuivF6i5yYfcSn9hRKBg', 'name': 'Truth, Power and a Free Press', 'type': 'event-group', 'category': 'expos', 'labels': ['event-group', 'expo', 'recurring']}, {'name': 'Museum of Australian Democracy', 'entity_id': 'nSfpQNnykcDGsU9U6CJqk8', 'formatted_address': 'Old Parliament House\\n18 King George Ter\\nParkes Australia Capital Territory 2600\\nAustralia', 'type': 'venue'}]\n"
     ]
    },
    {
     "output_type": "execute_result",
     "data": {
      "text/plain": [
       "   relevance                  id  \\\n",
       "0        1.0  UZGsZMeY5YegR7MMdD   \n",
       "1        1.0  eQN8f47RzTXvibpxY7   \n",
       "2        1.0  57NrcFdTDNZcHGZ5Jw   \n",
       "3        1.0  5gt6YrELDVgyH9H6N4   \n",
       "4        1.0  65grzvvvAQcmZH7rim   \n",
       "5        1.0  7yXLeY7ZcWoLx8YQU9   \n",
       "6        1.0  9JFGB6yX8SjKcm3BZm   \n",
       "7        1.0  Aii4mGwYmU6GLoCY97   \n",
       "8        1.0  EJqNn748zA5y6wMUQq   \n",
       "9        1.0  EuRTzyaAcG7KyFV5E3   \n",
       "\n",
       "                                               title  \\\n",
       "0                                Messy Play Sessions   \n",
       "1  INVOLVING FAMILIES AND OTHERS IN THE CARE OF Y...   \n",
       "2                       Future of Financial Services   \n",
       "3          The Trevor Kennedy Collection: Highlights   \n",
       "4                                 Gunnedah Saleyards   \n",
       "5  PlayUP: The Right to Have an Opinion and Be Heard   \n",
       "6  Indigenous Stock Workers and Rodeo Riders Disp...   \n",
       "7                 Fitness Industry Technology Summit   \n",
       "8                                  The Polished Opal   \n",
       "9                      Truth, Power and a Free Press   \n",
       "\n",
       "                                         description     category  \\\n",
       "0  The Busy Peacock is a place to come and let th...    community   \n",
       "1  This workshop will explore the benefits and ba...  conferences   \n",
       "2                                                     conferences   \n",
       "3  Discover objects of rare beauty and items of c...        expos   \n",
       "4  Experience one of the largest stock selling ce...        expos   \n",
       "5  PlayUP is the Museum of Australian Democracy's...        expos   \n",
       "6  An informative and visual display in recogniti...        expos   \n",
       "7                                                     conferences   \n",
       "8  The workshop starts with a short talk about op...    community   \n",
       "9  Truth, Power and a Free press is a compelling ...        expos   \n",
       "\n",
       "                             labels  rank  local_rank  aviation_rank  \\\n",
       "0                       [community]     0           0            NaN   \n",
       "1              [conference, health]     0           0            NaN   \n",
       "2                      [conference]    46          56            0.0   \n",
       "3                            [expo]    45          70            NaN   \n",
       "4                            [expo]    45          73            NaN   \n",
       "5                            [expo]    45          70            NaN   \n",
       "6                 [community, expo]    45          75            NaN   \n",
       "7  [conference, health, technology]    40          47            0.0   \n",
       "8                       [community]     0           0            NaN   \n",
       "9                            [expo]    45          71            NaN   \n",
       "\n",
       "   phq_attendance  ...                  location     scope country  \\\n",
       "0             NaN  ...   [145.18578, -38.261048]  locality      AU   \n",
       "1             NaN  ...  [144.947904, -37.780223]  locality      AU   \n",
       "2           600.0  ...   [144.959213, -37.82341]  locality      AU   \n",
       "3           562.0  ...  [149.119532, -35.292481]  locality      AU   \n",
       "4           562.0  ...  [150.224511, -30.958274]  locality      AU   \n",
       "5           562.0  ...  [149.129768, -35.301112]  locality      AU   \n",
       "6           562.0  ...  [141.081268, -17.668348]  locality      AU   \n",
       "7           300.0  ...  [151.202228, -33.871976]  locality      AU   \n",
       "8             NaN  ...  [150.333328, -33.702448]  locality      AU   \n",
       "9           562.0  ...   [149.129959, -35.30196]  locality      AU   \n",
       "\n",
       "                                   place_hierarchies   state brand_safe  \\\n",
       "0  [[6295630, 6255151, 2077456, 2145234, 7839813,...  active       True   \n",
       "1  [[6295630, 6255151, 2077456, 2145234, 7839805,...  active       True   \n",
       "2  [[6295630, 6255151, 2077456, 2145234, 7839805,...  active       True   \n",
       "3    [[6295630, 6255151, 2077456, 2177478, 2172517]]  active       True   \n",
       "4  [[6295630, 6255151, 2077456, 2155400, 7839725,...  active       True   \n",
       "5    [[6295630, 6255151, 2077456, 2177478, 2172517]]  active       True   \n",
       "6  [[6295630, 6255151, 2077456, 2152274, 7839568,...  active       True   \n",
       "7  [[6295630, 6255151, 2077456, 2155400, 6619279,...  active       True   \n",
       "8  [[6295630, 6255151, 2077456, 2155400, 2175228,...  active       True   \n",
       "9    [[6295630, 6255151, 2077456, 2177478, 2172517]]  active       True   \n",
       "\n",
       "  private                                               name  \\\n",
       "0   False                                Messy Play Sessions   \n",
       "1   False                                            no name   \n",
       "2   False                       Future of Financial Services   \n",
       "3   False          The Trevor Kennedy Collection: Highlights   \n",
       "4   False                                 Gunnedah Saleyards   \n",
       "5   False  PlayUP: The Right to Have an Opinion and Be Heard   \n",
       "6   False  Indigenous Stock Workers and Rodeo Riders Disp...   \n",
       "7   False                                           Dockside   \n",
       "8   False                                  The Polished Opal   \n",
       "9   False                      Truth, Power and a Free Press   \n",
       "\n",
       "                        formatted_address                      venue_name  \n",
       "0                              no address                        no venue  \n",
       "1                              no address                        no venue  \n",
       "2        8 Whiteman St Southbank VIC 3006                The Pub at Crown  \n",
       "3                              no address    National Museum of Australia  \n",
       "4                              no address                        no venue  \n",
       "5                              no address                        no venue  \n",
       "6                              no address                        no venue  \n",
       "7  Wheat Road\\nSydney NSW 2000\\nAustralia                        no venue  \n",
       "8                              no address                        no venue  \n",
       "9                              no address  Museum of Australian Democracy  \n",
       "\n",
       "[10 rows x 27 columns]"
      ],
      "text/html": "<div>\n<style scoped>\n    .dataframe tbody tr th:only-of-type {\n        vertical-align: middle;\n    }\n\n    .dataframe tbody tr th {\n        vertical-align: top;\n    }\n\n    .dataframe thead th {\n        text-align: right;\n    }\n</style>\n<table border=\"1\" class=\"dataframe\">\n  <thead>\n    <tr style=\"text-align: right;\">\n      <th></th>\n      <th>relevance</th>\n      <th>id</th>\n      <th>title</th>\n      <th>description</th>\n      <th>category</th>\n      <th>labels</th>\n      <th>rank</th>\n      <th>local_rank</th>\n      <th>aviation_rank</th>\n      <th>phq_attendance</th>\n      <th>...</th>\n      <th>location</th>\n      <th>scope</th>\n      <th>country</th>\n      <th>place_hierarchies</th>\n      <th>state</th>\n      <th>brand_safe</th>\n      <th>private</th>\n      <th>name</th>\n      <th>formatted_address</th>\n      <th>venue_name</th>\n    </tr>\n  </thead>\n  <tbody>\n    <tr>\n      <th>0</th>\n      <td>1.0</td>\n      <td>UZGsZMeY5YegR7MMdD</td>\n      <td>Messy Play Sessions</td>\n      <td>The Busy Peacock is a place to come and let th...</td>\n      <td>community</td>\n      <td>[community]</td>\n      <td>0</td>\n      <td>0</td>\n      <td>NaN</td>\n      <td>NaN</td>\n      <td>...</td>\n      <td>[145.18578, -38.261048]</td>\n      <td>locality</td>\n      <td>AU</td>\n      <td>[[6295630, 6255151, 2077456, 2145234, 7839813,...</td>\n      <td>active</td>\n      <td>True</td>\n      <td>False</td>\n      <td>Messy Play Sessions</td>\n      <td>no address</td>\n      <td>no venue</td>\n    </tr>\n    <tr>\n      <th>1</th>\n      <td>1.0</td>\n      <td>eQN8f47RzTXvibpxY7</td>\n      <td>INVOLVING FAMILIES AND OTHERS IN THE CARE OF Y...</td>\n      <td>This workshop will explore the benefits and ba...</td>\n      <td>conferences</td>\n      <td>[conference, health]</td>\n      <td>0</td>\n      <td>0</td>\n      <td>NaN</td>\n      <td>NaN</td>\n      <td>...</td>\n      <td>[144.947904, -37.780223]</td>\n      <td>locality</td>\n      <td>AU</td>\n      <td>[[6295630, 6255151, 2077456, 2145234, 7839805,...</td>\n      <td>active</td>\n      <td>True</td>\n      <td>False</td>\n      <td>no name</td>\n      <td>no address</td>\n      <td>no venue</td>\n    </tr>\n    <tr>\n      <th>2</th>\n      <td>1.0</td>\n      <td>57NrcFdTDNZcHGZ5Jw</td>\n      <td>Future of Financial Services</td>\n      <td></td>\n      <td>conferences</td>\n      <td>[conference]</td>\n      <td>46</td>\n      <td>56</td>\n      <td>0.0</td>\n      <td>600.0</td>\n      <td>...</td>\n      <td>[144.959213, -37.82341]</td>\n      <td>locality</td>\n      <td>AU</td>\n      <td>[[6295630, 6255151, 2077456, 2145234, 7839805,...</td>\n      <td>active</td>\n      <td>True</td>\n      <td>False</td>\n      <td>Future of Financial Services</td>\n      <td>8 Whiteman St Southbank VIC 3006</td>\n      <td>The Pub at Crown</td>\n    </tr>\n    <tr>\n      <th>3</th>\n      <td>1.0</td>\n      <td>5gt6YrELDVgyH9H6N4</td>\n      <td>The Trevor Kennedy Collection: Highlights</td>\n      <td>Discover objects of rare beauty and items of c...</td>\n      <td>expos</td>\n      <td>[expo]</td>\n      <td>45</td>\n      <td>70</td>\n      <td>NaN</td>\n      <td>562.0</td>\n      <td>...</td>\n      <td>[149.119532, -35.292481]</td>\n      <td>locality</td>\n      <td>AU</td>\n      <td>[[6295630, 6255151, 2077456, 2177478, 2172517]]</td>\n      <td>active</td>\n      <td>True</td>\n      <td>False</td>\n      <td>The Trevor Kennedy Collection: Highlights</td>\n      <td>no address</td>\n      <td>National Museum of Australia</td>\n    </tr>\n    <tr>\n      <th>4</th>\n      <td>1.0</td>\n      <td>65grzvvvAQcmZH7rim</td>\n      <td>Gunnedah Saleyards</td>\n      <td>Experience one of the largest stock selling ce...</td>\n      <td>expos</td>\n      <td>[expo]</td>\n      <td>45</td>\n      <td>73</td>\n      <td>NaN</td>\n      <td>562.0</td>\n      <td>...</td>\n      <td>[150.224511, -30.958274]</td>\n      <td>locality</td>\n      <td>AU</td>\n      <td>[[6295630, 6255151, 2077456, 2155400, 7839725,...</td>\n      <td>active</td>\n      <td>True</td>\n      <td>False</td>\n      <td>Gunnedah Saleyards</td>\n      <td>no address</td>\n      <td>no venue</td>\n    </tr>\n    <tr>\n      <th>5</th>\n      <td>1.0</td>\n      <td>7yXLeY7ZcWoLx8YQU9</td>\n      <td>PlayUP: The Right to Have an Opinion and Be Heard</td>\n      <td>PlayUP is the Museum of Australian Democracy's...</td>\n      <td>expos</td>\n      <td>[expo]</td>\n      <td>45</td>\n      <td>70</td>\n      <td>NaN</td>\n      <td>562.0</td>\n      <td>...</td>\n      <td>[149.129768, -35.301112]</td>\n      <td>locality</td>\n      <td>AU</td>\n      <td>[[6295630, 6255151, 2077456, 2177478, 2172517]]</td>\n      <td>active</td>\n      <td>True</td>\n      <td>False</td>\n      <td>PlayUP: The Right to Have an Opinion and Be Heard</td>\n      <td>no address</td>\n      <td>no venue</td>\n    </tr>\n    <tr>\n      <th>6</th>\n      <td>1.0</td>\n      <td>9JFGB6yX8SjKcm3BZm</td>\n      <td>Indigenous Stock Workers and Rodeo Riders Disp...</td>\n      <td>An informative and visual display in recogniti...</td>\n      <td>expos</td>\n      <td>[community, expo]</td>\n      <td>45</td>\n      <td>75</td>\n      <td>NaN</td>\n      <td>562.0</td>\n      <td>...</td>\n      <td>[141.081268, -17.668348]</td>\n      <td>locality</td>\n      <td>AU</td>\n      <td>[[6295630, 6255151, 2077456, 2152274, 7839568,...</td>\n      <td>active</td>\n      <td>True</td>\n      <td>False</td>\n      <td>Indigenous Stock Workers and Rodeo Riders Disp...</td>\n      <td>no address</td>\n      <td>no venue</td>\n    </tr>\n    <tr>\n      <th>7</th>\n      <td>1.0</td>\n      <td>Aii4mGwYmU6GLoCY97</td>\n      <td>Fitness Industry Technology Summit</td>\n      <td></td>\n      <td>conferences</td>\n      <td>[conference, health, technology]</td>\n      <td>40</td>\n      <td>47</td>\n      <td>0.0</td>\n      <td>300.0</td>\n      <td>...</td>\n      <td>[151.202228, -33.871976]</td>\n      <td>locality</td>\n      <td>AU</td>\n      <td>[[6295630, 6255151, 2077456, 2155400, 6619279,...</td>\n      <td>active</td>\n      <td>True</td>\n      <td>False</td>\n      <td>Dockside</td>\n      <td>Wheat Road\\nSydney NSW 2000\\nAustralia</td>\n      <td>no venue</td>\n    </tr>\n    <tr>\n      <th>8</th>\n      <td>1.0</td>\n      <td>EJqNn748zA5y6wMUQq</td>\n      <td>The Polished Opal</td>\n      <td>The workshop starts with a short talk about op...</td>\n      <td>community</td>\n      <td>[community]</td>\n      <td>0</td>\n      <td>0</td>\n      <td>NaN</td>\n      <td>NaN</td>\n      <td>...</td>\n      <td>[150.333328, -33.702448]</td>\n      <td>locality</td>\n      <td>AU</td>\n      <td>[[6295630, 6255151, 2077456, 2155400, 2175228,...</td>\n      <td>active</td>\n      <td>True</td>\n      <td>False</td>\n      <td>The Polished Opal</td>\n      <td>no address</td>\n      <td>no venue</td>\n    </tr>\n    <tr>\n      <th>9</th>\n      <td>1.0</td>\n      <td>EuRTzyaAcG7KyFV5E3</td>\n      <td>Truth, Power and a Free Press</td>\n      <td>Truth, Power and a Free press is a compelling ...</td>\n      <td>expos</td>\n      <td>[expo]</td>\n      <td>45</td>\n      <td>71</td>\n      <td>NaN</td>\n      <td>562.0</td>\n      <td>...</td>\n      <td>[149.129959, -35.30196]</td>\n      <td>locality</td>\n      <td>AU</td>\n      <td>[[6295630, 6255151, 2077456, 2177478, 2172517]]</td>\n      <td>active</td>\n      <td>True</td>\n      <td>False</td>\n      <td>Truth, Power and a Free Press</td>\n      <td>no address</td>\n      <td>Museum of Australian Democracy</td>\n    </tr>\n  </tbody>\n</table>\n<p>10 rows × 27 columns</p>\n</div>"
     },
     "metadata": {},
     "execution_count": 11
    }
   ],
   "source": [
    "address_df = pd.json_normalize(data['results'])\n",
    "address_df.head(20)\n",
    "\n",
    "def getEntitiesName(entities):\n",
    "    try:\n",
    "        return entities[0]['name']\n",
    "    except:\n",
    "        return 'no name'\n",
    "address_df['name'] = address_df.entities.apply(getEntitiesName)\n",
    "\n",
    "def getEntitiesAddress(entities):\n",
    "    try:\n",
    "        return entities[0]['formatted_address']\n",
    "    except:\n",
    "        return 'no address'\n",
    "address_df['formatted_address'] = address_df.entities.apply(getEntitiesAddress)\n",
    "\n",
    "address_df.head(3)\n",
    "\n",
    "def getEntitiesVenue(entities):\n",
    "    # print(entities)\n",
    "    if len(entities)>1:\n",
    "        print(entities)\n",
    "    try:\n",
    "        return entities[1]['name']\n",
    "    except IndexError:\n",
    "        return 'no venue'\n",
    "address_df['venue_name'] = address_df.entities.apply(getEntitiesVenue)\n",
    "\n",
    "address_df"
   ]
  },
  {
   "cell_type": "code",
   "execution_count": 124,
   "metadata": {},
   "outputs": [
    {
     "output_type": "execute_result",
     "data": {
      "text/plain": [
       "0    [{'name': 'Taree Zone Field', 'entity_id': '35...\n",
       "1    [{'entity_id': 'R3k2PETx6g7EcbUESWT6yK', 'name...\n",
       "2    [{'name': 'Churchill Reserve', 'entity_id': 'K...\n",
       "3    [{'name': 'Pluim Park', 'entity_id': '34spMLXP...\n",
       "4    [{'name': 'Crestwood Oval', 'entity_id': 'SKz8...\n",
       "Name: entities, dtype: object"
      ]
     },
     "metadata": {},
     "execution_count": 124
    }
   ],
   "source": [
    "address_df.entities.head()"
   ]
  },
  {
   "cell_type": "code",
   "execution_count": 53,
   "metadata": {},
   "outputs": [
    {
     "output_type": "execute_result",
     "data": {
      "text/plain": [
       "                                               name                entity_id  \\\n",
       "0                                  Taree Zone Field  35xJ2iHewafn5WFK7qnt2Sh   \n",
       "1   Entertainment Sunday's at Exchange Hotel Gawler   R3k2PETx6g7EcbUESWT6yK   \n",
       "2                                 Churchill Reserve   KsxdmsHkyeYuNdduzxYMtH   \n",
       "3                                        Pluim Park  34spMLXP39JDr5jaELLDaTH   \n",
       "4                                    Crestwood Oval   SKz88y3kU3e7D64TXakAfB   \n",
       "5                            Hawker Football Centre   ZXEZVcSqUzcFFhM3ucnr7w   \n",
       "6                                       Mascot Oval  34kvcUUN95XaDbeRA5QbSFA   \n",
       "7                                          Kambah 2   qgmmxuwCCi4EiygNhHGq29   \n",
       "8                                       Nijong Oval   qpbFJkbre7AXHan9CQLbdf   \n",
       "9                 Sydney University Football Ground   iF4LF7yVRW78AdSpr3cYyz   \n",
       "10                                  Macquarie Field   Fzj27YuygSccRitwwFnB7r   \n",
       "11                      Alpaca Experience 3pm Daily   XMbNw8dHD5VDXJMnjiPHNE   \n",
       "12                      Sydney United Sports Centre   i26WvH236TSV7Nk2ju9r99   \n",
       "13                                   Hosken Reserve   dAHDnXvNeJZ4cSx2XeCi2b   \n",
       "14                                      Cromer Park  34VbsPuZmwN2C9vYbiGUi2b   \n",
       "15                          Gardiners Creek Reserve   tP3paEpqYEpqFR5R4nuvvf   \n",
       "16                          Gungahlin Enclosed Oval   fLyXTdaAqVCt6YJL3ZJ57D   \n",
       "17                                T G Millner Field   sS2kzxZy7H3tUjxpCKJqLR   \n",
       "18                  Blacktown International Stadium   cVCmpu6iaqifS2rz6Zthxr   \n",
       "19                               Don Randall Oval 1   frqmssMzGxnjaRyevbSbAb   \n",
       "\n",
       "                                    formatted_address         type  \\\n",
       "0   21 Manning River Drive\\nTaree NSW 2430\\nAustralia        venue   \n",
       "1                                                 NaN  event-group   \n",
       "2                    Saint Albans VIC 3021\\nAustralia        venue   \n",
       "3        Tuggerah Street\\nLisarow NSW 2250\\nAustralia        venue   \n",
       "4   Peel Rd, Baulkham Hills, New South Wales\\nNew ...        venue   \n",
       "5        Walhallow Street\\nHawker ACT 2614\\nAustralia        venue   \n",
       "6                                   Sydney\\nAustralia        venue   \n",
       "7   Laidlaw Place, Kambah, Tuggeranong\\nCanberra\\n...        venue   \n",
       "8          Barrack Street, Cooma\\nCanberra\\nAustralia        venue   \n",
       "9     Regimental Drive, Camperdown\\nSydney\\nAustralia        venue   \n",
       "10  Creek Reserves Road, Boolaroo\\nNewcastle\\nAust...        venue   \n",
       "11                                                NaN  event-group   \n",
       "12  223-227 Edensor Road\\nEdensor Park NSW 2176\\nA...        venue   \n",
       "13                   Coburg North VIC 3058\\nAustralia        venue   \n",
       "14                         Cromer NSW 2099\\nAustralia        venue   \n",
       "15  Sixth Avenue / 121 Highbury Road, Burwood\\nMel...        venue   \n",
       "16      Warwick Street\\nGungahlin ACT 2912\\nAustralia        venue   \n",
       "17    146 Vimiera Road\\nMarsfield NSW 2122\\nAustralia        venue   \n",
       "18                     Rooty Hill NSW 2766\\nAustralia        venue   \n",
       "19              34 Andrew Street\\nBrisbane\\nAustralia        venue   \n",
       "\n",
       "           category                                     labels  \n",
       "0               NaN                                        NaN  \n",
       "1   performing-arts  [event-group, performing-arts, recurring]  \n",
       "2               NaN                                        NaN  \n",
       "3               NaN                                        NaN  \n",
       "4               NaN                                        NaN  \n",
       "5               NaN                                        NaN  \n",
       "6               NaN                                        NaN  \n",
       "7               NaN                                        NaN  \n",
       "8               NaN                                        NaN  \n",
       "9               NaN                                        NaN  \n",
       "10              NaN                                        NaN  \n",
       "11        community        [community, event-group, recurring]  \n",
       "12              NaN                                        NaN  \n",
       "13              NaN                                        NaN  \n",
       "14              NaN                                        NaN  \n",
       "15              NaN                                        NaN  \n",
       "16              NaN                                        NaN  \n",
       "17              NaN                                        NaN  \n",
       "18              NaN                                        NaN  \n",
       "19              NaN                                        NaN  "
      ],
      "text/html": "<div>\n<style scoped>\n    .dataframe tbody tr th:only-of-type {\n        vertical-align: middle;\n    }\n\n    .dataframe tbody tr th {\n        vertical-align: top;\n    }\n\n    .dataframe thead th {\n        text-align: right;\n    }\n</style>\n<table border=\"1\" class=\"dataframe\">\n  <thead>\n    <tr style=\"text-align: right;\">\n      <th></th>\n      <th>name</th>\n      <th>entity_id</th>\n      <th>formatted_address</th>\n      <th>type</th>\n      <th>category</th>\n      <th>labels</th>\n    </tr>\n  </thead>\n  <tbody>\n    <tr>\n      <th>0</th>\n      <td>Taree Zone Field</td>\n      <td>35xJ2iHewafn5WFK7qnt2Sh</td>\n      <td>21 Manning River Drive\\nTaree NSW 2430\\nAustralia</td>\n      <td>venue</td>\n      <td>NaN</td>\n      <td>NaN</td>\n    </tr>\n    <tr>\n      <th>1</th>\n      <td>Entertainment Sunday's at Exchange Hotel Gawler</td>\n      <td>R3k2PETx6g7EcbUESWT6yK</td>\n      <td>NaN</td>\n      <td>event-group</td>\n      <td>performing-arts</td>\n      <td>[event-group, performing-arts, recurring]</td>\n    </tr>\n    <tr>\n      <th>2</th>\n      <td>Churchill Reserve</td>\n      <td>KsxdmsHkyeYuNdduzxYMtH</td>\n      <td>Saint Albans VIC 3021\\nAustralia</td>\n      <td>venue</td>\n      <td>NaN</td>\n      <td>NaN</td>\n    </tr>\n    <tr>\n      <th>3</th>\n      <td>Pluim Park</td>\n      <td>34spMLXP39JDr5jaELLDaTH</td>\n      <td>Tuggerah Street\\nLisarow NSW 2250\\nAustralia</td>\n      <td>venue</td>\n      <td>NaN</td>\n      <td>NaN</td>\n    </tr>\n    <tr>\n      <th>4</th>\n      <td>Crestwood Oval</td>\n      <td>SKz88y3kU3e7D64TXakAfB</td>\n      <td>Peel Rd, Baulkham Hills, New South Wales\\nNew ...</td>\n      <td>venue</td>\n      <td>NaN</td>\n      <td>NaN</td>\n    </tr>\n    <tr>\n      <th>5</th>\n      <td>Hawker Football Centre</td>\n      <td>ZXEZVcSqUzcFFhM3ucnr7w</td>\n      <td>Walhallow Street\\nHawker ACT 2614\\nAustralia</td>\n      <td>venue</td>\n      <td>NaN</td>\n      <td>NaN</td>\n    </tr>\n    <tr>\n      <th>6</th>\n      <td>Mascot Oval</td>\n      <td>34kvcUUN95XaDbeRA5QbSFA</td>\n      <td>Sydney\\nAustralia</td>\n      <td>venue</td>\n      <td>NaN</td>\n      <td>NaN</td>\n    </tr>\n    <tr>\n      <th>7</th>\n      <td>Kambah 2</td>\n      <td>qgmmxuwCCi4EiygNhHGq29</td>\n      <td>Laidlaw Place, Kambah, Tuggeranong\\nCanberra\\n...</td>\n      <td>venue</td>\n      <td>NaN</td>\n      <td>NaN</td>\n    </tr>\n    <tr>\n      <th>8</th>\n      <td>Nijong Oval</td>\n      <td>qpbFJkbre7AXHan9CQLbdf</td>\n      <td>Barrack Street, Cooma\\nCanberra\\nAustralia</td>\n      <td>venue</td>\n      <td>NaN</td>\n      <td>NaN</td>\n    </tr>\n    <tr>\n      <th>9</th>\n      <td>Sydney University Football Ground</td>\n      <td>iF4LF7yVRW78AdSpr3cYyz</td>\n      <td>Regimental Drive, Camperdown\\nSydney\\nAustralia</td>\n      <td>venue</td>\n      <td>NaN</td>\n      <td>NaN</td>\n    </tr>\n    <tr>\n      <th>10</th>\n      <td>Macquarie Field</td>\n      <td>Fzj27YuygSccRitwwFnB7r</td>\n      <td>Creek Reserves Road, Boolaroo\\nNewcastle\\nAust...</td>\n      <td>venue</td>\n      <td>NaN</td>\n      <td>NaN</td>\n    </tr>\n    <tr>\n      <th>11</th>\n      <td>Alpaca Experience 3pm Daily</td>\n      <td>XMbNw8dHD5VDXJMnjiPHNE</td>\n      <td>NaN</td>\n      <td>event-group</td>\n      <td>community</td>\n      <td>[community, event-group, recurring]</td>\n    </tr>\n    <tr>\n      <th>12</th>\n      <td>Sydney United Sports Centre</td>\n      <td>i26WvH236TSV7Nk2ju9r99</td>\n      <td>223-227 Edensor Road\\nEdensor Park NSW 2176\\nA...</td>\n      <td>venue</td>\n      <td>NaN</td>\n      <td>NaN</td>\n    </tr>\n    <tr>\n      <th>13</th>\n      <td>Hosken Reserve</td>\n      <td>dAHDnXvNeJZ4cSx2XeCi2b</td>\n      <td>Coburg North VIC 3058\\nAustralia</td>\n      <td>venue</td>\n      <td>NaN</td>\n      <td>NaN</td>\n    </tr>\n    <tr>\n      <th>14</th>\n      <td>Cromer Park</td>\n      <td>34VbsPuZmwN2C9vYbiGUi2b</td>\n      <td>Cromer NSW 2099\\nAustralia</td>\n      <td>venue</td>\n      <td>NaN</td>\n      <td>NaN</td>\n    </tr>\n    <tr>\n      <th>15</th>\n      <td>Gardiners Creek Reserve</td>\n      <td>tP3paEpqYEpqFR5R4nuvvf</td>\n      <td>Sixth Avenue / 121 Highbury Road, Burwood\\nMel...</td>\n      <td>venue</td>\n      <td>NaN</td>\n      <td>NaN</td>\n    </tr>\n    <tr>\n      <th>16</th>\n      <td>Gungahlin Enclosed Oval</td>\n      <td>fLyXTdaAqVCt6YJL3ZJ57D</td>\n      <td>Warwick Street\\nGungahlin ACT 2912\\nAustralia</td>\n      <td>venue</td>\n      <td>NaN</td>\n      <td>NaN</td>\n    </tr>\n    <tr>\n      <th>17</th>\n      <td>T G Millner Field</td>\n      <td>sS2kzxZy7H3tUjxpCKJqLR</td>\n      <td>146 Vimiera Road\\nMarsfield NSW 2122\\nAustralia</td>\n      <td>venue</td>\n      <td>NaN</td>\n      <td>NaN</td>\n    </tr>\n    <tr>\n      <th>18</th>\n      <td>Blacktown International Stadium</td>\n      <td>cVCmpu6iaqifS2rz6Zthxr</td>\n      <td>Rooty Hill NSW 2766\\nAustralia</td>\n      <td>venue</td>\n      <td>NaN</td>\n      <td>NaN</td>\n    </tr>\n    <tr>\n      <th>19</th>\n      <td>Don Randall Oval 1</td>\n      <td>frqmssMzGxnjaRyevbSbAb</td>\n      <td>34 Andrew Street\\nBrisbane\\nAustralia</td>\n      <td>venue</td>\n      <td>NaN</td>\n      <td>NaN</td>\n    </tr>\n  </tbody>\n</table>\n</div>"
     },
     "metadata": {},
     "execution_count": 53
    }
   ],
   "source": [
    "address_df = pd.json_normalize(data1,['entities'], errors='ignore')\n",
    "address_df.head(20)\n"
   ]
  },
  {
   "cell_type": "code",
   "execution_count": 66,
   "metadata": {
    "tags": []
   },
   "outputs": [
    {
     "output_type": "execute_result",
     "data": {
      "text/plain": [
       "    relevance                  id  \\\n",
       "0         1.0  nXLhaY4VxcRzeYryGo   \n",
       "1         1.0  DvUzX5WEvAbgqsUBYP   \n",
       "2         1.0  2uBUSSa46e4B7GSMxn   \n",
       "3         1.0  3E2aZxFTZcBddMBDt7   \n",
       "4         1.0  3FNA2mAKQG6jvw5iaM   \n",
       "5         1.0  3f7TFQrGCbv58VjXQs   \n",
       "6         1.0  3oLAaXKL4mMFYwPoRy   \n",
       "7         1.0  4J6CkhjLEgtDkuADGC   \n",
       "8         1.0  6DZt449GvipSwcE3tZ   \n",
       "9         1.0  AuSNWZ4pv3EHgPU5YZ   \n",
       "10        1.0  B7h7xW9MQH3ZaFr8Va   \n",
       "11        1.0  J5eVKjGpUMFf3cBQzy   \n",
       "12        1.0  MopK8mwfbKKFTTbKCL   \n",
       "13        1.0  Nq7SQbYFUKiQ2rLHvF   \n",
       "14        1.0  PiPjWMMuH89chNVHRw   \n",
       "15        1.0  SJwSxXdi8qc5P3yxhA   \n",
       "16        1.0  UqDzzDmKFnbuQdiQQu   \n",
       "17        1.0  Xb5DE43XSFjZUcuV9t   \n",
       "18        1.0  Z4UMnhknfouZLKcuzo   \n",
       "19        1.0  aQP4tMnBp5Np89tjQ7   \n",
       "\n",
       "                                                title  \\\n",
       "0   Northern NSW Women's Premier League - Mid Coas...   \n",
       "1     Entertainment Sunday's at Exchange Hotel Gawler   \n",
       "2   Victoria NPL - St. Albans Saints vs Dandenong ...   \n",
       "3   New South Wales NPL 2 - Central Coast II vs Ha...   \n",
       "4   Ron Massey Cup - Hills District Bulls vs St Ma...   \n",
       "5   Capital Territory NPL Women - Canberra United ...   \n",
       "6   Ron Massey Cup - Kaiviti Silktails vs Blacktow...   \n",
       "7   Capital Territory NPL - Tuggeranong United vs ...   \n",
       "8   Capital Territory NPL - Cooma Tigers vs West C...   \n",
       "9   New South Wales NPL Women - Sydney University ...   \n",
       "10  New South Wales NPL Women - Emerging Jets vs N...   \n",
       "11                        Alpaca Experience 3pm Daily   \n",
       "12  New South Wales NPL - Sydney United vs Rockdal...   \n",
       "13  Victoria NPL 2 Youth - Pascoe Vale U21 vs Mann...   \n",
       "14  New South Wales NPL Women - Manly United vs Sy...   \n",
       "15           Victoria NPL - Eastern Lions vs Avondale   \n",
       "16  Capital Territory NPL - Gungahlin United vs Be...   \n",
       "17                 Ron Massey Cup - Hawks vs Mounties   \n",
       "18  New South Wales NPL Women - Blacktown Spartans...   \n",
       "19  Brisbane Reserves Premier League - Bayside Uni...   \n",
       "\n",
       "                                          description         category  \\\n",
       "0                                                               sports   \n",
       "1   Sundays Live is back again - DJs playing track...  performing-arts   \n",
       "2                                                               sports   \n",
       "3                                                               sports   \n",
       "4                                                               sports   \n",
       "5                                                               sports   \n",
       "6                                                               sports   \n",
       "7                                                               sports   \n",
       "8                                                               sports   \n",
       "9                                                               sports   \n",
       "10                                                              sports   \n",
       "11  Come spend some quality time in Kurrajong Heig...        community   \n",
       "12                                                              sports   \n",
       "13                                                              sports   \n",
       "14                                                              sports   \n",
       "15                                                              sports   \n",
       "16                                                              sports   \n",
       "17                                                              sports   \n",
       "18                                                              sports   \n",
       "19                                                              sports   \n",
       "\n",
       "               labels  rank  local_rank  aviation_rank  phq_attendance  ...  \\\n",
       "0     [soccer, sport]    40          69            0.0           302.0  ...   \n",
       "1   [performing-arts]    45          73            NaN           562.0  ...   \n",
       "2     [soccer, sport]    41          60            0.0           367.0  ...   \n",
       "3     [soccer, sport]    46          74            0.0           605.0  ...   \n",
       "4      [rugby, sport]    45          65            NaN           562.0  ...   \n",
       "5     [soccer, sport]    46          68            0.0           630.0  ...   \n",
       "6      [rugby, sport]    45          58            NaN           562.0  ...   \n",
       "7     [soccer, sport]    41          65            0.0           339.0  ...   \n",
       "8     [soccer, sport]    40          69            0.0           302.0  ...   \n",
       "9     [soccer, sport]    41          52            0.0           362.0  ...   \n",
       "10    [soccer, sport]    45          70            0.0           560.0  ...   \n",
       "11        [community]     0           0            NaN             NaN  ...   \n",
       "12    [soccer, sport]    52          70            0.0          1233.0  ...   \n",
       "13    [soccer, sport]    32          50            0.0           124.0  ...   \n",
       "14    [soccer, sport]    44          61            0.0           523.0  ...   \n",
       "15    [soccer, sport]    35          55            0.0           187.0  ...   \n",
       "16    [soccer, sport]    49          70            0.0           911.0  ...   \n",
       "17     [rugby, sport]    49          68            0.0           909.0  ...   \n",
       "18    [soccer, sport]    60          79            0.0          3191.0  ...   \n",
       "19    [soccer, sport]    40          65            0.0           309.0  ...   \n",
       "\n",
       "              first_seen             timezone                  location  \\\n",
       "0   2021-02-05T00:55:49Z     Australia/Sydney  [152.493976, -31.896234]   \n",
       "1   2021-01-18T06:35:26Z   Australia/Adelaide  [138.749307, -34.596536]   \n",
       "2   2021-01-01T08:41:11Z  Australia/Melbourne  [144.814351, -37.733046]   \n",
       "3   2021-01-01T10:23:21Z     Australia/Sydney  [151.376692, -33.379516]   \n",
       "4   2021-03-10T22:03:24Z     Australia/Sydney  [150.972036, -33.749092]   \n",
       "5   2021-01-01T12:54:38Z     Australia/Sydney   [149.037341, -35.24206]   \n",
       "6   2021-03-10T22:03:28Z     Australia/Sydney  [151.190408, -33.925581]   \n",
       "7   2021-01-01T12:26:03Z     Australia/Sydney  [149.063047, -35.388245]   \n",
       "8   2021-01-01T12:26:03Z     Australia/Sydney  [149.120377, -36.231124]   \n",
       "9   2021-01-01T10:25:39Z     Australia/Sydney    [151.184874, -33.8865]   \n",
       "10  2021-01-01T10:25:39Z     Australia/Sydney  [151.616049, -32.959805]   \n",
       "11  2020-09-30T06:31:06Z     Australia/Sydney   [150.579705, -33.51394]   \n",
       "12  2021-01-01T09:48:29Z     Australia/Sydney  [150.873935, -33.876184]   \n",
       "13  2021-01-01T09:26:02Z  Australia/Melbourne  [144.957398, -37.725057]   \n",
       "14  2021-01-01T10:25:39Z     Australia/Sydney  [151.283844, -33.739846]   \n",
       "15  2021-01-01T08:41:11Z  Australia/Melbourne  [145.101119, -37.858541]   \n",
       "16  2021-01-01T12:26:03Z     Australia/Sydney  [149.127262, -35.184918]   \n",
       "17  2021-03-10T22:03:36Z     Australia/Sydney  [151.098432, -33.776588]   \n",
       "18  2021-01-01T10:25:39Z     Australia/Sydney  [150.854988, -33.770595]   \n",
       "19  2021-02-01T19:28:28Z   Australia/Brisbane  [153.187085, -27.471684]   \n",
       "\n",
       "       scope country                                  place_hierarchies  \\\n",
       "0   locality      AU  [[6295630, 6255151, 2077456, 2155400, 7839365,...   \n",
       "1   locality      AU  [[6295630, 6255151, 2077456, 2061327, 7839422,...   \n",
       "2   locality      AU  [[6295630, 6255151, 2077456, 2145234, 7839533,...   \n",
       "3   locality      AU  [[6295630, 6255151, 2077456, 2155400, 2164848,...   \n",
       "4   locality      AU  [[6295630, 6255151, 2077456, 2155400, 7839690,...   \n",
       "5   locality      AU  [[6295630, 6255151, 2077456, 2177478, 2172517]...   \n",
       "6   locality      AU  [[6295630, 6255151, 2077456, 2155400, 6619279,...   \n",
       "7   locality      AU  [[6295630, 6255151, 2077456, 2177478, 2143964]...   \n",
       "8   locality      AU  [[6295630, 6255151, 2077456, 2155400, 7839716,...   \n",
       "9   locality      AU  [[6295630, 6255151, 2077456, 2155400, 6619279,...   \n",
       "10  locality      AU  [[6295630, 6255151, 2077456, 2155400, 2160746,...   \n",
       "11  locality      AU  [[6295630, 6255151, 2077456, 2155400, 2175228,...   \n",
       "12  locality      AU  [[6295630, 6255151, 2077456, 2155400, 6619279,...   \n",
       "13  locality      AU  [[6295630, 6255151, 2077456, 2145234, 7839805,...   \n",
       "14  locality      AU  [[6295630, 6255151, 2077456, 2155400, 6619279,...   \n",
       "15  locality      AU  [[6295630, 6255151, 2077456, 2145234, 7839805,...   \n",
       "16  locality      AU  [[6295630, 6255151, 2077456, 2177478, 2165520]...   \n",
       "17  locality      AU  [[6295630, 6255151, 2077456, 2155400, 7839763,...   \n",
       "18  locality      AU  [[6295630, 6255151, 2077456, 2155400, 6619279,...   \n",
       "19  locality      AU  [[6295630, 6255151, 2077456, 2152274, 7839387,...   \n",
       "\n",
       "     state brand_safe private count  \n",
       "0   active       True   False  5000  \n",
       "1   active       True   False  5000  \n",
       "2   active       True   False  5000  \n",
       "3   active       True   False  5000  \n",
       "4   active       True   False  5000  \n",
       "5   active       True   False  5000  \n",
       "6   active       True   False  5000  \n",
       "7   active       True   False  5000  \n",
       "8   active       True   False  5000  \n",
       "9   active       True   False  5000  \n",
       "10  active       True   False  5000  \n",
       "11  active       True   False  5000  \n",
       "12  active       True   False  5000  \n",
       "13  active       True   False  5000  \n",
       "14  active       True   False  5000  \n",
       "15  active       True   False  5000  \n",
       "16  active       True   False  5000  \n",
       "17  active       True   False  5000  \n",
       "18  active       True   False  5000  \n",
       "19  active       True   False  5000  \n",
       "\n",
       "[20 rows x 26 columns]"
      ],
      "text/html": "<div>\n<style scoped>\n    .dataframe tbody tr th:only-of-type {\n        vertical-align: middle;\n    }\n\n    .dataframe tbody tr th {\n        vertical-align: top;\n    }\n\n    .dataframe thead th {\n        text-align: right;\n    }\n</style>\n<table border=\"1\" class=\"dataframe\">\n  <thead>\n    <tr style=\"text-align: right;\">\n      <th></th>\n      <th>relevance</th>\n      <th>id</th>\n      <th>title</th>\n      <th>description</th>\n      <th>category</th>\n      <th>labels</th>\n      <th>rank</th>\n      <th>local_rank</th>\n      <th>aviation_rank</th>\n      <th>phq_attendance</th>\n      <th>...</th>\n      <th>first_seen</th>\n      <th>timezone</th>\n      <th>location</th>\n      <th>scope</th>\n      <th>country</th>\n      <th>place_hierarchies</th>\n      <th>state</th>\n      <th>brand_safe</th>\n      <th>private</th>\n      <th>count</th>\n    </tr>\n  </thead>\n  <tbody>\n    <tr>\n      <th>0</th>\n      <td>1.0</td>\n      <td>nXLhaY4VxcRzeYryGo</td>\n      <td>Northern NSW Women's Premier League - Mid Coas...</td>\n      <td></td>\n      <td>sports</td>\n      <td>[soccer, sport]</td>\n      <td>40</td>\n      <td>69</td>\n      <td>0.0</td>\n      <td>302.0</td>\n      <td>...</td>\n      <td>2021-02-05T00:55:49Z</td>\n      <td>Australia/Sydney</td>\n      <td>[152.493976, -31.896234]</td>\n      <td>locality</td>\n      <td>AU</td>\n      <td>[[6295630, 6255151, 2077456, 2155400, 7839365,...</td>\n      <td>active</td>\n      <td>True</td>\n      <td>False</td>\n      <td>5000</td>\n    </tr>\n    <tr>\n      <th>1</th>\n      <td>1.0</td>\n      <td>DvUzX5WEvAbgqsUBYP</td>\n      <td>Entertainment Sunday's at Exchange Hotel Gawler</td>\n      <td>Sundays Live is back again - DJs playing track...</td>\n      <td>performing-arts</td>\n      <td>[performing-arts]</td>\n      <td>45</td>\n      <td>73</td>\n      <td>NaN</td>\n      <td>562.0</td>\n      <td>...</td>\n      <td>2021-01-18T06:35:26Z</td>\n      <td>Australia/Adelaide</td>\n      <td>[138.749307, -34.596536]</td>\n      <td>locality</td>\n      <td>AU</td>\n      <td>[[6295630, 6255151, 2077456, 2061327, 7839422,...</td>\n      <td>active</td>\n      <td>True</td>\n      <td>False</td>\n      <td>5000</td>\n    </tr>\n    <tr>\n      <th>2</th>\n      <td>1.0</td>\n      <td>2uBUSSa46e4B7GSMxn</td>\n      <td>Victoria NPL - St. Albans Saints vs Dandenong ...</td>\n      <td></td>\n      <td>sports</td>\n      <td>[soccer, sport]</td>\n      <td>41</td>\n      <td>60</td>\n      <td>0.0</td>\n      <td>367.0</td>\n      <td>...</td>\n      <td>2021-01-01T08:41:11Z</td>\n      <td>Australia/Melbourne</td>\n      <td>[144.814351, -37.733046]</td>\n      <td>locality</td>\n      <td>AU</td>\n      <td>[[6295630, 6255151, 2077456, 2145234, 7839533,...</td>\n      <td>active</td>\n      <td>True</td>\n      <td>False</td>\n      <td>5000</td>\n    </tr>\n    <tr>\n      <th>3</th>\n      <td>1.0</td>\n      <td>3E2aZxFTZcBddMBDt7</td>\n      <td>New South Wales NPL 2 - Central Coast II vs Ha...</td>\n      <td></td>\n      <td>sports</td>\n      <td>[soccer, sport]</td>\n      <td>46</td>\n      <td>74</td>\n      <td>0.0</td>\n      <td>605.0</td>\n      <td>...</td>\n      <td>2021-01-01T10:23:21Z</td>\n      <td>Australia/Sydney</td>\n      <td>[151.376692, -33.379516]</td>\n      <td>locality</td>\n      <td>AU</td>\n      <td>[[6295630, 6255151, 2077456, 2155400, 2164848,...</td>\n      <td>active</td>\n      <td>True</td>\n      <td>False</td>\n      <td>5000</td>\n    </tr>\n    <tr>\n      <th>4</th>\n      <td>1.0</td>\n      <td>3FNA2mAKQG6jvw5iaM</td>\n      <td>Ron Massey Cup - Hills District Bulls vs St Ma...</td>\n      <td></td>\n      <td>sports</td>\n      <td>[rugby, sport]</td>\n      <td>45</td>\n      <td>65</td>\n      <td>NaN</td>\n      <td>562.0</td>\n      <td>...</td>\n      <td>2021-03-10T22:03:24Z</td>\n      <td>Australia/Sydney</td>\n      <td>[150.972036, -33.749092]</td>\n      <td>locality</td>\n      <td>AU</td>\n      <td>[[6295630, 6255151, 2077456, 2155400, 7839690,...</td>\n      <td>active</td>\n      <td>True</td>\n      <td>False</td>\n      <td>5000</td>\n    </tr>\n    <tr>\n      <th>5</th>\n      <td>1.0</td>\n      <td>3f7TFQrGCbv58VjXQs</td>\n      <td>Capital Territory NPL Women - Canberra United ...</td>\n      <td></td>\n      <td>sports</td>\n      <td>[soccer, sport]</td>\n      <td>46</td>\n      <td>68</td>\n      <td>0.0</td>\n      <td>630.0</td>\n      <td>...</td>\n      <td>2021-01-01T12:54:38Z</td>\n      <td>Australia/Sydney</td>\n      <td>[149.037341, -35.24206]</td>\n      <td>locality</td>\n      <td>AU</td>\n      <td>[[6295630, 6255151, 2077456, 2177478, 2172517]...</td>\n      <td>active</td>\n      <td>True</td>\n      <td>False</td>\n      <td>5000</td>\n    </tr>\n    <tr>\n      <th>6</th>\n      <td>1.0</td>\n      <td>3oLAaXKL4mMFYwPoRy</td>\n      <td>Ron Massey Cup - Kaiviti Silktails vs Blacktow...</td>\n      <td></td>\n      <td>sports</td>\n      <td>[rugby, sport]</td>\n      <td>45</td>\n      <td>58</td>\n      <td>NaN</td>\n      <td>562.0</td>\n      <td>...</td>\n      <td>2021-03-10T22:03:28Z</td>\n      <td>Australia/Sydney</td>\n      <td>[151.190408, -33.925581]</td>\n      <td>locality</td>\n      <td>AU</td>\n      <td>[[6295630, 6255151, 2077456, 2155400, 6619279,...</td>\n      <td>active</td>\n      <td>True</td>\n      <td>False</td>\n      <td>5000</td>\n    </tr>\n    <tr>\n      <th>7</th>\n      <td>1.0</td>\n      <td>4J6CkhjLEgtDkuADGC</td>\n      <td>Capital Territory NPL - Tuggeranong United vs ...</td>\n      <td></td>\n      <td>sports</td>\n      <td>[soccer, sport]</td>\n      <td>41</td>\n      <td>65</td>\n      <td>0.0</td>\n      <td>339.0</td>\n      <td>...</td>\n      <td>2021-01-01T12:26:03Z</td>\n      <td>Australia/Sydney</td>\n      <td>[149.063047, -35.388245]</td>\n      <td>locality</td>\n      <td>AU</td>\n      <td>[[6295630, 6255151, 2077456, 2177478, 2143964]...</td>\n      <td>active</td>\n      <td>True</td>\n      <td>False</td>\n      <td>5000</td>\n    </tr>\n    <tr>\n      <th>8</th>\n      <td>1.0</td>\n      <td>6DZt449GvipSwcE3tZ</td>\n      <td>Capital Territory NPL - Cooma Tigers vs West C...</td>\n      <td></td>\n      <td>sports</td>\n      <td>[soccer, sport]</td>\n      <td>40</td>\n      <td>69</td>\n      <td>0.0</td>\n      <td>302.0</td>\n      <td>...</td>\n      <td>2021-01-01T12:26:03Z</td>\n      <td>Australia/Sydney</td>\n      <td>[149.120377, -36.231124]</td>\n      <td>locality</td>\n      <td>AU</td>\n      <td>[[6295630, 6255151, 2077456, 2155400, 7839716,...</td>\n      <td>active</td>\n      <td>True</td>\n      <td>False</td>\n      <td>5000</td>\n    </tr>\n    <tr>\n      <th>9</th>\n      <td>1.0</td>\n      <td>AuSNWZ4pv3EHgPU5YZ</td>\n      <td>New South Wales NPL Women - Sydney University ...</td>\n      <td></td>\n      <td>sports</td>\n      <td>[soccer, sport]</td>\n      <td>41</td>\n      <td>52</td>\n      <td>0.0</td>\n      <td>362.0</td>\n      <td>...</td>\n      <td>2021-01-01T10:25:39Z</td>\n      <td>Australia/Sydney</td>\n      <td>[151.184874, -33.8865]</td>\n      <td>locality</td>\n      <td>AU</td>\n      <td>[[6295630, 6255151, 2077456, 2155400, 6619279,...</td>\n      <td>active</td>\n      <td>True</td>\n      <td>False</td>\n      <td>5000</td>\n    </tr>\n    <tr>\n      <th>10</th>\n      <td>1.0</td>\n      <td>B7h7xW9MQH3ZaFr8Va</td>\n      <td>New South Wales NPL Women - Emerging Jets vs N...</td>\n      <td></td>\n      <td>sports</td>\n      <td>[soccer, sport]</td>\n      <td>45</td>\n      <td>70</td>\n      <td>0.0</td>\n      <td>560.0</td>\n      <td>...</td>\n      <td>2021-01-01T10:25:39Z</td>\n      <td>Australia/Sydney</td>\n      <td>[151.616049, -32.959805]</td>\n      <td>locality</td>\n      <td>AU</td>\n      <td>[[6295630, 6255151, 2077456, 2155400, 2160746,...</td>\n      <td>active</td>\n      <td>True</td>\n      <td>False</td>\n      <td>5000</td>\n    </tr>\n    <tr>\n      <th>11</th>\n      <td>1.0</td>\n      <td>J5eVKjGpUMFf3cBQzy</td>\n      <td>Alpaca Experience 3pm Daily</td>\n      <td>Come spend some quality time in Kurrajong Heig...</td>\n      <td>community</td>\n      <td>[community]</td>\n      <td>0</td>\n      <td>0</td>\n      <td>NaN</td>\n      <td>NaN</td>\n      <td>...</td>\n      <td>2020-09-30T06:31:06Z</td>\n      <td>Australia/Sydney</td>\n      <td>[150.579705, -33.51394]</td>\n      <td>locality</td>\n      <td>AU</td>\n      <td>[[6295630, 6255151, 2077456, 2155400, 2175228,...</td>\n      <td>active</td>\n      <td>True</td>\n      <td>False</td>\n      <td>5000</td>\n    </tr>\n    <tr>\n      <th>12</th>\n      <td>1.0</td>\n      <td>MopK8mwfbKKFTTbKCL</td>\n      <td>New South Wales NPL - Sydney United vs Rockdal...</td>\n      <td></td>\n      <td>sports</td>\n      <td>[soccer, sport]</td>\n      <td>52</td>\n      <td>70</td>\n      <td>0.0</td>\n      <td>1233.0</td>\n      <td>...</td>\n      <td>2021-01-01T09:48:29Z</td>\n      <td>Australia/Sydney</td>\n      <td>[150.873935, -33.876184]</td>\n      <td>locality</td>\n      <td>AU</td>\n      <td>[[6295630, 6255151, 2077456, 2155400, 6619279,...</td>\n      <td>active</td>\n      <td>True</td>\n      <td>False</td>\n      <td>5000</td>\n    </tr>\n    <tr>\n      <th>13</th>\n      <td>1.0</td>\n      <td>Nq7SQbYFUKiQ2rLHvF</td>\n      <td>Victoria NPL 2 Youth - Pascoe Vale U21 vs Mann...</td>\n      <td></td>\n      <td>sports</td>\n      <td>[soccer, sport]</td>\n      <td>32</td>\n      <td>50</td>\n      <td>0.0</td>\n      <td>124.0</td>\n      <td>...</td>\n      <td>2021-01-01T09:26:02Z</td>\n      <td>Australia/Melbourne</td>\n      <td>[144.957398, -37.725057]</td>\n      <td>locality</td>\n      <td>AU</td>\n      <td>[[6295630, 6255151, 2077456, 2145234, 7839805,...</td>\n      <td>active</td>\n      <td>True</td>\n      <td>False</td>\n      <td>5000</td>\n    </tr>\n    <tr>\n      <th>14</th>\n      <td>1.0</td>\n      <td>PiPjWMMuH89chNVHRw</td>\n      <td>New South Wales NPL Women - Manly United vs Sy...</td>\n      <td></td>\n      <td>sports</td>\n      <td>[soccer, sport]</td>\n      <td>44</td>\n      <td>61</td>\n      <td>0.0</td>\n      <td>523.0</td>\n      <td>...</td>\n      <td>2021-01-01T10:25:39Z</td>\n      <td>Australia/Sydney</td>\n      <td>[151.283844, -33.739846]</td>\n      <td>locality</td>\n      <td>AU</td>\n      <td>[[6295630, 6255151, 2077456, 2155400, 6619279,...</td>\n      <td>active</td>\n      <td>True</td>\n      <td>False</td>\n      <td>5000</td>\n    </tr>\n    <tr>\n      <th>15</th>\n      <td>1.0</td>\n      <td>SJwSxXdi8qc5P3yxhA</td>\n      <td>Victoria NPL - Eastern Lions vs Avondale</td>\n      <td></td>\n      <td>sports</td>\n      <td>[soccer, sport]</td>\n      <td>35</td>\n      <td>55</td>\n      <td>0.0</td>\n      <td>187.0</td>\n      <td>...</td>\n      <td>2021-01-01T08:41:11Z</td>\n      <td>Australia/Melbourne</td>\n      <td>[145.101119, -37.858541]</td>\n      <td>locality</td>\n      <td>AU</td>\n      <td>[[6295630, 6255151, 2077456, 2145234, 7839805,...</td>\n      <td>active</td>\n      <td>True</td>\n      <td>False</td>\n      <td>5000</td>\n    </tr>\n    <tr>\n      <th>16</th>\n      <td>1.0</td>\n      <td>UqDzzDmKFnbuQdiQQu</td>\n      <td>Capital Territory NPL - Gungahlin United vs Be...</td>\n      <td></td>\n      <td>sports</td>\n      <td>[soccer, sport]</td>\n      <td>49</td>\n      <td>70</td>\n      <td>0.0</td>\n      <td>911.0</td>\n      <td>...</td>\n      <td>2021-01-01T12:26:03Z</td>\n      <td>Australia/Sydney</td>\n      <td>[149.127262, -35.184918]</td>\n      <td>locality</td>\n      <td>AU</td>\n      <td>[[6295630, 6255151, 2077456, 2177478, 2165520]...</td>\n      <td>active</td>\n      <td>True</td>\n      <td>False</td>\n      <td>5000</td>\n    </tr>\n    <tr>\n      <th>17</th>\n      <td>1.0</td>\n      <td>Xb5DE43XSFjZUcuV9t</td>\n      <td>Ron Massey Cup - Hawks vs Mounties</td>\n      <td></td>\n      <td>sports</td>\n      <td>[rugby, sport]</td>\n      <td>49</td>\n      <td>68</td>\n      <td>0.0</td>\n      <td>909.0</td>\n      <td>...</td>\n      <td>2021-03-10T22:03:36Z</td>\n      <td>Australia/Sydney</td>\n      <td>[151.098432, -33.776588]</td>\n      <td>locality</td>\n      <td>AU</td>\n      <td>[[6295630, 6255151, 2077456, 2155400, 7839763,...</td>\n      <td>active</td>\n      <td>True</td>\n      <td>False</td>\n      <td>5000</td>\n    </tr>\n    <tr>\n      <th>18</th>\n      <td>1.0</td>\n      <td>Z4UMnhknfouZLKcuzo</td>\n      <td>New South Wales NPL Women - Blacktown Spartans...</td>\n      <td></td>\n      <td>sports</td>\n      <td>[soccer, sport]</td>\n      <td>60</td>\n      <td>79</td>\n      <td>0.0</td>\n      <td>3191.0</td>\n      <td>...</td>\n      <td>2021-01-01T10:25:39Z</td>\n      <td>Australia/Sydney</td>\n      <td>[150.854988, -33.770595]</td>\n      <td>locality</td>\n      <td>AU</td>\n      <td>[[6295630, 6255151, 2077456, 2155400, 6619279,...</td>\n      <td>active</td>\n      <td>True</td>\n      <td>False</td>\n      <td>5000</td>\n    </tr>\n    <tr>\n      <th>19</th>\n      <td>1.0</td>\n      <td>aQP4tMnBp5Np89tjQ7</td>\n      <td>Brisbane Reserves Premier League - Bayside Uni...</td>\n      <td></td>\n      <td>sports</td>\n      <td>[soccer, sport]</td>\n      <td>40</td>\n      <td>65</td>\n      <td>0.0</td>\n      <td>309.0</td>\n      <td>...</td>\n      <td>2021-02-01T19:28:28Z</td>\n      <td>Australia/Brisbane</td>\n      <td>[153.187085, -27.471684]</td>\n      <td>locality</td>\n      <td>AU</td>\n      <td>[[6295630, 6255151, 2077456, 2152274, 7839387,...</td>\n      <td>active</td>\n      <td>True</td>\n      <td>False</td>\n      <td>5000</td>\n    </tr>\n  </tbody>\n</table>\n<p>20 rows × 26 columns</p>\n</div>"
     },
     "metadata": {},
     "execution_count": 66
    }
   ],
   "source": [
    "# View json data in dataframe format using pandas. (Note: variable \"data\" includes all data)\n",
    "# variable \"events_df\" dataframe from dictionary data > results \n",
    "events_df = pd.json_normalize(data, record_path = ['results'], meta=['count'], errors='ignore')\n",
    "events_df.head(20)"
   ]
  },
  {
   "cell_type": "code",
   "execution_count": 7,
   "metadata": {},
   "outputs": [
    {
     "output_type": "execute_result",
     "data": {
      "text/plain": [
       "                                               title  \\\n",
       "0                                Messy Play Sessions   \n",
       "1                       Future of Financial Services   \n",
       "2          The Trevor Kennedy Collection: Highlights   \n",
       "3                                 Gunnedah Saleyards   \n",
       "4  PlayUP: The Right to Have an Opinion and Be Heard   \n",
       "5  Indigenous Stock Workers and Rodeo Riders Disp...   \n",
       "6                                  The Polished Opal   \n",
       "7                      Truth, Power and a Free Press   \n",
       "\n",
       "                                                name  \n",
       "0                                Messy Play Sessions  \n",
       "1                       Future of Financial Services  \n",
       "2          The Trevor Kennedy Collection: Highlights  \n",
       "3                                 Gunnedah Saleyards  \n",
       "4  PlayUP: The Right to Have an Opinion and Be Heard  \n",
       "5  Indigenous Stock Workers and Rodeo Riders Disp...  \n",
       "6                                  The Polished Opal  \n",
       "7                      Truth, Power and a Free Press  "
      ],
      "text/html": "<div>\n<style scoped>\n    .dataframe tbody tr th:only-of-type {\n        vertical-align: middle;\n    }\n\n    .dataframe tbody tr th {\n        vertical-align: top;\n    }\n\n    .dataframe thead th {\n        text-align: right;\n    }\n</style>\n<table border=\"1\" class=\"dataframe\">\n  <thead>\n    <tr style=\"text-align: right;\">\n      <th></th>\n      <th>title</th>\n      <th>name</th>\n    </tr>\n  </thead>\n  <tbody>\n    <tr>\n      <th>0</th>\n      <td>Messy Play Sessions</td>\n      <td>Messy Play Sessions</td>\n    </tr>\n    <tr>\n      <th>1</th>\n      <td>Future of Financial Services</td>\n      <td>Future of Financial Services</td>\n    </tr>\n    <tr>\n      <th>2</th>\n      <td>The Trevor Kennedy Collection: Highlights</td>\n      <td>The Trevor Kennedy Collection: Highlights</td>\n    </tr>\n    <tr>\n      <th>3</th>\n      <td>Gunnedah Saleyards</td>\n      <td>Gunnedah Saleyards</td>\n    </tr>\n    <tr>\n      <th>4</th>\n      <td>PlayUP: The Right to Have an Opinion and Be Heard</td>\n      <td>PlayUP: The Right to Have an Opinion and Be Heard</td>\n    </tr>\n    <tr>\n      <th>5</th>\n      <td>Indigenous Stock Workers and Rodeo Riders Disp...</td>\n      <td>Indigenous Stock Workers and Rodeo Riders Disp...</td>\n    </tr>\n    <tr>\n      <th>6</th>\n      <td>The Polished Opal</td>\n      <td>The Polished Opal</td>\n    </tr>\n    <tr>\n      <th>7</th>\n      <td>Truth, Power and a Free Press</td>\n      <td>Truth, Power and a Free Press</td>\n    </tr>\n  </tbody>\n</table>\n</div>"
     },
     "metadata": {},
     "execution_count": 7
    }
   ],
   "source": [
    "# events_df.join(f_address_df)\n",
    "events_final_df = pd.merge(events_df, address_df, left_on=\"title\", right_on=\"name\")\n",
    "events_final_df[[\"title\",\"name\"]].head(10)"
   ]
  },
  {
   "cell_type": "code",
   "execution_count": 8,
   "metadata": {},
   "outputs": [
    {
     "output_type": "execute_result",
     "data": {
      "text/plain": [
       "Index(['relevance', 'id', 'title', 'description', 'category_x', 'labels_x',\n",
       "       'rank', 'local_rank', 'aviation_rank', 'phq_attendance', 'entities',\n",
       "       'duration', 'start', 'end', 'updated', 'first_seen', 'timezone',\n",
       "       'location', 'scope', 'country', 'place_hierarchies', 'state',\n",
       "       'brand_safe', 'private', 'entity_id', 'name', 'type', 'category_y',\n",
       "       'labels_y', 'formatted_address'],\n",
       "      dtype='object')"
      ]
     },
     "metadata": {},
     "execution_count": 8
    }
   ],
   "source": [
    "# View all columns (in dictionary: events > results). Determine required columns for deliverable.\n",
    "events_final_df.columns"
   ]
  },
  {
   "source": [
    "## Data Analysis - Determine and Extract Data Required\n",
    "- Number of entries required: 5000. \n",
    "    1. Loop and set offset at every 50 interval (0, 50, 100, 150 etc until it reaches 4950. 5000 results max from API.)\n",
    "- Variables required: id, country, category, title, start_date, end_date, country, location\n",
    "    2. Use pandas to filter for the variables required. \n",
    "        - *location is the coordinates"
   ],
   "cell_type": "markdown",
   "metadata": {}
  },
  {
   "cell_type": "code",
   "execution_count": 9,
   "metadata": {},
   "outputs": [
    {
     "output_type": "stream",
     "name": "stdout",
     "text": [
      "0\n50\n100\n150\n200\n250\n300\n350\n400\n450\n"
     ]
    }
   ],
   "source": [
    "# Test for loop \n",
    "for i in range (0,500,50):\n",
    "    print(i)"
   ]
  },
  {
   "cell_type": "code",
   "execution_count": 7,
   "metadata": {},
   "outputs": [],
   "source": [
    "# Create variable \"entries\" to store the list of dictionaries; \n",
    "# Each loop will contain a dictionary (as each pandas dataframe is a dictionaries). \n",
    "events_entries=[]\n",
    "\n",
    "# Do a 'for loop' which loops from index 0 to 5000, at muliples of 50 (as API page can only call 50 entries max each time)\n",
    "for i in range(0,1500,50):\n",
    "\n",
    "    response = requests.get(\n",
    "        url=f\"https://api.predicthq.com/v1/events?offset={i}&limit=50\",\n",
    "        headers={\n",
    "        \"Authorization\": f\"Bearer {py_config.ACCESS_TOKEN}\",\n",
    "        \"Accept\": \"application/json\"\n",
    "        },\n",
    "        params={\n",
    "            \"country\": \"AU\",\n",
    "            \"start\": \"2021-01-01\",\n",
    "            \"end\": \"2022-12-31\"\n",
    "        }\n",
    "    )\n",
    "\n",
    "    # Save response to variable \"data\" and \"data1\"\n",
    "    data = response.json()\n",
    "    # data1 = data['results']\n",
    "    # Save to variable \"events_df\" the dictionary (data> results) \n",
    "    events_df = pd.json_normalize(data, ['results'], errors='ignore')\n",
    "    # print(events_df.head(3))\n",
    "\n",
    "    def getEntitiesName(entities):\n",
    "        try:\n",
    "            return entities[0]['name']\n",
    "        except:\n",
    "            return 'no name'\n",
    "    \n",
    "    events_df['name'] = events_df.entities.apply(getEntitiesName)\n",
    "\n",
    "\n",
    "\n",
    "    def getEntitiesAddress(entities):\n",
    "        try:\n",
    "            return entities[0]['formatted_address']\n",
    "        except:\n",
    "            return 'no name'\n",
    "    events_df['formatted_address'] = events_df.entities.apply(getEntitiesAddress)\n",
    "\n",
    "\n",
    "    def getEntitiesVenue(entities):\n",
    "    # print(entities)\n",
    "    if len(entities)>1:\n",
    "        print(entities)\n",
    "    try:\n",
    "        return entities[1]['name']\n",
    "    except IndexError:\n",
    "        return 'no venue'\n",
    "    events_df['venue_name'] = events_df.entities.apply(getEntitiesVenue)\n",
    "\n",
    "    events_df\n",
    "\n",
    "\n",
    "    # Extract out only required variables (column headings)\n",
    "    events_df = events_df[[\"id\",\"title\",\"description\",\"category\",\"start\",\"end\",\"country\",\"location\",\"rank\",\"name\",\"formatted_address\"]]\n",
    "        \n",
    "    events_entries.append(events_df)\n",
    "\n",
    "\n",
    "    # TEST\n",
    "    # print(events_entries)"
   ]
  },
  {
   "source": [
    "# TRANSFORMATION\n",
    "- Concatenate the dataframes together (from all 100 pages) and save the final dataframe to a variable."
   ],
   "cell_type": "markdown",
   "metadata": {}
  },
  {
   "cell_type": "code",
   "execution_count": 8,
   "metadata": {},
   "outputs": [
    {
     "output_type": "execute_result",
     "data": {
      "text/plain": [
       "                    id                                              title  \\\n",
       "0   UZGsZMeY5YegR7MMdD                                Messy Play Sessions   \n",
       "1   eQN8f47RzTXvibpxY7  INVOLVING FAMILIES AND OTHERS IN THE CARE OF Y...   \n",
       "2   57NrcFdTDNZcHGZ5Jw                       Future of Financial Services   \n",
       "3   5gt6YrELDVgyH9H6N4          The Trevor Kennedy Collection: Highlights   \n",
       "4   65grzvvvAQcmZH7rim                                 Gunnedah Saleyards   \n",
       "..                 ...                                                ...   \n",
       "45  h8Tgn52FZ9ehPwsngi  Queensland NPL 2 Youth - Sunshine Coast U23 vs...   \n",
       "46  kWzqFJbmKmN2tU82rQ                Private photography class in Sydney   \n",
       "47  7URTbV4WsM39x4UTsC  Queensland NPL Youth League - Brisbane Roar U2...   \n",
       "48  LauEV6prCSrCp5hjbr  Queensland NPL 2 Youth - Souths United U23 vs ...   \n",
       "49  XsRD6PvW6UTvRLTxjm  Queensland NPL Youth League - Logan Lightning ...   \n",
       "\n",
       "                                          description     category  \\\n",
       "0   The Busy Peacock is a place to come and let th...    community   \n",
       "1   This workshop will explore the benefits and ba...  conferences   \n",
       "2                                                      conferences   \n",
       "3   Discover objects of rare beauty and items of c...        expos   \n",
       "4   Experience one of the largest stock selling ce...        expos   \n",
       "..                                                ...          ...   \n",
       "45                                                          sports   \n",
       "46  Develop your composition and shooting skills, ...    community   \n",
       "47                                                          sports   \n",
       "48                                                          sports   \n",
       "49                                                          sports   \n",
       "\n",
       "                   start                   end country  \\\n",
       "0   2021-07-20T23:30:00Z  2021-07-21T00:15:00Z      AU   \n",
       "1   2021-07-20T23:30:00Z  2021-07-21T06:30:00Z      AU   \n",
       "2   2021-07-20T23:00:00Z  2021-07-21T08:00:00Z      AU   \n",
       "3   2021-07-20T23:00:00Z  2021-07-21T07:00:00Z      AU   \n",
       "4   2021-07-20T23:00:00Z  2021-07-21T01:00:00Z      AU   \n",
       "..                   ...                   ...     ...   \n",
       "45  2021-07-11T04:00:00Z  2021-07-11T04:00:00Z      AU   \n",
       "46  2021-07-11T04:00:00Z  2021-07-11T07:00:00Z      AU   \n",
       "47  2021-07-11T03:45:00Z  2021-07-11T03:45:00Z      AU   \n",
       "48  2021-07-11T03:45:00Z  2021-07-11T03:45:00Z      AU   \n",
       "49  2021-07-11T03:45:00Z  2021-07-11T03:45:00Z      AU   \n",
       "\n",
       "                    location  rank  \\\n",
       "0    [145.18578, -38.261048]     0   \n",
       "1   [144.947904, -37.780223]     0   \n",
       "2    [144.959213, -37.82341]    46   \n",
       "3   [149.119532, -35.292481]    45   \n",
       "4   [150.224511, -30.958274]    45   \n",
       "..                       ...   ...   \n",
       "45  [153.119022, -26.731251]    40   \n",
       "46  [151.208565, -33.858768]     0   \n",
       "47  [153.262453, -27.532772]    40   \n",
       "48  [153.069671, -27.590388]    46   \n",
       "49  [153.188151, -27.665874]    40   \n",
       "\n",
       "                                                 name  \\\n",
       "0                                 Messy Play Sessions   \n",
       "1                                             no name   \n",
       "2                        Future of Financial Services   \n",
       "3           The Trevor Kennedy Collection: Highlights   \n",
       "4                                  Gunnedah Saleyards   \n",
       "..                                                ...   \n",
       "45                                  Kawana SC Field 1   \n",
       "46                                            no name   \n",
       "47  Arthur & Allan Morris Field (Cleveland Showgro...   \n",
       "48                                      Wakerley Park   \n",
       "49                                      Cornubia Park   \n",
       "\n",
       "                                    formatted_address  \n",
       "0                                             no name  \n",
       "1                                             no name  \n",
       "2                    8 Whiteman St Southbank VIC 3006  \n",
       "3                                             no name  \n",
       "4                                             no name  \n",
       "..                                                ...  \n",
       "45             Milieu Place\\nKawana Waters\\nAustralia  \n",
       "46                                            no name  \n",
       "47  60 - 76 Waterloo Street, Cleveland\\nBrisbane\\n...  \n",
       "48            23 Dew St.\\nRuncorn QLD 4113\\nAustralia  \n",
       "49  146 Bryants Road, Loganholme\\nBrisbane\\nAustralia  \n",
       "\n",
       "[1500 rows x 11 columns]"
      ],
      "text/html": "<div>\n<style scoped>\n    .dataframe tbody tr th:only-of-type {\n        vertical-align: middle;\n    }\n\n    .dataframe tbody tr th {\n        vertical-align: top;\n    }\n\n    .dataframe thead th {\n        text-align: right;\n    }\n</style>\n<table border=\"1\" class=\"dataframe\">\n  <thead>\n    <tr style=\"text-align: right;\">\n      <th></th>\n      <th>id</th>\n      <th>title</th>\n      <th>description</th>\n      <th>category</th>\n      <th>start</th>\n      <th>end</th>\n      <th>country</th>\n      <th>location</th>\n      <th>rank</th>\n      <th>name</th>\n      <th>formatted_address</th>\n    </tr>\n  </thead>\n  <tbody>\n    <tr>\n      <th>0</th>\n      <td>UZGsZMeY5YegR7MMdD</td>\n      <td>Messy Play Sessions</td>\n      <td>The Busy Peacock is a place to come and let th...</td>\n      <td>community</td>\n      <td>2021-07-20T23:30:00Z</td>\n      <td>2021-07-21T00:15:00Z</td>\n      <td>AU</td>\n      <td>[145.18578, -38.261048]</td>\n      <td>0</td>\n      <td>Messy Play Sessions</td>\n      <td>no name</td>\n    </tr>\n    <tr>\n      <th>1</th>\n      <td>eQN8f47RzTXvibpxY7</td>\n      <td>INVOLVING FAMILIES AND OTHERS IN THE CARE OF Y...</td>\n      <td>This workshop will explore the benefits and ba...</td>\n      <td>conferences</td>\n      <td>2021-07-20T23:30:00Z</td>\n      <td>2021-07-21T06:30:00Z</td>\n      <td>AU</td>\n      <td>[144.947904, -37.780223]</td>\n      <td>0</td>\n      <td>no name</td>\n      <td>no name</td>\n    </tr>\n    <tr>\n      <th>2</th>\n      <td>57NrcFdTDNZcHGZ5Jw</td>\n      <td>Future of Financial Services</td>\n      <td></td>\n      <td>conferences</td>\n      <td>2021-07-20T23:00:00Z</td>\n      <td>2021-07-21T08:00:00Z</td>\n      <td>AU</td>\n      <td>[144.959213, -37.82341]</td>\n      <td>46</td>\n      <td>Future of Financial Services</td>\n      <td>8 Whiteman St Southbank VIC 3006</td>\n    </tr>\n    <tr>\n      <th>3</th>\n      <td>5gt6YrELDVgyH9H6N4</td>\n      <td>The Trevor Kennedy Collection: Highlights</td>\n      <td>Discover objects of rare beauty and items of c...</td>\n      <td>expos</td>\n      <td>2021-07-20T23:00:00Z</td>\n      <td>2021-07-21T07:00:00Z</td>\n      <td>AU</td>\n      <td>[149.119532, -35.292481]</td>\n      <td>45</td>\n      <td>The Trevor Kennedy Collection: Highlights</td>\n      <td>no name</td>\n    </tr>\n    <tr>\n      <th>4</th>\n      <td>65grzvvvAQcmZH7rim</td>\n      <td>Gunnedah Saleyards</td>\n      <td>Experience one of the largest stock selling ce...</td>\n      <td>expos</td>\n      <td>2021-07-20T23:00:00Z</td>\n      <td>2021-07-21T01:00:00Z</td>\n      <td>AU</td>\n      <td>[150.224511, -30.958274]</td>\n      <td>45</td>\n      <td>Gunnedah Saleyards</td>\n      <td>no name</td>\n    </tr>\n    <tr>\n      <th>...</th>\n      <td>...</td>\n      <td>...</td>\n      <td>...</td>\n      <td>...</td>\n      <td>...</td>\n      <td>...</td>\n      <td>...</td>\n      <td>...</td>\n      <td>...</td>\n      <td>...</td>\n      <td>...</td>\n    </tr>\n    <tr>\n      <th>45</th>\n      <td>h8Tgn52FZ9ehPwsngi</td>\n      <td>Queensland NPL 2 Youth - Sunshine Coast U23 vs...</td>\n      <td></td>\n      <td>sports</td>\n      <td>2021-07-11T04:00:00Z</td>\n      <td>2021-07-11T04:00:00Z</td>\n      <td>AU</td>\n      <td>[153.119022, -26.731251]</td>\n      <td>40</td>\n      <td>Kawana SC Field 1</td>\n      <td>Milieu Place\\nKawana Waters\\nAustralia</td>\n    </tr>\n    <tr>\n      <th>46</th>\n      <td>kWzqFJbmKmN2tU82rQ</td>\n      <td>Private photography class in Sydney</td>\n      <td>Develop your composition and shooting skills, ...</td>\n      <td>community</td>\n      <td>2021-07-11T04:00:00Z</td>\n      <td>2021-07-11T07:00:00Z</td>\n      <td>AU</td>\n      <td>[151.208565, -33.858768]</td>\n      <td>0</td>\n      <td>no name</td>\n      <td>no name</td>\n    </tr>\n    <tr>\n      <th>47</th>\n      <td>7URTbV4WsM39x4UTsC</td>\n      <td>Queensland NPL Youth League - Brisbane Roar U2...</td>\n      <td></td>\n      <td>sports</td>\n      <td>2021-07-11T03:45:00Z</td>\n      <td>2021-07-11T03:45:00Z</td>\n      <td>AU</td>\n      <td>[153.262453, -27.532772]</td>\n      <td>40</td>\n      <td>Arthur &amp; Allan Morris Field (Cleveland Showgro...</td>\n      <td>60 - 76 Waterloo Street, Cleveland\\nBrisbane\\n...</td>\n    </tr>\n    <tr>\n      <th>48</th>\n      <td>LauEV6prCSrCp5hjbr</td>\n      <td>Queensland NPL 2 Youth - Souths United U23 vs ...</td>\n      <td></td>\n      <td>sports</td>\n      <td>2021-07-11T03:45:00Z</td>\n      <td>2021-07-11T03:45:00Z</td>\n      <td>AU</td>\n      <td>[153.069671, -27.590388]</td>\n      <td>46</td>\n      <td>Wakerley Park</td>\n      <td>23 Dew St.\\nRuncorn QLD 4113\\nAustralia</td>\n    </tr>\n    <tr>\n      <th>49</th>\n      <td>XsRD6PvW6UTvRLTxjm</td>\n      <td>Queensland NPL Youth League - Logan Lightning ...</td>\n      <td></td>\n      <td>sports</td>\n      <td>2021-07-11T03:45:00Z</td>\n      <td>2021-07-11T03:45:00Z</td>\n      <td>AU</td>\n      <td>[153.188151, -27.665874]</td>\n      <td>40</td>\n      <td>Cornubia Park</td>\n      <td>146 Bryants Road, Loganholme\\nBrisbane\\nAustralia</td>\n    </tr>\n  </tbody>\n</table>\n<p>1500 rows × 11 columns</p>\n</div>"
     },
     "metadata": {},
     "execution_count": 8
    }
   ],
   "source": [
    "# Concatenate all the dictionaries within list \"events_entries\". \n",
    "# i.e. Convert list to contain the data in the 1 dictionary.\n",
    "# Save into variable \"events_entries_df\"\n",
    "events_entries_df = pd.concat(events_entries)\n",
    "events_entries_df"
   ]
  },
  {
   "cell_type": "code",
   "execution_count": 15,
   "metadata": {},
   "outputs": [
    {
     "output_type": "execute_result",
     "data": {
      "text/plain": [
       "Index(['id', 'title', 'description', 'category', 'start', 'end', 'country',\n",
       "       'location', 'rank', 'name', 'formatted_address'],\n",
       "      dtype='object')"
      ]
     },
     "metadata": {},
     "execution_count": 15
    }
   ],
   "source": [
    "events_entries_df.columns"
   ]
  },
  {
   "cell_type": "code",
   "execution_count": 10,
   "metadata": {},
   "outputs": [
    {
     "output_type": "execute_result",
     "data": {
      "text/plain": [
       "community          476\n",
       "expos              439\n",
       "sports             300\n",
       "performing-arts    181\n",
       "festivals           41\n",
       "conferences         35\n",
       "concerts            23\n",
       "school-holidays      3\n",
       "observances          2\n",
       "Name: category, dtype: int64"
      ]
     },
     "metadata": {},
     "execution_count": 10
    }
   ],
   "source": [
    "# Analyse the category types and entries within each category.\n",
    "events_entries_df['category'].value_counts()"
   ]
  },
  {
   "source": [
    "# LOAD"
   ],
   "cell_type": "markdown",
   "metadata": {}
  },
  {
   "cell_type": "code",
   "execution_count": 13,
   "metadata": {},
   "outputs": [],
   "source": [
    "# Connect to local database\n",
    "rds_connection_string = \"postgres:postgres@localhost:5432/events_db\"\n",
    "engine = create_engine(f'postgresql://{rds_connection_string}')"
   ]
  },
  {
   "cell_type": "code",
   "execution_count": 14,
   "metadata": {},
   "outputs": [
    {
     "output_type": "error",
     "ename": "OperationalError",
     "evalue": "(psycopg2.OperationalError) FATAL:  database \"events_db\" does not exist\n\n(Background on this error at: http://sqlalche.me/e/13/e3q8)",
     "traceback": [
      "\u001b[0;31m---------------------------------------------------------------------------\u001b[0m",
      "\u001b[0;31mOperationalError\u001b[0m                          Traceback (most recent call last)",
      "\u001b[0;32m~/opt/anaconda3/envs/PythonData/lib/python3.6/site-packages/sqlalchemy/engine/base.py\u001b[0m in \u001b[0;36m_wrap_pool_connect\u001b[0;34m(self, fn, connection)\u001b[0m\n\u001b[1;32m   2335\u001b[0m         \u001b[0;32mtry\u001b[0m\u001b[0;34m:\u001b[0m\u001b[0;34m\u001b[0m\u001b[0;34m\u001b[0m\u001b[0m\n\u001b[0;32m-> 2336\u001b[0;31m             \u001b[0;32mreturn\u001b[0m \u001b[0mfn\u001b[0m\u001b[0;34m(\u001b[0m\u001b[0;34m)\u001b[0m\u001b[0;34m\u001b[0m\u001b[0;34m\u001b[0m\u001b[0m\n\u001b[0m\u001b[1;32m   2337\u001b[0m         \u001b[0;32mexcept\u001b[0m \u001b[0mdialect\u001b[0m\u001b[0;34m.\u001b[0m\u001b[0mdbapi\u001b[0m\u001b[0;34m.\u001b[0m\u001b[0mError\u001b[0m \u001b[0;32mas\u001b[0m \u001b[0me\u001b[0m\u001b[0;34m:\u001b[0m\u001b[0;34m\u001b[0m\u001b[0;34m\u001b[0m\u001b[0m\n",
      "\u001b[0;32m~/opt/anaconda3/envs/PythonData/lib/python3.6/site-packages/sqlalchemy/pool/base.py\u001b[0m in \u001b[0;36mconnect\u001b[0;34m(self)\u001b[0m\n\u001b[1;32m    363\u001b[0m         \u001b[0;32mif\u001b[0m \u001b[0;32mnot\u001b[0m \u001b[0mself\u001b[0m\u001b[0;34m.\u001b[0m\u001b[0m_use_threadlocal\u001b[0m\u001b[0;34m:\u001b[0m\u001b[0;34m\u001b[0m\u001b[0;34m\u001b[0m\u001b[0m\n\u001b[0;32m--> 364\u001b[0;31m             \u001b[0;32mreturn\u001b[0m \u001b[0m_ConnectionFairy\u001b[0m\u001b[0;34m.\u001b[0m\u001b[0m_checkout\u001b[0m\u001b[0;34m(\u001b[0m\u001b[0mself\u001b[0m\u001b[0;34m)\u001b[0m\u001b[0;34m\u001b[0m\u001b[0;34m\u001b[0m\u001b[0m\n\u001b[0m\u001b[1;32m    365\u001b[0m \u001b[0;34m\u001b[0m\u001b[0m\n",
      "\u001b[0;32m~/opt/anaconda3/envs/PythonData/lib/python3.6/site-packages/sqlalchemy/pool/base.py\u001b[0m in \u001b[0;36m_checkout\u001b[0;34m(cls, pool, threadconns, fairy)\u001b[0m\n\u001b[1;32m    777\u001b[0m         \u001b[0;32mif\u001b[0m \u001b[0;32mnot\u001b[0m \u001b[0mfairy\u001b[0m\u001b[0;34m:\u001b[0m\u001b[0;34m\u001b[0m\u001b[0;34m\u001b[0m\u001b[0m\n\u001b[0;32m--> 778\u001b[0;31m             \u001b[0mfairy\u001b[0m \u001b[0;34m=\u001b[0m \u001b[0m_ConnectionRecord\u001b[0m\u001b[0;34m.\u001b[0m\u001b[0mcheckout\u001b[0m\u001b[0;34m(\u001b[0m\u001b[0mpool\u001b[0m\u001b[0;34m)\u001b[0m\u001b[0;34m\u001b[0m\u001b[0;34m\u001b[0m\u001b[0m\n\u001b[0m\u001b[1;32m    779\u001b[0m \u001b[0;34m\u001b[0m\u001b[0m\n",
      "\u001b[0;32m~/opt/anaconda3/envs/PythonData/lib/python3.6/site-packages/sqlalchemy/pool/base.py\u001b[0m in \u001b[0;36mcheckout\u001b[0;34m(cls, pool)\u001b[0m\n\u001b[1;32m    494\u001b[0m     \u001b[0;32mdef\u001b[0m \u001b[0mcheckout\u001b[0m\u001b[0;34m(\u001b[0m\u001b[0mcls\u001b[0m\u001b[0;34m,\u001b[0m \u001b[0mpool\u001b[0m\u001b[0;34m)\u001b[0m\u001b[0;34m:\u001b[0m\u001b[0;34m\u001b[0m\u001b[0;34m\u001b[0m\u001b[0m\n\u001b[0;32m--> 495\u001b[0;31m         \u001b[0mrec\u001b[0m \u001b[0;34m=\u001b[0m \u001b[0mpool\u001b[0m\u001b[0;34m.\u001b[0m\u001b[0m_do_get\u001b[0m\u001b[0;34m(\u001b[0m\u001b[0;34m)\u001b[0m\u001b[0;34m\u001b[0m\u001b[0;34m\u001b[0m\u001b[0m\n\u001b[0m\u001b[1;32m    496\u001b[0m         \u001b[0;32mtry\u001b[0m\u001b[0;34m:\u001b[0m\u001b[0;34m\u001b[0m\u001b[0;34m\u001b[0m\u001b[0m\n",
      "\u001b[0;32m~/opt/anaconda3/envs/PythonData/lib/python3.6/site-packages/sqlalchemy/pool/impl.py\u001b[0m in \u001b[0;36m_do_get\u001b[0;34m(self)\u001b[0m\n\u001b[1;32m    139\u001b[0m                 \u001b[0;32mwith\u001b[0m \u001b[0mutil\u001b[0m\u001b[0;34m.\u001b[0m\u001b[0msafe_reraise\u001b[0m\u001b[0;34m(\u001b[0m\u001b[0;34m)\u001b[0m\u001b[0;34m:\u001b[0m\u001b[0;34m\u001b[0m\u001b[0;34m\u001b[0m\u001b[0m\n\u001b[0;32m--> 140\u001b[0;31m                     \u001b[0mself\u001b[0m\u001b[0;34m.\u001b[0m\u001b[0m_dec_overflow\u001b[0m\u001b[0;34m(\u001b[0m\u001b[0;34m)\u001b[0m\u001b[0;34m\u001b[0m\u001b[0;34m\u001b[0m\u001b[0m\n\u001b[0m\u001b[1;32m    141\u001b[0m         \u001b[0;32melse\u001b[0m\u001b[0;34m:\u001b[0m\u001b[0;34m\u001b[0m\u001b[0;34m\u001b[0m\u001b[0m\n",
      "\u001b[0;32m~/opt/anaconda3/envs/PythonData/lib/python3.6/site-packages/sqlalchemy/util/langhelpers.py\u001b[0m in \u001b[0;36m__exit__\u001b[0;34m(self, type_, value, traceback)\u001b[0m\n\u001b[1;32m     69\u001b[0m                     \u001b[0mexc_value\u001b[0m\u001b[0;34m,\u001b[0m\u001b[0;34m\u001b[0m\u001b[0;34m\u001b[0m\u001b[0m\n\u001b[0;32m---> 70\u001b[0;31m                     \u001b[0mwith_traceback\u001b[0m\u001b[0;34m=\u001b[0m\u001b[0mexc_tb\u001b[0m\u001b[0;34m,\u001b[0m\u001b[0;34m\u001b[0m\u001b[0;34m\u001b[0m\u001b[0m\n\u001b[0m\u001b[1;32m     71\u001b[0m                 )\n",
      "\u001b[0;32m~/opt/anaconda3/envs/PythonData/lib/python3.6/site-packages/sqlalchemy/util/compat.py\u001b[0m in \u001b[0;36mraise_\u001b[0;34m(***failed resolving arguments***)\u001b[0m\n\u001b[1;32m    181\u001b[0m         \u001b[0;32mtry\u001b[0m\u001b[0;34m:\u001b[0m\u001b[0;34m\u001b[0m\u001b[0;34m\u001b[0m\u001b[0m\n\u001b[0;32m--> 182\u001b[0;31m             \u001b[0;32mraise\u001b[0m \u001b[0mexception\u001b[0m\u001b[0;34m\u001b[0m\u001b[0;34m\u001b[0m\u001b[0m\n\u001b[0m\u001b[1;32m    183\u001b[0m         \u001b[0;32mfinally\u001b[0m\u001b[0;34m:\u001b[0m\u001b[0;34m\u001b[0m\u001b[0;34m\u001b[0m\u001b[0m\n",
      "\u001b[0;32m~/opt/anaconda3/envs/PythonData/lib/python3.6/site-packages/sqlalchemy/pool/impl.py\u001b[0m in \u001b[0;36m_do_get\u001b[0;34m(self)\u001b[0m\n\u001b[1;32m    136\u001b[0m             \u001b[0;32mtry\u001b[0m\u001b[0;34m:\u001b[0m\u001b[0;34m\u001b[0m\u001b[0;34m\u001b[0m\u001b[0m\n\u001b[0;32m--> 137\u001b[0;31m                 \u001b[0;32mreturn\u001b[0m \u001b[0mself\u001b[0m\u001b[0;34m.\u001b[0m\u001b[0m_create_connection\u001b[0m\u001b[0;34m(\u001b[0m\u001b[0;34m)\u001b[0m\u001b[0;34m\u001b[0m\u001b[0;34m\u001b[0m\u001b[0m\n\u001b[0m\u001b[1;32m    138\u001b[0m             \u001b[0;32mexcept\u001b[0m\u001b[0;34m:\u001b[0m\u001b[0;34m\u001b[0m\u001b[0;34m\u001b[0m\u001b[0m\n",
      "\u001b[0;32m~/opt/anaconda3/envs/PythonData/lib/python3.6/site-packages/sqlalchemy/pool/base.py\u001b[0m in \u001b[0;36m_create_connection\u001b[0;34m(self)\u001b[0m\n\u001b[1;32m    308\u001b[0m \u001b[0;34m\u001b[0m\u001b[0m\n\u001b[0;32m--> 309\u001b[0;31m         \u001b[0;32mreturn\u001b[0m \u001b[0m_ConnectionRecord\u001b[0m\u001b[0;34m(\u001b[0m\u001b[0mself\u001b[0m\u001b[0;34m)\u001b[0m\u001b[0;34m\u001b[0m\u001b[0;34m\u001b[0m\u001b[0m\n\u001b[0m\u001b[1;32m    310\u001b[0m \u001b[0;34m\u001b[0m\u001b[0m\n",
      "\u001b[0;32m~/opt/anaconda3/envs/PythonData/lib/python3.6/site-packages/sqlalchemy/pool/base.py\u001b[0m in \u001b[0;36m__init__\u001b[0;34m(self, pool, connect)\u001b[0m\n\u001b[1;32m    439\u001b[0m         \u001b[0;32mif\u001b[0m \u001b[0mconnect\u001b[0m\u001b[0;34m:\u001b[0m\u001b[0;34m\u001b[0m\u001b[0;34m\u001b[0m\u001b[0m\n\u001b[0;32m--> 440\u001b[0;31m             \u001b[0mself\u001b[0m\u001b[0;34m.\u001b[0m\u001b[0m__connect\u001b[0m\u001b[0;34m(\u001b[0m\u001b[0mfirst_connect_check\u001b[0m\u001b[0;34m=\u001b[0m\u001b[0;32mTrue\u001b[0m\u001b[0;34m)\u001b[0m\u001b[0;34m\u001b[0m\u001b[0;34m\u001b[0m\u001b[0m\n\u001b[0m\u001b[1;32m    441\u001b[0m         \u001b[0mself\u001b[0m\u001b[0;34m.\u001b[0m\u001b[0mfinalize_callback\u001b[0m \u001b[0;34m=\u001b[0m \u001b[0mdeque\u001b[0m\u001b[0;34m(\u001b[0m\u001b[0;34m)\u001b[0m\u001b[0;34m\u001b[0m\u001b[0;34m\u001b[0m\u001b[0m\n",
      "\u001b[0;32m~/opt/anaconda3/envs/PythonData/lib/python3.6/site-packages/sqlalchemy/pool/base.py\u001b[0m in \u001b[0;36m__connect\u001b[0;34m(self, first_connect_check)\u001b[0m\n\u001b[1;32m    660\u001b[0m             \u001b[0;32mwith\u001b[0m \u001b[0mutil\u001b[0m\u001b[0;34m.\u001b[0m\u001b[0msafe_reraise\u001b[0m\u001b[0;34m(\u001b[0m\u001b[0;34m)\u001b[0m\u001b[0;34m:\u001b[0m\u001b[0;34m\u001b[0m\u001b[0;34m\u001b[0m\u001b[0m\n\u001b[0;32m--> 661\u001b[0;31m                 \u001b[0mpool\u001b[0m\u001b[0;34m.\u001b[0m\u001b[0mlogger\u001b[0m\u001b[0;34m.\u001b[0m\u001b[0mdebug\u001b[0m\u001b[0;34m(\u001b[0m\u001b[0;34m\"Error on connect(): %s\"\u001b[0m\u001b[0;34m,\u001b[0m \u001b[0me\u001b[0m\u001b[0;34m)\u001b[0m\u001b[0;34m\u001b[0m\u001b[0;34m\u001b[0m\u001b[0m\n\u001b[0m\u001b[1;32m    662\u001b[0m         \u001b[0;32melse\u001b[0m\u001b[0;34m:\u001b[0m\u001b[0;34m\u001b[0m\u001b[0;34m\u001b[0m\u001b[0m\n",
      "\u001b[0;32m~/opt/anaconda3/envs/PythonData/lib/python3.6/site-packages/sqlalchemy/util/langhelpers.py\u001b[0m in \u001b[0;36m__exit__\u001b[0;34m(self, type_, value, traceback)\u001b[0m\n\u001b[1;32m     69\u001b[0m                     \u001b[0mexc_value\u001b[0m\u001b[0;34m,\u001b[0m\u001b[0;34m\u001b[0m\u001b[0;34m\u001b[0m\u001b[0m\n\u001b[0;32m---> 70\u001b[0;31m                     \u001b[0mwith_traceback\u001b[0m\u001b[0;34m=\u001b[0m\u001b[0mexc_tb\u001b[0m\u001b[0;34m,\u001b[0m\u001b[0;34m\u001b[0m\u001b[0;34m\u001b[0m\u001b[0m\n\u001b[0m\u001b[1;32m     71\u001b[0m                 )\n",
      "\u001b[0;32m~/opt/anaconda3/envs/PythonData/lib/python3.6/site-packages/sqlalchemy/util/compat.py\u001b[0m in \u001b[0;36mraise_\u001b[0;34m(***failed resolving arguments***)\u001b[0m\n\u001b[1;32m    181\u001b[0m         \u001b[0;32mtry\u001b[0m\u001b[0;34m:\u001b[0m\u001b[0;34m\u001b[0m\u001b[0;34m\u001b[0m\u001b[0m\n\u001b[0;32m--> 182\u001b[0;31m             \u001b[0;32mraise\u001b[0m \u001b[0mexception\u001b[0m\u001b[0;34m\u001b[0m\u001b[0;34m\u001b[0m\u001b[0m\n\u001b[0m\u001b[1;32m    183\u001b[0m         \u001b[0;32mfinally\u001b[0m\u001b[0;34m:\u001b[0m\u001b[0;34m\u001b[0m\u001b[0;34m\u001b[0m\u001b[0m\n",
      "\u001b[0;32m~/opt/anaconda3/envs/PythonData/lib/python3.6/site-packages/sqlalchemy/pool/base.py\u001b[0m in \u001b[0;36m__connect\u001b[0;34m(self, first_connect_check)\u001b[0m\n\u001b[1;32m    655\u001b[0m             \u001b[0mself\u001b[0m\u001b[0;34m.\u001b[0m\u001b[0mstarttime\u001b[0m \u001b[0;34m=\u001b[0m \u001b[0mtime\u001b[0m\u001b[0;34m.\u001b[0m\u001b[0mtime\u001b[0m\u001b[0;34m(\u001b[0m\u001b[0;34m)\u001b[0m\u001b[0;34m\u001b[0m\u001b[0;34m\u001b[0m\u001b[0m\n\u001b[0;32m--> 656\u001b[0;31m             \u001b[0mconnection\u001b[0m \u001b[0;34m=\u001b[0m \u001b[0mpool\u001b[0m\u001b[0;34m.\u001b[0m\u001b[0m_invoke_creator\u001b[0m\u001b[0;34m(\u001b[0m\u001b[0mself\u001b[0m\u001b[0;34m)\u001b[0m\u001b[0;34m\u001b[0m\u001b[0;34m\u001b[0m\u001b[0m\n\u001b[0m\u001b[1;32m    657\u001b[0m             \u001b[0mpool\u001b[0m\u001b[0;34m.\u001b[0m\u001b[0mlogger\u001b[0m\u001b[0;34m.\u001b[0m\u001b[0mdebug\u001b[0m\u001b[0;34m(\u001b[0m\u001b[0;34m\"Created new connection %r\"\u001b[0m\u001b[0;34m,\u001b[0m \u001b[0mconnection\u001b[0m\u001b[0;34m)\u001b[0m\u001b[0;34m\u001b[0m\u001b[0;34m\u001b[0m\u001b[0m\n",
      "\u001b[0;32m~/opt/anaconda3/envs/PythonData/lib/python3.6/site-packages/sqlalchemy/engine/strategies.py\u001b[0m in \u001b[0;36mconnect\u001b[0;34m(connection_record)\u001b[0m\n\u001b[1;32m    113\u001b[0m                             \u001b[0;32mreturn\u001b[0m \u001b[0mconnection\u001b[0m\u001b[0;34m\u001b[0m\u001b[0;34m\u001b[0m\u001b[0m\n\u001b[0;32m--> 114\u001b[0;31m                 \u001b[0;32mreturn\u001b[0m \u001b[0mdialect\u001b[0m\u001b[0;34m.\u001b[0m\u001b[0mconnect\u001b[0m\u001b[0;34m(\u001b[0m\u001b[0;34m*\u001b[0m\u001b[0mcargs\u001b[0m\u001b[0;34m,\u001b[0m \u001b[0;34m**\u001b[0m\u001b[0mcparams\u001b[0m\u001b[0;34m)\u001b[0m\u001b[0;34m\u001b[0m\u001b[0;34m\u001b[0m\u001b[0m\n\u001b[0m\u001b[1;32m    115\u001b[0m \u001b[0;34m\u001b[0m\u001b[0m\n",
      "\u001b[0;32m~/opt/anaconda3/envs/PythonData/lib/python3.6/site-packages/sqlalchemy/engine/default.py\u001b[0m in \u001b[0;36mconnect\u001b[0;34m(self, *cargs, **cparams)\u001b[0m\n\u001b[1;32m    507\u001b[0m         \u001b[0;31m# inherits the docstring from interfaces.Dialect.connect\u001b[0m\u001b[0;34m\u001b[0m\u001b[0;34m\u001b[0m\u001b[0;34m\u001b[0m\u001b[0m\n\u001b[0;32m--> 508\u001b[0;31m         \u001b[0;32mreturn\u001b[0m \u001b[0mself\u001b[0m\u001b[0;34m.\u001b[0m\u001b[0mdbapi\u001b[0m\u001b[0;34m.\u001b[0m\u001b[0mconnect\u001b[0m\u001b[0;34m(\u001b[0m\u001b[0;34m*\u001b[0m\u001b[0mcargs\u001b[0m\u001b[0;34m,\u001b[0m \u001b[0;34m**\u001b[0m\u001b[0mcparams\u001b[0m\u001b[0;34m)\u001b[0m\u001b[0;34m\u001b[0m\u001b[0;34m\u001b[0m\u001b[0m\n\u001b[0m\u001b[1;32m    509\u001b[0m \u001b[0;34m\u001b[0m\u001b[0m\n",
      "\u001b[0;32m~/opt/anaconda3/envs/PythonData/lib/python3.6/site-packages/psycopg2/__init__.py\u001b[0m in \u001b[0;36mconnect\u001b[0;34m(dsn, connection_factory, cursor_factory, **kwargs)\u001b[0m\n\u001b[1;32m    126\u001b[0m     \u001b[0mdsn\u001b[0m \u001b[0;34m=\u001b[0m \u001b[0m_ext\u001b[0m\u001b[0;34m.\u001b[0m\u001b[0mmake_dsn\u001b[0m\u001b[0;34m(\u001b[0m\u001b[0mdsn\u001b[0m\u001b[0;34m,\u001b[0m \u001b[0;34m**\u001b[0m\u001b[0mkwargs\u001b[0m\u001b[0;34m)\u001b[0m\u001b[0;34m\u001b[0m\u001b[0;34m\u001b[0m\u001b[0m\n\u001b[0;32m--> 127\u001b[0;31m     \u001b[0mconn\u001b[0m \u001b[0;34m=\u001b[0m \u001b[0m_connect\u001b[0m\u001b[0;34m(\u001b[0m\u001b[0mdsn\u001b[0m\u001b[0;34m,\u001b[0m \u001b[0mconnection_factory\u001b[0m\u001b[0;34m=\u001b[0m\u001b[0mconnection_factory\u001b[0m\u001b[0;34m,\u001b[0m \u001b[0;34m**\u001b[0m\u001b[0mkwasync\u001b[0m\u001b[0;34m)\u001b[0m\u001b[0;34m\u001b[0m\u001b[0;34m\u001b[0m\u001b[0m\n\u001b[0m\u001b[1;32m    128\u001b[0m     \u001b[0;32mif\u001b[0m \u001b[0mcursor_factory\u001b[0m \u001b[0;32mis\u001b[0m \u001b[0;32mnot\u001b[0m \u001b[0;32mNone\u001b[0m\u001b[0;34m:\u001b[0m\u001b[0;34m\u001b[0m\u001b[0;34m\u001b[0m\u001b[0m\n",
      "\u001b[0;31mOperationalError\u001b[0m: FATAL:  database \"events_db\" does not exist\n",
      "\nThe above exception was the direct cause of the following exception:\n",
      "\u001b[0;31mOperationalError\u001b[0m                          Traceback (most recent call last)",
      "\u001b[0;32m<ipython-input-14-4b249d999389>\u001b[0m in \u001b[0;36m<module>\u001b[0;34m\u001b[0m\n\u001b[1;32m      1\u001b[0m \u001b[0;31m# Create a music_db. Add the tables into postgres database as per schema.sql\u001b[0m\u001b[0;34m\u001b[0m\u001b[0;34m\u001b[0m\u001b[0;34m\u001b[0m\u001b[0m\n\u001b[0;32m----> 2\u001b[0;31m \u001b[0mengine\u001b[0m\u001b[0;34m.\u001b[0m\u001b[0mtable_names\u001b[0m\u001b[0;34m(\u001b[0m\u001b[0;34m)\u001b[0m\u001b[0;34m\u001b[0m\u001b[0;34m\u001b[0m\u001b[0m\n\u001b[0m",
      "\u001b[0;32m~/opt/anaconda3/envs/PythonData/lib/python3.6/site-packages/sqlalchemy/engine/base.py\u001b[0m in \u001b[0;36mtable_names\u001b[0;34m(self, schema, connection)\u001b[0m\n\u001b[1;32m   2314\u001b[0m         \"\"\"\n\u001b[1;32m   2315\u001b[0m \u001b[0;34m\u001b[0m\u001b[0m\n\u001b[0;32m-> 2316\u001b[0;31m         \u001b[0;32mwith\u001b[0m \u001b[0mself\u001b[0m\u001b[0;34m.\u001b[0m\u001b[0m_optional_conn_ctx_manager\u001b[0m\u001b[0;34m(\u001b[0m\u001b[0mconnection\u001b[0m\u001b[0;34m)\u001b[0m \u001b[0;32mas\u001b[0m \u001b[0mconn\u001b[0m\u001b[0;34m:\u001b[0m\u001b[0;34m\u001b[0m\u001b[0;34m\u001b[0m\u001b[0m\n\u001b[0m\u001b[1;32m   2317\u001b[0m             \u001b[0;32mreturn\u001b[0m \u001b[0mself\u001b[0m\u001b[0;34m.\u001b[0m\u001b[0mdialect\u001b[0m\u001b[0;34m.\u001b[0m\u001b[0mget_table_names\u001b[0m\u001b[0;34m(\u001b[0m\u001b[0mconn\u001b[0m\u001b[0;34m,\u001b[0m \u001b[0mschema\u001b[0m\u001b[0;34m)\u001b[0m\u001b[0;34m\u001b[0m\u001b[0;34m\u001b[0m\u001b[0m\n\u001b[1;32m   2318\u001b[0m \u001b[0;34m\u001b[0m\u001b[0m\n",
      "\u001b[0;32m~/opt/anaconda3/envs/PythonData/lib/python3.6/contextlib.py\u001b[0m in \u001b[0;36m__enter__\u001b[0;34m(self)\u001b[0m\n\u001b[1;32m     79\u001b[0m     \u001b[0;32mdef\u001b[0m \u001b[0m__enter__\u001b[0m\u001b[0;34m(\u001b[0m\u001b[0mself\u001b[0m\u001b[0;34m)\u001b[0m\u001b[0;34m:\u001b[0m\u001b[0;34m\u001b[0m\u001b[0;34m\u001b[0m\u001b[0m\n\u001b[1;32m     80\u001b[0m         \u001b[0;32mtry\u001b[0m\u001b[0;34m:\u001b[0m\u001b[0;34m\u001b[0m\u001b[0;34m\u001b[0m\u001b[0m\n\u001b[0;32m---> 81\u001b[0;31m             \u001b[0;32mreturn\u001b[0m \u001b[0mnext\u001b[0m\u001b[0;34m(\u001b[0m\u001b[0mself\u001b[0m\u001b[0;34m.\u001b[0m\u001b[0mgen\u001b[0m\u001b[0;34m)\u001b[0m\u001b[0;34m\u001b[0m\u001b[0;34m\u001b[0m\u001b[0m\n\u001b[0m\u001b[1;32m     82\u001b[0m         \u001b[0;32mexcept\u001b[0m \u001b[0mStopIteration\u001b[0m\u001b[0;34m:\u001b[0m\u001b[0;34m\u001b[0m\u001b[0;34m\u001b[0m\u001b[0m\n\u001b[1;32m     83\u001b[0m             \u001b[0;32mraise\u001b[0m \u001b[0mRuntimeError\u001b[0m\u001b[0;34m(\u001b[0m\u001b[0;34m\"generator didn't yield\"\u001b[0m\u001b[0;34m)\u001b[0m \u001b[0;32mfrom\u001b[0m \u001b[0;32mNone\u001b[0m\u001b[0;34m\u001b[0m\u001b[0;34m\u001b[0m\u001b[0m\n",
      "\u001b[0;32m~/opt/anaconda3/envs/PythonData/lib/python3.6/site-packages/sqlalchemy/engine/base.py\u001b[0m in \u001b[0;36m_optional_conn_ctx_manager\u001b[0;34m(self, connection)\u001b[0m\n\u001b[1;32m   2084\u001b[0m     \u001b[0;32mdef\u001b[0m \u001b[0m_optional_conn_ctx_manager\u001b[0m\u001b[0;34m(\u001b[0m\u001b[0mself\u001b[0m\u001b[0;34m,\u001b[0m \u001b[0mconnection\u001b[0m\u001b[0;34m=\u001b[0m\u001b[0;32mNone\u001b[0m\u001b[0;34m)\u001b[0m\u001b[0;34m:\u001b[0m\u001b[0;34m\u001b[0m\u001b[0;34m\u001b[0m\u001b[0m\n\u001b[1;32m   2085\u001b[0m         \u001b[0;32mif\u001b[0m \u001b[0mconnection\u001b[0m \u001b[0;32mis\u001b[0m \u001b[0;32mNone\u001b[0m\u001b[0;34m:\u001b[0m\u001b[0;34m\u001b[0m\u001b[0;34m\u001b[0m\u001b[0m\n\u001b[0;32m-> 2086\u001b[0;31m             \u001b[0;32mwith\u001b[0m \u001b[0mself\u001b[0m\u001b[0;34m.\u001b[0m\u001b[0m_contextual_connect\u001b[0m\u001b[0;34m(\u001b[0m\u001b[0;34m)\u001b[0m \u001b[0;32mas\u001b[0m \u001b[0mconn\u001b[0m\u001b[0;34m:\u001b[0m\u001b[0;34m\u001b[0m\u001b[0;34m\u001b[0m\u001b[0m\n\u001b[0m\u001b[1;32m   2087\u001b[0m                 \u001b[0;32myield\u001b[0m \u001b[0mconn\u001b[0m\u001b[0;34m\u001b[0m\u001b[0;34m\u001b[0m\u001b[0m\n\u001b[1;32m   2088\u001b[0m         \u001b[0;32melse\u001b[0m\u001b[0;34m:\u001b[0m\u001b[0;34m\u001b[0m\u001b[0;34m\u001b[0m\u001b[0m\n",
      "\u001b[0;32m~/opt/anaconda3/envs/PythonData/lib/python3.6/site-packages/sqlalchemy/engine/base.py\u001b[0m in \u001b[0;36m_contextual_connect\u001b[0;34m(self, close_with_result, **kwargs)\u001b[0m\n\u001b[1;32m   2300\u001b[0m         return self._connection_cls(\n\u001b[1;32m   2301\u001b[0m             \u001b[0mself\u001b[0m\u001b[0;34m,\u001b[0m\u001b[0;34m\u001b[0m\u001b[0;34m\u001b[0m\u001b[0m\n\u001b[0;32m-> 2302\u001b[0;31m             \u001b[0mself\u001b[0m\u001b[0;34m.\u001b[0m\u001b[0m_wrap_pool_connect\u001b[0m\u001b[0;34m(\u001b[0m\u001b[0mself\u001b[0m\u001b[0;34m.\u001b[0m\u001b[0mpool\u001b[0m\u001b[0;34m.\u001b[0m\u001b[0mconnect\u001b[0m\u001b[0;34m,\u001b[0m \u001b[0;32mNone\u001b[0m\u001b[0;34m)\u001b[0m\u001b[0;34m,\u001b[0m\u001b[0;34m\u001b[0m\u001b[0;34m\u001b[0m\u001b[0m\n\u001b[0m\u001b[1;32m   2303\u001b[0m             \u001b[0mclose_with_result\u001b[0m\u001b[0;34m=\u001b[0m\u001b[0mclose_with_result\u001b[0m\u001b[0;34m,\u001b[0m\u001b[0;34m\u001b[0m\u001b[0;34m\u001b[0m\u001b[0m\n\u001b[1;32m   2304\u001b[0m             \u001b[0;34m**\u001b[0m\u001b[0mkwargs\u001b[0m\u001b[0;34m\u001b[0m\u001b[0;34m\u001b[0m\u001b[0m\n",
      "\u001b[0;32m~/opt/anaconda3/envs/PythonData/lib/python3.6/site-packages/sqlalchemy/engine/base.py\u001b[0m in \u001b[0;36m_wrap_pool_connect\u001b[0;34m(self, fn, connection)\u001b[0m\n\u001b[1;32m   2338\u001b[0m             \u001b[0;32mif\u001b[0m \u001b[0mconnection\u001b[0m \u001b[0;32mis\u001b[0m \u001b[0;32mNone\u001b[0m\u001b[0;34m:\u001b[0m\u001b[0;34m\u001b[0m\u001b[0;34m\u001b[0m\u001b[0m\n\u001b[1;32m   2339\u001b[0m                 Connection._handle_dbapi_exception_noconnection(\n\u001b[0;32m-> 2340\u001b[0;31m                     \u001b[0me\u001b[0m\u001b[0;34m,\u001b[0m \u001b[0mdialect\u001b[0m\u001b[0;34m,\u001b[0m \u001b[0mself\u001b[0m\u001b[0;34m\u001b[0m\u001b[0;34m\u001b[0m\u001b[0m\n\u001b[0m\u001b[1;32m   2341\u001b[0m                 )\n\u001b[1;32m   2342\u001b[0m             \u001b[0;32melse\u001b[0m\u001b[0;34m:\u001b[0m\u001b[0;34m\u001b[0m\u001b[0;34m\u001b[0m\u001b[0m\n",
      "\u001b[0;32m~/opt/anaconda3/envs/PythonData/lib/python3.6/site-packages/sqlalchemy/engine/base.py\u001b[0m in \u001b[0;36m_handle_dbapi_exception_noconnection\u001b[0;34m(cls, e, dialect, engine)\u001b[0m\n\u001b[1;32m   1582\u001b[0m         \u001b[0;32melif\u001b[0m \u001b[0mshould_wrap\u001b[0m\u001b[0;34m:\u001b[0m\u001b[0;34m\u001b[0m\u001b[0;34m\u001b[0m\u001b[0m\n\u001b[1;32m   1583\u001b[0m             util.raise_(\n\u001b[0;32m-> 1584\u001b[0;31m                 \u001b[0msqlalchemy_exception\u001b[0m\u001b[0;34m,\u001b[0m \u001b[0mwith_traceback\u001b[0m\u001b[0;34m=\u001b[0m\u001b[0mexc_info\u001b[0m\u001b[0;34m[\u001b[0m\u001b[0;36m2\u001b[0m\u001b[0;34m]\u001b[0m\u001b[0;34m,\u001b[0m \u001b[0mfrom_\u001b[0m\u001b[0;34m=\u001b[0m\u001b[0me\u001b[0m\u001b[0;34m\u001b[0m\u001b[0;34m\u001b[0m\u001b[0m\n\u001b[0m\u001b[1;32m   1585\u001b[0m             )\n\u001b[1;32m   1586\u001b[0m         \u001b[0;32melse\u001b[0m\u001b[0;34m:\u001b[0m\u001b[0;34m\u001b[0m\u001b[0;34m\u001b[0m\u001b[0m\n",
      "\u001b[0;32m~/opt/anaconda3/envs/PythonData/lib/python3.6/site-packages/sqlalchemy/util/compat.py\u001b[0m in \u001b[0;36mraise_\u001b[0;34m(***failed resolving arguments***)\u001b[0m\n\u001b[1;32m    180\u001b[0m \u001b[0;34m\u001b[0m\u001b[0m\n\u001b[1;32m    181\u001b[0m         \u001b[0;32mtry\u001b[0m\u001b[0;34m:\u001b[0m\u001b[0;34m\u001b[0m\u001b[0;34m\u001b[0m\u001b[0m\n\u001b[0;32m--> 182\u001b[0;31m             \u001b[0;32mraise\u001b[0m \u001b[0mexception\u001b[0m\u001b[0;34m\u001b[0m\u001b[0;34m\u001b[0m\u001b[0m\n\u001b[0m\u001b[1;32m    183\u001b[0m         \u001b[0;32mfinally\u001b[0m\u001b[0;34m:\u001b[0m\u001b[0;34m\u001b[0m\u001b[0;34m\u001b[0m\u001b[0m\n\u001b[1;32m    184\u001b[0m             \u001b[0;31m# credit to\u001b[0m\u001b[0;34m\u001b[0m\u001b[0;34m\u001b[0m\u001b[0;34m\u001b[0m\u001b[0m\n",
      "\u001b[0;32m~/opt/anaconda3/envs/PythonData/lib/python3.6/site-packages/sqlalchemy/engine/base.py\u001b[0m in \u001b[0;36m_wrap_pool_connect\u001b[0;34m(self, fn, connection)\u001b[0m\n\u001b[1;32m   2334\u001b[0m         \u001b[0mdialect\u001b[0m \u001b[0;34m=\u001b[0m \u001b[0mself\u001b[0m\u001b[0;34m.\u001b[0m\u001b[0mdialect\u001b[0m\u001b[0;34m\u001b[0m\u001b[0;34m\u001b[0m\u001b[0m\n\u001b[1;32m   2335\u001b[0m         \u001b[0;32mtry\u001b[0m\u001b[0;34m:\u001b[0m\u001b[0;34m\u001b[0m\u001b[0;34m\u001b[0m\u001b[0m\n\u001b[0;32m-> 2336\u001b[0;31m             \u001b[0;32mreturn\u001b[0m \u001b[0mfn\u001b[0m\u001b[0;34m(\u001b[0m\u001b[0;34m)\u001b[0m\u001b[0;34m\u001b[0m\u001b[0;34m\u001b[0m\u001b[0m\n\u001b[0m\u001b[1;32m   2337\u001b[0m         \u001b[0;32mexcept\u001b[0m \u001b[0mdialect\u001b[0m\u001b[0;34m.\u001b[0m\u001b[0mdbapi\u001b[0m\u001b[0;34m.\u001b[0m\u001b[0mError\u001b[0m \u001b[0;32mas\u001b[0m \u001b[0me\u001b[0m\u001b[0;34m:\u001b[0m\u001b[0;34m\u001b[0m\u001b[0;34m\u001b[0m\u001b[0m\n\u001b[1;32m   2338\u001b[0m             \u001b[0;32mif\u001b[0m \u001b[0mconnection\u001b[0m \u001b[0;32mis\u001b[0m \u001b[0;32mNone\u001b[0m\u001b[0;34m:\u001b[0m\u001b[0;34m\u001b[0m\u001b[0;34m\u001b[0m\u001b[0m\n",
      "\u001b[0;32m~/opt/anaconda3/envs/PythonData/lib/python3.6/site-packages/sqlalchemy/pool/base.py\u001b[0m in \u001b[0;36mconnect\u001b[0;34m(self)\u001b[0m\n\u001b[1;32m    362\u001b[0m         \"\"\"\n\u001b[1;32m    363\u001b[0m         \u001b[0;32mif\u001b[0m \u001b[0;32mnot\u001b[0m \u001b[0mself\u001b[0m\u001b[0;34m.\u001b[0m\u001b[0m_use_threadlocal\u001b[0m\u001b[0;34m:\u001b[0m\u001b[0;34m\u001b[0m\u001b[0;34m\u001b[0m\u001b[0m\n\u001b[0;32m--> 364\u001b[0;31m             \u001b[0;32mreturn\u001b[0m \u001b[0m_ConnectionFairy\u001b[0m\u001b[0;34m.\u001b[0m\u001b[0m_checkout\u001b[0m\u001b[0;34m(\u001b[0m\u001b[0mself\u001b[0m\u001b[0;34m)\u001b[0m\u001b[0;34m\u001b[0m\u001b[0;34m\u001b[0m\u001b[0m\n\u001b[0m\u001b[1;32m    365\u001b[0m \u001b[0;34m\u001b[0m\u001b[0m\n\u001b[1;32m    366\u001b[0m         \u001b[0;32mtry\u001b[0m\u001b[0;34m:\u001b[0m\u001b[0;34m\u001b[0m\u001b[0;34m\u001b[0m\u001b[0m\n",
      "\u001b[0;32m~/opt/anaconda3/envs/PythonData/lib/python3.6/site-packages/sqlalchemy/pool/base.py\u001b[0m in \u001b[0;36m_checkout\u001b[0;34m(cls, pool, threadconns, fairy)\u001b[0m\n\u001b[1;32m    776\u001b[0m     \u001b[0;32mdef\u001b[0m \u001b[0m_checkout\u001b[0m\u001b[0;34m(\u001b[0m\u001b[0mcls\u001b[0m\u001b[0;34m,\u001b[0m \u001b[0mpool\u001b[0m\u001b[0;34m,\u001b[0m \u001b[0mthreadconns\u001b[0m\u001b[0;34m=\u001b[0m\u001b[0;32mNone\u001b[0m\u001b[0;34m,\u001b[0m \u001b[0mfairy\u001b[0m\u001b[0;34m=\u001b[0m\u001b[0;32mNone\u001b[0m\u001b[0;34m)\u001b[0m\u001b[0;34m:\u001b[0m\u001b[0;34m\u001b[0m\u001b[0;34m\u001b[0m\u001b[0m\n\u001b[1;32m    777\u001b[0m         \u001b[0;32mif\u001b[0m \u001b[0;32mnot\u001b[0m \u001b[0mfairy\u001b[0m\u001b[0;34m:\u001b[0m\u001b[0;34m\u001b[0m\u001b[0;34m\u001b[0m\u001b[0m\n\u001b[0;32m--> 778\u001b[0;31m             \u001b[0mfairy\u001b[0m \u001b[0;34m=\u001b[0m \u001b[0m_ConnectionRecord\u001b[0m\u001b[0;34m.\u001b[0m\u001b[0mcheckout\u001b[0m\u001b[0;34m(\u001b[0m\u001b[0mpool\u001b[0m\u001b[0;34m)\u001b[0m\u001b[0;34m\u001b[0m\u001b[0;34m\u001b[0m\u001b[0m\n\u001b[0m\u001b[1;32m    779\u001b[0m \u001b[0;34m\u001b[0m\u001b[0m\n\u001b[1;32m    780\u001b[0m             \u001b[0mfairy\u001b[0m\u001b[0;34m.\u001b[0m\u001b[0m_pool\u001b[0m \u001b[0;34m=\u001b[0m \u001b[0mpool\u001b[0m\u001b[0;34m\u001b[0m\u001b[0;34m\u001b[0m\u001b[0m\n",
      "\u001b[0;32m~/opt/anaconda3/envs/PythonData/lib/python3.6/site-packages/sqlalchemy/pool/base.py\u001b[0m in \u001b[0;36mcheckout\u001b[0;34m(cls, pool)\u001b[0m\n\u001b[1;32m    493\u001b[0m     \u001b[0;34m@\u001b[0m\u001b[0mclassmethod\u001b[0m\u001b[0;34m\u001b[0m\u001b[0;34m\u001b[0m\u001b[0m\n\u001b[1;32m    494\u001b[0m     \u001b[0;32mdef\u001b[0m \u001b[0mcheckout\u001b[0m\u001b[0;34m(\u001b[0m\u001b[0mcls\u001b[0m\u001b[0;34m,\u001b[0m \u001b[0mpool\u001b[0m\u001b[0;34m)\u001b[0m\u001b[0;34m:\u001b[0m\u001b[0;34m\u001b[0m\u001b[0;34m\u001b[0m\u001b[0m\n\u001b[0;32m--> 495\u001b[0;31m         \u001b[0mrec\u001b[0m \u001b[0;34m=\u001b[0m \u001b[0mpool\u001b[0m\u001b[0;34m.\u001b[0m\u001b[0m_do_get\u001b[0m\u001b[0;34m(\u001b[0m\u001b[0;34m)\u001b[0m\u001b[0;34m\u001b[0m\u001b[0;34m\u001b[0m\u001b[0m\n\u001b[0m\u001b[1;32m    496\u001b[0m         \u001b[0;32mtry\u001b[0m\u001b[0;34m:\u001b[0m\u001b[0;34m\u001b[0m\u001b[0;34m\u001b[0m\u001b[0m\n\u001b[1;32m    497\u001b[0m             \u001b[0mdbapi_connection\u001b[0m \u001b[0;34m=\u001b[0m \u001b[0mrec\u001b[0m\u001b[0;34m.\u001b[0m\u001b[0mget_connection\u001b[0m\u001b[0;34m(\u001b[0m\u001b[0;34m)\u001b[0m\u001b[0;34m\u001b[0m\u001b[0;34m\u001b[0m\u001b[0m\n",
      "\u001b[0;32m~/opt/anaconda3/envs/PythonData/lib/python3.6/site-packages/sqlalchemy/pool/impl.py\u001b[0m in \u001b[0;36m_do_get\u001b[0;34m(self)\u001b[0m\n\u001b[1;32m    138\u001b[0m             \u001b[0;32mexcept\u001b[0m\u001b[0;34m:\u001b[0m\u001b[0;34m\u001b[0m\u001b[0;34m\u001b[0m\u001b[0m\n\u001b[1;32m    139\u001b[0m                 \u001b[0;32mwith\u001b[0m \u001b[0mutil\u001b[0m\u001b[0;34m.\u001b[0m\u001b[0msafe_reraise\u001b[0m\u001b[0;34m(\u001b[0m\u001b[0;34m)\u001b[0m\u001b[0;34m:\u001b[0m\u001b[0;34m\u001b[0m\u001b[0;34m\u001b[0m\u001b[0m\n\u001b[0;32m--> 140\u001b[0;31m                     \u001b[0mself\u001b[0m\u001b[0;34m.\u001b[0m\u001b[0m_dec_overflow\u001b[0m\u001b[0;34m(\u001b[0m\u001b[0;34m)\u001b[0m\u001b[0;34m\u001b[0m\u001b[0;34m\u001b[0m\u001b[0m\n\u001b[0m\u001b[1;32m    141\u001b[0m         \u001b[0;32melse\u001b[0m\u001b[0;34m:\u001b[0m\u001b[0;34m\u001b[0m\u001b[0;34m\u001b[0m\u001b[0m\n\u001b[1;32m    142\u001b[0m             \u001b[0;32mreturn\u001b[0m \u001b[0mself\u001b[0m\u001b[0;34m.\u001b[0m\u001b[0m_do_get\u001b[0m\u001b[0;34m(\u001b[0m\u001b[0;34m)\u001b[0m\u001b[0;34m\u001b[0m\u001b[0;34m\u001b[0m\u001b[0m\n",
      "\u001b[0;32m~/opt/anaconda3/envs/PythonData/lib/python3.6/site-packages/sqlalchemy/util/langhelpers.py\u001b[0m in \u001b[0;36m__exit__\u001b[0;34m(self, type_, value, traceback)\u001b[0m\n\u001b[1;32m     68\u001b[0m                 compat.raise_(\n\u001b[1;32m     69\u001b[0m                     \u001b[0mexc_value\u001b[0m\u001b[0;34m,\u001b[0m\u001b[0;34m\u001b[0m\u001b[0;34m\u001b[0m\u001b[0m\n\u001b[0;32m---> 70\u001b[0;31m                     \u001b[0mwith_traceback\u001b[0m\u001b[0;34m=\u001b[0m\u001b[0mexc_tb\u001b[0m\u001b[0;34m,\u001b[0m\u001b[0;34m\u001b[0m\u001b[0;34m\u001b[0m\u001b[0m\n\u001b[0m\u001b[1;32m     71\u001b[0m                 )\n\u001b[1;32m     72\u001b[0m         \u001b[0;32melse\u001b[0m\u001b[0;34m:\u001b[0m\u001b[0;34m\u001b[0m\u001b[0;34m\u001b[0m\u001b[0m\n",
      "\u001b[0;32m~/opt/anaconda3/envs/PythonData/lib/python3.6/site-packages/sqlalchemy/util/compat.py\u001b[0m in \u001b[0;36mraise_\u001b[0;34m(***failed resolving arguments***)\u001b[0m\n\u001b[1;32m    180\u001b[0m \u001b[0;34m\u001b[0m\u001b[0m\n\u001b[1;32m    181\u001b[0m         \u001b[0;32mtry\u001b[0m\u001b[0;34m:\u001b[0m\u001b[0;34m\u001b[0m\u001b[0;34m\u001b[0m\u001b[0m\n\u001b[0;32m--> 182\u001b[0;31m             \u001b[0;32mraise\u001b[0m \u001b[0mexception\u001b[0m\u001b[0;34m\u001b[0m\u001b[0;34m\u001b[0m\u001b[0m\n\u001b[0m\u001b[1;32m    183\u001b[0m         \u001b[0;32mfinally\u001b[0m\u001b[0;34m:\u001b[0m\u001b[0;34m\u001b[0m\u001b[0;34m\u001b[0m\u001b[0m\n\u001b[1;32m    184\u001b[0m             \u001b[0;31m# credit to\u001b[0m\u001b[0;34m\u001b[0m\u001b[0;34m\u001b[0m\u001b[0;34m\u001b[0m\u001b[0m\n",
      "\u001b[0;32m~/opt/anaconda3/envs/PythonData/lib/python3.6/site-packages/sqlalchemy/pool/impl.py\u001b[0m in \u001b[0;36m_do_get\u001b[0;34m(self)\u001b[0m\n\u001b[1;32m    135\u001b[0m         \u001b[0;32mif\u001b[0m \u001b[0mself\u001b[0m\u001b[0;34m.\u001b[0m\u001b[0m_inc_overflow\u001b[0m\u001b[0;34m(\u001b[0m\u001b[0;34m)\u001b[0m\u001b[0;34m:\u001b[0m\u001b[0;34m\u001b[0m\u001b[0;34m\u001b[0m\u001b[0m\n\u001b[1;32m    136\u001b[0m             \u001b[0;32mtry\u001b[0m\u001b[0;34m:\u001b[0m\u001b[0;34m\u001b[0m\u001b[0;34m\u001b[0m\u001b[0m\n\u001b[0;32m--> 137\u001b[0;31m                 \u001b[0;32mreturn\u001b[0m \u001b[0mself\u001b[0m\u001b[0;34m.\u001b[0m\u001b[0m_create_connection\u001b[0m\u001b[0;34m(\u001b[0m\u001b[0;34m)\u001b[0m\u001b[0;34m\u001b[0m\u001b[0;34m\u001b[0m\u001b[0m\n\u001b[0m\u001b[1;32m    138\u001b[0m             \u001b[0;32mexcept\u001b[0m\u001b[0;34m:\u001b[0m\u001b[0;34m\u001b[0m\u001b[0;34m\u001b[0m\u001b[0m\n\u001b[1;32m    139\u001b[0m                 \u001b[0;32mwith\u001b[0m \u001b[0mutil\u001b[0m\u001b[0;34m.\u001b[0m\u001b[0msafe_reraise\u001b[0m\u001b[0;34m(\u001b[0m\u001b[0;34m)\u001b[0m\u001b[0;34m:\u001b[0m\u001b[0;34m\u001b[0m\u001b[0;34m\u001b[0m\u001b[0m\n",
      "\u001b[0;32m~/opt/anaconda3/envs/PythonData/lib/python3.6/site-packages/sqlalchemy/pool/base.py\u001b[0m in \u001b[0;36m_create_connection\u001b[0;34m(self)\u001b[0m\n\u001b[1;32m    307\u001b[0m         \u001b[0;34m\"\"\"Called by subclasses to create a new ConnectionRecord.\"\"\"\u001b[0m\u001b[0;34m\u001b[0m\u001b[0;34m\u001b[0m\u001b[0m\n\u001b[1;32m    308\u001b[0m \u001b[0;34m\u001b[0m\u001b[0m\n\u001b[0;32m--> 309\u001b[0;31m         \u001b[0;32mreturn\u001b[0m \u001b[0m_ConnectionRecord\u001b[0m\u001b[0;34m(\u001b[0m\u001b[0mself\u001b[0m\u001b[0;34m)\u001b[0m\u001b[0;34m\u001b[0m\u001b[0;34m\u001b[0m\u001b[0m\n\u001b[0m\u001b[1;32m    310\u001b[0m \u001b[0;34m\u001b[0m\u001b[0m\n\u001b[1;32m    311\u001b[0m     \u001b[0;32mdef\u001b[0m \u001b[0m_invalidate\u001b[0m\u001b[0;34m(\u001b[0m\u001b[0mself\u001b[0m\u001b[0;34m,\u001b[0m \u001b[0mconnection\u001b[0m\u001b[0;34m,\u001b[0m \u001b[0mexception\u001b[0m\u001b[0;34m=\u001b[0m\u001b[0;32mNone\u001b[0m\u001b[0;34m,\u001b[0m \u001b[0m_checkin\u001b[0m\u001b[0;34m=\u001b[0m\u001b[0;32mTrue\u001b[0m\u001b[0;34m)\u001b[0m\u001b[0;34m:\u001b[0m\u001b[0;34m\u001b[0m\u001b[0;34m\u001b[0m\u001b[0m\n",
      "\u001b[0;32m~/opt/anaconda3/envs/PythonData/lib/python3.6/site-packages/sqlalchemy/pool/base.py\u001b[0m in \u001b[0;36m__init__\u001b[0;34m(self, pool, connect)\u001b[0m\n\u001b[1;32m    438\u001b[0m         \u001b[0mself\u001b[0m\u001b[0;34m.\u001b[0m\u001b[0m__pool\u001b[0m \u001b[0;34m=\u001b[0m \u001b[0mpool\u001b[0m\u001b[0;34m\u001b[0m\u001b[0;34m\u001b[0m\u001b[0m\n\u001b[1;32m    439\u001b[0m         \u001b[0;32mif\u001b[0m \u001b[0mconnect\u001b[0m\u001b[0;34m:\u001b[0m\u001b[0;34m\u001b[0m\u001b[0;34m\u001b[0m\u001b[0m\n\u001b[0;32m--> 440\u001b[0;31m             \u001b[0mself\u001b[0m\u001b[0;34m.\u001b[0m\u001b[0m__connect\u001b[0m\u001b[0;34m(\u001b[0m\u001b[0mfirst_connect_check\u001b[0m\u001b[0;34m=\u001b[0m\u001b[0;32mTrue\u001b[0m\u001b[0;34m)\u001b[0m\u001b[0;34m\u001b[0m\u001b[0;34m\u001b[0m\u001b[0m\n\u001b[0m\u001b[1;32m    441\u001b[0m         \u001b[0mself\u001b[0m\u001b[0;34m.\u001b[0m\u001b[0mfinalize_callback\u001b[0m \u001b[0;34m=\u001b[0m \u001b[0mdeque\u001b[0m\u001b[0;34m(\u001b[0m\u001b[0;34m)\u001b[0m\u001b[0;34m\u001b[0m\u001b[0;34m\u001b[0m\u001b[0m\n\u001b[1;32m    442\u001b[0m \u001b[0;34m\u001b[0m\u001b[0m\n",
      "\u001b[0;32m~/opt/anaconda3/envs/PythonData/lib/python3.6/site-packages/sqlalchemy/pool/base.py\u001b[0m in \u001b[0;36m__connect\u001b[0;34m(self, first_connect_check)\u001b[0m\n\u001b[1;32m    659\u001b[0m         \u001b[0;32mexcept\u001b[0m \u001b[0mException\u001b[0m \u001b[0;32mas\u001b[0m \u001b[0me\u001b[0m\u001b[0;34m:\u001b[0m\u001b[0;34m\u001b[0m\u001b[0;34m\u001b[0m\u001b[0m\n\u001b[1;32m    660\u001b[0m             \u001b[0;32mwith\u001b[0m \u001b[0mutil\u001b[0m\u001b[0;34m.\u001b[0m\u001b[0msafe_reraise\u001b[0m\u001b[0;34m(\u001b[0m\u001b[0;34m)\u001b[0m\u001b[0;34m:\u001b[0m\u001b[0;34m\u001b[0m\u001b[0;34m\u001b[0m\u001b[0m\n\u001b[0;32m--> 661\u001b[0;31m                 \u001b[0mpool\u001b[0m\u001b[0;34m.\u001b[0m\u001b[0mlogger\u001b[0m\u001b[0;34m.\u001b[0m\u001b[0mdebug\u001b[0m\u001b[0;34m(\u001b[0m\u001b[0;34m\"Error on connect(): %s\"\u001b[0m\u001b[0;34m,\u001b[0m \u001b[0me\u001b[0m\u001b[0;34m)\u001b[0m\u001b[0;34m\u001b[0m\u001b[0;34m\u001b[0m\u001b[0m\n\u001b[0m\u001b[1;32m    662\u001b[0m         \u001b[0;32melse\u001b[0m\u001b[0;34m:\u001b[0m\u001b[0;34m\u001b[0m\u001b[0;34m\u001b[0m\u001b[0m\n\u001b[1;32m    663\u001b[0m             \u001b[0;32mif\u001b[0m \u001b[0mfirst_connect_check\u001b[0m\u001b[0;34m:\u001b[0m\u001b[0;34m\u001b[0m\u001b[0;34m\u001b[0m\u001b[0m\n",
      "\u001b[0;32m~/opt/anaconda3/envs/PythonData/lib/python3.6/site-packages/sqlalchemy/util/langhelpers.py\u001b[0m in \u001b[0;36m__exit__\u001b[0;34m(self, type_, value, traceback)\u001b[0m\n\u001b[1;32m     68\u001b[0m                 compat.raise_(\n\u001b[1;32m     69\u001b[0m                     \u001b[0mexc_value\u001b[0m\u001b[0;34m,\u001b[0m\u001b[0;34m\u001b[0m\u001b[0;34m\u001b[0m\u001b[0m\n\u001b[0;32m---> 70\u001b[0;31m                     \u001b[0mwith_traceback\u001b[0m\u001b[0;34m=\u001b[0m\u001b[0mexc_tb\u001b[0m\u001b[0;34m,\u001b[0m\u001b[0;34m\u001b[0m\u001b[0;34m\u001b[0m\u001b[0m\n\u001b[0m\u001b[1;32m     71\u001b[0m                 )\n\u001b[1;32m     72\u001b[0m         \u001b[0;32melse\u001b[0m\u001b[0;34m:\u001b[0m\u001b[0;34m\u001b[0m\u001b[0;34m\u001b[0m\u001b[0m\n",
      "\u001b[0;32m~/opt/anaconda3/envs/PythonData/lib/python3.6/site-packages/sqlalchemy/util/compat.py\u001b[0m in \u001b[0;36mraise_\u001b[0;34m(***failed resolving arguments***)\u001b[0m\n\u001b[1;32m    180\u001b[0m \u001b[0;34m\u001b[0m\u001b[0m\n\u001b[1;32m    181\u001b[0m         \u001b[0;32mtry\u001b[0m\u001b[0;34m:\u001b[0m\u001b[0;34m\u001b[0m\u001b[0;34m\u001b[0m\u001b[0m\n\u001b[0;32m--> 182\u001b[0;31m             \u001b[0;32mraise\u001b[0m \u001b[0mexception\u001b[0m\u001b[0;34m\u001b[0m\u001b[0;34m\u001b[0m\u001b[0m\n\u001b[0m\u001b[1;32m    183\u001b[0m         \u001b[0;32mfinally\u001b[0m\u001b[0;34m:\u001b[0m\u001b[0;34m\u001b[0m\u001b[0;34m\u001b[0m\u001b[0m\n\u001b[1;32m    184\u001b[0m             \u001b[0;31m# credit to\u001b[0m\u001b[0;34m\u001b[0m\u001b[0;34m\u001b[0m\u001b[0;34m\u001b[0m\u001b[0m\n",
      "\u001b[0;32m~/opt/anaconda3/envs/PythonData/lib/python3.6/site-packages/sqlalchemy/pool/base.py\u001b[0m in \u001b[0;36m__connect\u001b[0;34m(self, first_connect_check)\u001b[0m\n\u001b[1;32m    654\u001b[0m         \u001b[0;32mtry\u001b[0m\u001b[0;34m:\u001b[0m\u001b[0;34m\u001b[0m\u001b[0;34m\u001b[0m\u001b[0m\n\u001b[1;32m    655\u001b[0m             \u001b[0mself\u001b[0m\u001b[0;34m.\u001b[0m\u001b[0mstarttime\u001b[0m \u001b[0;34m=\u001b[0m \u001b[0mtime\u001b[0m\u001b[0;34m.\u001b[0m\u001b[0mtime\u001b[0m\u001b[0;34m(\u001b[0m\u001b[0;34m)\u001b[0m\u001b[0;34m\u001b[0m\u001b[0;34m\u001b[0m\u001b[0m\n\u001b[0;32m--> 656\u001b[0;31m             \u001b[0mconnection\u001b[0m \u001b[0;34m=\u001b[0m \u001b[0mpool\u001b[0m\u001b[0;34m.\u001b[0m\u001b[0m_invoke_creator\u001b[0m\u001b[0;34m(\u001b[0m\u001b[0mself\u001b[0m\u001b[0;34m)\u001b[0m\u001b[0;34m\u001b[0m\u001b[0;34m\u001b[0m\u001b[0m\n\u001b[0m\u001b[1;32m    657\u001b[0m             \u001b[0mpool\u001b[0m\u001b[0;34m.\u001b[0m\u001b[0mlogger\u001b[0m\u001b[0;34m.\u001b[0m\u001b[0mdebug\u001b[0m\u001b[0;34m(\u001b[0m\u001b[0;34m\"Created new connection %r\"\u001b[0m\u001b[0;34m,\u001b[0m \u001b[0mconnection\u001b[0m\u001b[0;34m)\u001b[0m\u001b[0;34m\u001b[0m\u001b[0;34m\u001b[0m\u001b[0m\n\u001b[1;32m    658\u001b[0m             \u001b[0mself\u001b[0m\u001b[0;34m.\u001b[0m\u001b[0mconnection\u001b[0m \u001b[0;34m=\u001b[0m \u001b[0mconnection\u001b[0m\u001b[0;34m\u001b[0m\u001b[0;34m\u001b[0m\u001b[0m\n",
      "\u001b[0;32m~/opt/anaconda3/envs/PythonData/lib/python3.6/site-packages/sqlalchemy/engine/strategies.py\u001b[0m in \u001b[0;36mconnect\u001b[0;34m(connection_record)\u001b[0m\n\u001b[1;32m    112\u001b[0m                         \u001b[0;32mif\u001b[0m \u001b[0mconnection\u001b[0m \u001b[0;32mis\u001b[0m \u001b[0;32mnot\u001b[0m \u001b[0;32mNone\u001b[0m\u001b[0;34m:\u001b[0m\u001b[0;34m\u001b[0m\u001b[0;34m\u001b[0m\u001b[0m\n\u001b[1;32m    113\u001b[0m                             \u001b[0;32mreturn\u001b[0m \u001b[0mconnection\u001b[0m\u001b[0;34m\u001b[0m\u001b[0;34m\u001b[0m\u001b[0m\n\u001b[0;32m--> 114\u001b[0;31m                 \u001b[0;32mreturn\u001b[0m \u001b[0mdialect\u001b[0m\u001b[0;34m.\u001b[0m\u001b[0mconnect\u001b[0m\u001b[0;34m(\u001b[0m\u001b[0;34m*\u001b[0m\u001b[0mcargs\u001b[0m\u001b[0;34m,\u001b[0m \u001b[0;34m**\u001b[0m\u001b[0mcparams\u001b[0m\u001b[0;34m)\u001b[0m\u001b[0;34m\u001b[0m\u001b[0;34m\u001b[0m\u001b[0m\n\u001b[0m\u001b[1;32m    115\u001b[0m \u001b[0;34m\u001b[0m\u001b[0m\n\u001b[1;32m    116\u001b[0m             \u001b[0mcreator\u001b[0m \u001b[0;34m=\u001b[0m \u001b[0mpop_kwarg\u001b[0m\u001b[0;34m(\u001b[0m\u001b[0;34m\"creator\"\u001b[0m\u001b[0;34m,\u001b[0m \u001b[0mconnect\u001b[0m\u001b[0;34m)\u001b[0m\u001b[0;34m\u001b[0m\u001b[0;34m\u001b[0m\u001b[0m\n",
      "\u001b[0;32m~/opt/anaconda3/envs/PythonData/lib/python3.6/site-packages/sqlalchemy/engine/default.py\u001b[0m in \u001b[0;36mconnect\u001b[0;34m(self, *cargs, **cparams)\u001b[0m\n\u001b[1;32m    506\u001b[0m     \u001b[0;32mdef\u001b[0m \u001b[0mconnect\u001b[0m\u001b[0;34m(\u001b[0m\u001b[0mself\u001b[0m\u001b[0;34m,\u001b[0m \u001b[0;34m*\u001b[0m\u001b[0mcargs\u001b[0m\u001b[0;34m,\u001b[0m \u001b[0;34m**\u001b[0m\u001b[0mcparams\u001b[0m\u001b[0;34m)\u001b[0m\u001b[0;34m:\u001b[0m\u001b[0;34m\u001b[0m\u001b[0;34m\u001b[0m\u001b[0m\n\u001b[1;32m    507\u001b[0m         \u001b[0;31m# inherits the docstring from interfaces.Dialect.connect\u001b[0m\u001b[0;34m\u001b[0m\u001b[0;34m\u001b[0m\u001b[0;34m\u001b[0m\u001b[0m\n\u001b[0;32m--> 508\u001b[0;31m         \u001b[0;32mreturn\u001b[0m \u001b[0mself\u001b[0m\u001b[0;34m.\u001b[0m\u001b[0mdbapi\u001b[0m\u001b[0;34m.\u001b[0m\u001b[0mconnect\u001b[0m\u001b[0;34m(\u001b[0m\u001b[0;34m*\u001b[0m\u001b[0mcargs\u001b[0m\u001b[0;34m,\u001b[0m \u001b[0;34m**\u001b[0m\u001b[0mcparams\u001b[0m\u001b[0;34m)\u001b[0m\u001b[0;34m\u001b[0m\u001b[0;34m\u001b[0m\u001b[0m\n\u001b[0m\u001b[1;32m    509\u001b[0m \u001b[0;34m\u001b[0m\u001b[0m\n\u001b[1;32m    510\u001b[0m     \u001b[0;32mdef\u001b[0m \u001b[0mcreate_connect_args\u001b[0m\u001b[0;34m(\u001b[0m\u001b[0mself\u001b[0m\u001b[0;34m,\u001b[0m \u001b[0murl\u001b[0m\u001b[0;34m)\u001b[0m\u001b[0;34m:\u001b[0m\u001b[0;34m\u001b[0m\u001b[0;34m\u001b[0m\u001b[0m\n",
      "\u001b[0;32m~/opt/anaconda3/envs/PythonData/lib/python3.6/site-packages/psycopg2/__init__.py\u001b[0m in \u001b[0;36mconnect\u001b[0;34m(dsn, connection_factory, cursor_factory, **kwargs)\u001b[0m\n\u001b[1;32m    125\u001b[0m \u001b[0;34m\u001b[0m\u001b[0m\n\u001b[1;32m    126\u001b[0m     \u001b[0mdsn\u001b[0m \u001b[0;34m=\u001b[0m \u001b[0m_ext\u001b[0m\u001b[0;34m.\u001b[0m\u001b[0mmake_dsn\u001b[0m\u001b[0;34m(\u001b[0m\u001b[0mdsn\u001b[0m\u001b[0;34m,\u001b[0m \u001b[0;34m**\u001b[0m\u001b[0mkwargs\u001b[0m\u001b[0;34m)\u001b[0m\u001b[0;34m\u001b[0m\u001b[0;34m\u001b[0m\u001b[0m\n\u001b[0;32m--> 127\u001b[0;31m     \u001b[0mconn\u001b[0m \u001b[0;34m=\u001b[0m \u001b[0m_connect\u001b[0m\u001b[0;34m(\u001b[0m\u001b[0mdsn\u001b[0m\u001b[0;34m,\u001b[0m \u001b[0mconnection_factory\u001b[0m\u001b[0;34m=\u001b[0m\u001b[0mconnection_factory\u001b[0m\u001b[0;34m,\u001b[0m \u001b[0;34m**\u001b[0m\u001b[0mkwasync\u001b[0m\u001b[0;34m)\u001b[0m\u001b[0;34m\u001b[0m\u001b[0;34m\u001b[0m\u001b[0m\n\u001b[0m\u001b[1;32m    128\u001b[0m     \u001b[0;32mif\u001b[0m \u001b[0mcursor_factory\u001b[0m \u001b[0;32mis\u001b[0m \u001b[0;32mnot\u001b[0m \u001b[0;32mNone\u001b[0m\u001b[0;34m:\u001b[0m\u001b[0;34m\u001b[0m\u001b[0;34m\u001b[0m\u001b[0m\n\u001b[1;32m    129\u001b[0m         \u001b[0mconn\u001b[0m\u001b[0;34m.\u001b[0m\u001b[0mcursor_factory\u001b[0m \u001b[0;34m=\u001b[0m \u001b[0mcursor_factory\u001b[0m\u001b[0;34m\u001b[0m\u001b[0;34m\u001b[0m\u001b[0m\n",
      "\u001b[0;31mOperationalError\u001b[0m: (psycopg2.OperationalError) FATAL:  database \"events_db\" does not exist\n\n(Background on this error at: http://sqlalche.me/e/13/e3q8)"
     ]
    }
   ],
   "source": [
    "# Create a events_db. Add the tables into postgres database as per schema.sql\n",
    "engine.table_names()"
   ]
  },
  {
   "cell_type": "code",
   "execution_count": null,
   "metadata": {},
   "outputs": [],
   "source": []
  }
 ]
}