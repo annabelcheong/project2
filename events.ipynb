{
 "metadata": {
  "language_info": {
   "codemirror_mode": {
    "name": "ipython",
    "version": 3
   },
   "file_extension": ".py",
   "mimetype": "text/x-python",
   "name": "python",
   "nbconvert_exporter": "python",
   "pygments_lexer": "ipython3",
   "version": "3.8.5"
  },
  "orig_nbformat": 2,
  "kernelspec": {
   "name": "python385jvsc74a57bd0577179bf4518a988c8adfc40d9f19697837bdaff2a8a81f39001ca7a1ca5445c",
   "display_name": "Python 3.8.5 64-bit ('base': conda)"
  },
  "metadata": {
   "interpreter": {
    "hash": "577179bf4518a988c8adfc40d9f19697837bdaff2a8a81f39001ca7a1ca5445c"
   }
  }
 },
 "nbformat": 4,
 "nbformat_minor": 2,
 "cells": [
  {
   "source": [
    "# EXTRACTION\n",
    "## Data Source\n",
    "- Use Events API: https://api.predicthq.com/v1/events?\n",
    "## Methodology\n",
    "### Data Analysis - View Data\n",
    "1. Convert to json format and read json. Determine which variables are useful and required for the deliverable.\n",
    "\n",
    "FINDINGS: The API allows user to call for 50 entries/page, and up to 100 pages. i.e. Each time a call is made, there are only 50 entry results. \n",
    "### Data Analysis - Deetermine and Extract Data Required\n",
    "\n",
    "- Number of entries required: 5000. \n",
    "    1. Loop and set offset at every 50 interval (0, 50, 100, 150 etc until it reaches 4950. 5000 results max from API.)\n",
    "- Variables required: id, country, category, title, start_date, end_date, country, location\n",
    "    2. Use pandas to filter for the variables required. \n",
    "        - *location is the coordinates\n",
    "\n",
    "# TRANSFORMATION\n",
    "- Concatenate the dataframes together (from all 100 pages) and save the final dataframe to a variable.\n",
    "\n",
    "# LOAD\n",
    "- Load data into PostSQL\n",
    "\n",
    "-------------------------------"
   ],
   "cell_type": "markdown",
   "metadata": {}
  },
  {
   "source": [
    "# EXTRACTION"
   ],
   "cell_type": "markdown",
   "metadata": {}
  },
  {
   "cell_type": "code",
   "execution_count": 4,
   "metadata": {},
   "outputs": [],
   "source": [
    "# Dependencies\n",
    "import requests\n",
    "import pprint\n",
    "import json\n",
    "import requests\n",
    "import pandas as pd\n",
    "import numpy as np\n",
    "from pandas.io.json import json_normalize \n",
    "from sqlalchemy import create_engine\n",
    "\n",
    "# Credential File: py_config.py containing variable ACCESS_TOKEN = \"xxxxxxxxx\"\n",
    "import py_config"
   ]
  },
  {
   "source": [
    "## Data Analysis - View Data\n",
    "Convert to json format and read json. Determine which variables are useful and required for the deliverable."
   ],
   "cell_type": "markdown",
   "metadata": {}
  },
  {
   "cell_type": "code",
   "execution_count": 5,
   "metadata": {},
   "outputs": [],
   "source": [
    "# Connect to API url and get data\n",
    "# Variable ACCESS_TOKEN is referenced in py_config.py file and is in list .gitignore\n",
    "response = requests.get(\n",
    "    url =\"https://api.predicthq.com/v1/events?\",\n",
    "    headers={\n",
    "      \"Authorization\": f\"Bearer {py_config.ACCESS_TOKEN}\",\n",
    "      \"Accept\": \"application/json\"\n",
    "    },\n",
    "    # params={\n",
    "    #     \"limit\": 50,\n",
    "    params={\n",
    "      \"limit\":10,\n",
    "      \"country\": \"AU\",\n",
    "      \"start\": \"2021-01-01\",\n",
    "      \"end\": \"2022-12-31\"\n",
    "    # }\n",
    "    }\n",
    ")"
   ]
  },
  {
   "cell_type": "code",
   "execution_count": 6,
   "metadata": {
    "tags": [
     "outputPrepend"
    ]
   },
   "outputs": [
    {
     "output_type": "stream",
     "name": "stdout",
     "text": [
      "are a monthly market in Jamberoo incorporating craft stalls alongside fresh food, fruit, and vegetables, local crafts, flowers, and homewares as well as live entertainment. \\n\\nThe markets operate on Sundays (the LAST Sunday of the month NOT the 4th) and are located on the roundabout at Reid Park on Allowrie Street in Jamberoo. \\n\\nPlenty of parking and facilities. \\n\\nJamberoo Markets are a dog-friendly (on leash) destination. \\n\\nA variety of stalls include flowers, leatherwork, clothing, plants, organic vegetables, sweets, knitwear, orchids, bread, food, and seasonal specialties. \\n\\nDelicious multicultural food and music from start to finish.\\n\\nDestination South Coast. 10 minutes drive from Kiama and Albion Park. \\nOnly 1.5 hours south of Sydney. The perfect Sunday coast drive and escape.\\n\\nPlease check their Instagram site for weather updates and monthly cancellations before leaving home. If you have any doubts, please call either of our organizers to check the markets are on.\",\n            \"duration\": 18000,\n            \"end\": \"2021-07-25T04:00:00Z\",\n            \"entities\": [\n                {\n                    \"category\": \"community\",\n                    \"entity_id\": \"uLMcYQG2SJQg7L6DztFiCp\",\n                    \"labels\": [\n                        \"community\",\n                        \"event-group\",\n                        \"recurring\"\n                    ],\n                    \"name\": \"Jamberoo Village Markets\",\n                    \"type\": \"event-group\"\n                }\n            ],\n            \"first_seen\": \"2021-01-18T06:37:40Z\",\n            \"id\": \"8LE7bwMRxtkFTPawec\",\n            \"labels\": [\n                \"community\"\n            ],\n            \"local_rank\": 76,\n            \"location\": [\n                150.78307,\n                -34.649118\n            ],\n            \"phq_attendance\": 562,\n            \"place_hierarchies\": [\n                [\n                    \"6295630\",\n                    \"6255151\",\n                    \"2077456\",\n                    \"2155400\",\n                    \"7839738\",\n                    \"2161515\"\n                ]\n            ],\n            \"private\": false,\n            \"rank\": 45,\n            \"relevance\": 1.0,\n            \"scope\": \"locality\",\n            \"start\": \"2021-07-24T23:00:00Z\",\n            \"state\": \"active\",\n            \"timezone\": \"Australia/Sydney\",\n            \"title\": \"Jamberoo Village Markets\",\n            \"updated\": \"2021-03-24T06:54:56Z\"\n        },\n        {\n            \"aviation_rank\": null,\n            \"brand_safe\": true,\n            \"category\": \"community\",\n            \"country\": \"AU\",\n            \"description\": \"The Sydney Society of Model Engineers is the oldest society of its type in Australia and celebrated its centenary in 2006. \\n\\nThe Society caters for a wide variety of engineering hobbies - radio control model aircraft, model steam and diesel locomotives and railway, 1/4 scale speedway cars, Model sailing and powered boats, slot cars, stationary steam engines, 1/5 scale off-road cars and control line flying aircraft.\\n\\nThe Society is open to the public the last Sunday of every month from 9am to 4pm.\\n\\nThe model park caters for family and large group outings, with Canteen and barbecue facilities as well as a children's play area.\",\n            \"duration\": 27000,\n            \"end\": \"2021-07-25T06:30:00Z\",\n            \"entities\": [\n                {\n                    \"category\": \"community\",\n                    \"entity_id\": \"CF5XphQ4tqbP9S3mnSt2Lv\",\n                    \"labels\": [\n                        \"community\",\n                        \"event-group\",\n                        \"recurring\"\n                    ],\n                    \"name\": \"Monthly Public Open Day\",\n                    \"type\": \"event-group\"\n                }\n            ],\n            \"first_seen\": \"2021-02-17T06:34:31Z\",\n            \"id\": \"ALEfzYAfeQL67jPR3g\",\n            \"labels\": [\n                \"community\"\n            ],\n            \"local_rank\": 85,\n            \"location\": [\n                150.718767,\n                -33.863444\n            ],\n            \"phq_attendance\": 562,\n            \"place_hierarchies\": [\n                [\n                    \"6295630\",\n                    \"6255151\",\n                    \"2077456\",\n                    \"2155400\",\n                    \"2175228\",\n                    \"2161776\"\n                ],\n                [\n                    \"6295630\",\n                    \"6255151\",\n                    \"2077456\",\n                    \"2155400\",\n                    \"2153469\",\n                    \"8310754\"\n                ]\n            ],\n            \"private\": false,\n            \"rank\": 45,\n            \"relevance\": 1.0,\n            \"scope\": \"locality\",\n            \"start\": \"2021-07-24T23:00:00Z\",\n            \"state\": \"active\",\n            \"timezone\": \"Australia/Sydney\",\n            \"title\": \"Monthly Public Open Day\",\n            \"updated\": \"2021-02-17T06:44:26Z\"\n        },\n        {\n            \"aviation_rank\": null,\n            \"brand_safe\": true,\n            \"category\": \"community\",\n            \"country\": \"AU\",\n            \"description\": \"The Kingsbury Drive Community Market has been operating at the current location for over 10 years but has existed at other locations for more than 30 years.\\n\\nThe market can consist of up to 140 plus stalls, which are capable of meeting the bulk of most families weekly needs, plus fashion, gifts, art, pet supplies and much more.\\n\\nThe market has an outstanding selection of quality fresh produce (including organic), deli selections, cooking and baking needs, dairy, fresh meat, mussels, breads, cakes and everything in between. Known for an extensive range of plants of all types, a knife sharpener, socks, hats and belts, a Food Court and so much more, it is simply a great place to shop and meet up with friends.\\n\\nThe market has a growing organic, vegan, gluten-free and eco-friendly focus.\\n\\nThe market is closed for Christmas/New Years break end of 2021.\",\n            \"duration\": 14400,\n            \"end\": \"2021-07-25T03:00:00Z\",\n            \"entities\": [\n                {\n                    \"category\": \"community\",\n                    \"entity_id\": \"J5sJ9xUeMycDfkSQPtwGt6\",\n                    \"labels\": [\n                        \"community\",\n                        \"event-group\",\n                        \"recurring\"\n                    ],\n                    \"name\": \"Kingsbury Drive Community Market\",\n                    \"type\": \"event-group\"\n                }\n            ],\n            \"first_seen\": \"2021-03-12T06:36:14Z\",\n            \"id\": \"AQPms3nYL5nmjh68Ee\",\n            \"labels\": [\n                \"community\"\n            ],\n            \"local_rank\": 66,\n            \"location\": [\n                145.049887,\n                -37.726344\n            ],\n            \"phq_attendance\": 562,\n            \"place_hierarchies\": [\n                [\n                    \"6295630\",\n                    \"6255151\",\n                    \"2077456\",\n                    \"2145234\",\n                    \"7839805\",\n                    \"2158177\"\n                ],\n                [\n                    \"6295630\",\n                    \"6255151\",\n                    \"2077456\",\n                    \"2145234\",\n                    \"2169409\",\n                    \"2157164\"\n                ]\n            ],\n            \"private\": false,\n            \"rank\": 45,\n            \"relevance\": 1.0,\n            \"scope\": \"locality\",\n            \"start\": \"2021-07-24T23:00:00Z\",\n            \"state\": \"active\",\n            \"timezone\": \"Australia/Melbourne\",\n            \"title\": \"Kingsbury Drive Community Market\",\n            \"updated\": \"2021-03-12T06:55:34Z\"\n        },\n        {\n            \"aviation_rank\": null,\n            \"brand_safe\": true,\n            \"category\": \"expos\",\n            \"country\": \"AU\",\n            \"description\": \"The Gruffalo is coming to the Ginger Factory!\\n\\nThe Ginger Factory on the Sunshine Coast has announced that The Gruffalo is coming to the Ginger Factory this September.\\n\\u201cWe\\u2019re so excited to bring this incredible FREE augmented reality experience to the Ginger Factory,\\u201d said Tourism Manager Brenda Bailey. \\n\\u201cWe\\u2019re transforming our rainforest walk to become the home of the Gruffalo as well as the other animals, Mouse, Fox, Owl and Snake.\\u201d\\nThe Gruffalo is an augmented reality app that was designed from a popular children\\u2019s book. To enjoy this free attraction, visitors simply download the app then journey into the Ginger Factory rainforest, looking for clues along the way to bring the characters to life. There are 5 markers that activate Mouse, Fox, Owl, Snake and the Gruffalo, then using the app visitors take photos and videos with the characters.\",\n            \"duration\": 28800,\n            \"end\": \"2021-07-25T07:00:00Z\",\n            \"entities\": [\n                {\n                    \"category\": \"expos\",\n                    \"entity_id\": \"38MzNf77Kk2YUSSMJWQKAQw\",\n                    \"labels\": [\n                        \"event-group\",\n                        \"expo\",\n                        \"recurring\"\n                    ],\n                    \"name\": \"The Gruffalo Spotter\",\n                    \"type\": \"event-group\"\n                }\n            ],\n            \"first_seen\": \"2020-08-17T06:32:03Z\",\n            \"id\": \"AjYAkX5i8PsUCfjYK3\",\n            \"labels\": [\n                \"expo\"\n            ],\n            \"local_rank\": 82,\n            \"location\": [\n                152.959309,\n                -26.557275\n            ],\n            \"phq_attendance\": 562,\n            \"place_hierarchies\": [\n                [\n                    \"6295630\",\n                    \"6255151\",\n                    \"2077456\",\n                    \"2152274\",\n                    \"7839394\",\n                    \"10630449\"\n                ],\n                [\n                    \"6295630\",\n                    \"6255151\",\n                    \"2077456\",\n                    \"2152274\",\n                    \"7839394\",\n                    \"9973306\"\n                ]\n            ],\n            \"private\": false,\n            \"rank\": 45,\n            \"relevance\": 1.0,\n            \"scope\": \"locality\",\n            \"start\": \"2021-07-24T23:00:00Z\",\n            \"state\": \"active\",\n            \"timezone\": \"Australia/Brisbane\",\n            \"title\": \"The Gruffalo Spotter\",\n            \"updated\": \"2020-08-17T06:37:28Z\"\n        },\n        {\n            \"aviation_rank\": null,\n            \"brand_safe\": true,\n            \"category\": \"expos\",\n            \"country\": \"AU\",\n            \"description\": \"14 artist projects at the Art Gallery of New South Wales explore the potential of art to heal and care for fragile natural and social ecosystems. In considering our relationship to sentient Country, as both a concept and lived experience, these works engender an attentiveness in and about the world.\\n\\nThe National 2021: New Australian Art is a celebration of contemporary Australian art. The third in a series of biennial survey exhibitions, it showcases work being made across the country by artists of different generations and cultural backgrounds. Through ambitious new and commissioned projects, the 39 artists, collectives and collaboratives featured across three venues respond to the times in which they live, presenting observations that are provocative, political and poetic. The Nationa 2021 is a partnership between the Art Gallery of New South Wales (AGNSW), Carriageworks and the Museum of Contemporary Art Australia (MCA).\\n\\nThis year, it has been curated by Matt Cox and Erin Vink (AGNSW), Abigail Moncrieff (Carriageworks), and Rachel Kent (MCA). Working in close dialogue, they have developed three distinct presentations of new Australian art that together highlight many of the ideas and concerns motivating artists in Australia today.\\n\\nFor more information visit the dedicated website.\",\n            \"duration\": 28800,\n            \"end\": \"2021-07-25T07:00:00Z\",\n            \"entities\": [\n                {\n                    \"category\": \"expos\",\n                    \"entity_id\": \"wPKfn8xvSMJrkncmGpKqkp\",\n                    \"labels\": [\n                        \"event-group\",\n                        \"expo\",\n                        \"recurring\"\n                    ],\n                    \"name\": \"The National 2021 at AGNSW\",\n                    \"type\": \"event-group\"\n                }\n            ],\n            \"first_seen\": \"2021-04-23T06:40:28Z\",\n            \"id\": \"Bxp5EQkYsgQv9cD2Uy\",\n            \"labels\": [\n                \"expo\"\n            ],\n            \"local_rank\": 52,\n            \"location\": [\n                151.214894,\n                -33.871516\n            ],\n            \"phq_attendance\": 562,\n            \"place_hierarchies\": [\n                [\n                    \"6295630\",\n                    \"6255151\",\n                    \"2077456\",\n                    \"2155400\",\n                    \"6619279\",\n                    \"2147714\"\n                ]\n            ],\n            \"private\": false,\n            \"rank\": 45,\n            \"relevance\": 1.0,\n            \"scope\": \"locality\",\n            \"start\": \"2021-07-24T23:00:00Z\",\n            \"state\": \"active\",\n            \"timezone\": \"Australia/Sydney\",\n            \"title\": \"The National 2021 at AGNSW\",\n            \"updated\": \"2021-04-23T06:44:21Z\"\n        },\n        {\n            \"aviation_rank\": null,\n            \"brand_safe\": true,\n            \"category\": \"expos\",\n            \"country\": \"AU\",\n            \"description\": \"Experience one of the largest stock selling centres in New South Wales.\\nGunnedah Saleyards is located on the edge of town, just a kilometre from the town centre on the Kamilaroi highway towards Narrabri.\\n\\nCattle Stock sales are held every Tuesday, with all cattle sold live weight.\\n\\nSaleyards auctions are proceeding as usual, however non-essential personnel are asked not to attend in order to maintain safety standards.\",\n            \"duration\": 7200,\n            \"end\": \"2021-07-25T01:00:00Z\",\n            \"entities\": [\n                {\n                    \"category\": \"expos\",\n                    \"entity_id\": \"7YcCaPcvZ7ANVcuYkgvJLv\",\n                    \"labels\": [\n                        \"event-group\",\n                        \"expo\",\n                        \"recurring\"\n                    ],\n                    \"name\": \"Gunnedah Saleyards\",\n                    \"type\": \"event-group\"\n                }\n            ],\n            \"first_seen\": \"2021-04-13T06:35:04Z\",\n            \"id\": \"CAZ3ug7jKFWWK5cmKU\",\n            \"labels\": [\n                \"expo\"\n            ],\n            \"local_rank\": 73,\n            \"location\": [\n                150.224511,\n                -30.958274\n            ],\n            \"phq_attendance\": 562,\n            \"place_hierarchies\": [\n                [\n                    \"6295630\",\n                    \"6255151\",\n                    \"2077456\",\n                    \"2155400\",\n                    \"7839725\",\n                    \"2164205\"\n                ]\n            ],\n            \"private\": false,\n            \"rank\": 45,\n            \"relevance\": 1.0,\n            \"scope\": \"locality\",\n            \"start\": \"2021-07-24T23:00:00Z\",\n            \"state\": \"active\",\n            \"timezone\": \"Australia/Sydney\",\n            \"title\": \"Gunnedah Saleyards\",\n            \"updated\": \"2021-04-13T07:52:26Z\"\n        },\n        {\n            \"aviation_rank\": null,\n            \"brand_safe\": true,\n            \"category\": \"community\",\n            \"country\": \"AU\",\n            \"description\": \"Unique Boutique Markets are hosting monthly markets in the beautiful town of Marulan held on the last Sunday of each month (except December) in the carpark of the Marulan Village Centre!\\nCome along and support local small home-based businesses and find that special one-of-a-kind item for yourself or a loved one.\\n\\nIt's the perfect place to browse while you discover the talents and handmade products of our stallholders. You won't be disappointed!\\n\\nThere will be kids activities with plaster painting on the day. There will also be select food stalls where you can grab a bite to eat/drink while you bask in the relaxed atmosphere. While you are in town, walk along the main street and you will find some gorgeous shops then visit the craft shop in the local hall.\\n\\nEnjoy a fun family day out!\",\n            \"duration\": 19800,\n            \"end\": \"2021-07-25T04:30:00Z\",\n            \"entities\": [\n                {\n                    \"category\": \"community\",\n                    \"entity_id\": \"7LQRWBLCMcDEJ8LBurWfFt\",\n                    \"labels\": [\n                        \"community\",\n                        \"event-group\",\n                        \"recurring\"\n                    ],\n                    \"name\": \"Unique Boutique Markets - Marulan\",\n                    \"type\": \"event-group\"\n                }\n            ],\n            \"first_seen\": \"2021-03-26T00:00:06Z\",\n            \"id\": \"FJkceWPknEoiB4JQeY\",\n            \"labels\": [\n                \"community\"\n            ],\n            \"local_rank\": 83,\n            \"location\": [\n                150.006484,\n                -34.712317\n            ],\n            \"phq_attendance\": 562,\n            \"place_hierarchies\": [\n                [\n                    \"6295630\",\n                    \"6255151\",\n                    \"2077456\",\n                    \"2155400\",\n                    \"7839364\",\n                    \"2158574\"\n                ]\n            ],\n            \"private\": false,\n            \"rank\": 45,\n            \"relevance\": 1.0,\n            \"scope\": \"locality\",\n            \"start\": \"2021-07-24T23:00:00Z\",\n            \"state\": \"active\",\n            \"timezone\": \"Australia/Sydney\",\n            \"title\": \"Unique Boutique Markets - Marulan\",\n            \"updated\": \"2021-03-26T00:00:56Z\"\n        },\n        {\n            \"aviation_rank\": null,\n            \"brand_safe\": true,\n            \"category\": \"expos\",\n            \"country\": \"AU\",\n            \"description\": \"Discover objects of rare beauty and items of curiosity and wonder in this exhibition. Drawn from the rich and diverse Trevor Kennedy Collection, this selection of stunning artworks, ceramics, furniture and jewellery highlights Australia\\u2019s history, culture and identity.\\n\\nOpen Times: Daily: 9am-5pm\",\n            \"duration\": 28800,\n            \"end\": \"2021-07-25T07:00:00Z\",\n            \"entities\": [\n                {\n                    \"category\": \"expos\",\n                    \"entity_id\": \"aTApFCCi542T6J2Eu43jGX\",\n                    \"labels\": [\n                        \"event-group\",\n                        \"expo\",\n                        \"recurring\"\n                    ],\n                    \"name\": \"The Trevor Kennedy Collection: Highlights\",\n                    \"type\": \"event-group\"\n                },\n                {\n                    \"entity_id\": \"3B3FqxeXvKHJTL7hN4wS3UL\",\n                    \"formatted_address\": \"Lawson Crescent Acton Peninsula\\nCanberra ACT 2600\\nAustralia\",\n                    \"name\": \"National Museum of Australia\",\n                    \"type\": \"venue\"\n                }\n            ],\n            \"first_seen\": \"2021-04-20T06:41:52Z\",\n            \"id\": \"GjZgBnoAfSb8HFqsS6\",\n            \"labels\": [\n                \"expo\"\n            ],\n            \"local_rank\": 70,\n            \"location\": [\n                149.119532,\n                -35.292481\n            ],\n            \"phq_attendance\": 562,\n            \"place_hierarchies\": [\n                [\n                    \"6295630\",\n                    \"6255151\",\n                    \"2077456\",\n                    \"2177478\",\n                    \"2172517\"\n                ]\n            ],\n            \"private\": false,\n            \"rank\": 45,\n            \"relevance\": 1.0,\n            \"scope\": \"locality\",\n            \"start\": \"2021-07-24T23:00:00Z\",\n            \"state\": \"active\",\n            \"timezone\": \"Australia/Sydney\",\n            \"title\": \"The Trevor Kennedy Collection: Highlights\",\n            \"updated\": \"2021-04-20T07:04:33Z\"\n        }\n    ]\n}\n"
     ]
    }
   ],
   "source": [
    "# Convert data to json format (all data)\n",
    "# Save to variable \"data1\"\n",
    "data = response.json()\n",
    "\n",
    "# Print json (formatted) and analyse which variables to use for deliverable\n",
    "print(json.dumps(data, indent=4, sort_keys=True))"
   ]
  },
  {
   "cell_type": "code",
   "execution_count": 7,
   "metadata": {},
   "outputs": [
    {
     "output_type": "execute_result",
     "data": {
      "text/plain": [
       "{'relevance': 1.0,\n",
       " 'id': 'iv5AMr7UmVxSghaa2N',\n",
       " 'title': 'Todd Mall Markets',\n",
       " 'description': 'The Todd Mall Market is a long established outdoor market located in the heart of the iconic town of Alice Springs. It has been a popular venue for tourists and locals for over 20 years.\\n\\nTodd Mall comes alive with the Todd Mall Markets every second Sunday from March to December. There are a wide range of stalls selling crafts, Aboriginal art, clothing, jewellery, books, food and more. The Todd Mall now has free Wifi.\\n\\nOpen Times: 9am to 1pm from October to April and 9am to 2pm from May to September.',\n",
       " 'category': 'community',\n",
       " 'labels': ['community'],\n",
       " 'rank': 45,\n",
       " 'local_rank': 74,\n",
       " 'aviation_rank': None,\n",
       " 'phq_attendance': 562,\n",
       " 'entities': [{'entity_id': 'U7KwfB6QxNzv8k7uCeJLhy',\n",
       "   'name': 'Todd Mall Markets',\n",
       "   'type': 'event-group',\n",
       "   'category': 'community',\n",
       "   'labels': ['community', 'event-group', 'recurring']}],\n",
       " 'duration': 14400,\n",
       " 'start': '2021-07-24T23:30:00Z',\n",
       " 'end': '2021-07-25T03:30:00Z',\n",
       " 'updated': '2021-04-13T05:07:30Z',\n",
       " 'first_seen': '2020-12-15T06:40:28Z',\n",
       " 'timezone': 'Australia/Darwin',\n",
       " 'location': [133.882699, -23.69983],\n",
       " 'scope': 'locality',\n",
       " 'country': 'AU',\n",
       " 'place_hierarchies': [['6295630',\n",
       "   '6255151',\n",
       "   '2077456',\n",
       "   '2064513',\n",
       "   '7839681',\n",
       "   '2077895']],\n",
       " 'state': 'active',\n",
       " 'brand_safe': True,\n",
       " 'private': False}"
      ]
     },
     "metadata": {},
     "execution_count": 7
    }
   ],
   "source": [
    "data['results'][0]"
   ]
  },
  {
   "source": [
    "## Data Analysis - Determine and Extract Data Required\n",
    "- Number of entries required: 5000. \n",
    "    1. Loop and set offset at every 50 interval (0, 50, 100, 150 etc until it reaches 4950. 5000 results max from API.)\n",
    "- Variables required: id, country, category, title, start_date, end_date, country, location\n",
    "    2. Use pandas to filter for the variables required. \n",
    "        - *location is the coordinates"
   ],
   "cell_type": "markdown",
   "metadata": {}
  },
  {
   "cell_type": "code",
   "execution_count": 8,
   "metadata": {},
   "outputs": [
    {
     "output_type": "stream",
     "name": "stdout",
     "text": [
      "0\n50\n100\n150\n200\n250\n300\n350\n400\n450\n"
     ]
    }
   ],
   "source": [
    "# Test for loop \n",
    "for i in range (0,500,50):\n",
    "    print(i)"
   ]
  },
  {
   "cell_type": "code",
   "execution_count": 9,
   "metadata": {},
   "outputs": [],
   "source": [
    "# Create variable \"entries\" to store the list of dictionaries; \n",
    "# Each loop will contain a dictionary (as each pandas dataframe is a dictionaries). \n",
    "events_entries=[]\n",
    "\n",
    "# Do a 'for loop' which loops from index 0 to 5000, at muliples of 50 (as API page can only call 50 entries max each time)\n",
    "for i in range(0,1500,50):\n",
    "\n",
    "    response = requests.get(\n",
    "        url=f\"https://api.predicthq.com/v1/events?offset={i}&limit=50\",\n",
    "        headers={\n",
    "        \"Authorization\": f\"Bearer {py_config.ACCESS_TOKEN}\",\n",
    "        \"Accept\": \"application/json\"\n",
    "        },\n",
    "        params={\n",
    "            \"country\": \"AU\",\n",
    "            \"start\": \"2021-01-01\",\n",
    "            \"end\": \"2022-12-31\"\n",
    "        }\n",
    "    )\n",
    "\n",
    "    # Save response to variable \"data\" and \"data1\"\n",
    "    data = response.json()\n",
    "    # data1 = data['results']\n",
    "    # Save to variable \"events_df\" the dictionary (data> results) \n",
    "    events_df = pd.json_normalize(data, ['results'], errors='ignore')\n",
    "    # print(events_df.head(3))\n",
    "\n",
    "    def getEntitiesName(entities):\n",
    "        try:\n",
    "            return entities[0]['name']\n",
    "        except:\n",
    "            return 'no name'\n",
    "    \n",
    "    events_df['name'] = events_df.entities.apply(getEntitiesName)\n",
    "\n",
    "\n",
    "\n",
    "    def getEntitiesAddress(entities):\n",
    "        try:\n",
    "            return entities[0]['formatted_address']\n",
    "        except:\n",
    "            return 'no address'\n",
    "    events_df['formatted_address'] = events_df.entities.apply(getEntitiesAddress)\n",
    "\n",
    "\n",
    "    def getEntitiesVenue(entities):\n",
    "        try:\n",
    "            return entities[1]['name']\n",
    "        except IndexError:\n",
    "            return 'no venue'\n",
    "    events_df['venue_name'] = events_df.entities.apply(getEntitiesVenue)\n",
    "\n",
    "    # Extract out only required variables (column headings)\n",
    "    events_df = events_df[[\"id\",\"title\",\"description\",\"category\",\"start\",\"end\",\"country\",\"location\",\"rank\",\"name\",\"venue_name\",\"formatted_address\"]]\n",
    "        \n",
    "    events_entries.append(events_df)\n",
    "\n",
    "\n",
    "    # TEST\n",
    "    # print(events_entries)"
   ]
  },
  {
   "source": [
    "# TRANSFORMATION\n",
    "- Concatenate the dataframes together (from all 100 pages) and save the final dataframe to a variable."
   ],
   "cell_type": "markdown",
   "metadata": {}
  },
  {
   "cell_type": "code",
   "execution_count": 10,
   "metadata": {},
   "outputs": [
    {
     "output_type": "execute_result",
     "data": {
      "text/plain": [
       "                    id                                              title  \\\n",
       "0   iv5AMr7UmVxSghaa2N                                  Todd Mall Markets   \n",
       "1   6RzcLu26ny7ms5k9MY       Sandcastle Workshops for Children and Adults   \n",
       "2   8LE7bwMRxtkFTPawec                           Jamberoo Village Markets   \n",
       "3   ALEfzYAfeQL67jPR3g                            Monthly Public Open Day   \n",
       "4   AQPms3nYL5nmjh68Ee                   Kingsbury Drive Community Market   \n",
       "..                 ...                                                ...   \n",
       "45  GJHDtWPgUkUW8QhKyc                  G&S Engineering Wine and Food Day   \n",
       "46  KftGXBpKeYCHi9zBkq              Women of the River Country Exhibition   \n",
       "47  Knaz6KCdxuzvQrDTgv                          Kalangadoo Farmers Market   \n",
       "48  a4jJMGLfcyHUoHcjSA  Northern NSW Reserve League - Newcastle Olympi...   \n",
       "49  akVx3PgzyxRfwrWkwv                                 Art Group Longford   \n",
       "\n",
       "                                          description   category  \\\n",
       "0   The Todd Mall Market is a long established out...  community   \n",
       "1   Join Sandshapers on one of their sandcastle wo...  community   \n",
       "2   Jamberoo Village Markets will be up and runnin...  community   \n",
       "3   The Sydney Society of Model Engineers is the o...  community   \n",
       "4   The Kingsbury Drive Community Market has been ...  community   \n",
       "..                                                ...        ...   \n",
       "45  Set under the subtle warmth of the North Queen...  festivals   \n",
       "46  Follow the journey of these 19 remarkable wome...      expos   \n",
       "47  Our weekly farmer's market has great benefits ...  community   \n",
       "48                                                        sports   \n",
       "49  The Old Sunday School Art Group comes together...  community   \n",
       "\n",
       "              start_date              end_date country  \\\n",
       "0   2021-07-24T23:30:00Z  2021-07-25T03:30:00Z      AU   \n",
       "1   2021-07-24T23:00:00Z  2021-07-25T00:30:00Z      AU   \n",
       "2   2021-07-24T23:00:00Z  2021-07-25T04:00:00Z      AU   \n",
       "3   2021-07-24T23:00:00Z  2021-07-25T06:30:00Z      AU   \n",
       "4   2021-07-24T23:00:00Z  2021-07-25T03:00:00Z      AU   \n",
       "..                   ...                   ...     ...   \n",
       "45  2021-07-17T00:30:00Z  2021-07-17T07:30:00Z      AU   \n",
       "46  2021-07-17T00:30:00Z  2021-07-17T06:30:00Z      AU   \n",
       "47  2021-07-17T00:30:00Z  2021-07-17T03:30:00Z      AU   \n",
       "48  2021-07-17T00:30:00Z  2021-07-17T00:30:00Z      AU   \n",
       "49  2021-07-17T00:30:00Z  2021-07-17T04:00:00Z      AU   \n",
       "\n",
       "                      coords  rank venue_name  \\\n",
       "0    [133.882699, -23.69983]    45   no venue   \n",
       "1   [153.101805, -26.406535]     0   no venue   \n",
       "2    [150.78307, -34.649118]    45   no venue   \n",
       "3   [150.718767, -33.863444]    45   no venue   \n",
       "4   [145.049887, -37.726344]    45   no venue   \n",
       "..                       ...   ...        ...   \n",
       "45  [149.196606, -21.146868]    45   no venue   \n",
       "46  [139.316216, -34.910391]    45   no venue   \n",
       "47  [140.701655, -37.564235]    45   no venue   \n",
       "48  [151.741019, -32.933956]    70   no venue   \n",
       "49   [147.11897, -41.595126]     0   no venue   \n",
       "\n",
       "                     formatted_address  \n",
       "0                           no address  \n",
       "1                           no address  \n",
       "2                           no address  \n",
       "3                           no address  \n",
       "4                           no address  \n",
       "..                                 ...  \n",
       "45                          no address  \n",
       "46                          no address  \n",
       "47                          no address  \n",
       "48  Hamilton South NSW 2303\\nAustralia  \n",
       "49                          no address  \n",
       "\n",
       "[1500 rows x 11 columns]"
      ],
      "text/html": "<div>\n<style scoped>\n    .dataframe tbody tr th:only-of-type {\n        vertical-align: middle;\n    }\n\n    .dataframe tbody tr th {\n        vertical-align: top;\n    }\n\n    .dataframe thead th {\n        text-align: right;\n    }\n</style>\n<table border=\"1\" class=\"dataframe\">\n  <thead>\n    <tr style=\"text-align: right;\">\n      <th></th>\n      <th>id</th>\n      <th>title</th>\n      <th>description</th>\n      <th>category</th>\n      <th>start_date</th>\n      <th>end_date</th>\n      <th>country</th>\n      <th>coords</th>\n      <th>rank</th>\n      <th>venue_name</th>\n      <th>formatted_address</th>\n    </tr>\n  </thead>\n  <tbody>\n    <tr>\n      <th>0</th>\n      <td>iv5AMr7UmVxSghaa2N</td>\n      <td>Todd Mall Markets</td>\n      <td>The Todd Mall Market is a long established out...</td>\n      <td>community</td>\n      <td>2021-07-24T23:30:00Z</td>\n      <td>2021-07-25T03:30:00Z</td>\n      <td>AU</td>\n      <td>[133.882699, -23.69983]</td>\n      <td>45</td>\n      <td>no venue</td>\n      <td>no address</td>\n    </tr>\n    <tr>\n      <th>1</th>\n      <td>6RzcLu26ny7ms5k9MY</td>\n      <td>Sandcastle Workshops for Children and Adults</td>\n      <td>Join Sandshapers on one of their sandcastle wo...</td>\n      <td>community</td>\n      <td>2021-07-24T23:00:00Z</td>\n      <td>2021-07-25T00:30:00Z</td>\n      <td>AU</td>\n      <td>[153.101805, -26.406535]</td>\n      <td>0</td>\n      <td>no venue</td>\n      <td>no address</td>\n    </tr>\n    <tr>\n      <th>2</th>\n      <td>8LE7bwMRxtkFTPawec</td>\n      <td>Jamberoo Village Markets</td>\n      <td>Jamberoo Village Markets will be up and runnin...</td>\n      <td>community</td>\n      <td>2021-07-24T23:00:00Z</td>\n      <td>2021-07-25T04:00:00Z</td>\n      <td>AU</td>\n      <td>[150.78307, -34.649118]</td>\n      <td>45</td>\n      <td>no venue</td>\n      <td>no address</td>\n    </tr>\n    <tr>\n      <th>3</th>\n      <td>ALEfzYAfeQL67jPR3g</td>\n      <td>Monthly Public Open Day</td>\n      <td>The Sydney Society of Model Engineers is the o...</td>\n      <td>community</td>\n      <td>2021-07-24T23:00:00Z</td>\n      <td>2021-07-25T06:30:00Z</td>\n      <td>AU</td>\n      <td>[150.718767, -33.863444]</td>\n      <td>45</td>\n      <td>no venue</td>\n      <td>no address</td>\n    </tr>\n    <tr>\n      <th>4</th>\n      <td>AQPms3nYL5nmjh68Ee</td>\n      <td>Kingsbury Drive Community Market</td>\n      <td>The Kingsbury Drive Community Market has been ...</td>\n      <td>community</td>\n      <td>2021-07-24T23:00:00Z</td>\n      <td>2021-07-25T03:00:00Z</td>\n      <td>AU</td>\n      <td>[145.049887, -37.726344]</td>\n      <td>45</td>\n      <td>no venue</td>\n      <td>no address</td>\n    </tr>\n    <tr>\n      <th>...</th>\n      <td>...</td>\n      <td>...</td>\n      <td>...</td>\n      <td>...</td>\n      <td>...</td>\n      <td>...</td>\n      <td>...</td>\n      <td>...</td>\n      <td>...</td>\n      <td>...</td>\n      <td>...</td>\n    </tr>\n    <tr>\n      <th>45</th>\n      <td>GJHDtWPgUkUW8QhKyc</td>\n      <td>G&amp;S Engineering Wine and Food Day</td>\n      <td>Set under the subtle warmth of the North Queen...</td>\n      <td>festivals</td>\n      <td>2021-07-17T00:30:00Z</td>\n      <td>2021-07-17T07:30:00Z</td>\n      <td>AU</td>\n      <td>[149.196606, -21.146868]</td>\n      <td>45</td>\n      <td>no venue</td>\n      <td>no address</td>\n    </tr>\n    <tr>\n      <th>46</th>\n      <td>KftGXBpKeYCHi9zBkq</td>\n      <td>Women of the River Country Exhibition</td>\n      <td>Follow the journey of these 19 remarkable wome...</td>\n      <td>expos</td>\n      <td>2021-07-17T00:30:00Z</td>\n      <td>2021-07-17T06:30:00Z</td>\n      <td>AU</td>\n      <td>[139.316216, -34.910391]</td>\n      <td>45</td>\n      <td>no venue</td>\n      <td>no address</td>\n    </tr>\n    <tr>\n      <th>47</th>\n      <td>Knaz6KCdxuzvQrDTgv</td>\n      <td>Kalangadoo Farmers Market</td>\n      <td>Our weekly farmer's market has great benefits ...</td>\n      <td>community</td>\n      <td>2021-07-17T00:30:00Z</td>\n      <td>2021-07-17T03:30:00Z</td>\n      <td>AU</td>\n      <td>[140.701655, -37.564235]</td>\n      <td>45</td>\n      <td>no venue</td>\n      <td>no address</td>\n    </tr>\n    <tr>\n      <th>48</th>\n      <td>a4jJMGLfcyHUoHcjSA</td>\n      <td>Northern NSW Reserve League - Newcastle Olympi...</td>\n      <td></td>\n      <td>sports</td>\n      <td>2021-07-17T00:30:00Z</td>\n      <td>2021-07-17T00:30:00Z</td>\n      <td>AU</td>\n      <td>[151.741019, -32.933956]</td>\n      <td>70</td>\n      <td>no venue</td>\n      <td>Hamilton South NSW 2303\\nAustralia</td>\n    </tr>\n    <tr>\n      <th>49</th>\n      <td>akVx3PgzyxRfwrWkwv</td>\n      <td>Art Group Longford</td>\n      <td>The Old Sunday School Art Group comes together...</td>\n      <td>community</td>\n      <td>2021-07-17T00:30:00Z</td>\n      <td>2021-07-17T04:00:00Z</td>\n      <td>AU</td>\n      <td>[147.11897, -41.595126]</td>\n      <td>0</td>\n      <td>no venue</td>\n      <td>no address</td>\n    </tr>\n  </tbody>\n</table>\n<p>1500 rows × 11 columns</p>\n</div>"
     },
     "metadata": {},
     "execution_count": 10
    }
   ],
   "source": [
    "# Concatenate all the dictionaries within list \"events_entries\". \n",
    "# i.e. Convert list to contain the data in the 1 dictionary.\n",
    "# Save into variable \"events_entries_df\"\n",
    "events_entries_df = pd.concat(events_entries)\n",
    "\n",
    "# Rename columns\n",
    "events_entries_df = events_entries_df.rename(columns={'start': 'start_date','end':'end_date','location':'coords','name':'title2'})\n",
    "# events_entries_df\n",
    "\n",
    "# Drop column title2\n",
    "events_entries_df = events_entries_df.drop(columns={'title2'})\n",
    "events_entries_df"
   ]
  },
  {
   "cell_type": "code",
   "execution_count": 11,
   "metadata": {},
   "outputs": [
    {
     "output_type": "execute_result",
     "data": {
      "text/plain": [
       "Index(['id', 'title', 'description', 'category', 'start_date', 'end_date',\n",
       "       'country', 'coords', 'rank', 'venue_name', 'formatted_address'],\n",
       "      dtype='object')"
      ]
     },
     "metadata": {},
     "execution_count": 11
    }
   ],
   "source": [
    "events_entries_df.columns"
   ]
  },
  {
   "cell_type": "code",
   "execution_count": 12,
   "metadata": {},
   "outputs": [
    {
     "output_type": "execute_result",
     "data": {
      "text/plain": [
       "id                   object\n",
       "title                object\n",
       "description          object\n",
       "category             object\n",
       "start_date           object\n",
       "end_date             object\n",
       "country              object\n",
       "coords               object\n",
       "rank                  int64\n",
       "venue_name           object\n",
       "formatted_address    object\n",
       "dtype: object"
      ]
     },
     "metadata": {},
     "execution_count": 12
    }
   ],
   "source": [
    "# Check dtypes\n",
    "events_entries_df.dtypes"
   ]
  },
  {
   "cell_type": "code",
   "execution_count": 13,
   "metadata": {},
   "outputs": [
    {
     "output_type": "execute_result",
     "data": {
      "text/plain": [
       "community          458\n",
       "sports             401\n",
       "expos              363\n",
       "performing-arts    167\n",
       "festivals           42\n",
       "conferences         36\n",
       "concerts            29\n",
       "observances          2\n",
       "school-holidays      2\n",
       "Name: category, dtype: int64"
      ]
     },
     "metadata": {},
     "execution_count": 13
    }
   ],
   "source": [
    "# Analyse the category types and entries within each category.\n",
    "events_entries_df['category'].value_counts()"
   ]
  },
  {
   "source": [
    "# LOAD"
   ],
   "cell_type": "markdown",
   "metadata": {}
  },
  {
   "cell_type": "code",
   "execution_count": 14,
   "metadata": {},
   "outputs": [],
   "source": [
    "# Connect to local database\n",
    "# for everyone else\n",
    "rds_connection_string = \"postgres:postgres@localhost:5432/events_db\"\n",
    "engine = create_engine(f'postgresql://{rds_connection_string}')"
   ]
  },
  {
   "cell_type": "code",
   "execution_count": 15,
   "metadata": {},
   "outputs": [],
   "source": [
    "# Diane's use only\n",
    "# rds_connection_string = \"postgres:309Malanday!@localhost:5432/events_db\"\n",
    "# engine = create_engine(f'postgresql://{rds_connection_string}')"
   ]
  },
  {
   "cell_type": "code",
   "execution_count": 16,
   "metadata": {},
   "outputs": [],
   "source": [
    "# events_entries_df.to_sql(name='events_table', con=engine, if_exists='append', index=False)"
   ]
  },
  {
   "cell_type": "code",
   "execution_count": 17,
   "metadata": {},
   "outputs": [
    {
     "output_type": "execute_result",
     "data": {
      "text/plain": [
       "['events_table']"
      ]
     },
     "metadata": {},
     "execution_count": 17
    }
   ],
   "source": [
    "# Create a events_db. Add the tables into postgres database as per schema.sql\n",
    "engine.table_names()"
   ]
  },
  {
   "cell_type": "code",
   "execution_count": 18,
   "metadata": {},
   "outputs": [
    {
     "output_type": "execute_result",
     "data": {
      "text/plain": [
       "                      id                                              title  \\\n",
       "0     8MpZhBcd3DTi98XpjA     Entertainment Fridays at Exchange Hotel Gawler   \n",
       "1     u6KMRTCBHZQ2EqxXq2          Charlton Badminton Club Ladies Tournament   \n",
       "2     5DCJjv8bUXro8FjRk5                             Democracy. Are You In?   \n",
       "3     5MqdzFWEQag8zjmuzV                                     Education Show   \n",
       "4     6s3gqBBLNqXUEYBHAb  PlayUP: The Right to Have an Opinion and Be Heard   \n",
       "...                  ...                                                ...   \n",
       "1495  mDD6Pyyt2fy2NA3hGE                                      Bowen parkrun   \n",
       "1496  6goKpCode6wsHBgxg7  Making Meditation Mainstream Free Beach Medita...   \n",
       "1497  7DDBUNp6j3VhR8pnEU                   Absolute Beginners Salsa Classes   \n",
       "1498  6sfpWP6VN8duPsMCnU             Screen Coach | Acting For Screen Class   \n",
       "1499  8bN5JALnLcgr7yuVyF                  Sunday Soul Sessions - Live Music   \n",
       "\n",
       "                                            description         category  \\\n",
       "0     Fridays Live is back again - DJs playing track...  performing-arts   \n",
       "1     The Charlton Badminton Club conducts an annual...           sports   \n",
       "2     Democracy. Are You In? is a contemporary exhib...            expos   \n",
       "3                                                                  expos   \n",
       "4     PlayUP is the Museum of Australian Democracy's...            expos   \n",
       "...                                                 ...              ...   \n",
       "1495  Parkrun is a free, weekly, timed five kilometr...           sports   \n",
       "1496  Making Meditation Mainstream is a community mo...        community   \n",
       "1497  Never danced before? Not a problem! Tropical S...        community   \n",
       "1498  Want to learn a new creative skill or develop ...        community   \n",
       "1499  Come Support and Keep Live Music Venue Alive M...  performing-arts   \n",
       "\n",
       "                    start_date                  end_date country  \\\n",
       "0    2021-07-22 23:30:00+00:00 2021-07-23 14:29:00+00:00      AU   \n",
       "1    2021-07-22 23:30:00+00:00 2021-07-23 05:00:00+00:00      AU   \n",
       "2    2021-07-22 23:00:00+00:00 2021-07-23 07:00:00+00:00      AU   \n",
       "3    2021-07-22 23:00:00+00:00 2021-07-24 08:00:00+00:00      AU   \n",
       "4    2021-07-22 23:00:00+00:00 2021-07-23 07:00:00+00:00      AU   \n",
       "...                        ...                       ...     ...   \n",
       "1495 2021-07-13 21:00:00+00:00 2021-07-13 22:30:00+00:00      AU   \n",
       "1496 2021-07-13 20:30:00+00:00 2021-07-13 21:00:00+00:00      AU   \n",
       "1497 2021-07-13 20:00:00+00:00 2021-07-13 20:30:00+00:00      AU   \n",
       "1498 2021-07-13 17:30:00+00:00 2021-07-14 08:30:00+00:00      AU   \n",
       "1499 2021-07-13 17:00:00+00:00 2021-07-13 20:00:00+00:00      AU   \n",
       "\n",
       "                       coords  rank                      venue_name  \\\n",
       "0     {138.749307,-34.596536}    45                        no venue   \n",
       "1     {143.355924,-36.269452}    45                        no venue   \n",
       "2      {149.129959,-35.30196}    45  Museum of Australian Democracy   \n",
       "3     {144.953111,-37.825394}    61                        no venue   \n",
       "4     {149.129768,-35.301112}    45                        no venue   \n",
       "...                       ...   ...                             ...   \n",
       "1495  {148.252191,-19.986951}    45                        no venue   \n",
       "1496  {153.120592,-26.680521}    45                        no venue   \n",
       "1497  {151.164101,-33.887906}     0                        no venue   \n",
       "1498   {151.27134,-33.900037}     0                        no venue   \n",
       "1499   {153.40433,-27.923776}    45                        no venue   \n",
       "\n",
       "                                      formatted_address  \n",
       "0                                            no address  \n",
       "1                                            no address  \n",
       "2                                            no address  \n",
       "3     1 Convention Centre Place\\nSouth Wharf VIC 300...  \n",
       "4                                            no address  \n",
       "...                                                 ...  \n",
       "1495                                         no address  \n",
       "1496                                         no address  \n",
       "1497                                         no address  \n",
       "1498                                         no address  \n",
       "1499                                         no address  \n",
       "\n",
       "[1500 rows x 11 columns]"
      ],
      "text/html": "<div>\n<style scoped>\n    .dataframe tbody tr th:only-of-type {\n        vertical-align: middle;\n    }\n\n    .dataframe tbody tr th {\n        vertical-align: top;\n    }\n\n    .dataframe thead th {\n        text-align: right;\n    }\n</style>\n<table border=\"1\" class=\"dataframe\">\n  <thead>\n    <tr style=\"text-align: right;\">\n      <th></th>\n      <th>id</th>\n      <th>title</th>\n      <th>description</th>\n      <th>category</th>\n      <th>start_date</th>\n      <th>end_date</th>\n      <th>country</th>\n      <th>coords</th>\n      <th>rank</th>\n      <th>venue_name</th>\n      <th>formatted_address</th>\n    </tr>\n  </thead>\n  <tbody>\n    <tr>\n      <th>0</th>\n      <td>8MpZhBcd3DTi98XpjA</td>\n      <td>Entertainment Fridays at Exchange Hotel Gawler</td>\n      <td>Fridays Live is back again - DJs playing track...</td>\n      <td>performing-arts</td>\n      <td>2021-07-22 23:30:00+00:00</td>\n      <td>2021-07-23 14:29:00+00:00</td>\n      <td>AU</td>\n      <td>{138.749307,-34.596536}</td>\n      <td>45</td>\n      <td>no venue</td>\n      <td>no address</td>\n    </tr>\n    <tr>\n      <th>1</th>\n      <td>u6KMRTCBHZQ2EqxXq2</td>\n      <td>Charlton Badminton Club Ladies Tournament</td>\n      <td>The Charlton Badminton Club conducts an annual...</td>\n      <td>sports</td>\n      <td>2021-07-22 23:30:00+00:00</td>\n      <td>2021-07-23 05:00:00+00:00</td>\n      <td>AU</td>\n      <td>{143.355924,-36.269452}</td>\n      <td>45</td>\n      <td>no venue</td>\n      <td>no address</td>\n    </tr>\n    <tr>\n      <th>2</th>\n      <td>5DCJjv8bUXro8FjRk5</td>\n      <td>Democracy. Are You In?</td>\n      <td>Democracy. Are You In? is a contemporary exhib...</td>\n      <td>expos</td>\n      <td>2021-07-22 23:00:00+00:00</td>\n      <td>2021-07-23 07:00:00+00:00</td>\n      <td>AU</td>\n      <td>{149.129959,-35.30196}</td>\n      <td>45</td>\n      <td>Museum of Australian Democracy</td>\n      <td>no address</td>\n    </tr>\n    <tr>\n      <th>3</th>\n      <td>5MqdzFWEQag8zjmuzV</td>\n      <td>Education Show</td>\n      <td></td>\n      <td>expos</td>\n      <td>2021-07-22 23:00:00+00:00</td>\n      <td>2021-07-24 08:00:00+00:00</td>\n      <td>AU</td>\n      <td>{144.953111,-37.825394}</td>\n      <td>61</td>\n      <td>no venue</td>\n      <td>1 Convention Centre Place\\nSouth Wharf VIC 300...</td>\n    </tr>\n    <tr>\n      <th>4</th>\n      <td>6s3gqBBLNqXUEYBHAb</td>\n      <td>PlayUP: The Right to Have an Opinion and Be Heard</td>\n      <td>PlayUP is the Museum of Australian Democracy's...</td>\n      <td>expos</td>\n      <td>2021-07-22 23:00:00+00:00</td>\n      <td>2021-07-23 07:00:00+00:00</td>\n      <td>AU</td>\n      <td>{149.129768,-35.301112}</td>\n      <td>45</td>\n      <td>no venue</td>\n      <td>no address</td>\n    </tr>\n    <tr>\n      <th>...</th>\n      <td>...</td>\n      <td>...</td>\n      <td>...</td>\n      <td>...</td>\n      <td>...</td>\n      <td>...</td>\n      <td>...</td>\n      <td>...</td>\n      <td>...</td>\n      <td>...</td>\n      <td>...</td>\n    </tr>\n    <tr>\n      <th>1495</th>\n      <td>mDD6Pyyt2fy2NA3hGE</td>\n      <td>Bowen parkrun</td>\n      <td>Parkrun is a free, weekly, timed five kilometr...</td>\n      <td>sports</td>\n      <td>2021-07-13 21:00:00+00:00</td>\n      <td>2021-07-13 22:30:00+00:00</td>\n      <td>AU</td>\n      <td>{148.252191,-19.986951}</td>\n      <td>45</td>\n      <td>no venue</td>\n      <td>no address</td>\n    </tr>\n    <tr>\n      <th>1496</th>\n      <td>6goKpCode6wsHBgxg7</td>\n      <td>Making Meditation Mainstream Free Beach Medita...</td>\n      <td>Making Meditation Mainstream is a community mo...</td>\n      <td>community</td>\n      <td>2021-07-13 20:30:00+00:00</td>\n      <td>2021-07-13 21:00:00+00:00</td>\n      <td>AU</td>\n      <td>{153.120592,-26.680521}</td>\n      <td>45</td>\n      <td>no venue</td>\n      <td>no address</td>\n    </tr>\n    <tr>\n      <th>1497</th>\n      <td>7DDBUNp6j3VhR8pnEU</td>\n      <td>Absolute Beginners Salsa Classes</td>\n      <td>Never danced before? Not a problem! Tropical S...</td>\n      <td>community</td>\n      <td>2021-07-13 20:00:00+00:00</td>\n      <td>2021-07-13 20:30:00+00:00</td>\n      <td>AU</td>\n      <td>{151.164101,-33.887906}</td>\n      <td>0</td>\n      <td>no venue</td>\n      <td>no address</td>\n    </tr>\n    <tr>\n      <th>1498</th>\n      <td>6sfpWP6VN8duPsMCnU</td>\n      <td>Screen Coach | Acting For Screen Class</td>\n      <td>Want to learn a new creative skill or develop ...</td>\n      <td>community</td>\n      <td>2021-07-13 17:30:00+00:00</td>\n      <td>2021-07-14 08:30:00+00:00</td>\n      <td>AU</td>\n      <td>{151.27134,-33.900037}</td>\n      <td>0</td>\n      <td>no venue</td>\n      <td>no address</td>\n    </tr>\n    <tr>\n      <th>1499</th>\n      <td>8bN5JALnLcgr7yuVyF</td>\n      <td>Sunday Soul Sessions - Live Music</td>\n      <td>Come Support and Keep Live Music Venue Alive M...</td>\n      <td>performing-arts</td>\n      <td>2021-07-13 17:00:00+00:00</td>\n      <td>2021-07-13 20:00:00+00:00</td>\n      <td>AU</td>\n      <td>{153.40433,-27.923776}</td>\n      <td>45</td>\n      <td>no venue</td>\n      <td>no address</td>\n    </tr>\n  </tbody>\n</table>\n<p>1500 rows × 11 columns</p>\n</div>"
     },
     "metadata": {},
     "execution_count": 18
    }
   ],
   "source": [
    "events_info = pd.read_sql_table('events_table', engine) \n",
    "events_info"
   ]
  },
  {
   "cell_type": "code",
   "execution_count": 20,
   "metadata": {},
   "outputs": [
    {
     "output_type": "execute_result",
     "data": {
      "text/plain": [
       "0       {138.749307,-34.596536}\n",
       "1       {143.355924,-36.269452}\n",
       "2        {149.129959,-35.30196}\n",
       "3       {144.953111,-37.825394}\n",
       "4       {149.129768,-35.301112}\n",
       "                 ...           \n",
       "1495    {148.252191,-19.986951}\n",
       "1496    {153.120592,-26.680521}\n",
       "1497    {151.164101,-33.887906}\n",
       "1498     {151.27134,-33.900037}\n",
       "1499     {153.40433,-27.923776}\n",
       "Name: coords, Length: 1500, dtype: object"
      ]
     },
     "metadata": {},
     "execution_count": 20
    }
   ],
   "source": [
    "events_info['coords']"
   ]
  },
  {
   "cell_type": "code",
   "execution_count": 23,
   "metadata": {},
   "outputs": [],
   "source": [
    "# Removing '{' and '}' from 'coords' column\n",
    "events_info['coords'] = events_info.coords.str.lstrip('{')\n",
    "events_info['coords'] = events_info.coords.str.rstrip('}')"
   ]
  },
  {
   "cell_type": "code",
   "execution_count": 24,
   "metadata": {},
   "outputs": [
    {
     "output_type": "execute_result",
     "data": {
      "text/plain": [
       "0       138.749307,-34.596536\n",
       "1       143.355924,-36.269452\n",
       "2        149.129959,-35.30196\n",
       "3       144.953111,-37.825394\n",
       "4       149.129768,-35.301112\n",
       "                ...          \n",
       "1495    148.252191,-19.986951\n",
       "1496    153.120592,-26.680521\n",
       "1497    151.164101,-33.887906\n",
       "1498     151.27134,-33.900037\n",
       "1499     153.40433,-27.923776\n",
       "Name: coords, Length: 1500, dtype: object"
      ]
     },
     "metadata": {},
     "execution_count": 24
    }
   ],
   "source": [
    "events_info['coords']"
   ]
  },
  {
   "cell_type": "code",
   "execution_count": 25,
   "metadata": {},
   "outputs": [
    {
     "output_type": "execute_result",
     "data": {
      "text/plain": [
       "                      id                                              title  \\\n",
       "0     8MpZhBcd3DTi98XpjA     Entertainment Fridays at Exchange Hotel Gawler   \n",
       "1     u6KMRTCBHZQ2EqxXq2          Charlton Badminton Club Ladies Tournament   \n",
       "2     5DCJjv8bUXro8FjRk5                             Democracy. Are You In?   \n",
       "3     5MqdzFWEQag8zjmuzV                                     Education Show   \n",
       "4     6s3gqBBLNqXUEYBHAb  PlayUP: The Right to Have an Opinion and Be Heard   \n",
       "...                  ...                                                ...   \n",
       "1495  mDD6Pyyt2fy2NA3hGE                                      Bowen parkrun   \n",
       "1496  6goKpCode6wsHBgxg7  Making Meditation Mainstream Free Beach Medita...   \n",
       "1497  7DDBUNp6j3VhR8pnEU                   Absolute Beginners Salsa Classes   \n",
       "1498  6sfpWP6VN8duPsMCnU             Screen Coach | Acting For Screen Class   \n",
       "1499  8bN5JALnLcgr7yuVyF                  Sunday Soul Sessions - Live Music   \n",
       "\n",
       "                                            description         category  \\\n",
       "0     Fridays Live is back again - DJs playing track...  performing-arts   \n",
       "1     The Charlton Badminton Club conducts an annual...           sports   \n",
       "2     Democracy. Are You In? is a contemporary exhib...            expos   \n",
       "3                                                                  expos   \n",
       "4     PlayUP is the Museum of Australian Democracy's...            expos   \n",
       "...                                                 ...              ...   \n",
       "1495  Parkrun is a free, weekly, timed five kilometr...           sports   \n",
       "1496  Making Meditation Mainstream is a community mo...        community   \n",
       "1497  Never danced before? Not a problem! Tropical S...        community   \n",
       "1498  Want to learn a new creative skill or develop ...        community   \n",
       "1499  Come Support and Keep Live Music Venue Alive M...  performing-arts   \n",
       "\n",
       "                    start_date                  end_date country  \\\n",
       "0    2021-07-22 23:30:00+00:00 2021-07-23 14:29:00+00:00      AU   \n",
       "1    2021-07-22 23:30:00+00:00 2021-07-23 05:00:00+00:00      AU   \n",
       "2    2021-07-22 23:00:00+00:00 2021-07-23 07:00:00+00:00      AU   \n",
       "3    2021-07-22 23:00:00+00:00 2021-07-24 08:00:00+00:00      AU   \n",
       "4    2021-07-22 23:00:00+00:00 2021-07-23 07:00:00+00:00      AU   \n",
       "...                        ...                       ...     ...   \n",
       "1495 2021-07-13 21:00:00+00:00 2021-07-13 22:30:00+00:00      AU   \n",
       "1496 2021-07-13 20:30:00+00:00 2021-07-13 21:00:00+00:00      AU   \n",
       "1497 2021-07-13 20:00:00+00:00 2021-07-13 20:30:00+00:00      AU   \n",
       "1498 2021-07-13 17:30:00+00:00 2021-07-14 08:30:00+00:00      AU   \n",
       "1499 2021-07-13 17:00:00+00:00 2021-07-13 20:00:00+00:00      AU   \n",
       "\n",
       "                     coords  rank                      venue_name  \\\n",
       "0     138.749307,-34.596536    45                        no venue   \n",
       "1     143.355924,-36.269452    45                        no venue   \n",
       "2      149.129959,-35.30196    45  Museum of Australian Democracy   \n",
       "3     144.953111,-37.825394    61                        no venue   \n",
       "4     149.129768,-35.301112    45                        no venue   \n",
       "...                     ...   ...                             ...   \n",
       "1495  148.252191,-19.986951    45                        no venue   \n",
       "1496  153.120592,-26.680521    45                        no venue   \n",
       "1497  151.164101,-33.887906     0                        no venue   \n",
       "1498   151.27134,-33.900037     0                        no venue   \n",
       "1499   153.40433,-27.923776    45                        no venue   \n",
       "\n",
       "                                      formatted_address  \n",
       "0                                            no address  \n",
       "1                                            no address  \n",
       "2                                            no address  \n",
       "3     1 Convention Centre Place\\nSouth Wharf VIC 300...  \n",
       "4                                            no address  \n",
       "...                                                 ...  \n",
       "1495                                         no address  \n",
       "1496                                         no address  \n",
       "1497                                         no address  \n",
       "1498                                         no address  \n",
       "1499                                         no address  \n",
       "\n",
       "[1500 rows x 11 columns]"
      ],
      "text/html": "<div>\n<style scoped>\n    .dataframe tbody tr th:only-of-type {\n        vertical-align: middle;\n    }\n\n    .dataframe tbody tr th {\n        vertical-align: top;\n    }\n\n    .dataframe thead th {\n        text-align: right;\n    }\n</style>\n<table border=\"1\" class=\"dataframe\">\n  <thead>\n    <tr style=\"text-align: right;\">\n      <th></th>\n      <th>id</th>\n      <th>title</th>\n      <th>description</th>\n      <th>category</th>\n      <th>start_date</th>\n      <th>end_date</th>\n      <th>country</th>\n      <th>coords</th>\n      <th>rank</th>\n      <th>venue_name</th>\n      <th>formatted_address</th>\n    </tr>\n  </thead>\n  <tbody>\n    <tr>\n      <th>0</th>\n      <td>8MpZhBcd3DTi98XpjA</td>\n      <td>Entertainment Fridays at Exchange Hotel Gawler</td>\n      <td>Fridays Live is back again - DJs playing track...</td>\n      <td>performing-arts</td>\n      <td>2021-07-22 23:30:00+00:00</td>\n      <td>2021-07-23 14:29:00+00:00</td>\n      <td>AU</td>\n      <td>138.749307,-34.596536</td>\n      <td>45</td>\n      <td>no venue</td>\n      <td>no address</td>\n    </tr>\n    <tr>\n      <th>1</th>\n      <td>u6KMRTCBHZQ2EqxXq2</td>\n      <td>Charlton Badminton Club Ladies Tournament</td>\n      <td>The Charlton Badminton Club conducts an annual...</td>\n      <td>sports</td>\n      <td>2021-07-22 23:30:00+00:00</td>\n      <td>2021-07-23 05:00:00+00:00</td>\n      <td>AU</td>\n      <td>143.355924,-36.269452</td>\n      <td>45</td>\n      <td>no venue</td>\n      <td>no address</td>\n    </tr>\n    <tr>\n      <th>2</th>\n      <td>5DCJjv8bUXro8FjRk5</td>\n      <td>Democracy. Are You In?</td>\n      <td>Democracy. Are You In? is a contemporary exhib...</td>\n      <td>expos</td>\n      <td>2021-07-22 23:00:00+00:00</td>\n      <td>2021-07-23 07:00:00+00:00</td>\n      <td>AU</td>\n      <td>149.129959,-35.30196</td>\n      <td>45</td>\n      <td>Museum of Australian Democracy</td>\n      <td>no address</td>\n    </tr>\n    <tr>\n      <th>3</th>\n      <td>5MqdzFWEQag8zjmuzV</td>\n      <td>Education Show</td>\n      <td></td>\n      <td>expos</td>\n      <td>2021-07-22 23:00:00+00:00</td>\n      <td>2021-07-24 08:00:00+00:00</td>\n      <td>AU</td>\n      <td>144.953111,-37.825394</td>\n      <td>61</td>\n      <td>no venue</td>\n      <td>1 Convention Centre Place\\nSouth Wharf VIC 300...</td>\n    </tr>\n    <tr>\n      <th>4</th>\n      <td>6s3gqBBLNqXUEYBHAb</td>\n      <td>PlayUP: The Right to Have an Opinion and Be Heard</td>\n      <td>PlayUP is the Museum of Australian Democracy's...</td>\n      <td>expos</td>\n      <td>2021-07-22 23:00:00+00:00</td>\n      <td>2021-07-23 07:00:00+00:00</td>\n      <td>AU</td>\n      <td>149.129768,-35.301112</td>\n      <td>45</td>\n      <td>no venue</td>\n      <td>no address</td>\n    </tr>\n    <tr>\n      <th>...</th>\n      <td>...</td>\n      <td>...</td>\n      <td>...</td>\n      <td>...</td>\n      <td>...</td>\n      <td>...</td>\n      <td>...</td>\n      <td>...</td>\n      <td>...</td>\n      <td>...</td>\n      <td>...</td>\n    </tr>\n    <tr>\n      <th>1495</th>\n      <td>mDD6Pyyt2fy2NA3hGE</td>\n      <td>Bowen parkrun</td>\n      <td>Parkrun is a free, weekly, timed five kilometr...</td>\n      <td>sports</td>\n      <td>2021-07-13 21:00:00+00:00</td>\n      <td>2021-07-13 22:30:00+00:00</td>\n      <td>AU</td>\n      <td>148.252191,-19.986951</td>\n      <td>45</td>\n      <td>no venue</td>\n      <td>no address</td>\n    </tr>\n    <tr>\n      <th>1496</th>\n      <td>6goKpCode6wsHBgxg7</td>\n      <td>Making Meditation Mainstream Free Beach Medita...</td>\n      <td>Making Meditation Mainstream is a community mo...</td>\n      <td>community</td>\n      <td>2021-07-13 20:30:00+00:00</td>\n      <td>2021-07-13 21:00:00+00:00</td>\n      <td>AU</td>\n      <td>153.120592,-26.680521</td>\n      <td>45</td>\n      <td>no venue</td>\n      <td>no address</td>\n    </tr>\n    <tr>\n      <th>1497</th>\n      <td>7DDBUNp6j3VhR8pnEU</td>\n      <td>Absolute Beginners Salsa Classes</td>\n      <td>Never danced before? Not a problem! Tropical S...</td>\n      <td>community</td>\n      <td>2021-07-13 20:00:00+00:00</td>\n      <td>2021-07-13 20:30:00+00:00</td>\n      <td>AU</td>\n      <td>151.164101,-33.887906</td>\n      <td>0</td>\n      <td>no venue</td>\n      <td>no address</td>\n    </tr>\n    <tr>\n      <th>1498</th>\n      <td>6sfpWP6VN8duPsMCnU</td>\n      <td>Screen Coach | Acting For Screen Class</td>\n      <td>Want to learn a new creative skill or develop ...</td>\n      <td>community</td>\n      <td>2021-07-13 17:30:00+00:00</td>\n      <td>2021-07-14 08:30:00+00:00</td>\n      <td>AU</td>\n      <td>151.27134,-33.900037</td>\n      <td>0</td>\n      <td>no venue</td>\n      <td>no address</td>\n    </tr>\n    <tr>\n      <th>1499</th>\n      <td>8bN5JALnLcgr7yuVyF</td>\n      <td>Sunday Soul Sessions - Live Music</td>\n      <td>Come Support and Keep Live Music Venue Alive M...</td>\n      <td>performing-arts</td>\n      <td>2021-07-13 17:00:00+00:00</td>\n      <td>2021-07-13 20:00:00+00:00</td>\n      <td>AU</td>\n      <td>153.40433,-27.923776</td>\n      <td>45</td>\n      <td>no venue</td>\n      <td>no address</td>\n    </tr>\n  </tbody>\n</table>\n<p>1500 rows × 11 columns</p>\n</div>"
     },
     "metadata": {},
     "execution_count": 25
    }
   ],
   "source": [
    "# Final check\n",
    "events_info"
   ]
  },
  {
   "cell_type": "code",
   "execution_count": null,
   "metadata": {},
   "outputs": [],
   "source": []
  }
 ]
}