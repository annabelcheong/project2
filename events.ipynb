{
 "metadata": {
  "language_info": {
   "codemirror_mode": {
    "name": "ipython",
    "version": 3
   },
   "file_extension": ".py",
   "mimetype": "text/x-python",
   "name": "python",
   "nbconvert_exporter": "python",
   "pygments_lexer": "ipython3",
   "version": "3.8.5"
  },
  "orig_nbformat": 2,
  "kernelspec": {
   "name": "python385jvsc74a57bd0577179bf4518a988c8adfc40d9f19697837bdaff2a8a81f39001ca7a1ca5445c",
   "display_name": "Python 3.8.5 64-bit ('anaconda3': virtualenv)"
  },
  "metadata": {
   "interpreter": {
    "hash": "577179bf4518a988c8adfc40d9f19697837bdaff2a8a81f39001ca7a1ca5445c"
   }
  }
 },
 "nbformat": 4,
 "nbformat_minor": 2,
 "cells": [
  {
   "source": [
    "# EXTRACTION\n",
    "## Data Source\n",
    "- Use Events API: https://api.predicthq.com/v1/events?\n",
    "## Methodology\n",
    "### Data Analysis - View Data\n",
    "1. Convert to json format and read json. Determine which variables are useful and required for the deliverable.\n",
    "\n",
    "FINDINGS: The API allows user to call for 50 entries/page, and up to 100 pages. i.e. Each time a call is made, there are only 50 entry results. \n",
    "### Data Analysis - Deetermine and Extract Data Required\n",
    "\n",
    "- Number of entries required: 5000. \n",
    "    1. Loop and set offset at every 50 interval (0, 50, 100, 150 etc until it reaches 4950. 5000 results max from API.)\n",
    "- Variables required: id, country, category, title, start_date, end_date, country, location\n",
    "    2. Use pandas to filter for the variables required. \n",
    "        - *location is the coordinates\n",
    "\n",
    "# TRANSFORMATION\n",
    "- Concatonate the dataframes together (from all 100 pages) and save the final dataframe to a variable.\n",
    "\n",
    "# LOAD\n",
    "- Load data into PostSQL\n",
    "\n",
    "-------------------------------"
   ],
   "cell_type": "markdown",
   "metadata": {}
  },
  {
   "source": [
    "# EXTRACTION"
   ],
   "cell_type": "markdown",
   "metadata": {}
  },
  {
   "cell_type": "code",
   "execution_count": 52,
   "metadata": {},
   "outputs": [],
   "source": [
    "# Dependencies\n",
    "import requests\n",
    "import pprint\n",
    "import json\n",
    "import requests\n",
    "import pandas as pd\n",
    "import numpy as np\n",
    "from pandas.io.json import json_normalize \n",
    "from sqlalchemy import create_engine\n",
    "\n",
    "# Credential File: py_config.py containing variable ACCESS_TOKEN = \"xxxxxxxxx\"\n",
    "import py_config"
   ]
  },
  {
   "source": [
    "## Data Analysis - View Data\n",
    "Convert to json format and read json. Determine which variables are useful and required for the deliverable."
   ],
   "cell_type": "markdown",
   "metadata": {}
  },
  {
   "cell_type": "code",
   "execution_count": 2,
   "metadata": {},
   "outputs": [],
   "source": [
    "# Connect to API url and get data\n",
    "# Variable ACCESS_TOKEN is referenced in py_config.py file and is in list .gitignore\n",
    "response = requests.get(\n",
    "    url =\"https://api.predicthq.com/v1/events?\",\n",
    "    headers={\n",
    "      \"Authorization\": f\"Bearer {py_config.ACCESS_TOKEN}\",\n",
    "      \"Accept\": \"application/json\"\n",
    "    },\n",
    "    # params={\n",
    "    #     \"limit\": 50,\n",
    "    params={\n",
    "      \"limit\":10,\n",
    "      \"country\": \"AU\",\n",
    "      \"start\": \"2021-01-01\",\n",
    "      \"end\": \"2022-12-31\"\n",
    "    # }\n",
    "    }\n",
    ")"
   ]
  },
  {
   "cell_type": "code",
   "execution_count": 4,
   "metadata": {
    "tags": [
     "outputPrepend"
    ]
   },
   "outputs": [
    {
     "output_type": "stream",
     "name": "stdout",
     "text": [
      " ],\n            \"local_rank\": 80,\n            \"location\": [\n                143.355924,\n                -36.269452\n            ],\n            \"phq_attendance\": 562,\n            \"place_hierarchies\": [\n                [\n                    \"6295630\",\n                    \"6255151\",\n                    \"2077456\",\n                    \"2145234\",\n                    \"7839534\",\n                    \"2171731\"\n                ]\n            ],\n            \"private\": false,\n            \"rank\": 45,\n            \"relevance\": 1.0,\n            \"scope\": \"locality\",\n            \"start\": \"2021-07-22T23:30:00Z\",\n            \"state\": \"active\",\n            \"timezone\": \"Australia/Melbourne\",\n            \"title\": \"Charlton Badminton Club Ladies Tournament\",\n            \"updated\": \"2020-08-11T06:36:24Z\"\n        },\n        {\n            \"aviation_rank\": null,\n            \"brand_safe\": true,\n            \"category\": \"expos\",\n            \"country\": \"AU\",\n            \"description\": \"Democracy. Are You In? is a contemporary exhibition that aims to encourage visitors to recognise that our freedoms and our way of life are built on the foundation of democracy.\\n\\nThe exhibition at the Museum of Australian Democracy explores powerful stories of democracy in action through a series of photographs, objects and audiovisual displays.\\n\\nMoments from Australia\\u2019s democratic journey are presented including the 1967 referendum. \\n\\nBe inspired to understand the power of your voice in shaping the future of our nation.\\n\\nOpen Times: Daily: 9am-5pm\",\n            \"duration\": 28800,\n            \"end\": \"2021-07-23T07:00:00Z\",\n            \"entities\": [\n                {\n                    \"category\": \"expos\",\n                    \"entity_id\": \"y96zLzEAiVCrivmEXTk9V\",\n                    \"labels\": [\n                        \"event-group\",\n                        \"expo\",\n                        \"recurring\"\n                    ],\n                    \"name\": \"Democracy. Are You In?\",\n                    \"type\": \"event-group\"\n                },\n                {\n                    \"entity_id\": \"nSfpQNnykcDGsU9U6CJqk8\",\n                    \"formatted_address\": \"Old Parliament House\\n18 King George Ter\\nParkes Australia Capital Territory 2600\\nAustralia\",\n                    \"name\": \"Museum of Australian Democracy\",\n                    \"type\": \"venue\"\n                }\n            ],\n            \"first_seen\": \"2021-03-23T06:01:56Z\",\n            \"id\": \"5DCJjv8bUXro8FjRk5\",\n            \"labels\": [\n                \"expo\"\n            ],\n            \"local_rank\": 71,\n            \"location\": [\n                149.129959,\n                -35.30196\n            ],\n            \"phq_attendance\": 562,\n            \"place_hierarchies\": [\n                [\n                    \"6295630\",\n                    \"6255151\",\n                    \"2077456\",\n                    \"2177478\",\n                    \"2172517\"\n                ]\n            ],\n            \"private\": false,\n            \"rank\": 45,\n            \"relevance\": 1.0,\n            \"scope\": \"locality\",\n            \"start\": \"2021-07-22T23:00:00Z\",\n            \"state\": \"active\",\n            \"timezone\": \"Australia/Sydney\",\n            \"title\": \"Democracy. Are You In?\",\n            \"updated\": \"2021-03-23T06:46:36Z\"\n        },\n        {\n            \"aviation_rank\": 0,\n            \"brand_safe\": true,\n            \"category\": \"expos\",\n            \"country\": \"AU\",\n            \"description\": \"\",\n            \"duration\": 118800,\n            \"end\": \"2021-07-24T08:00:00Z\",\n            \"entities\": [\n                {\n                    \"entity_id\": \"WR9TXKaNdwZDyWxRuVCcuR\",\n                    \"formatted_address\": \"1 Convention Centre Place\\nSouth Wharf VIC 3006\\nAustralia\",\n                    \"name\": \"Melbourne Convention and Exhibition Centre\",\n                    \"type\": \"venue\"\n                }\n            ],\n            \"first_seen\": \"2019-12-17T09:09:52Z\",\n            \"id\": \"5MqdzFWEQag8zjmuzV\",\n            \"labels\": [\n                \"education\",\n                \"expo\"\n            ],\n            \"local_rank\": 73,\n            \"location\": [\n                144.953111,\n                -37.825394\n            ],\n            \"phq_attendance\": 3750,\n            \"place_hierarchies\": [\n                [\n                    \"6295630\",\n                    \"6255151\",\n                    \"2077456\",\n                    \"2145234\",\n                    \"7839805\",\n                    \"2158177\"\n                ]\n            ],\n            \"private\": false,\n            \"rank\": 61,\n            \"relevance\": 1.0,\n            \"scope\": \"locality\",\n            \"start\": \"2021-07-22T23:00:00Z\",\n            \"state\": \"active\",\n            \"timezone\": \"Australia/Melbourne\",\n            \"title\": \"Education Show\",\n            \"updated\": \"2021-04-23T02:38:11Z\"\n        },\n        {\n            \"aviation_rank\": null,\n            \"brand_safe\": true,\n            \"category\": \"expos\",\n            \"country\": \"AU\",\n            \"description\": \"PlayUP is the Museum of Australian Democracy's imaginative family space with activities to educate, excite and challenge young minds.\\n\\nWith listening pods and a roleplay Kindness Caf\\u00e9, a fuzzy felt wall and facilitated craft activities, PlayUP has a range of exciting and immersive experiences that flip the traditional idea of museums completely on its head.\\n\\nBookings are essential.\\n\\nOpen Times: Daily: 9am-5pm\",\n            \"duration\": 28800,\n            \"end\": \"2021-07-23T07:00:00Z\",\n            \"entities\": [\n                {\n                    \"category\": \"expos\",\n                    \"entity_id\": \"itALLWYpzvpGMAqC8ASvsT\",\n                    \"labels\": [\n                        \"event-group\",\n                        \"expo\",\n                        \"recurring\"\n                    ],\n                    \"name\": \"PlayUP: The Right to Have an Opinion and Be Heard\",\n                    \"type\": \"event-group\"\n                }\n            ],\n            \"first_seen\": \"2021-03-23T06:02:09Z\",\n            \"id\": \"6s3gqBBLNqXUEYBHAb\",\n            \"labels\": [\n                \"expo\"\n            ],\n            \"local_rank\": 70,\n            \"location\": [\n                149.129768,\n                -35.301112\n            ],\n            \"phq_attendance\": 562,\n            \"place_hierarchies\": [\n                [\n                    \"6295630\",\n                    \"6255151\",\n                    \"2077456\",\n                    \"2177478\",\n                    \"2172517\"\n                ]\n            ],\n            \"private\": false,\n            \"rank\": 45,\n            \"relevance\": 1.0,\n            \"scope\": \"locality\",\n            \"start\": \"2021-07-22T23:00:00Z\",\n            \"state\": \"active\",\n            \"timezone\": \"Australia/Sydney\",\n            \"title\": \"PlayUP: The Right to Have an Opinion and Be Heard\",\n            \"updated\": \"2021-03-23T08:03:07Z\"\n        },\n        {\n            \"aviation_rank\": null,\n            \"brand_safe\": true,\n            \"category\": \"expos\",\n            \"country\": \"AU\",\n            \"description\": \"Truth, Power and a Free press is a compelling exhibition that explores the relationship between trusted media sources and a healthy democracy.\\n\\nIconic objects from Australia\\u2019s media history are brought together for the first time including the printing press used by the Father of Federation, Sir Henry Parkes, Peter Greste\\u2019s letters smuggled to his family from an Egyptian prison and the protective body armour vest worn by war photographer, Neil Davis.\\n\\nThrough an immersive seven-foot-tall audiovisual display, some of Australia\\u2019s most respected journalists share their personal stories for the battle for truth. They explain why they do the work they do, the courage it takes and the responsibility they feel for reporting fairly and fearlessly.\\n\\nBe inspired to understand how to navigate filter bubbles, fakes news and the importance of a free press.\\n\\nFind out if you can tell the truth.\\n\\nOpen Times: Daily: 9am-5pm\",\n            \"duration\": 28800,\n            \"end\": \"2021-07-23T07:00:00Z\",\n            \"entities\": [\n                {\n                    \"category\": \"expos\",\n                    \"entity_id\": \"DwUuivF6i5yYfcSn9hRKBg\",\n                    \"labels\": [\n                        \"event-group\",\n                        \"expo\",\n                        \"recurring\"\n                    ],\n                    \"name\": \"Truth, Power and a Free Press\",\n                    \"type\": \"event-group\"\n                },\n                {\n                    \"entity_id\": \"nSfpQNnykcDGsU9U6CJqk8\",\n                    \"formatted_address\": \"Old Parliament House\\n18 King George Ter\\nParkes Australia Capital Territory 2600\\nAustralia\",\n                    \"name\": \"Museum of Australian Democracy\",\n                    \"type\": \"venue\"\n                }\n            ],\n            \"first_seen\": \"2020-07-02T06:35:22Z\",\n            \"id\": \"B6XxMKyvKuCBJyiqnk\",\n            \"labels\": [\n                \"expo\"\n            ],\n            \"local_rank\": 71,\n            \"location\": [\n                149.129959,\n                -35.30196\n            ],\n            \"phq_attendance\": 562,\n            \"place_hierarchies\": [\n                [\n                    \"6295630\",\n                    \"6255151\",\n                    \"2077456\",\n                    \"2177478\",\n                    \"2172517\"\n                ]\n            ],\n            \"private\": false,\n            \"rank\": 45,\n            \"relevance\": 1.0,\n            \"scope\": \"locality\",\n            \"start\": \"2021-07-22T23:00:00Z\",\n            \"state\": \"active\",\n            \"timezone\": \"Australia/Sydney\",\n            \"title\": \"Truth, Power and a Free Press\",\n            \"updated\": \"2021-03-31T06:03:56Z\"\n        },\n        {\n            \"aviation_rank\": null,\n            \"brand_safe\": true,\n            \"category\": \"expos\",\n            \"country\": \"AU\",\n            \"description\": \"The Gruffalo is coming to the Ginger Factory!\\n\\nThe Ginger Factory on the Sunshine Coast has announced that The Gruffalo is coming to the Ginger Factory this September.\\n\\u201cWe\\u2019re so excited to bring this incredible FREE augmented reality experience to the Ginger Factory,\\u201d said Tourism Manager Brenda Bailey. \\n\\u201cWe\\u2019re transforming our rainforest walk to become the home of the Gruffalo as well as the other animals, Mouse, Fox, Owl and Snake.\\u201d\\nThe Gruffalo is an augmented reality app that was designed from a popular children\\u2019s book. To enjoy this free attraction, visitors simply download the app then journey into the Ginger Factory rainforest, looking for clues along the way to bring the characters to life. There are 5 markers that activate Mouse, Fox, Owl, Snake and the Gruffalo, then using the app visitors take photos and videos with the characters.\",\n            \"duration\": 28800,\n            \"end\": \"2021-07-23T07:00:00Z\",\n            \"entities\": [\n                {\n                    \"category\": \"expos\",\n                    \"entity_id\": \"38MzNf77Kk2YUSSMJWQKAQw\",\n                    \"labels\": [\n                        \"event-group\",\n                        \"expo\",\n                        \"recurring\"\n                    ],\n                    \"name\": \"The Gruffalo Spotter\",\n                    \"type\": \"event-group\"\n                }\n            ],\n            \"first_seen\": \"2020-08-17T06:32:04Z\",\n            \"id\": \"CvBym4VEisVuyD6S67\",\n            \"labels\": [\n                \"expo\"\n            ],\n            \"local_rank\": 82,\n            \"location\": [\n                152.959309,\n                -26.557275\n            ],\n            \"phq_attendance\": 562,\n            \"place_hierarchies\": [\n                [\n                    \"6295630\",\n                    \"6255151\",\n                    \"2077456\",\n                    \"2152274\",\n                    \"7839394\",\n                    \"10630449\"\n                ],\n                [\n                    \"6295630\",\n                    \"6255151\",\n                    \"2077456\",\n                    \"2152274\",\n                    \"7839394\",\n                    \"9973306\"\n                ]\n            ],\n            \"private\": false,\n            \"rank\": 45,\n            \"relevance\": 1.0,\n            \"scope\": \"locality\",\n            \"start\": \"2021-07-22T23:00:00Z\",\n            \"state\": \"active\",\n            \"timezone\": \"Australia/Brisbane\",\n            \"title\": \"The Gruffalo Spotter\",\n            \"updated\": \"2020-08-17T06:35:53Z\"\n        },\n        {\n            \"aviation_rank\": null,\n            \"brand_safe\": true,\n            \"category\": \"sports\",\n            \"country\": \"AU\",\n            \"description\": \"Have a great school day out on the rocky trails! \\n\\nThe Gold Coast Schools MTB Comp is part of the Rocky Trail Academy junior development programme, a popular schools competition with timed flow trail sections. These events not only engage youth in healthy social and active recreation, but also bring a heightened appreciation of nature, the environment, self-reliance, self-learning, and independence. It\\u2019s all about having fun and building confidence. \\n\\nGeared towards secondary school students, the race tracks have been designed to test a variety of skills, including endurance, speed and technical ability. Riders may ride each timed section up to 5 times on each track, with their fastest time counting. Students may participate as part of a school group, but may also sign up individually. \\n\\nAll participants must have a guardian (teacher, parent) present at the event. All professional race photos are included in the entry and it is all about encouraging students of all abilities to come and race with their mates in a safe and social environment. They will have an exciting racing experience and enjoy a fun event atmosphere together \\u2013 great memories to share!\",\n            \"duration\": 18000,\n            \"end\": \"2021-07-23T04:00:00Z\",\n            \"entities\": [],\n            \"first_seen\": \"2021-02-03T06:36:39Z\",\n            \"id\": \"DAbGZ5ZQ9vkwUmibTG\",\n            \"labels\": [\n                \"sport\"\n            ],\n            \"local_rank\": 72,\n            \"location\": [\n                153.33545,\n                -27.9853\n            ],\n            \"phq_attendance\": 562,\n            \"place_hierarchies\": [\n                [\n                    \"6295630\",\n                    \"6255151\",\n                    \"2077456\",\n                    \"2152274\",\n                    \"7839581\",\n                    \"2167249\"\n                ]\n            ],\n            \"private\": false,\n            \"rank\": 45,\n            \"relevance\": 1.0,\n            \"scope\": \"locality\",\n            \"start\": \"2021-07-22T23:00:00Z\",\n            \"state\": \"active\",\n            \"timezone\": \"Australia/Brisbane\",\n            \"title\": \"Rocky Trail Academy | Gold Coast School MTB Comp | Nerang\",\n            \"updated\": \"2021-04-08T07:01:51Z\"\n        },\n        {\n            \"aviation_rank\": null,\n            \"brand_safe\": true,\n            \"category\": \"expos\",\n            \"country\": \"AU\",\n            \"description\": \"14 artist projects at the Art Gallery of New South Wales explore the potential of art to heal and care for fragile natural and social ecosystems. In considering our relationship to sentient Country, as both a concept and lived experience, these works engender an attentiveness in and about the world.\\n\\nThe National 2021: New Australian Art is a celebration of contemporary Australian art. The third in a series of biennial survey exhibitions, it showcases work being made across the country by artists of different generations and cultural backgrounds. Through ambitious new and commissioned projects, the 39 artists, collectives and collaboratives featured across three venues respond to the times in which they live, presenting observations that are provocative, political and poetic. The Nationa 2021 is a partnership between the Art Gallery of New South Wales (AGNSW), Carriageworks and the Museum of Contemporary Art Australia (MCA).\\n\\nThis year, it has been curated by Matt Cox and Erin Vink (AGNSW), Abigail Moncrieff (Carriageworks), and Rachel Kent (MCA). Working in close dialogue, they have developed three distinct presentations of new Australian art that together highlight many of the ideas and concerns motivating artists in Australia today.\\n\\nFor more information visit the dedicated website.\",\n            \"duration\": 28800,\n            \"end\": \"2021-07-23T07:00:00Z\",\n            \"entities\": [\n                {\n                    \"category\": \"expos\",\n                    \"entity_id\": \"wPKfn8xvSMJrkncmGpKqkp\",\n                    \"labels\": [\n                        \"event-group\",\n                        \"expo\",\n                        \"recurring\"\n                    ],\n                    \"name\": \"The National 2021 at AGNSW\",\n                    \"type\": \"event-group\"\n                }\n            ],\n            \"first_seen\": \"2021-04-23T06:40:28Z\",\n            \"id\": \"Dv3ftJRDP7aaucGY83\",\n            \"labels\": [\n                \"expo\"\n            ],\n            \"local_rank\": 52,\n            \"location\": [\n                151.214894,\n                -33.871516\n            ],\n            \"phq_attendance\": 562,\n            \"place_hierarchies\": [\n                [\n                    \"6295630\",\n                    \"6255151\",\n                    \"2077456\",\n                    \"2155400\",\n                    \"6619279\",\n                    \"2147714\"\n                ]\n            ],\n            \"private\": false,\n            \"rank\": 45,\n            \"relevance\": 1.0,\n            \"scope\": \"locality\",\n            \"start\": \"2021-07-22T23:00:00Z\",\n            \"state\": \"active\",\n            \"timezone\": \"Australia/Sydney\",\n            \"title\": \"The National 2021 at AGNSW\",\n            \"updated\": \"2021-04-23T06:43:49Z\"\n        },\n        {\n            \"aviation_rank\": null,\n            \"brand_safe\": true,\n            \"category\": \"community\",\n            \"country\": \"AU\",\n            \"description\": \"Flower crown workshop is on trend. If you are searching for a unique and creative activity for your special day, it is the perfect choice. Making a flower crown is fun and easy. They love doing parties! Celebrate your hen party/bridal shower, baby shower, birthdays in style by making stunning floral headpieces with your dearest friends and bridesmaids at the flower crown workshop. \\n\\nTheir flower experts ensure you have loads of fun and walk out of the door wearing gorgeous fresh blooms in your hair. Add a flower power to your big weekend. Flower Lane and Co offers customised and private floral crown workshops to suit your needs. Meet your flower expert and create gorgeous floral crowns with them.  They\\u2019d love to chat with you and host a special party for you.\",\n            \"duration\": 32400,\n            \"end\": \"2021-07-23T08:00:00Z\",\n            \"entities\": [],\n            \"first_seen\": \"2020-01-13T06:47:19Z\",\n            \"id\": \"EWgMBSDu26HKCYC62B\",\n            \"labels\": [\n                \"community\"\n            ],\n            \"local_rank\": 0,\n            \"location\": [\n                151.199999,\n                -33.91609\n            ],\n            \"phq_attendance\": null,\n            \"place_hierarchies\": [\n                [\n                    \"6295630\",\n                    \"6255151\",\n                    \"2077456\",\n                    \"2155400\",\n                    \"6619279\",\n                    \"2150625\"\n                ],\n                [\n                    \"6295630\",\n                    \"6255151\",\n                    \"2077456\",\n                    \"2155400\",\n                    \"6619279\",\n                    \"2147714\"\n                ]\n            ],\n            \"private\": false,\n            \"rank\": 0,\n            \"relevance\": 1.0,\n            \"scope\": \"locality\",\n            \"start\": \"2021-07-22T23:00:00Z\",\n            \"state\": \"active\",\n            \"timezone\": \"Australia/Sydney\",\n            \"title\": \"Private Flower Crown Workshop\",\n            \"updated\": \"2020-07-02T22:04:12Z\"\n        }\n    ]\n}\n"
     ]
    }
   ],
   "source": [
    "# Convert data to json format (all data)\n",
    "# Save to variable \"data1\"\n",
    "data = response.json()\n",
    "\n",
    "# Print json (formatted) and analyse which variables to use for deliverable\n",
    "print(json.dumps(data, indent=4, sort_keys=True))"
   ]
  },
  {
   "cell_type": "code",
   "execution_count": 18,
   "metadata": {},
   "outputs": [
    {
     "output_type": "execute_result",
     "data": {
      "text/plain": [
       "{'relevance': 1.0,\n",
       " 'id': '8MpZhBcd3DTi98XpjA',\n",
       " 'title': 'Entertainment Fridays at Exchange Hotel Gawler',\n",
       " 'description': \"Fridays Live is back again - DJs playing tracks on the deck every week! It's always an awesome night!\\n\\nGet keen for groovy tunes all night!\",\n",
       " 'category': 'performing-arts',\n",
       " 'labels': ['performing-arts'],\n",
       " 'rank': 45,\n",
       " 'local_rank': 73,\n",
       " 'aviation_rank': None,\n",
       " 'phq_attendance': 562,\n",
       " 'entities': [{'entity_id': 'QkQyzzMwBEnGQd5axxn7Tj',\n",
       "   'name': 'Entertainment Fridays at Exchange Hotel Gawler',\n",
       "   'type': 'event-group',\n",
       "   'category': 'performing-arts',\n",
       "   'labels': ['event-group', 'performing-arts', 'recurring']}],\n",
       " 'duration': 53940,\n",
       " 'start': '2021-07-22T23:30:00Z',\n",
       " 'end': '2021-07-23T14:29:00Z',\n",
       " 'updated': '2021-01-18T06:42:51Z',\n",
       " 'first_seen': '2021-01-18T06:35:24Z',\n",
       " 'timezone': 'Australia/Adelaide',\n",
       " 'location': [138.749307, -34.596536],\n",
       " 'scope': 'locality',\n",
       " 'country': 'AU',\n",
       " 'place_hierarchies': [['6295630',\n",
       "   '6255151',\n",
       "   '2077456',\n",
       "   '2061327',\n",
       "   '7839422',\n",
       "   '2071059'],\n",
       "  ['6295630', '6255151', '2077456', '2061327', '7839644', '2078025']],\n",
       " 'state': 'active',\n",
       " 'brand_safe': True,\n",
       " 'private': False}"
      ]
     },
     "metadata": {},
     "execution_count": 18
    }
   ],
   "source": [
    "data['results'][0]"
   ]
  },
  {
   "source": [
    "## Data Analysis - Determine and Extract Data Required\n",
    "- Number of entries required: 5000. \n",
    "    1. Loop and set offset at every 50 interval (0, 50, 100, 150 etc until it reaches 4950. 5000 results max from API.)\n",
    "- Variables required: id, country, category, title, start_date, end_date, country, location\n",
    "    2. Use pandas to filter for the variables required. \n",
    "        - *location is the coordinates"
   ],
   "cell_type": "markdown",
   "metadata": {}
  },
  {
   "cell_type": "code",
   "execution_count": 43,
   "metadata": {},
   "outputs": [
    {
     "output_type": "stream",
     "name": "stdout",
     "text": [
      "0\n50\n100\n150\n200\n250\n300\n350\n400\n450\n"
     ]
    }
   ],
   "source": [
    "# Test for loop \n",
    "for i in range (0,500,50):\n",
    "    print(i)"
   ]
  },
  {
   "cell_type": "code",
   "execution_count": 44,
   "metadata": {},
   "outputs": [],
   "source": [
    "# Create variable \"entries\" to store the list of dictionaries; \n",
    "# Each loop will contain a dictionary (as each pandas dataframe is a dictionaries). \n",
    "events_entries=[]\n",
    "\n",
    "# Do a 'for loop' which loops from index 0 to 5000, at muliples of 50 (as API page can only call 50 entries max each time)\n",
    "for i in range(0,1500,50):\n",
    "\n",
    "    response = requests.get(\n",
    "        url=f\"https://api.predicthq.com/v1/events?offset={i}&limit=50\",\n",
    "        headers={\n",
    "        \"Authorization\": f\"Bearer {py_config.ACCESS_TOKEN}\",\n",
    "        \"Accept\": \"application/json\"\n",
    "        },\n",
    "        params={\n",
    "            \"country\": \"AU\",\n",
    "            \"start\": \"2021-01-01\",\n",
    "            \"end\": \"2022-12-31\"\n",
    "        }\n",
    "    )\n",
    "\n",
    "    # Save response to variable \"data\" and \"data1\"\n",
    "    data = response.json()\n",
    "    # data1 = data['results']\n",
    "    # Save to variable \"events_df\" the dictionary (data> results) \n",
    "    events_df = pd.json_normalize(data, ['results'], errors='ignore')\n",
    "    # print(events_df.head(3))\n",
    "\n",
    "    def getEntitiesName(entities):\n",
    "        try:\n",
    "            return entities[0]['name']\n",
    "        except:\n",
    "            return 'no name'\n",
    "    \n",
    "    events_df['name'] = events_df.entities.apply(getEntitiesName)\n",
    "\n",
    "\n",
    "\n",
    "    def getEntitiesAddress(entities):\n",
    "        try:\n",
    "            return entities[0]['formatted_address']\n",
    "        except:\n",
    "            return 'no address'\n",
    "    events_df['formatted_address'] = events_df.entities.apply(getEntitiesAddress)\n",
    "\n",
    "\n",
    "    def getEntitiesVenue(entities):\n",
    "        try:\n",
    "            return entities[1]['name']\n",
    "        except IndexError:\n",
    "            return 'no venue'\n",
    "    events_df['venue_name'] = events_df.entities.apply(getEntitiesVenue)\n",
    "\n",
    "    # Extract out only required variables (column headings)\n",
    "    events_df = events_df[[\"id\",\"title\",\"description\",\"category\",\"start\",\"end\",\"country\",\"location\",\"rank\",\"name\",\"venue_name\",\"formatted_address\"]]\n",
    "        \n",
    "    events_entries.append(events_df)\n",
    "\n",
    "\n",
    "    # TEST\n",
    "    # print(events_entries)"
   ]
  },
  {
   "source": [
    "# TRANSFORMATION\n",
    "- Concatenate the dataframes together (from all 100 pages) and save the final dataframe to a variable."
   ],
   "cell_type": "markdown",
   "metadata": {}
  },
  {
   "cell_type": "code",
   "execution_count": 46,
   "metadata": {},
   "outputs": [
    {
     "output_type": "execute_result",
     "data": {
      "text/plain": [
       "                    id                                              title  \\\n",
       "0   8MpZhBcd3DTi98XpjA     Entertainment Fridays at Exchange Hotel Gawler   \n",
       "1   u6KMRTCBHZQ2EqxXq2          Charlton Badminton Club Ladies Tournament   \n",
       "2   5DCJjv8bUXro8FjRk5                             Democracy. Are You In?   \n",
       "3   5MqdzFWEQag8zjmuzV                                     Education Show   \n",
       "4   6s3gqBBLNqXUEYBHAb  PlayUP: The Right to Have an Opinion and Be Heard   \n",
       "..                 ...                                                ...   \n",
       "45  mDD6Pyyt2fy2NA3hGE                                      Bowen parkrun   \n",
       "46  6goKpCode6wsHBgxg7  Making Meditation Mainstream Free Beach Medita...   \n",
       "47  7DDBUNp6j3VhR8pnEU                   Absolute Beginners Salsa Classes   \n",
       "48  6sfpWP6VN8duPsMCnU             Screen Coach | Acting For Screen Class   \n",
       "49  8bN5JALnLcgr7yuVyF                  Sunday Soul Sessions - Live Music   \n",
       "\n",
       "                                          description         category  \\\n",
       "0   Fridays Live is back again - DJs playing track...  performing-arts   \n",
       "1   The Charlton Badminton Club conducts an annual...           sports   \n",
       "2   Democracy. Are You In? is a contemporary exhib...            expos   \n",
       "3                                                                expos   \n",
       "4   PlayUP is the Museum of Australian Democracy's...            expos   \n",
       "..                                                ...              ...   \n",
       "45  Parkrun is a free, weekly, timed five kilometr...           sports   \n",
       "46  Making Meditation Mainstream is a community mo...        community   \n",
       "47  Never danced before? Not a problem! Tropical S...        community   \n",
       "48  Want to learn a new creative skill or develop ...        community   \n",
       "49  Come Support and Keep Live Music Venue Alive M...  performing-arts   \n",
       "\n",
       "              start_date              end_date country  \\\n",
       "0   2021-07-22T23:30:00Z  2021-07-23T14:29:00Z      AU   \n",
       "1   2021-07-22T23:30:00Z  2021-07-23T05:00:00Z      AU   \n",
       "2   2021-07-22T23:00:00Z  2021-07-23T07:00:00Z      AU   \n",
       "3   2021-07-22T23:00:00Z  2021-07-24T08:00:00Z      AU   \n",
       "4   2021-07-22T23:00:00Z  2021-07-23T07:00:00Z      AU   \n",
       "..                   ...                   ...     ...   \n",
       "45  2021-07-13T21:00:00Z  2021-07-13T22:30:00Z      AU   \n",
       "46  2021-07-13T20:30:00Z  2021-07-13T21:00:00Z      AU   \n",
       "47  2021-07-13T20:00:00Z  2021-07-13T20:30:00Z      AU   \n",
       "48  2021-07-13T17:30:00Z  2021-07-14T08:30:00Z      AU   \n",
       "49  2021-07-13T17:00:00Z  2021-07-13T20:00:00Z      AU   \n",
       "\n",
       "                      coords  rank                      venue_name  \\\n",
       "0   [138.749307, -34.596536]    45                        no venue   \n",
       "1   [143.355924, -36.269452]    45                        no venue   \n",
       "2    [149.129959, -35.30196]    45  Museum of Australian Democracy   \n",
       "3   [144.953111, -37.825394]    61                        no venue   \n",
       "4   [149.129768, -35.301112]    45                        no venue   \n",
       "..                       ...   ...                             ...   \n",
       "45  [148.252191, -19.986951]    45                        no venue   \n",
       "46  [153.120592, -26.680521]    45                        no venue   \n",
       "47  [151.164101, -33.887906]     0                        no venue   \n",
       "48   [151.27134, -33.900037]     0                        no venue   \n",
       "49   [153.40433, -27.923776]    45                        no venue   \n",
       "\n",
       "                                    formatted_address  \n",
       "0                                          no address  \n",
       "1                                          no address  \n",
       "2                                          no address  \n",
       "3   1 Convention Centre Place\\nSouth Wharf VIC 300...  \n",
       "4                                          no address  \n",
       "..                                                ...  \n",
       "45                                         no address  \n",
       "46                                         no address  \n",
       "47                                         no address  \n",
       "48                                         no address  \n",
       "49                                         no address  \n",
       "\n",
       "[1500 rows x 11 columns]"
      ],
      "text/html": "<div>\n<style scoped>\n    .dataframe tbody tr th:only-of-type {\n        vertical-align: middle;\n    }\n\n    .dataframe tbody tr th {\n        vertical-align: top;\n    }\n\n    .dataframe thead th {\n        text-align: right;\n    }\n</style>\n<table border=\"1\" class=\"dataframe\">\n  <thead>\n    <tr style=\"text-align: right;\">\n      <th></th>\n      <th>id</th>\n      <th>title</th>\n      <th>description</th>\n      <th>category</th>\n      <th>start_date</th>\n      <th>end_date</th>\n      <th>country</th>\n      <th>coords</th>\n      <th>rank</th>\n      <th>venue_name</th>\n      <th>formatted_address</th>\n    </tr>\n  </thead>\n  <tbody>\n    <tr>\n      <th>0</th>\n      <td>8MpZhBcd3DTi98XpjA</td>\n      <td>Entertainment Fridays at Exchange Hotel Gawler</td>\n      <td>Fridays Live is back again - DJs playing track...</td>\n      <td>performing-arts</td>\n      <td>2021-07-22T23:30:00Z</td>\n      <td>2021-07-23T14:29:00Z</td>\n      <td>AU</td>\n      <td>[138.749307, -34.596536]</td>\n      <td>45</td>\n      <td>no venue</td>\n      <td>no address</td>\n    </tr>\n    <tr>\n      <th>1</th>\n      <td>u6KMRTCBHZQ2EqxXq2</td>\n      <td>Charlton Badminton Club Ladies Tournament</td>\n      <td>The Charlton Badminton Club conducts an annual...</td>\n      <td>sports</td>\n      <td>2021-07-22T23:30:00Z</td>\n      <td>2021-07-23T05:00:00Z</td>\n      <td>AU</td>\n      <td>[143.355924, -36.269452]</td>\n      <td>45</td>\n      <td>no venue</td>\n      <td>no address</td>\n    </tr>\n    <tr>\n      <th>2</th>\n      <td>5DCJjv8bUXro8FjRk5</td>\n      <td>Democracy. Are You In?</td>\n      <td>Democracy. Are You In? is a contemporary exhib...</td>\n      <td>expos</td>\n      <td>2021-07-22T23:00:00Z</td>\n      <td>2021-07-23T07:00:00Z</td>\n      <td>AU</td>\n      <td>[149.129959, -35.30196]</td>\n      <td>45</td>\n      <td>Museum of Australian Democracy</td>\n      <td>no address</td>\n    </tr>\n    <tr>\n      <th>3</th>\n      <td>5MqdzFWEQag8zjmuzV</td>\n      <td>Education Show</td>\n      <td></td>\n      <td>expos</td>\n      <td>2021-07-22T23:00:00Z</td>\n      <td>2021-07-24T08:00:00Z</td>\n      <td>AU</td>\n      <td>[144.953111, -37.825394]</td>\n      <td>61</td>\n      <td>no venue</td>\n      <td>1 Convention Centre Place\\nSouth Wharf VIC 300...</td>\n    </tr>\n    <tr>\n      <th>4</th>\n      <td>6s3gqBBLNqXUEYBHAb</td>\n      <td>PlayUP: The Right to Have an Opinion and Be Heard</td>\n      <td>PlayUP is the Museum of Australian Democracy's...</td>\n      <td>expos</td>\n      <td>2021-07-22T23:00:00Z</td>\n      <td>2021-07-23T07:00:00Z</td>\n      <td>AU</td>\n      <td>[149.129768, -35.301112]</td>\n      <td>45</td>\n      <td>no venue</td>\n      <td>no address</td>\n    </tr>\n    <tr>\n      <th>...</th>\n      <td>...</td>\n      <td>...</td>\n      <td>...</td>\n      <td>...</td>\n      <td>...</td>\n      <td>...</td>\n      <td>...</td>\n      <td>...</td>\n      <td>...</td>\n      <td>...</td>\n      <td>...</td>\n    </tr>\n    <tr>\n      <th>45</th>\n      <td>mDD6Pyyt2fy2NA3hGE</td>\n      <td>Bowen parkrun</td>\n      <td>Parkrun is a free, weekly, timed five kilometr...</td>\n      <td>sports</td>\n      <td>2021-07-13T21:00:00Z</td>\n      <td>2021-07-13T22:30:00Z</td>\n      <td>AU</td>\n      <td>[148.252191, -19.986951]</td>\n      <td>45</td>\n      <td>no venue</td>\n      <td>no address</td>\n    </tr>\n    <tr>\n      <th>46</th>\n      <td>6goKpCode6wsHBgxg7</td>\n      <td>Making Meditation Mainstream Free Beach Medita...</td>\n      <td>Making Meditation Mainstream is a community mo...</td>\n      <td>community</td>\n      <td>2021-07-13T20:30:00Z</td>\n      <td>2021-07-13T21:00:00Z</td>\n      <td>AU</td>\n      <td>[153.120592, -26.680521]</td>\n      <td>45</td>\n      <td>no venue</td>\n      <td>no address</td>\n    </tr>\n    <tr>\n      <th>47</th>\n      <td>7DDBUNp6j3VhR8pnEU</td>\n      <td>Absolute Beginners Salsa Classes</td>\n      <td>Never danced before? Not a problem! Tropical S...</td>\n      <td>community</td>\n      <td>2021-07-13T20:00:00Z</td>\n      <td>2021-07-13T20:30:00Z</td>\n      <td>AU</td>\n      <td>[151.164101, -33.887906]</td>\n      <td>0</td>\n      <td>no venue</td>\n      <td>no address</td>\n    </tr>\n    <tr>\n      <th>48</th>\n      <td>6sfpWP6VN8duPsMCnU</td>\n      <td>Screen Coach | Acting For Screen Class</td>\n      <td>Want to learn a new creative skill or develop ...</td>\n      <td>community</td>\n      <td>2021-07-13T17:30:00Z</td>\n      <td>2021-07-14T08:30:00Z</td>\n      <td>AU</td>\n      <td>[151.27134, -33.900037]</td>\n      <td>0</td>\n      <td>no venue</td>\n      <td>no address</td>\n    </tr>\n    <tr>\n      <th>49</th>\n      <td>8bN5JALnLcgr7yuVyF</td>\n      <td>Sunday Soul Sessions - Live Music</td>\n      <td>Come Support and Keep Live Music Venue Alive M...</td>\n      <td>performing-arts</td>\n      <td>2021-07-13T17:00:00Z</td>\n      <td>2021-07-13T20:00:00Z</td>\n      <td>AU</td>\n      <td>[153.40433, -27.923776]</td>\n      <td>45</td>\n      <td>no venue</td>\n      <td>no address</td>\n    </tr>\n  </tbody>\n</table>\n<p>1500 rows × 11 columns</p>\n</div>"
     },
     "metadata": {},
     "execution_count": 46
    }
   ],
   "source": [
    "# Concatenate all the dictionaries within list \"events_entries\". \n",
    "# i.e. Convert list to contain the data in the 1 dictionary.\n",
    "# Save into variable \"events_entries_df\"\n",
    "events_entries_df = pd.concat(events_entries)\n",
    "\n",
    "# Rename columns\n",
    "events_entries_df = events_entries_df.rename(columns={'start': 'start_date','end':'end_date','location':'coords','name':'title2'})\n",
    "# events_entries_df\n",
    "\n",
    "# Drop column title2\n",
    "events_entries_df = events_entries_df.drop(columns={'title2'})\n",
    "events_entries_df"
   ]
  },
  {
   "cell_type": "code",
   "execution_count": 47,
   "metadata": {},
   "outputs": [
    {
     "output_type": "execute_result",
     "data": {
      "text/plain": [
       "Index(['id', 'title', 'description', 'category', 'start_date', 'end_date',\n",
       "       'country', 'coords', 'rank', 'venue_name', 'formatted_address'],\n",
       "      dtype='object')"
      ]
     },
     "metadata": {},
     "execution_count": 47
    }
   ],
   "source": [
    "events_entries_df.columns"
   ]
  },
  {
   "cell_type": "code",
   "execution_count": 57,
   "metadata": {},
   "outputs": [
    {
     "output_type": "execute_result",
     "data": {
      "text/plain": [
       "id                   object\n",
       "title                object\n",
       "description          object\n",
       "category             object\n",
       "start_date           object\n",
       "end_date             object\n",
       "country              object\n",
       "coords               object\n",
       "rank                  int64\n",
       "venue_name           object\n",
       "formatted_address    object\n",
       "dtype: object"
      ]
     },
     "metadata": {},
     "execution_count": 57
    }
   ],
   "source": [
    "# Check dtypes\n",
    "events_entries_df.dtypes"
   ]
  },
  {
   "cell_type": "code",
   "execution_count": 58,
   "metadata": {},
   "outputs": [
    {
     "output_type": "execute_result",
     "data": {
      "text/plain": [
       "community          499\n",
       "expos              454\n",
       "sports             255\n",
       "performing-arts    178\n",
       "festivals           47\n",
       "conferences         37\n",
       "concerts            26\n",
       "school-holidays      2\n",
       "observances          2\n",
       "Name: category, dtype: int64"
      ]
     },
     "metadata": {},
     "execution_count": 58
    }
   ],
   "source": [
    "# Analyse the category types and entries within each category.\n",
    "events_entries_df['category'].value_counts()"
   ]
  },
  {
   "source": [
    "# LOAD"
   ],
   "cell_type": "markdown",
   "metadata": {}
  },
  {
   "cell_type": "code",
   "execution_count": 59,
   "metadata": {},
   "outputs": [],
   "source": [
    "# Connect to local database\n",
    "rds_connection_string = \"postgres:postgres@localhost:5432/events_db\"\n",
    "engine = create_engine(f'postgresql://{rds_connection_string}')"
   ]
  },
  {
   "cell_type": "code",
   "execution_count": 63,
   "metadata": {},
   "outputs": [
    {
     "output_type": "execute_result",
     "data": {
      "text/plain": [
       "['events_table']"
      ]
     },
     "metadata": {},
     "execution_count": 63
    }
   ],
   "source": [
    "# Create a events_db. Add the tables into postgres database as per schema.sql\n",
    "engine.table_names()"
   ]
  },
  {
   "cell_type": "code",
   "execution_count": 64,
   "metadata": {},
   "outputs": [],
   "source": [
    "# Load pandas dataframe events_entries_df to database events_db, table 'events_table'\n",
    "events_entries_df.to_sql(name='events_table', con=engine, if_exists='append', index=False)"
   ]
  }
 ]
}