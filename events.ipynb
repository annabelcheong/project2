{
 "metadata": {
  "language_info": {
   "codemirror_mode": {
    "name": "ipython",
    "version": 3
   },
   "file_extension": ".py",
   "mimetype": "text/x-python",
   "name": "python",
   "nbconvert_exporter": "python",
   "pygments_lexer": "ipython3",
   "version": "3.8.3"
  },
  "orig_nbformat": 2,
  "kernelspec": {
   "name": "python383jvsc74a57bd085762426d71f2b191e713c5961a63e6fefd6db17605c41aaf3f2f11771e258dd",
   "display_name": "Python 3.8.3 32-bit (conda)"
  },
  "metadata": {
   "interpreter": {
    "hash": "577179bf4518a988c8adfc40d9f19697837bdaff2a8a81f39001ca7a1ca5445c"
   }
  }
 },
 "nbformat": 4,
 "nbformat_minor": 2,
 "cells": [
  {
   "source": [
    "# EXTRACTION\n",
    "## Data Source\n",
    "- Use Events API: https://api.predicthq.com/v1/events?\n",
    "## Methodology\n",
    "### Data Analysis - View Data\n",
    "1. Convert to json format and read json. Determine which variables are useful and required for the deliverable.\n",
    "\n",
    "FINDINGS: The API allows user to call for 50 entries/page, and up to 100 pages. i.e. Each time a call is made, there are only 50 entry results. \n",
    "### Data Analysis - Deetermine and Extract Data Required\n",
    "\n",
    "- Number of entries required: 5000. \n",
    "    1. Loop and set offset at every 50 interval (0, 50, 100, 150 etc until it reaches 4950. 5000 results max from API.)\n",
    "- Variables required: id, country, category, title, start_date, end_date, country, location\n",
    "    2. Use pandas to filter for the variables required. \n",
    "        - *location is the coordinates\n",
    "\n",
    "# TRANSFORMATION\n",
    "- Concatenate the dataframes together (from all 100 pages) and save the final dataframe to a variable.\n",
    "\n",
    "# LOAD\n",
    "- Load data into PostSQL\n",
    "\n",
    "-------------------------------"
   ],
   "cell_type": "markdown",
   "metadata": {}
  },
  {
   "source": [
    "# EXTRACTION"
   ],
   "cell_type": "markdown",
   "metadata": {}
  },
  {
   "cell_type": "code",
   "execution_count": 1,
   "metadata": {},
   "outputs": [],
   "source": [
    "# Dependencies\n",
    "import requests\n",
    "import pprint\n",
    "import json\n",
    "import requests\n",
    "import pandas as pd\n",
    "import numpy as np\n",
    "from pandas.io.json import json_normalize \n",
    "from sqlalchemy import create_engine\n",
    "\n",
    "# Credential File: py_config.py containing variable ACCESS_TOKEN = \"xxxxxxxxx\"\n",
    "import py_config"
   ]
  },
  {
   "source": [
    "## Data Analysis - View Data\n",
    "Convert to json format and read json. Determine which variables are useful and required for the deliverable."
   ],
   "cell_type": "markdown",
   "metadata": {}
  },
  {
   "cell_type": "code",
   "execution_count": 2,
   "metadata": {},
   "outputs": [],
   "source": [
    "# Connect to API url and get data\n",
    "# Variable ACCESS_TOKEN is referenced in py_config.py file and is in list .gitignore\n",
    "response = requests.get(\n",
    "    url =\"https://api.predicthq.com/v1/events?\",\n",
    "    headers={\n",
    "      \"Authorization\": f\"Bearer {py_config.ACCESS_TOKEN}\",\n",
    "      \"Accept\": \"application/json\"\n",
    "    },\n",
    "    # params={\n",
    "    #     \"limit\": 50,\n",
    "    params={\n",
    "      \"limit\":10,\n",
    "      \"country\": \"AU\",\n",
    "      \"start\": \"2021-01-01\",\n",
    "      \"end\": \"2022-12-31\"\n",
    "    # }\n",
    "    }\n",
    ")"
   ]
  },
  {
   "cell_type": "code",
   "execution_count": 3,
   "metadata": {
    "tags": [
     "outputPrepend"
    ]
   },
   "outputs": [
    {
     "output_type": "stream",
     "name": "stdout",
     "text": [
      "he people who grow or make the produce.\\n\\nEach market features a breakfast bar, providing delicious food for Market customers. This breakfast bar is always run by a local charitable, school or sporting organisation to raise funds for their cause. The market also features local musicians and occasional band performances.\\n\\nThe Farmers\\u2019 Market is certain to become an even more integral community institution over the next ten years, and is already a must-do experience for visitors.\\n\\nThe Margaret River Farmers' Market is run by the Margaret River Regional Producers' Association, a not for profit association run by a volunteer board.\\r\\n\\r\\n\\n\\nOpen Times: 8.00am to 12.00pm each Saturday.\",\n            \"duration\": 14400,\n            \"end\": \"2021-07-24T03:30:00Z\",\n            \"entities\": [\n                {\n                    \"category\": \"community\",\n                    \"entity_id\": \"37JrqKCC6ThJ2QkAjEb9jpD\",\n                    \"labels\": [\n                        \"community\",\n                        \"event-group\",\n                        \"recurring\"\n                    ],\n                    \"name\": \"Margaret River Farmers Market\",\n                    \"type\": \"event-group\"\n                }\n            ],\n            \"first_seen\": \"2021-02-25T06:35:38Z\",\n            \"id\": \"ZuwQHdYq85DxzPdyB2\",\n            \"labels\": [\n                \"community\"\n            ],\n            \"local_rank\": 74,\n            \"location\": [\n                115.073923,\n                -33.957078\n            ],\n            \"phq_attendance\": 562,\n            \"place_hierarchies\": [\n                [\n                    \"6295630\",\n                    \"6255151\",\n                    \"2077456\",\n                    \"2058645\",\n                    \"2077473\",\n                    \"2066981\"\n                ]\n            ],\n            \"private\": false,\n            \"rank\": 45,\n            \"relevance\": 1.0,\n            \"scope\": \"locality\",\n            \"start\": \"2021-07-23T23:30:00Z\",\n            \"state\": \"active\",\n            \"timezone\": \"Australia/Perth\",\n            \"title\": \"Margaret River Farmers Market\",\n            \"updated\": \"2021-03-02T14:22:00Z\"\n        },\n        {\n            \"aviation_rank\": 46,\n            \"brand_safe\": true,\n            \"category\": \"expos\",\n            \"country\": \"AU\",\n            \"description\": \"\",\n            \"duration\": 95400,\n            \"end\": \"2021-07-25T02:00:00Z\",\n            \"entities\": [\n                {\n                    \"entity_id\": \"wUMhvbQAdSw3Ed4pP7XWLD\",\n                    \"formatted_address\": \"424-458 Hoxton Park Road\\nLiverpool West NSW 2170\\nAustralia\",\n                    \"name\": \"Liverpool Catholic Club\",\n                    \"type\": \"venue\"\n                }\n            ],\n            \"first_seen\": \"2020-09-04T09:47:14Z\",\n            \"id\": \"u6rJBcDTSLvdZC8NfF\",\n            \"labels\": [\n                \"expo\",\n                \"family\"\n            ],\n            \"local_rank\": 81,\n            \"location\": [\n                150.874911,\n                -33.929269\n            ],\n            \"phq_attendance\": 4000,\n            \"place_hierarchies\": [\n                [\n                    \"6295630\",\n                    \"6255151\",\n                    \"2077456\",\n                    \"2155400\",\n                    \"6619279\",\n                    \"2147714\"\n                ],\n                [\n                    \"6295630\",\n                    \"6255151\",\n                    \"2077456\",\n                    \"2155400\",\n                    \"7839360\",\n                    \"2145187\"\n                ]\n            ],\n            \"private\": false,\n            \"rank\": 62,\n            \"relevance\": 1.0,\n            \"scope\": \"locality\",\n            \"start\": \"2021-07-23T23:30:00Z\",\n            \"state\": \"active\",\n            \"timezone\": \"Australia/Sydney\",\n            \"title\": \"Doll Fair\",\n            \"updated\": \"2021-04-23T01:02:33Z\"\n        },\n        {\n            \"aviation_rank\": null,\n            \"brand_safe\": true,\n            \"category\": \"community\",\n            \"country\": \"AU\",\n            \"description\": \"The Benalla Farmers Market has plenty of stalls, food and entertainment for the whole family. Held beside beautiful Lake Benalla on the fourth Saturday of each month except December when the market is held on the third Saturday. \\n\\nCome along and browse the great range of stalls, grab a coffee, try and wine and a delicious snack and listen to a diverse range of music performed by local talent.\\n\\nCheck the Facebook page for updates.\",\n            \"duration\": 14400,\n            \"end\": \"2021-07-24T03:00:00Z\",\n            \"entities\": [\n                {\n                    \"category\": \"community\",\n                    \"entity_id\": \"ufyLvJ7AVtts4Su8yzmc2J\",\n                    \"labels\": [\n                        \"community\",\n                        \"event-group\",\n                        \"recurring\"\n                    ],\n                    \"name\": \"Benalla Farmers' Market\",\n                    \"type\": \"event-group\"\n                }\n            ],\n            \"first_seen\": \"2021-01-06T06:32:05Z\",\n            \"id\": \"5FyorXaGSq9v4pbCZ9\",\n            \"labels\": [\n                \"community\"\n            ],\n            \"local_rank\": 75,\n            \"location\": [\n                145.983564,\n                -36.552345\n            ],\n            \"phq_attendance\": 562,\n            \"place_hierarchies\": [\n                [\n                    \"6295630\",\n                    \"6255151\",\n                    \"2077456\",\n                    \"2145234\",\n                    \"7839531\",\n                    \"2176225\"\n                ]\n            ],\n            \"private\": false,\n            \"rank\": 45,\n            \"relevance\": 1.0,\n            \"scope\": \"locality\",\n            \"start\": \"2021-07-23T23:00:00Z\",\n            \"state\": \"active\",\n            \"timezone\": \"Australia/Melbourne\",\n            \"title\": \"Benalla Farmers' Market\",\n            \"updated\": \"2021-01-13T07:55:04Z\"\n        },\n        {\n            \"aviation_rank\": null,\n            \"brand_safe\": true,\n            \"category\": \"expos\",\n            \"country\": \"AU\",\n            \"description\": \"14 artist projects at the Art Gallery of New South Wales explore the potential of art to heal and care for fragile natural and social ecosystems. In considering our relationship to sentient Country, as both a concept and lived experience, these works engender an attentiveness in and about the world.\\n\\nThe National 2021: New Australian Art is a celebration of contemporary Australian art. The third in a series of biennial survey exhibitions, it showcases work being made across the country by artists of different generations and cultural backgrounds. Through ambitious new and commissioned projects, the 39 artists, collectives and collaboratives featured across three venues respond to the times in which they live, presenting observations that are provocative, political and poetic. The Nationa 2021 is a partnership between the Art Gallery of New South Wales (AGNSW), Carriageworks and the Museum of Contemporary Art Australia (MCA).\\n\\nThis year, it has been curated by Matt Cox and Erin Vink (AGNSW), Abigail Moncrieff (Carriageworks), and Rachel Kent (MCA). Working in close dialogue, they have developed three distinct presentations of new Australian art that together highlight many of the ideas and concerns motivating artists in Australia today.\\n\\nFor more information visit the dedicated website.\",\n            \"duration\": 28800,\n            \"end\": \"2021-07-24T07:00:00Z\",\n            \"entities\": [\n                {\n                    \"category\": \"expos\",\n                    \"entity_id\": \"wPKfn8xvSMJrkncmGpKqkp\",\n                    \"labels\": [\n                        \"event-group\",\n                        \"expo\",\n                        \"recurring\"\n                    ],\n                    \"name\": \"The National 2021 at AGNSW\",\n                    \"type\": \"event-group\"\n                }\n            ],\n            \"first_seen\": \"2021-04-23T06:40:28Z\",\n            \"id\": \"66Rm432Hr5Dq8KYfwW\",\n            \"labels\": [\n                \"expo\"\n            ],\n            \"local_rank\": 52,\n            \"location\": [\n                151.214894,\n                -33.871516\n            ],\n            \"phq_attendance\": 562,\n            \"place_hierarchies\": [\n                [\n                    \"6295630\",\n                    \"6255151\",\n                    \"2077456\",\n                    \"2155400\",\n                    \"6619279\",\n                    \"2147714\"\n                ]\n            ],\n            \"private\": false,\n            \"rank\": 45,\n            \"relevance\": 1.0,\n            \"scope\": \"locality\",\n            \"start\": \"2021-07-23T23:00:00Z\",\n            \"state\": \"active\",\n            \"timezone\": \"Australia/Sydney\",\n            \"title\": \"The National 2021 at AGNSW\",\n            \"updated\": \"2021-04-23T06:44:52Z\"\n        },\n        {\n            \"aviation_rank\": null,\n            \"brand_safe\": true,\n            \"category\": \"expos\",\n            \"country\": \"AU\",\n            \"description\": \"PlayUP is the Museum of Australian Democracy's imaginative family space with activities to educate, excite and challenge young minds.\\n\\nWith listening pods and a roleplay Kindness Caf\\u00e9, a fuzzy felt wall and facilitated craft activities, PlayUP has a range of exciting and immersive experiences that flip the traditional idea of museums completely on its head.\\n\\nBookings are essential.\\n\\nOpen Times: Daily: 9am-5pm\",\n            \"duration\": 28800,\n            \"end\": \"2021-07-24T07:00:00Z\",\n            \"entities\": [\n                {\n                    \"category\": \"expos\",\n                    \"entity_id\": \"itALLWYpzvpGMAqC8ASvsT\",\n                    \"labels\": [\n                        \"event-group\",\n                        \"expo\",\n                        \"recurring\"\n                    ],\n                    \"name\": \"PlayUP: The Right to Have an Opinion and Be Heard\",\n                    \"type\": \"event-group\"\n                }\n            ],\n            \"first_seen\": \"2021-03-23T06:01:28Z\",\n            \"id\": \"75nCaoHuQvSKbEWSYi\",\n            \"labels\": [\n                \"expo\"\n            ],\n            \"local_rank\": 70,\n            \"location\": [\n                149.129768,\n                -35.301112\n            ],\n            \"phq_attendance\": 562,\n            \"place_hierarchies\": [\n                [\n                    \"6295630\",\n                    \"6255151\",\n                    \"2077456\",\n                    \"2177478\",\n                    \"2172517\"\n                ]\n            ],\n            \"private\": false,\n            \"rank\": 45,\n            \"relevance\": 1.0,\n            \"scope\": \"locality\",\n            \"start\": \"2021-07-23T23:00:00Z\",\n            \"state\": \"active\",\n            \"timezone\": \"Australia/Sydney\",\n            \"title\": \"PlayUP: The Right to Have an Opinion and Be Heard\",\n            \"updated\": \"2021-03-23T07:03:35Z\"\n        },\n        {\n            \"aviation_rank\": null,\n            \"brand_safe\": true,\n            \"category\": \"expos\",\n            \"country\": \"AU\",\n            \"description\": \"The Museum of Australian Democracy (MoAD) at Old Parliament House presents Happy and Glorious - an exhibition dedicated to The Queen\\u2019s Visit in 1954. \\n\\nOld Parliament House was central to the royal tour while the Queen was in Australia and the exhibition is presented in the very room the Queen used while she was at Old Parliament House. You can explore this room in the President of the Senate\\u2019s suite and see how it was redecorated and furnished for her private use while she was in the house.\\n\\nMemories of a young Queen in summer dresses and ball gowns, crowds of Australians excitedly waving flags and charming tableaus spelling out heartfelt messages are shown through a series of photographs and objects.\\n\\nVisit this snapshot in time at the Happy and Glorious exhibition by booking a general museum pass to MoAD.\\n\\nOpen Times: Daily: 9am to 5pm\",\n            \"duration\": 28800,\n            \"end\": \"2021-07-24T07:00:00Z\",\n            \"entities\": [\n                {\n                    \"category\": \"expos\",\n                    \"entity_id\": \"9icChxAYmSrWvXu7DnTxtm\",\n                    \"labels\": [\n                        \"event-group\",\n                        \"expo\",\n                        \"recurring\"\n                    ],\n                    \"name\": \"Happy and Glorious\",\n                    \"type\": \"event-group\"\n                }\n            ],\n            \"first_seen\": \"2021-03-22T06:02:57Z\",\n            \"id\": \"8ctfxaAbJZtFeQ649w\",\n            \"labels\": [\n                \"expo\"\n            ],\n            \"local_rank\": 70,\n            \"location\": [\n                149.129768,\n                -35.301112\n            ],\n            \"phq_attendance\": 562,\n            \"place_hierarchies\": [\n                [\n                    \"6295630\",\n                    \"6255151\",\n                    \"2077456\",\n                    \"2177478\",\n                    \"2172517\"\n                ]\n            ],\n            \"private\": false,\n            \"rank\": 45,\n            \"relevance\": 1.0,\n            \"scope\": \"locality\",\n            \"start\": \"2021-07-23T23:00:00Z\",\n            \"state\": \"active\",\n            \"timezone\": \"Australia/Sydney\",\n            \"title\": \"Happy and Glorious\",\n            \"updated\": \"2021-03-22T06:15:53Z\"\n        },\n        {\n            \"aviation_rank\": null,\n            \"brand_safe\": true,\n            \"category\": \"community\",\n            \"country\": \"AU\",\n            \"description\": \"Flower crown workshop is on trend. If you are searching for a unique and creative activity for your special day, it is the perfect choice. Making a flower crown is fun and easy. They love doing parties! Celebrate your hen party/bridal shower, baby shower, birthdays in style by making stunning floral headpieces with your dearest friends and bridesmaids at the flower crown workshop. \\n\\nTheir flower experts ensure you have loads of fun and walk out of the door wearing gorgeous fresh blooms in your hair. Add a flower power to your big weekend. Flower Lane and Co offers customised and private floral crown workshops to suit your needs. Meet your flower expert and create gorgeous floral crowns with them.  They\\u2019d love to chat with you and host a special party for you.\",\n            \"duration\": 32400,\n            \"end\": \"2021-07-24T08:00:00Z\",\n            \"entities\": [],\n            \"first_seen\": \"2020-01-13T06:47:19Z\",\n            \"id\": \"9WnZoMzU7X9wteMhyB\",\n            \"labels\": [\n                \"community\"\n            ],\n            \"local_rank\": 0,\n            \"location\": [\n                151.199999,\n                -33.91609\n            ],\n            \"phq_attendance\": null,\n            \"place_hierarchies\": [\n                [\n                    \"6295630\",\n                    \"6255151\",\n                    \"2077456\",\n                    \"2155400\",\n                    \"6619279\",\n                    \"2150625\"\n                ],\n                [\n                    \"6295630\",\n                    \"6255151\",\n                    \"2077456\",\n                    \"2155400\",\n                    \"6619279\",\n                    \"2147714\"\n                ]\n            ],\n            \"private\": false,\n            \"rank\": 0,\n            \"relevance\": 1.0,\n            \"scope\": \"locality\",\n            \"start\": \"2021-07-23T23:00:00Z\",\n            \"state\": \"active\",\n            \"timezone\": \"Australia/Sydney\",\n            \"title\": \"Private Flower Crown Workshop\",\n            \"updated\": \"2020-07-02T22:07:22Z\"\n        },\n        {\n            \"aviation_rank\": null,\n            \"brand_safe\": true,\n            \"category\": \"community\",\n            \"country\": \"AU\",\n            \"description\": \"Milawa Hall Market is a country market in the heart of Milawa, with a strong focus on locally produced goods and wares. \\n\\nCome along and browse a diverse range of stall holders in the hall. \\n\\nThe market is run by the Milawa Hall and Park committee as a regular fundraiser to help with the upkeep and improvements to the hall.\",\n            \"duration\": 12600,\n            \"end\": \"2021-07-24T02:30:00Z\",\n            \"entities\": [\n                {\n                    \"category\": \"community\",\n                    \"entity_id\": \"vHT65k3ma9bczSEf6ycRPC\",\n                    \"labels\": [\n                        \"community\",\n                        \"event-group\",\n                        \"recurring\"\n                    ],\n                    \"name\": \"Milawa Hall Market\",\n                    \"type\": \"event-group\"\n                }\n            ],\n            \"first_seen\": \"2021-03-09T06:36:50Z\",\n            \"id\": \"9tkKBLQSPu4ufEUjJT\",\n            \"labels\": [\n                \"community\"\n            ],\n            \"local_rank\": 77,\n            \"location\": [\n                146.4318,\n                -36.448411\n            ],\n            \"phq_attendance\": 562,\n            \"place_hierarchies\": [\n                [\n                    \"6295630\",\n                    \"6255151\",\n                    \"2077456\",\n                    \"2145234\",\n                    \"7839829\",\n                    \"2157705\"\n                ]\n            ],\n            \"private\": false,\n            \"rank\": 45,\n            \"relevance\": 1.0,\n            \"scope\": \"locality\",\n            \"start\": \"2021-07-23T23:00:00Z\",\n            \"state\": \"active\",\n            \"timezone\": \"Australia/Melbourne\",\n            \"title\": \"Milawa Hall Market\",\n            \"updated\": \"2021-03-09T06:46:51Z\"\n        },\n        {\n            \"aviation_rank\": null,\n            \"brand_safe\": true,\n            \"category\": \"expos\",\n            \"country\": \"AU\",\n            \"description\": \"Democracy. Are You In? is a contemporary exhibition that aims to encourage visitors to recognise that our freedoms and our way of life are built on the foundation of democracy.\\n\\nThe exhibition at the Museum of Australian Democracy explores powerful stories of democracy in action through a series of photographs, objects and audiovisual displays.\\n\\nMoments from Australia\\u2019s democratic journey are presented including the 1967 referendum. \\n\\nBe inspired to understand the power of your voice in shaping the future of our nation.\\n\\nOpen Times: Daily: 9am-5pm\",\n            \"duration\": 28800,\n            \"end\": \"2021-07-24T07:00:00Z\",\n            \"entities\": [\n                {\n                    \"category\": \"expos\",\n                    \"entity_id\": \"y96zLzEAiVCrivmEXTk9V\",\n                    \"labels\": [\n                        \"event-group\",\n                        \"expo\",\n                        \"recurring\"\n                    ],\n                    \"name\": \"Democracy. Are You In?\",\n                    \"type\": \"event-group\"\n                },\n                {\n                    \"entity_id\": \"nSfpQNnykcDGsU9U6CJqk8\",\n                    \"formatted_address\": \"Old Parliament House\\n18 King George Ter\\nParkes Australia Capital Territory 2600\\nAustralia\",\n                    \"name\": \"Museum of Australian Democracy\",\n                    \"type\": \"venue\"\n                }\n            ],\n            \"first_seen\": \"2021-03-23T06:03:43Z\",\n            \"id\": \"AR498UPoK9xxKPo9Ne\",\n            \"labels\": [\n                \"expo\"\n            ],\n            \"local_rank\": 71,\n            \"location\": [\n                149.129959,\n                -35.30196\n            ],\n            \"phq_attendance\": 562,\n            \"place_hierarchies\": [\n                [\n                    \"6295630\",\n                    \"6255151\",\n                    \"2077456\",\n                    \"2177478\",\n                    \"2172517\"\n                ]\n            ],\n            \"private\": false,\n            \"rank\": 45,\n            \"relevance\": 1.0,\n            \"scope\": \"locality\",\n            \"start\": \"2021-07-23T23:00:00Z\",\n            \"state\": \"active\",\n            \"timezone\": \"Australia/Sydney\",\n            \"title\": \"Democracy. Are You In?\",\n            \"updated\": \"2021-03-23T06:56:46Z\"\n        }\n    ]\n}\n"
     ]
    }
   ],
   "source": [
    "# Convert data to json format (all data)\n",
    "# Save to variable \"data1\"\n",
    "data = response.json()\n",
    "\n",
    "# Print json (formatted) and analyse which variables to use for deliverable\n",
    "print(json.dumps(data, indent=4, sort_keys=True))"
   ]
  },
  {
   "cell_type": "code",
   "execution_count": 4,
   "metadata": {},
   "outputs": [
    {
     "output_type": "execute_result",
     "data": {
      "text/plain": [
       "{'relevance': 1.0,\n",
       " 'id': 'TpCYmYhbA4RmmGjZio',\n",
       " 'title': 'Mount Claremont Farmers Market',\n",
       " 'description': \"The Mount Claremont Farmers' Market is an exciting initiative. Predominantly a fresh produce market operating every Saturday morning at the Mount Claremont Primary School, the market is a school/community-based project that provides an opportunity for farmers, food producers and chefs to sell farm-origin and associated gourmet food products directly to their customers. All proceeds from the Market go to supporting the children of the school, as well as various community projects.\\n\\nPatrons go mostly for the fresh produce but also to grab coffee, breakfast or brunch. Families take advantage of the school playgrounds.\\n\\nThe vibe is relaxed yet energised and interactive, the sense of organised turmoil adds informality and humour. Customers are buying more than just an evening meal!\\n\\nThe air at the markets is always filled with tempting aromas from hot food vendors. Enjoy espresso coffees, freshly squeezed juices, French pastries, sausage sizzles, crepes and bacon and eggs whilst grabbing your grower direct fruit and veggies (including potatoes via exclusive arrangement), fish, meats, poultry, breads and dairy products. There are also fantastic local olive oils and condiments to choose from.\\r\\n\\r\\n\\n\\nOpen Times: 7.30am to 11.30am every Saturday. Closed the Saturday after Christmas only.\",\n",
       " 'category': 'community',\n",
       " 'labels': ['community'],\n",
       " 'rank': 45,\n",
       " 'local_rank': 68,\n",
       " 'aviation_rank': None,\n",
       " 'phq_attendance': 562,\n",
       " 'entities': [{'entity_id': 'jQKV5ECjpZiCgQxbejXxFD',\n",
       "   'name': 'Mount Claremont Farmers Market',\n",
       "   'type': 'event-group',\n",
       "   'category': 'community',\n",
       "   'labels': ['community', 'event-group', 'recurring']}],\n",
       " 'duration': 14400,\n",
       " 'start': '2021-07-23T23:30:00Z',\n",
       " 'end': '2021-07-24T03:30:00Z',\n",
       " 'updated': '2020-12-24T07:02:37Z',\n",
       " 'first_seen': '2020-12-24T06:33:43Z',\n",
       " 'timezone': 'Australia/Perth',\n",
       " 'location': [115.782705, -31.968148],\n",
       " 'scope': 'locality',\n",
       " 'country': 'AU',\n",
       " 'place_hierarchies': [['6295630',\n",
       "   '6255151',\n",
       "   '2077456',\n",
       "   '2058645',\n",
       "   '2063522',\n",
       "   '2063523'],\n",
       "  ['6295630', '6255151', '2077456', '2058645', '7839485', '2078910']],\n",
       " 'state': 'active',\n",
       " 'brand_safe': True,\n",
       " 'private': False}"
      ]
     },
     "metadata": {},
     "execution_count": 4
    }
   ],
   "source": [
    "data['results'][0]"
   ]
  },
  {
   "source": [
    "## Data Analysis - Determine and Extract Data Required\n",
    "- Number of entries required: 5000. \n",
    "    1. Loop and set offset at every 50 interval (0, 50, 100, 150 etc until it reaches 4950. 5000 results max from API.)\n",
    "- Variables required: id, country, category, title, start_date, end_date, country, location\n",
    "    2. Use pandas to filter for the variables required. \n",
    "        - *location is the coordinates"
   ],
   "cell_type": "markdown",
   "metadata": {}
  },
  {
   "cell_type": "code",
   "execution_count": 5,
   "metadata": {},
   "outputs": [
    {
     "output_type": "stream",
     "name": "stdout",
     "text": [
      "0\n50\n100\n150\n200\n250\n300\n350\n400\n450\n"
     ]
    }
   ],
   "source": [
    "# Test for loop \n",
    "for i in range (0,500,50):\n",
    "    print(i)"
   ]
  },
  {
   "cell_type": "code",
   "execution_count": 6,
   "metadata": {},
   "outputs": [],
   "source": [
    "# Create variable \"entries\" to store the list of dictionaries; \n",
    "# Each loop will contain a dictionary (as each pandas dataframe is a dictionaries). \n",
    "events_entries=[]\n",
    "\n",
    "# Do a 'for loop' which loops from index 0 to 5000, at muliples of 50 (as API page can only call 50 entries max each time)\n",
    "for i in range(0,1500,50):\n",
    "\n",
    "    response = requests.get(\n",
    "        url=f\"https://api.predicthq.com/v1/events?offset={i}&limit=50\",\n",
    "        headers={\n",
    "        \"Authorization\": f\"Bearer {py_config.ACCESS_TOKEN}\",\n",
    "        \"Accept\": \"application/json\"\n",
    "        },\n",
    "        params={\n",
    "            \"country\": \"AU\",\n",
    "            \"start\": \"2021-01-01\",\n",
    "            \"end\": \"2022-12-31\"\n",
    "        }\n",
    "    )\n",
    "\n",
    "    # Save response to variable \"data\" and \"data1\"\n",
    "    data = response.json()\n",
    "    # data1 = data['results']\n",
    "    # Save to variable \"events_df\" the dictionary (data> results) \n",
    "    events_df = pd.json_normalize(data, ['results'], errors='ignore')\n",
    "    # print(events_df.head(3))\n",
    "\n",
    "    def getEntitiesName(entities):\n",
    "        try:\n",
    "            return entities[0]['name']\n",
    "        except:\n",
    "            return 'no name'\n",
    "    \n",
    "    events_df['name'] = events_df.entities.apply(getEntitiesName)\n",
    "\n",
    "\n",
    "\n",
    "    def getEntitiesAddress(entities):\n",
    "        try:\n",
    "            return entities[0]['formatted_address']\n",
    "        except:\n",
    "            return 'no address'\n",
    "    events_df['formatted_address'] = events_df.entities.apply(getEntitiesAddress)\n",
    "\n",
    "\n",
    "    def getEntitiesVenue(entities):\n",
    "        try:\n",
    "            return entities[1]['name']\n",
    "        except IndexError:\n",
    "            return 'no venue'\n",
    "    events_df['venue_name'] = events_df.entities.apply(getEntitiesVenue)\n",
    "\n",
    "    # Extract out only required variables (column headings)\n",
    "    events_df = events_df[[\"id\",\"title\",\"description\",\"category\",\"start\",\"end\",\"country\",\"location\",\"rank\",\"name\",\"venue_name\",\"formatted_address\"]]\n",
    "        \n",
    "    events_entries.append(events_df)\n",
    "\n",
    "\n",
    "    # TEST\n",
    "    # print(events_entries)"
   ]
  },
  {
   "source": [
    "# TRANSFORMATION\n",
    "- Concatenate the dataframes together (from all 100 pages) and save the final dataframe to a variable."
   ],
   "cell_type": "markdown",
   "metadata": {}
  },
  {
   "cell_type": "code",
   "execution_count": 7,
   "metadata": {},
   "outputs": [
    {
     "output_type": "execute_result",
     "data": {
      "text/plain": [
       "                    id                               title  \\\n",
       "0   TpCYmYhbA4RmmGjZio      Mount Claremont Farmers Market   \n",
       "1   ZuwQHdYq85DxzPdyB2       Margaret River Farmers Market   \n",
       "2   u6rJBcDTSLvdZC8NfF                           Doll Fair   \n",
       "3   5FyorXaGSq9v4pbCZ9             Benalla Farmers' Market   \n",
       "4   66Rm432Hr5Dq8KYfwW          The National 2021 at AGNSW   \n",
       "..                 ...                                 ...   \n",
       "45  fx3JfhhiqoysxrXR8g            Learn to make cocktails!   \n",
       "46  hAUz3PzJrRsK4FsNZG  Absolute Beginners Bachata Classes   \n",
       "47  hhF9KV2dDyP5c2Vdr8           Evening Adult Art Classes   \n",
       "48  x7LXaqKZxNVGKYWo94                        HSC Up Close   \n",
       "49  x8tFddmghJwsbCrUbX             EQUINOX TOWNSVILLE 2021   \n",
       "\n",
       "                                          description     category  \\\n",
       "0   The Mount Claremont Farmers' Market is an exci...    community   \n",
       "1   The Margaret River Farmers' Market has been a ...    community   \n",
       "2                                                            expos   \n",
       "3   The Benalla Farmers Market has plenty of stall...    community   \n",
       "4   14 artist projects at the Art Gallery of New S...        expos   \n",
       "..                                                ...          ...   \n",
       "45  Learn to make a variety of cocktails, with gui...    community   \n",
       "46  Never danced before? Not a problem! Tropical S...    community   \n",
       "47  Learn to see as an artist and develop you skil...    community   \n",
       "48  Jesse Whelan from Sandbox Learning Australia w...  conferences   \n",
       "49  The boutique architectural exhibition connecti...        expos   \n",
       "\n",
       "              start_date              end_date country  \\\n",
       "0   2021-07-23T23:30:00Z  2021-07-24T03:30:00Z      AU   \n",
       "1   2021-07-23T23:30:00Z  2021-07-24T03:30:00Z      AU   \n",
       "2   2021-07-23T23:30:00Z  2021-07-25T02:00:00Z      AU   \n",
       "3   2021-07-23T23:00:00Z  2021-07-24T03:00:00Z      AU   \n",
       "4   2021-07-23T23:00:00Z  2021-07-24T07:00:00Z      AU   \n",
       "..                   ...                   ...     ...   \n",
       "45  2021-07-15T08:00:00Z  2021-07-15T11:00:00Z      AU   \n",
       "46  2021-07-15T08:00:00Z  2021-07-15T08:30:00Z      AU   \n",
       "47  2021-07-15T08:00:00Z  2021-07-15T09:30:00Z      AU   \n",
       "48  2021-07-15T08:00:00Z  2021-07-15T09:30:00Z      AU   \n",
       "49  2021-07-15T08:00:00Z  2021-07-15T10:00:00Z      AU   \n",
       "\n",
       "                      coords  rank venue_name  \\\n",
       "0   [115.782705, -31.968148]    45   no venue   \n",
       "1   [115.073923, -33.957078]    45   no venue   \n",
       "2   [150.874911, -33.929269]    62   no venue   \n",
       "3   [145.983564, -36.552345]    45   no venue   \n",
       "4   [151.214894, -33.871516]    45   no venue   \n",
       "..                       ...   ...        ...   \n",
       "45  [151.213768, -33.877746]     0   no venue   \n",
       "46  [151.164101, -33.887906]     0   no venue   \n",
       "47  [152.921212, -29.671462]     0   no venue   \n",
       "48   [151.244995, -33.89296]     0   no venue   \n",
       "49    [146.82597, -19.25388]     0   no venue   \n",
       "\n",
       "                                    formatted_address  \n",
       "0                                          no address  \n",
       "1                                          no address  \n",
       "2   424-458 Hoxton Park Road\\nLiverpool West NSW 2...  \n",
       "3                                          no address  \n",
       "4                                          no address  \n",
       "..                                                ...  \n",
       "45                                         no address  \n",
       "46                                         no address  \n",
       "47                                         no address  \n",
       "48  32 48 Denison Street\\nBondi Junction NSW 2022\\...  \n",
       "49  Sir Leslie Thiess Dr\\nTownsville QLD 4810\\nAus...  \n",
       "\n",
       "[1500 rows x 11 columns]"
      ],
      "text/html": "<div>\n<style scoped>\n    .dataframe tbody tr th:only-of-type {\n        vertical-align: middle;\n    }\n\n    .dataframe tbody tr th {\n        vertical-align: top;\n    }\n\n    .dataframe thead th {\n        text-align: right;\n    }\n</style>\n<table border=\"1\" class=\"dataframe\">\n  <thead>\n    <tr style=\"text-align: right;\">\n      <th></th>\n      <th>id</th>\n      <th>title</th>\n      <th>description</th>\n      <th>category</th>\n      <th>start_date</th>\n      <th>end_date</th>\n      <th>country</th>\n      <th>coords</th>\n      <th>rank</th>\n      <th>venue_name</th>\n      <th>formatted_address</th>\n    </tr>\n  </thead>\n  <tbody>\n    <tr>\n      <th>0</th>\n      <td>TpCYmYhbA4RmmGjZio</td>\n      <td>Mount Claremont Farmers Market</td>\n      <td>The Mount Claremont Farmers' Market is an exci...</td>\n      <td>community</td>\n      <td>2021-07-23T23:30:00Z</td>\n      <td>2021-07-24T03:30:00Z</td>\n      <td>AU</td>\n      <td>[115.782705, -31.968148]</td>\n      <td>45</td>\n      <td>no venue</td>\n      <td>no address</td>\n    </tr>\n    <tr>\n      <th>1</th>\n      <td>ZuwQHdYq85DxzPdyB2</td>\n      <td>Margaret River Farmers Market</td>\n      <td>The Margaret River Farmers' Market has been a ...</td>\n      <td>community</td>\n      <td>2021-07-23T23:30:00Z</td>\n      <td>2021-07-24T03:30:00Z</td>\n      <td>AU</td>\n      <td>[115.073923, -33.957078]</td>\n      <td>45</td>\n      <td>no venue</td>\n      <td>no address</td>\n    </tr>\n    <tr>\n      <th>2</th>\n      <td>u6rJBcDTSLvdZC8NfF</td>\n      <td>Doll Fair</td>\n      <td></td>\n      <td>expos</td>\n      <td>2021-07-23T23:30:00Z</td>\n      <td>2021-07-25T02:00:00Z</td>\n      <td>AU</td>\n      <td>[150.874911, -33.929269]</td>\n      <td>62</td>\n      <td>no venue</td>\n      <td>424-458 Hoxton Park Road\\nLiverpool West NSW 2...</td>\n    </tr>\n    <tr>\n      <th>3</th>\n      <td>5FyorXaGSq9v4pbCZ9</td>\n      <td>Benalla Farmers' Market</td>\n      <td>The Benalla Farmers Market has plenty of stall...</td>\n      <td>community</td>\n      <td>2021-07-23T23:00:00Z</td>\n      <td>2021-07-24T03:00:00Z</td>\n      <td>AU</td>\n      <td>[145.983564, -36.552345]</td>\n      <td>45</td>\n      <td>no venue</td>\n      <td>no address</td>\n    </tr>\n    <tr>\n      <th>4</th>\n      <td>66Rm432Hr5Dq8KYfwW</td>\n      <td>The National 2021 at AGNSW</td>\n      <td>14 artist projects at the Art Gallery of New S...</td>\n      <td>expos</td>\n      <td>2021-07-23T23:00:00Z</td>\n      <td>2021-07-24T07:00:00Z</td>\n      <td>AU</td>\n      <td>[151.214894, -33.871516]</td>\n      <td>45</td>\n      <td>no venue</td>\n      <td>no address</td>\n    </tr>\n    <tr>\n      <th>...</th>\n      <td>...</td>\n      <td>...</td>\n      <td>...</td>\n      <td>...</td>\n      <td>...</td>\n      <td>...</td>\n      <td>...</td>\n      <td>...</td>\n      <td>...</td>\n      <td>...</td>\n      <td>...</td>\n    </tr>\n    <tr>\n      <th>45</th>\n      <td>fx3JfhhiqoysxrXR8g</td>\n      <td>Learn to make cocktails!</td>\n      <td>Learn to make a variety of cocktails, with gui...</td>\n      <td>community</td>\n      <td>2021-07-15T08:00:00Z</td>\n      <td>2021-07-15T11:00:00Z</td>\n      <td>AU</td>\n      <td>[151.213768, -33.877746]</td>\n      <td>0</td>\n      <td>no venue</td>\n      <td>no address</td>\n    </tr>\n    <tr>\n      <th>46</th>\n      <td>hAUz3PzJrRsK4FsNZG</td>\n      <td>Absolute Beginners Bachata Classes</td>\n      <td>Never danced before? Not a problem! Tropical S...</td>\n      <td>community</td>\n      <td>2021-07-15T08:00:00Z</td>\n      <td>2021-07-15T08:30:00Z</td>\n      <td>AU</td>\n      <td>[151.164101, -33.887906]</td>\n      <td>0</td>\n      <td>no venue</td>\n      <td>no address</td>\n    </tr>\n    <tr>\n      <th>47</th>\n      <td>hhF9KV2dDyP5c2Vdr8</td>\n      <td>Evening Adult Art Classes</td>\n      <td>Learn to see as an artist and develop you skil...</td>\n      <td>community</td>\n      <td>2021-07-15T08:00:00Z</td>\n      <td>2021-07-15T09:30:00Z</td>\n      <td>AU</td>\n      <td>[152.921212, -29.671462]</td>\n      <td>0</td>\n      <td>no venue</td>\n      <td>no address</td>\n    </tr>\n    <tr>\n      <th>48</th>\n      <td>x7LXaqKZxNVGKYWo94</td>\n      <td>HSC Up Close</td>\n      <td>Jesse Whelan from Sandbox Learning Australia w...</td>\n      <td>conferences</td>\n      <td>2021-07-15T08:00:00Z</td>\n      <td>2021-07-15T09:30:00Z</td>\n      <td>AU</td>\n      <td>[151.244995, -33.89296]</td>\n      <td>0</td>\n      <td>no venue</td>\n      <td>32 48 Denison Street\\nBondi Junction NSW 2022\\...</td>\n    </tr>\n    <tr>\n      <th>49</th>\n      <td>x8tFddmghJwsbCrUbX</td>\n      <td>EQUINOX TOWNSVILLE 2021</td>\n      <td>The boutique architectural exhibition connecti...</td>\n      <td>expos</td>\n      <td>2021-07-15T08:00:00Z</td>\n      <td>2021-07-15T10:00:00Z</td>\n      <td>AU</td>\n      <td>[146.82597, -19.25388]</td>\n      <td>0</td>\n      <td>no venue</td>\n      <td>Sir Leslie Thiess Dr\\nTownsville QLD 4810\\nAus...</td>\n    </tr>\n  </tbody>\n</table>\n<p>1500 rows × 11 columns</p>\n</div>"
     },
     "metadata": {},
     "execution_count": 7
    }
   ],
   "source": [
    "# Concatenate all the dictionaries within list \"events_entries\". \n",
    "# i.e. Convert list to contain the data in the 1 dictionary.\n",
    "# Save into variable \"events_entries_df\"\n",
    "events_entries_df = pd.concat(events_entries)\n",
    "\n",
    "# Rename columns\n",
    "events_entries_df = events_entries_df.rename(columns={'start': 'start_date','end':'end_date','location':'coords','name':'title2'})\n",
    "# events_entries_df\n",
    "\n",
    "# Drop column title2\n",
    "events_entries_df = events_entries_df.drop(columns={'title2'})\n",
    "events_entries_df"
   ]
  },
  {
   "cell_type": "code",
   "execution_count": 8,
   "metadata": {},
   "outputs": [
    {
     "output_type": "execute_result",
     "data": {
      "text/plain": [
       "Index(['id', 'title', 'description', 'category', 'start_date', 'end_date',\n",
       "       'country', 'coords', 'rank', 'venue_name', 'formatted_address'],\n",
       "      dtype='object')"
      ]
     },
     "metadata": {},
     "execution_count": 8
    }
   ],
   "source": [
    "events_entries_df.columns"
   ]
  },
  {
   "cell_type": "code",
   "execution_count": 9,
   "metadata": {},
   "outputs": [
    {
     "output_type": "execute_result",
     "data": {
      "text/plain": [
       "id                   object\n",
       "title                object\n",
       "description          object\n",
       "category             object\n",
       "start_date           object\n",
       "end_date             object\n",
       "country              object\n",
       "coords               object\n",
       "rank                  int64\n",
       "venue_name           object\n",
       "formatted_address    object\n",
       "dtype: object"
      ]
     },
     "metadata": {},
     "execution_count": 9
    }
   ],
   "source": [
    "# Check dtypes\n",
    "events_entries_df.dtypes"
   ]
  },
  {
   "cell_type": "code",
   "execution_count": 10,
   "metadata": {},
   "outputs": [
    {
     "output_type": "execute_result",
     "data": {
      "text/plain": [
       "community          486\n",
       "expos              421\n",
       "sports             293\n",
       "performing-arts    178\n",
       "festivals           49\n",
       "conferences         35\n",
       "concerts            34\n",
       "school-holidays      2\n",
       "observances          2\n",
       "Name: category, dtype: int64"
      ]
     },
     "metadata": {},
     "execution_count": 10
    }
   ],
   "source": [
    "# Analyse the category types and entries within each category.\n",
    "events_entries_df['category'].value_counts()"
   ]
  },
  {
   "source": [
    "# LOAD"
   ],
   "cell_type": "markdown",
   "metadata": {}
  },
  {
   "cell_type": "code",
   "execution_count": null,
   "metadata": {},
   "outputs": [],
   "source": [
    "# Connect to local database\n",
    "# for everyone else\n",
    "rds_connection_string = \"postgres:postgres@localhost:5432/events_db\"\n",
    "engine = create_engine(f'postgresql://{rds_connection_string}')"
   ]
  },
  {
   "cell_type": "code",
   "execution_count": 11,
   "metadata": {},
   "outputs": [],
   "source": [
    "# Diane's use only\n",
    "# rds_connection_string = \"postgres:309Malanday!@localhost:5432/events_db\"\n",
    "# engine = create_engine(f'postgresql://{rds_connection_string}')"
   ]
  },
  {
   "cell_type": "code",
   "execution_count": 12,
   "metadata": {},
   "outputs": [
    {
     "output_type": "error",
     "ename": "IntegrityError",
     "evalue": "(psycopg2.errors.UniqueViolation) duplicate key value violates unique constraint \"events_table_pkey\"\nDETAIL:  Key (id)=(TpCYmYhbA4RmmGjZio) already exists.\n\n[SQL: INSERT INTO events_table (id, title, description, category, start_date, end_date, country, coords, rank, venue_name, formatted_address) VALUES (%(id)s, %(title)s, %(description)s, %(category)s, %(start_date)s, %(end_date)s, %(country)s, %(coords)s, %(rank)s, %(venue_name)s, %(formatted_address)s)]\n[parameters: ({'id': 'TpCYmYhbA4RmmGjZio', 'title': 'Mount Claremont Farmers Market', 'description': \"The Mount Claremont Farmers' Market is an exciting initiative. Predominantly a fresh produce market operating every Saturday morning at the Mount Cla ... (1011 characters truncated) ... ic local olive oils and condiments to choose from.\\r\\n\\r\\n\\n\\nOpen Times: 7.30am to 11.30am every Saturday. Closed the Saturday after Christmas only.\", 'category': 'community', 'start_date': '2021-07-23T23:30:00Z', 'end_date': '2021-07-24T03:30:00Z', 'country': 'AU', 'coords': [115.782705, -31.968148], 'rank': 45, 'venue_name': 'no venue', 'formatted_address': 'no address'}, {'id': 'ZuwQHdYq85DxzPdyB2', 'title': 'Margaret River Farmers Market', 'description': \"The Margaret River Farmers' Market has been a feature of the region for over 10 years, providing access to fresh local produce for both residents and ... (904 characters truncated) ... River Regional Producers' Association, a not for profit association run by a volunteer board.\\r\\n\\r\\n\\n\\nOpen Times: 8.00am to 12.00pm each Saturday.\", 'category': 'community', 'start_date': '2021-07-23T23:30:00Z', 'end_date': '2021-07-24T03:30:00Z', 'country': 'AU', 'coords': [115.073923, -33.957078], 'rank': 45, 'venue_name': 'no venue', 'formatted_address': 'no address'}, {'id': 'u6rJBcDTSLvdZC8NfF', 'title': 'Doll Fair', 'description': '', 'category': 'expos', 'start_date': '2021-07-23T23:30:00Z', 'end_date': '2021-07-25T02:00:00Z', 'country': 'AU', 'coords': [150.874911, -33.929269], 'rank': 62, 'venue_name': 'no venue', 'formatted_address': '424-458 Hoxton Park Road\\nLiverpool West NSW 2170\\nAustralia'}, {'id': '5FyorXaGSq9v4pbCZ9', 'title': \"Benalla Farmers' Market\", 'description': 'The Benalla Farmers Market has plenty of stalls, food and entertainment for the whole family. Held beside beautiful Lake Benalla on the fourth Saturd ... (139 characters truncated) ...  coffee, try and wine and a delicious snack and listen to a diverse range of music performed by local talent.\\n\\nCheck the Facebook page for updates.', 'category': 'community', 'start_date': '2021-07-23T23:00:00Z', 'end_date': '2021-07-24T03:00:00Z', 'country': 'AU', 'coords': [145.983564, -36.552345], 'rank': 45, 'venue_name': 'no venue', 'formatted_address': 'no address'}, {'id': '66Rm432Hr5Dq8KYfwW', 'title': 'The National 2021 at AGNSW', 'description': '14 artist projects at the Art Gallery of New South Wales explore the potential of art to heal and care for fragile natural and social ecosystems. In  ... (1014 characters truncated) ... rt that together highlight many of the ideas and concerns motivating artists in Australia today.\\n\\nFor more information visit the dedicated website.', 'category': 'expos', 'start_date': '2021-07-23T23:00:00Z', 'end_date': '2021-07-24T07:00:00Z', 'country': 'AU', 'coords': [151.214894, -33.871516], 'rank': 45, 'venue_name': 'no venue', 'formatted_address': 'no address'}, {'id': '75nCaoHuQvSKbEWSYi', 'title': 'PlayUP: The Right to Have an Opinion and Be Heard', 'description': \"PlayUP is the Museum of Australian Democracy's imaginative family space with activities to educate, excite and challenge young minds.\\n\\nWith listeni ... (120 characters truncated) ...  and immersive experiences that flip the traditional idea of museums completely on its head.\\n\\nBookings are essential.\\n\\nOpen Times: Daily: 9am-5pm\", 'category': 'expos', 'start_date': '2021-07-23T23:00:00Z', 'end_date': '2021-07-24T07:00:00Z', 'country': 'AU', 'coords': [149.129768, -35.301112], 'rank': 45, 'venue_name': 'no venue', 'formatted_address': 'no address'}, {'id': '8ctfxaAbJZtFeQ649w', 'title': 'Happy and Glorious', 'description': 'The Museum of Australian Democracy (MoAD) at Old Parliament House presents Happy and Glorious - an exhibition dedicated to The Queen’s Visit in 1954. ... (560 characters truncated) ... jects.\\n\\nVisit this snapshot in time at the Happy and Glorious exhibition by booking a general museum pass to MoAD.\\n\\nOpen Times: Daily: 9am to 5pm', 'category': 'expos', 'start_date': '2021-07-23T23:00:00Z', 'end_date': '2021-07-24T07:00:00Z', 'country': 'AU', 'coords': [149.129768, -35.301112], 'rank': 45, 'venue_name': 'no venue', 'formatted_address': 'no address'}, {'id': '9WnZoMzU7X9wteMhyB', 'title': 'Private Flower Crown Workshop', 'description': 'Flower crown workshop is on trend. If you are searching for a unique and creative activity for your special day, it is the perfect choice. Making a f ... (473 characters truncated) ... suit your needs. Meet your flower expert and create gorgeous floral crowns with them.  They’d love to chat with you and host a special party for you.', 'category': 'community', 'start_date': '2021-07-23T23:00:00Z', 'end_date': '2021-07-24T08:00:00Z', 'country': 'AU', 'coords': [151.199999, -33.91609], 'rank': 0, 'venue_name': 'no venue', 'formatted_address': 'no address'}  ... displaying 10 of 1500 total bound parameter sets ...  {'id': 'x7LXaqKZxNVGKYWo94', 'title': 'HSC Up Close', 'description': 'Jesse Whelan from Sandbox Learning Australia will outline the mindset, habits, and learning techniques needed to achieve your potential.', 'category': 'conferences', 'start_date': '2021-07-15T08:00:00Z', 'end_date': '2021-07-15T09:30:00Z', 'country': 'AU', 'coords': [151.244995, -33.89296], 'rank': 0, 'venue_name': 'no venue', 'formatted_address': '32 48 Denison Street\\nBondi Junction NSW 2022\\nAustralia'}, {'id': 'x8tFddmghJwsbCrUbX', 'title': 'EQUINOX TOWNSVILLE 2021', 'description': 'The boutique architectural exhibition connecting design professionals with industry-leading products, technologies and suppliers.', 'category': 'expos', 'start_date': '2021-07-15T08:00:00Z', 'end_date': '2021-07-15T10:00:00Z', 'country': 'AU', 'coords': [146.82597, -19.25388], 'rank': 0, 'venue_name': 'no venue', 'formatted_address': 'Sir Leslie Thiess Dr\\nTownsville QLD 4810\\nAustralia'})]\n(Background on this error at: http://sqlalche.me/e/13/gkpj)",
     "traceback": [
      "\u001b[1;31m---------------------------------------------------------------------------\u001b[0m",
      "\u001b[1;31mUniqueViolation\u001b[0m                           Traceback (most recent call last)",
      "\u001b[1;32m~\\anaconda3\\lib\\site-packages\\sqlalchemy\\engine\\base.py\u001b[0m in \u001b[0;36m_execute_context\u001b[1;34m(self, dialect, constructor, statement, parameters, *args)\u001b[0m\n\u001b[0;32m   1256\u001b[0m                 \u001b[1;32mif\u001b[0m \u001b[1;32mnot\u001b[0m \u001b[0mevt_handled\u001b[0m\u001b[1;33m:\u001b[0m\u001b[1;33m\u001b[0m\u001b[1;33m\u001b[0m\u001b[0m\n\u001b[1;32m-> 1257\u001b[1;33m                     self.dialect.do_executemany(\n\u001b[0m\u001b[0;32m   1258\u001b[0m                         \u001b[0mcursor\u001b[0m\u001b[1;33m,\u001b[0m \u001b[0mstatement\u001b[0m\u001b[1;33m,\u001b[0m \u001b[0mparameters\u001b[0m\u001b[1;33m,\u001b[0m \u001b[0mcontext\u001b[0m\u001b[1;33m\u001b[0m\u001b[1;33m\u001b[0m\u001b[0m\n",
      "\u001b[1;32m~\\anaconda3\\lib\\site-packages\\sqlalchemy\\dialects\\postgresql\\psycopg2.py\u001b[0m in \u001b[0;36mdo_executemany\u001b[1;34m(self, cursor, statement, parameters, context)\u001b[0m\n\u001b[0;32m    872\u001b[0m         \u001b[1;32mif\u001b[0m \u001b[0mself\u001b[0m\u001b[1;33m.\u001b[0m\u001b[0mexecutemany_mode\u001b[0m \u001b[1;32mis\u001b[0m \u001b[0mEXECUTEMANY_DEFAULT\u001b[0m\u001b[1;33m:\u001b[0m\u001b[1;33m\u001b[0m\u001b[1;33m\u001b[0m\u001b[0m\n\u001b[1;32m--> 873\u001b[1;33m             \u001b[0mcursor\u001b[0m\u001b[1;33m.\u001b[0m\u001b[0mexecutemany\u001b[0m\u001b[1;33m(\u001b[0m\u001b[0mstatement\u001b[0m\u001b[1;33m,\u001b[0m \u001b[0mparameters\u001b[0m\u001b[1;33m)\u001b[0m\u001b[1;33m\u001b[0m\u001b[1;33m\u001b[0m\u001b[0m\n\u001b[0m\u001b[0;32m    874\u001b[0m             \u001b[1;32mreturn\u001b[0m\u001b[1;33m\u001b[0m\u001b[1;33m\u001b[0m\u001b[0m\n",
      "\u001b[1;31mUniqueViolation\u001b[0m: duplicate key value violates unique constraint \"events_table_pkey\"\nDETAIL:  Key (id)=(TpCYmYhbA4RmmGjZio) already exists.\n",
      "\nThe above exception was the direct cause of the following exception:\n",
      "\u001b[1;31mIntegrityError\u001b[0m                            Traceback (most recent call last)",
      "\u001b[1;32m<ipython-input-12-eb5a42e09a04>\u001b[0m in \u001b[0;36m<module>\u001b[1;34m\u001b[0m\n\u001b[1;32m----> 1\u001b[1;33m \u001b[0mevents_entries_df\u001b[0m\u001b[1;33m.\u001b[0m\u001b[0mto_sql\u001b[0m\u001b[1;33m(\u001b[0m\u001b[0mname\u001b[0m\u001b[1;33m=\u001b[0m\u001b[1;34m'events_table'\u001b[0m\u001b[1;33m,\u001b[0m \u001b[0mcon\u001b[0m\u001b[1;33m=\u001b[0m\u001b[0mengine\u001b[0m\u001b[1;33m,\u001b[0m \u001b[0mif_exists\u001b[0m\u001b[1;33m=\u001b[0m\u001b[1;34m'append'\u001b[0m\u001b[1;33m,\u001b[0m \u001b[0mindex\u001b[0m\u001b[1;33m=\u001b[0m\u001b[1;32mFalse\u001b[0m\u001b[1;33m)\u001b[0m\u001b[1;33m\u001b[0m\u001b[1;33m\u001b[0m\u001b[0m\n\u001b[0m",
      "\u001b[1;32m~\\anaconda3\\lib\\site-packages\\pandas\\core\\generic.py\u001b[0m in \u001b[0;36mto_sql\u001b[1;34m(self, name, con, schema, if_exists, index, index_label, chunksize, dtype, method)\u001b[0m\n\u001b[0;32m   2651\u001b[0m         \u001b[1;32mfrom\u001b[0m \u001b[0mpandas\u001b[0m\u001b[1;33m.\u001b[0m\u001b[0mio\u001b[0m \u001b[1;32mimport\u001b[0m \u001b[0msql\u001b[0m\u001b[1;33m\u001b[0m\u001b[1;33m\u001b[0m\u001b[0m\n\u001b[0;32m   2652\u001b[0m \u001b[1;33m\u001b[0m\u001b[0m\n\u001b[1;32m-> 2653\u001b[1;33m         sql.to_sql(\n\u001b[0m\u001b[0;32m   2654\u001b[0m             \u001b[0mself\u001b[0m\u001b[1;33m,\u001b[0m\u001b[1;33m\u001b[0m\u001b[1;33m\u001b[0m\u001b[0m\n\u001b[0;32m   2655\u001b[0m             \u001b[0mname\u001b[0m\u001b[1;33m,\u001b[0m\u001b[1;33m\u001b[0m\u001b[1;33m\u001b[0m\u001b[0m\n",
      "\u001b[1;32m~\\anaconda3\\lib\\site-packages\\pandas\\io\\sql.py\u001b[0m in \u001b[0;36mto_sql\u001b[1;34m(frame, name, con, schema, if_exists, index, index_label, chunksize, dtype, method)\u001b[0m\n\u001b[0;32m    510\u001b[0m         )\n\u001b[0;32m    511\u001b[0m \u001b[1;33m\u001b[0m\u001b[0m\n\u001b[1;32m--> 512\u001b[1;33m     pandas_sql.to_sql(\n\u001b[0m\u001b[0;32m    513\u001b[0m         \u001b[0mframe\u001b[0m\u001b[1;33m,\u001b[0m\u001b[1;33m\u001b[0m\u001b[1;33m\u001b[0m\u001b[0m\n\u001b[0;32m    514\u001b[0m         \u001b[0mname\u001b[0m\u001b[1;33m,\u001b[0m\u001b[1;33m\u001b[0m\u001b[1;33m\u001b[0m\u001b[0m\n",
      "\u001b[1;32m~\\anaconda3\\lib\\site-packages\\pandas\\io\\sql.py\u001b[0m in \u001b[0;36mto_sql\u001b[1;34m(self, frame, name, if_exists, index, index_label, schema, chunksize, dtype, method)\u001b[0m\n\u001b[0;32m   1315\u001b[0m         )\n\u001b[0;32m   1316\u001b[0m         \u001b[0mtable\u001b[0m\u001b[1;33m.\u001b[0m\u001b[0mcreate\u001b[0m\u001b[1;33m(\u001b[0m\u001b[1;33m)\u001b[0m\u001b[1;33m\u001b[0m\u001b[1;33m\u001b[0m\u001b[0m\n\u001b[1;32m-> 1317\u001b[1;33m         \u001b[0mtable\u001b[0m\u001b[1;33m.\u001b[0m\u001b[0minsert\u001b[0m\u001b[1;33m(\u001b[0m\u001b[0mchunksize\u001b[0m\u001b[1;33m,\u001b[0m \u001b[0mmethod\u001b[0m\u001b[1;33m=\u001b[0m\u001b[0mmethod\u001b[0m\u001b[1;33m)\u001b[0m\u001b[1;33m\u001b[0m\u001b[1;33m\u001b[0m\u001b[0m\n\u001b[0m\u001b[0;32m   1318\u001b[0m         \u001b[1;32mif\u001b[0m \u001b[1;32mnot\u001b[0m \u001b[0mname\u001b[0m\u001b[1;33m.\u001b[0m\u001b[0misdigit\u001b[0m\u001b[1;33m(\u001b[0m\u001b[1;33m)\u001b[0m \u001b[1;32mand\u001b[0m \u001b[1;32mnot\u001b[0m \u001b[0mname\u001b[0m\u001b[1;33m.\u001b[0m\u001b[0mislower\u001b[0m\u001b[1;33m(\u001b[0m\u001b[1;33m)\u001b[0m\u001b[1;33m:\u001b[0m\u001b[1;33m\u001b[0m\u001b[1;33m\u001b[0m\u001b[0m\n\u001b[0;32m   1319\u001b[0m             \u001b[1;31m# check for potentially case sensitivity issues (GH7815)\u001b[0m\u001b[1;33m\u001b[0m\u001b[1;33m\u001b[0m\u001b[1;33m\u001b[0m\u001b[0m\n",
      "\u001b[1;32m~\\anaconda3\\lib\\site-packages\\pandas\\io\\sql.py\u001b[0m in \u001b[0;36minsert\u001b[1;34m(self, chunksize, method)\u001b[0m\n\u001b[0;32m    753\u001b[0m \u001b[1;33m\u001b[0m\u001b[0m\n\u001b[0;32m    754\u001b[0m                 \u001b[0mchunk_iter\u001b[0m \u001b[1;33m=\u001b[0m \u001b[0mzip\u001b[0m\u001b[1;33m(\u001b[0m\u001b[1;33m*\u001b[0m\u001b[1;33m[\u001b[0m\u001b[0marr\u001b[0m\u001b[1;33m[\u001b[0m\u001b[0mstart_i\u001b[0m\u001b[1;33m:\u001b[0m\u001b[0mend_i\u001b[0m\u001b[1;33m]\u001b[0m \u001b[1;32mfor\u001b[0m \u001b[0marr\u001b[0m \u001b[1;32min\u001b[0m \u001b[0mdata_list\u001b[0m\u001b[1;33m]\u001b[0m\u001b[1;33m)\u001b[0m\u001b[1;33m\u001b[0m\u001b[1;33m\u001b[0m\u001b[0m\n\u001b[1;32m--> 755\u001b[1;33m                 \u001b[0mexec_insert\u001b[0m\u001b[1;33m(\u001b[0m\u001b[0mconn\u001b[0m\u001b[1;33m,\u001b[0m \u001b[0mkeys\u001b[0m\u001b[1;33m,\u001b[0m \u001b[0mchunk_iter\u001b[0m\u001b[1;33m)\u001b[0m\u001b[1;33m\u001b[0m\u001b[1;33m\u001b[0m\u001b[0m\n\u001b[0m\u001b[0;32m    756\u001b[0m \u001b[1;33m\u001b[0m\u001b[0m\n\u001b[0;32m    757\u001b[0m     def _query_iterator(\n",
      "\u001b[1;32m~\\anaconda3\\lib\\site-packages\\pandas\\io\\sql.py\u001b[0m in \u001b[0;36m_execute_insert\u001b[1;34m(self, conn, keys, data_iter)\u001b[0m\n\u001b[0;32m    667\u001b[0m         \"\"\"\n\u001b[0;32m    668\u001b[0m         \u001b[0mdata\u001b[0m \u001b[1;33m=\u001b[0m \u001b[1;33m[\u001b[0m\u001b[0mdict\u001b[0m\u001b[1;33m(\u001b[0m\u001b[0mzip\u001b[0m\u001b[1;33m(\u001b[0m\u001b[0mkeys\u001b[0m\u001b[1;33m,\u001b[0m \u001b[0mrow\u001b[0m\u001b[1;33m)\u001b[0m\u001b[1;33m)\u001b[0m \u001b[1;32mfor\u001b[0m \u001b[0mrow\u001b[0m \u001b[1;32min\u001b[0m \u001b[0mdata_iter\u001b[0m\u001b[1;33m]\u001b[0m\u001b[1;33m\u001b[0m\u001b[1;33m\u001b[0m\u001b[0m\n\u001b[1;32m--> 669\u001b[1;33m         \u001b[0mconn\u001b[0m\u001b[1;33m.\u001b[0m\u001b[0mexecute\u001b[0m\u001b[1;33m(\u001b[0m\u001b[0mself\u001b[0m\u001b[1;33m.\u001b[0m\u001b[0mtable\u001b[0m\u001b[1;33m.\u001b[0m\u001b[0minsert\u001b[0m\u001b[1;33m(\u001b[0m\u001b[1;33m)\u001b[0m\u001b[1;33m,\u001b[0m \u001b[0mdata\u001b[0m\u001b[1;33m)\u001b[0m\u001b[1;33m\u001b[0m\u001b[1;33m\u001b[0m\u001b[0m\n\u001b[0m\u001b[0;32m    670\u001b[0m \u001b[1;33m\u001b[0m\u001b[0m\n\u001b[0;32m    671\u001b[0m     \u001b[1;32mdef\u001b[0m \u001b[0m_execute_insert_multi\u001b[0m\u001b[1;33m(\u001b[0m\u001b[0mself\u001b[0m\u001b[1;33m,\u001b[0m \u001b[0mconn\u001b[0m\u001b[1;33m,\u001b[0m \u001b[0mkeys\u001b[0m\u001b[1;33m,\u001b[0m \u001b[0mdata_iter\u001b[0m\u001b[1;33m)\u001b[0m\u001b[1;33m:\u001b[0m\u001b[1;33m\u001b[0m\u001b[1;33m\u001b[0m\u001b[0m\n",
      "\u001b[1;32m~\\anaconda3\\lib\\site-packages\\sqlalchemy\\engine\\base.py\u001b[0m in \u001b[0;36mexecute\u001b[1;34m(self, object_, *multiparams, **params)\u001b[0m\n\u001b[0;32m   1012\u001b[0m             )\n\u001b[0;32m   1013\u001b[0m         \u001b[1;32melse\u001b[0m\u001b[1;33m:\u001b[0m\u001b[1;33m\u001b[0m\u001b[1;33m\u001b[0m\u001b[0m\n\u001b[1;32m-> 1014\u001b[1;33m             \u001b[1;32mreturn\u001b[0m \u001b[0mmeth\u001b[0m\u001b[1;33m(\u001b[0m\u001b[0mself\u001b[0m\u001b[1;33m,\u001b[0m \u001b[0mmultiparams\u001b[0m\u001b[1;33m,\u001b[0m \u001b[0mparams\u001b[0m\u001b[1;33m)\u001b[0m\u001b[1;33m\u001b[0m\u001b[1;33m\u001b[0m\u001b[0m\n\u001b[0m\u001b[0;32m   1015\u001b[0m \u001b[1;33m\u001b[0m\u001b[0m\n\u001b[0;32m   1016\u001b[0m     \u001b[1;32mdef\u001b[0m \u001b[0m_execute_function\u001b[0m\u001b[1;33m(\u001b[0m\u001b[0mself\u001b[0m\u001b[1;33m,\u001b[0m \u001b[0mfunc\u001b[0m\u001b[1;33m,\u001b[0m \u001b[0mmultiparams\u001b[0m\u001b[1;33m,\u001b[0m \u001b[0mparams\u001b[0m\u001b[1;33m)\u001b[0m\u001b[1;33m:\u001b[0m\u001b[1;33m\u001b[0m\u001b[1;33m\u001b[0m\u001b[0m\n",
      "\u001b[1;32m~\\anaconda3\\lib\\site-packages\\sqlalchemy\\sql\\elements.py\u001b[0m in \u001b[0;36m_execute_on_connection\u001b[1;34m(self, connection, multiparams, params)\u001b[0m\n\u001b[0;32m    296\u001b[0m     \u001b[1;32mdef\u001b[0m \u001b[0m_execute_on_connection\u001b[0m\u001b[1;33m(\u001b[0m\u001b[0mself\u001b[0m\u001b[1;33m,\u001b[0m \u001b[0mconnection\u001b[0m\u001b[1;33m,\u001b[0m \u001b[0mmultiparams\u001b[0m\u001b[1;33m,\u001b[0m \u001b[0mparams\u001b[0m\u001b[1;33m)\u001b[0m\u001b[1;33m:\u001b[0m\u001b[1;33m\u001b[0m\u001b[1;33m\u001b[0m\u001b[0m\n\u001b[0;32m    297\u001b[0m         \u001b[1;32mif\u001b[0m \u001b[0mself\u001b[0m\u001b[1;33m.\u001b[0m\u001b[0msupports_execution\u001b[0m\u001b[1;33m:\u001b[0m\u001b[1;33m\u001b[0m\u001b[1;33m\u001b[0m\u001b[0m\n\u001b[1;32m--> 298\u001b[1;33m             \u001b[1;32mreturn\u001b[0m \u001b[0mconnection\u001b[0m\u001b[1;33m.\u001b[0m\u001b[0m_execute_clauseelement\u001b[0m\u001b[1;33m(\u001b[0m\u001b[0mself\u001b[0m\u001b[1;33m,\u001b[0m \u001b[0mmultiparams\u001b[0m\u001b[1;33m,\u001b[0m \u001b[0mparams\u001b[0m\u001b[1;33m)\u001b[0m\u001b[1;33m\u001b[0m\u001b[1;33m\u001b[0m\u001b[0m\n\u001b[0m\u001b[0;32m    299\u001b[0m         \u001b[1;32melse\u001b[0m\u001b[1;33m:\u001b[0m\u001b[1;33m\u001b[0m\u001b[1;33m\u001b[0m\u001b[0m\n\u001b[0;32m    300\u001b[0m             \u001b[1;32mraise\u001b[0m \u001b[0mexc\u001b[0m\u001b[1;33m.\u001b[0m\u001b[0mObjectNotExecutableError\u001b[0m\u001b[1;33m(\u001b[0m\u001b[0mself\u001b[0m\u001b[1;33m)\u001b[0m\u001b[1;33m\u001b[0m\u001b[1;33m\u001b[0m\u001b[0m\n",
      "\u001b[1;32m~\\anaconda3\\lib\\site-packages\\sqlalchemy\\engine\\base.py\u001b[0m in \u001b[0;36m_execute_clauseelement\u001b[1;34m(self, elem, multiparams, params)\u001b[0m\n\u001b[0;32m   1125\u001b[0m             )\n\u001b[0;32m   1126\u001b[0m \u001b[1;33m\u001b[0m\u001b[0m\n\u001b[1;32m-> 1127\u001b[1;33m         ret = self._execute_context(\n\u001b[0m\u001b[0;32m   1128\u001b[0m             \u001b[0mdialect\u001b[0m\u001b[1;33m,\u001b[0m\u001b[1;33m\u001b[0m\u001b[1;33m\u001b[0m\u001b[0m\n\u001b[0;32m   1129\u001b[0m             \u001b[0mdialect\u001b[0m\u001b[1;33m.\u001b[0m\u001b[0mexecution_ctx_cls\u001b[0m\u001b[1;33m.\u001b[0m\u001b[0m_init_compiled\u001b[0m\u001b[1;33m,\u001b[0m\u001b[1;33m\u001b[0m\u001b[1;33m\u001b[0m\u001b[0m\n",
      "\u001b[1;32m~\\anaconda3\\lib\\site-packages\\sqlalchemy\\engine\\base.py\u001b[0m in \u001b[0;36m_execute_context\u001b[1;34m(self, dialect, constructor, statement, parameters, *args)\u001b[0m\n\u001b[0;32m   1315\u001b[0m \u001b[1;33m\u001b[0m\u001b[0m\n\u001b[0;32m   1316\u001b[0m         \u001b[1;32mexcept\u001b[0m \u001b[0mBaseException\u001b[0m \u001b[1;32mas\u001b[0m \u001b[0me\u001b[0m\u001b[1;33m:\u001b[0m\u001b[1;33m\u001b[0m\u001b[1;33m\u001b[0m\u001b[0m\n\u001b[1;32m-> 1317\u001b[1;33m             self._handle_dbapi_exception(\n\u001b[0m\u001b[0;32m   1318\u001b[0m                 \u001b[0me\u001b[0m\u001b[1;33m,\u001b[0m \u001b[0mstatement\u001b[0m\u001b[1;33m,\u001b[0m \u001b[0mparameters\u001b[0m\u001b[1;33m,\u001b[0m \u001b[0mcursor\u001b[0m\u001b[1;33m,\u001b[0m \u001b[0mcontext\u001b[0m\u001b[1;33m\u001b[0m\u001b[1;33m\u001b[0m\u001b[0m\n\u001b[0;32m   1319\u001b[0m             )\n",
      "\u001b[1;32m~\\anaconda3\\lib\\site-packages\\sqlalchemy\\engine\\base.py\u001b[0m in \u001b[0;36m_handle_dbapi_exception\u001b[1;34m(self, e, statement, parameters, cursor, context)\u001b[0m\n\u001b[0;32m   1509\u001b[0m                 \u001b[0mutil\u001b[0m\u001b[1;33m.\u001b[0m\u001b[0mraise_\u001b[0m\u001b[1;33m(\u001b[0m\u001b[0mnewraise\u001b[0m\u001b[1;33m,\u001b[0m \u001b[0mwith_traceback\u001b[0m\u001b[1;33m=\u001b[0m\u001b[0mexc_info\u001b[0m\u001b[1;33m[\u001b[0m\u001b[1;36m2\u001b[0m\u001b[1;33m]\u001b[0m\u001b[1;33m,\u001b[0m \u001b[0mfrom_\u001b[0m\u001b[1;33m=\u001b[0m\u001b[0me\u001b[0m\u001b[1;33m)\u001b[0m\u001b[1;33m\u001b[0m\u001b[1;33m\u001b[0m\u001b[0m\n\u001b[0;32m   1510\u001b[0m             \u001b[1;32melif\u001b[0m \u001b[0mshould_wrap\u001b[0m\u001b[1;33m:\u001b[0m\u001b[1;33m\u001b[0m\u001b[1;33m\u001b[0m\u001b[0m\n\u001b[1;32m-> 1511\u001b[1;33m                 util.raise_(\n\u001b[0m\u001b[0;32m   1512\u001b[0m                     \u001b[0msqlalchemy_exception\u001b[0m\u001b[1;33m,\u001b[0m \u001b[0mwith_traceback\u001b[0m\u001b[1;33m=\u001b[0m\u001b[0mexc_info\u001b[0m\u001b[1;33m[\u001b[0m\u001b[1;36m2\u001b[0m\u001b[1;33m]\u001b[0m\u001b[1;33m,\u001b[0m \u001b[0mfrom_\u001b[0m\u001b[1;33m=\u001b[0m\u001b[0me\u001b[0m\u001b[1;33m\u001b[0m\u001b[1;33m\u001b[0m\u001b[0m\n\u001b[0;32m   1513\u001b[0m                 )\n",
      "\u001b[1;32m~\\anaconda3\\lib\\site-packages\\sqlalchemy\\util\\compat.py\u001b[0m in \u001b[0;36mraise_\u001b[1;34m(***failed resolving arguments***)\u001b[0m\n\u001b[0;32m    176\u001b[0m \u001b[1;33m\u001b[0m\u001b[0m\n\u001b[0;32m    177\u001b[0m         \u001b[1;32mtry\u001b[0m\u001b[1;33m:\u001b[0m\u001b[1;33m\u001b[0m\u001b[1;33m\u001b[0m\u001b[0m\n\u001b[1;32m--> 178\u001b[1;33m             \u001b[1;32mraise\u001b[0m \u001b[0mexception\u001b[0m\u001b[1;33m\u001b[0m\u001b[1;33m\u001b[0m\u001b[0m\n\u001b[0m\u001b[0;32m    179\u001b[0m         \u001b[1;32mfinally\u001b[0m\u001b[1;33m:\u001b[0m\u001b[1;33m\u001b[0m\u001b[1;33m\u001b[0m\u001b[0m\n\u001b[0;32m    180\u001b[0m             \u001b[1;31m# credit to\u001b[0m\u001b[1;33m\u001b[0m\u001b[1;33m\u001b[0m\u001b[1;33m\u001b[0m\u001b[0m\n",
      "\u001b[1;32m~\\anaconda3\\lib\\site-packages\\sqlalchemy\\engine\\base.py\u001b[0m in \u001b[0;36m_execute_context\u001b[1;34m(self, dialect, constructor, statement, parameters, *args)\u001b[0m\n\u001b[0;32m   1255\u001b[0m                             \u001b[1;32mbreak\u001b[0m\u001b[1;33m\u001b[0m\u001b[1;33m\u001b[0m\u001b[0m\n\u001b[0;32m   1256\u001b[0m                 \u001b[1;32mif\u001b[0m \u001b[1;32mnot\u001b[0m \u001b[0mevt_handled\u001b[0m\u001b[1;33m:\u001b[0m\u001b[1;33m\u001b[0m\u001b[1;33m\u001b[0m\u001b[0m\n\u001b[1;32m-> 1257\u001b[1;33m                     self.dialect.do_executemany(\n\u001b[0m\u001b[0;32m   1258\u001b[0m                         \u001b[0mcursor\u001b[0m\u001b[1;33m,\u001b[0m \u001b[0mstatement\u001b[0m\u001b[1;33m,\u001b[0m \u001b[0mparameters\u001b[0m\u001b[1;33m,\u001b[0m \u001b[0mcontext\u001b[0m\u001b[1;33m\u001b[0m\u001b[1;33m\u001b[0m\u001b[0m\n\u001b[0;32m   1259\u001b[0m                     )\n",
      "\u001b[1;32m~\\anaconda3\\lib\\site-packages\\sqlalchemy\\dialects\\postgresql\\psycopg2.py\u001b[0m in \u001b[0;36mdo_executemany\u001b[1;34m(self, cursor, statement, parameters, context)\u001b[0m\n\u001b[0;32m    871\u001b[0m     \u001b[1;32mdef\u001b[0m \u001b[0mdo_executemany\u001b[0m\u001b[1;33m(\u001b[0m\u001b[0mself\u001b[0m\u001b[1;33m,\u001b[0m \u001b[0mcursor\u001b[0m\u001b[1;33m,\u001b[0m \u001b[0mstatement\u001b[0m\u001b[1;33m,\u001b[0m \u001b[0mparameters\u001b[0m\u001b[1;33m,\u001b[0m \u001b[0mcontext\u001b[0m\u001b[1;33m=\u001b[0m\u001b[1;32mNone\u001b[0m\u001b[1;33m)\u001b[0m\u001b[1;33m:\u001b[0m\u001b[1;33m\u001b[0m\u001b[1;33m\u001b[0m\u001b[0m\n\u001b[0;32m    872\u001b[0m         \u001b[1;32mif\u001b[0m \u001b[0mself\u001b[0m\u001b[1;33m.\u001b[0m\u001b[0mexecutemany_mode\u001b[0m \u001b[1;32mis\u001b[0m \u001b[0mEXECUTEMANY_DEFAULT\u001b[0m\u001b[1;33m:\u001b[0m\u001b[1;33m\u001b[0m\u001b[1;33m\u001b[0m\u001b[0m\n\u001b[1;32m--> 873\u001b[1;33m             \u001b[0mcursor\u001b[0m\u001b[1;33m.\u001b[0m\u001b[0mexecutemany\u001b[0m\u001b[1;33m(\u001b[0m\u001b[0mstatement\u001b[0m\u001b[1;33m,\u001b[0m \u001b[0mparameters\u001b[0m\u001b[1;33m)\u001b[0m\u001b[1;33m\u001b[0m\u001b[1;33m\u001b[0m\u001b[0m\n\u001b[0m\u001b[0;32m    874\u001b[0m             \u001b[1;32mreturn\u001b[0m\u001b[1;33m\u001b[0m\u001b[1;33m\u001b[0m\u001b[0m\n\u001b[0;32m    875\u001b[0m \u001b[1;33m\u001b[0m\u001b[0m\n",
      "\u001b[1;31mIntegrityError\u001b[0m: (psycopg2.errors.UniqueViolation) duplicate key value violates unique constraint \"events_table_pkey\"\nDETAIL:  Key (id)=(TpCYmYhbA4RmmGjZio) already exists.\n\n[SQL: INSERT INTO events_table (id, title, description, category, start_date, end_date, country, coords, rank, venue_name, formatted_address) VALUES (%(id)s, %(title)s, %(description)s, %(category)s, %(start_date)s, %(end_date)s, %(country)s, %(coords)s, %(rank)s, %(venue_name)s, %(formatted_address)s)]\n[parameters: ({'id': 'TpCYmYhbA4RmmGjZio', 'title': 'Mount Claremont Farmers Market', 'description': \"The Mount Claremont Farmers' Market is an exciting initiative. Predominantly a fresh produce market operating every Saturday morning at the Mount Cla ... (1011 characters truncated) ... ic local olive oils and condiments to choose from.\\r\\n\\r\\n\\n\\nOpen Times: 7.30am to 11.30am every Saturday. Closed the Saturday after Christmas only.\", 'category': 'community', 'start_date': '2021-07-23T23:30:00Z', 'end_date': '2021-07-24T03:30:00Z', 'country': 'AU', 'coords': [115.782705, -31.968148], 'rank': 45, 'venue_name': 'no venue', 'formatted_address': 'no address'}, {'id': 'ZuwQHdYq85DxzPdyB2', 'title': 'Margaret River Farmers Market', 'description': \"The Margaret River Farmers' Market has been a feature of the region for over 10 years, providing access to fresh local produce for both residents and ... (904 characters truncated) ... River Regional Producers' Association, a not for profit association run by a volunteer board.\\r\\n\\r\\n\\n\\nOpen Times: 8.00am to 12.00pm each Saturday.\", 'category': 'community', 'start_date': '2021-07-23T23:30:00Z', 'end_date': '2021-07-24T03:30:00Z', 'country': 'AU', 'coords': [115.073923, -33.957078], 'rank': 45, 'venue_name': 'no venue', 'formatted_address': 'no address'}, {'id': 'u6rJBcDTSLvdZC8NfF', 'title': 'Doll Fair', 'description': '', 'category': 'expos', 'start_date': '2021-07-23T23:30:00Z', 'end_date': '2021-07-25T02:00:00Z', 'country': 'AU', 'coords': [150.874911, -33.929269], 'rank': 62, 'venue_name': 'no venue', 'formatted_address': '424-458 Hoxton Park Road\\nLiverpool West NSW 2170\\nAustralia'}, {'id': '5FyorXaGSq9v4pbCZ9', 'title': \"Benalla Farmers' Market\", 'description': 'The Benalla Farmers Market has plenty of stalls, food and entertainment for the whole family. Held beside beautiful Lake Benalla on the fourth Saturd ... (139 characters truncated) ...  coffee, try and wine and a delicious snack and listen to a diverse range of music performed by local talent.\\n\\nCheck the Facebook page for updates.', 'category': 'community', 'start_date': '2021-07-23T23:00:00Z', 'end_date': '2021-07-24T03:00:00Z', 'country': 'AU', 'coords': [145.983564, -36.552345], 'rank': 45, 'venue_name': 'no venue', 'formatted_address': 'no address'}, {'id': '66Rm432Hr5Dq8KYfwW', 'title': 'The National 2021 at AGNSW', 'description': '14 artist projects at the Art Gallery of New South Wales explore the potential of art to heal and care for fragile natural and social ecosystems. In  ... (1014 characters truncated) ... rt that together highlight many of the ideas and concerns motivating artists in Australia today.\\n\\nFor more information visit the dedicated website.', 'category': 'expos', 'start_date': '2021-07-23T23:00:00Z', 'end_date': '2021-07-24T07:00:00Z', 'country': 'AU', 'coords': [151.214894, -33.871516], 'rank': 45, 'venue_name': 'no venue', 'formatted_address': 'no address'}, {'id': '75nCaoHuQvSKbEWSYi', 'title': 'PlayUP: The Right to Have an Opinion and Be Heard', 'description': \"PlayUP is the Museum of Australian Democracy's imaginative family space with activities to educate, excite and challenge young minds.\\n\\nWith listeni ... (120 characters truncated) ...  and immersive experiences that flip the traditional idea of museums completely on its head.\\n\\nBookings are essential.\\n\\nOpen Times: Daily: 9am-5pm\", 'category': 'expos', 'start_date': '2021-07-23T23:00:00Z', 'end_date': '2021-07-24T07:00:00Z', 'country': 'AU', 'coords': [149.129768, -35.301112], 'rank': 45, 'venue_name': 'no venue', 'formatted_address': 'no address'}, {'id': '8ctfxaAbJZtFeQ649w', 'title': 'Happy and Glorious', 'description': 'The Museum of Australian Democracy (MoAD) at Old Parliament House presents Happy and Glorious - an exhibition dedicated to The Queen’s Visit in 1954. ... (560 characters truncated) ... jects.\\n\\nVisit this snapshot in time at the Happy and Glorious exhibition by booking a general museum pass to MoAD.\\n\\nOpen Times: Daily: 9am to 5pm', 'category': 'expos', 'start_date': '2021-07-23T23:00:00Z', 'end_date': '2021-07-24T07:00:00Z', 'country': 'AU', 'coords': [149.129768, -35.301112], 'rank': 45, 'venue_name': 'no venue', 'formatted_address': 'no address'}, {'id': '9WnZoMzU7X9wteMhyB', 'title': 'Private Flower Crown Workshop', 'description': 'Flower crown workshop is on trend. If you are searching for a unique and creative activity for your special day, it is the perfect choice. Making a f ... (473 characters truncated) ... suit your needs. Meet your flower expert and create gorgeous floral crowns with them.  They’d love to chat with you and host a special party for you.', 'category': 'community', 'start_date': '2021-07-23T23:00:00Z', 'end_date': '2021-07-24T08:00:00Z', 'country': 'AU', 'coords': [151.199999, -33.91609], 'rank': 0, 'venue_name': 'no venue', 'formatted_address': 'no address'}  ... displaying 10 of 1500 total bound parameter sets ...  {'id': 'x7LXaqKZxNVGKYWo94', 'title': 'HSC Up Close', 'description': 'Jesse Whelan from Sandbox Learning Australia will outline the mindset, habits, and learning techniques needed to achieve your potential.', 'category': 'conferences', 'start_date': '2021-07-15T08:00:00Z', 'end_date': '2021-07-15T09:30:00Z', 'country': 'AU', 'coords': [151.244995, -33.89296], 'rank': 0, 'venue_name': 'no venue', 'formatted_address': '32 48 Denison Street\\nBondi Junction NSW 2022\\nAustralia'}, {'id': 'x8tFddmghJwsbCrUbX', 'title': 'EQUINOX TOWNSVILLE 2021', 'description': 'The boutique architectural exhibition connecting design professionals with industry-leading products, technologies and suppliers.', 'category': 'expos', 'start_date': '2021-07-15T08:00:00Z', 'end_date': '2021-07-15T10:00:00Z', 'country': 'AU', 'coords': [146.82597, -19.25388], 'rank': 0, 'venue_name': 'no venue', 'formatted_address': 'Sir Leslie Thiess Dr\\nTownsville QLD 4810\\nAustralia'})]\n(Background on this error at: http://sqlalche.me/e/13/gkpj)"
     ]
    }
   ],
   "source": [
    "# events_entries_df.to_sql(name='events_table', con=engine, if_exists='append', index=False)"
   ]
  },
  {
   "cell_type": "code",
   "execution_count": 13,
   "metadata": {},
   "outputs": [
    {
     "output_type": "execute_result",
     "data": {
      "text/plain": [
       "['events_table']"
      ]
     },
     "metadata": {},
     "execution_count": 13
    }
   ],
   "source": [
    "# Create a events_db. Add the tables into postgres database as per schema.sql\n",
    "engine.table_names()"
   ]
  },
  {
   "cell_type": "code",
   "execution_count": 14,
   "metadata": {},
   "outputs": [
    {
     "output_type": "execute_result",
     "data": {
      "text/plain": [
       "                      id                               title  \\\n",
       "0     TpCYmYhbA4RmmGjZio      Mount Claremont Farmers Market   \n",
       "1     ZuwQHdYq85DxzPdyB2       Margaret River Farmers Market   \n",
       "2     u6rJBcDTSLvdZC8NfF                           Doll Fair   \n",
       "3     5FyorXaGSq9v4pbCZ9             Benalla Farmers' Market   \n",
       "4     66Rm432Hr5Dq8KYfwW          The National 2021 at AGNSW   \n",
       "...                  ...                                 ...   \n",
       "1495  fx3JfhhiqoysxrXR8g            Learn to make cocktails!   \n",
       "1496  hAUz3PzJrRsK4FsNZG  Absolute Beginners Bachata Classes   \n",
       "1497  hhF9KV2dDyP5c2Vdr8           Evening Adult Art Classes   \n",
       "1498  x7LXaqKZxNVGKYWo94                        HSC Up Close   \n",
       "1499  x8tFddmghJwsbCrUbX             EQUINOX TOWNSVILLE 2021   \n",
       "\n",
       "                                            description     category  \\\n",
       "0     The Mount Claremont Farmers' Market is an exci...    community   \n",
       "1     The Margaret River Farmers' Market has been a ...    community   \n",
       "2                                                              expos   \n",
       "3     The Benalla Farmers Market has plenty of stall...    community   \n",
       "4     14 artist projects at the Art Gallery of New S...        expos   \n",
       "...                                                 ...          ...   \n",
       "1495  Learn to make a variety of cocktails, with gui...    community   \n",
       "1496  Never danced before? Not a problem! Tropical S...    community   \n",
       "1497  Learn to see as an artist and develop you skil...    community   \n",
       "1498  Jesse Whelan from Sandbox Learning Australia w...  conferences   \n",
       "1499  The boutique architectural exhibition connecti...        expos   \n",
       "\n",
       "                    start_date                  end_date country  \\\n",
       "0    2021-07-23 23:30:00+00:00 2021-07-24 03:30:00+00:00      AU   \n",
       "1    2021-07-23 23:30:00+00:00 2021-07-24 03:30:00+00:00      AU   \n",
       "2    2021-07-23 23:30:00+00:00 2021-07-25 02:00:00+00:00      AU   \n",
       "3    2021-07-23 23:00:00+00:00 2021-07-24 03:00:00+00:00      AU   \n",
       "4    2021-07-23 23:00:00+00:00 2021-07-24 07:00:00+00:00      AU   \n",
       "...                        ...                       ...     ...   \n",
       "1495 2021-07-15 08:00:00+00:00 2021-07-15 11:00:00+00:00      AU   \n",
       "1496 2021-07-15 08:00:00+00:00 2021-07-15 08:30:00+00:00      AU   \n",
       "1497 2021-07-15 08:00:00+00:00 2021-07-15 09:30:00+00:00      AU   \n",
       "1498 2021-07-15 08:00:00+00:00 2021-07-15 09:30:00+00:00      AU   \n",
       "1499 2021-07-15 08:00:00+00:00 2021-07-15 10:00:00+00:00      AU   \n",
       "\n",
       "                       coords  rank venue_name  \\\n",
       "0     {115.782705,-31.968148}    45   no venue   \n",
       "1     {115.073923,-33.957078}    45   no venue   \n",
       "2     {150.874911,-33.929269}    62   no venue   \n",
       "3     {145.983564,-36.552345}    45   no venue   \n",
       "4     {151.214894,-33.871516}    45   no venue   \n",
       "...                       ...   ...        ...   \n",
       "1495  {151.213768,-33.877746}     0   no venue   \n",
       "1496  {151.164101,-33.887906}     0   no venue   \n",
       "1497  {152.921212,-29.671462}     0   no venue   \n",
       "1498   {151.244995,-33.89296}     0   no venue   \n",
       "1499    {146.82597,-19.25388}     0   no venue   \n",
       "\n",
       "                                      formatted_address  \n",
       "0                                            no address  \n",
       "1                                            no address  \n",
       "2     424-458 Hoxton Park Road\\nLiverpool West NSW 2...  \n",
       "3                                            no address  \n",
       "4                                            no address  \n",
       "...                                                 ...  \n",
       "1495                                         no address  \n",
       "1496                                         no address  \n",
       "1497                                         no address  \n",
       "1498  32 48 Denison Street\\nBondi Junction NSW 2022\\...  \n",
       "1499  Sir Leslie Thiess Dr\\nTownsville QLD 4810\\nAus...  \n",
       "\n",
       "[1500 rows x 11 columns]"
      ],
      "text/html": "<div>\n<style scoped>\n    .dataframe tbody tr th:only-of-type {\n        vertical-align: middle;\n    }\n\n    .dataframe tbody tr th {\n        vertical-align: top;\n    }\n\n    .dataframe thead th {\n        text-align: right;\n    }\n</style>\n<table border=\"1\" class=\"dataframe\">\n  <thead>\n    <tr style=\"text-align: right;\">\n      <th></th>\n      <th>id</th>\n      <th>title</th>\n      <th>description</th>\n      <th>category</th>\n      <th>start_date</th>\n      <th>end_date</th>\n      <th>country</th>\n      <th>coords</th>\n      <th>rank</th>\n      <th>venue_name</th>\n      <th>formatted_address</th>\n    </tr>\n  </thead>\n  <tbody>\n    <tr>\n      <th>0</th>\n      <td>TpCYmYhbA4RmmGjZio</td>\n      <td>Mount Claremont Farmers Market</td>\n      <td>The Mount Claremont Farmers' Market is an exci...</td>\n      <td>community</td>\n      <td>2021-07-23 23:30:00+00:00</td>\n      <td>2021-07-24 03:30:00+00:00</td>\n      <td>AU</td>\n      <td>{115.782705,-31.968148}</td>\n      <td>45</td>\n      <td>no venue</td>\n      <td>no address</td>\n    </tr>\n    <tr>\n      <th>1</th>\n      <td>ZuwQHdYq85DxzPdyB2</td>\n      <td>Margaret River Farmers Market</td>\n      <td>The Margaret River Farmers' Market has been a ...</td>\n      <td>community</td>\n      <td>2021-07-23 23:30:00+00:00</td>\n      <td>2021-07-24 03:30:00+00:00</td>\n      <td>AU</td>\n      <td>{115.073923,-33.957078}</td>\n      <td>45</td>\n      <td>no venue</td>\n      <td>no address</td>\n    </tr>\n    <tr>\n      <th>2</th>\n      <td>u6rJBcDTSLvdZC8NfF</td>\n      <td>Doll Fair</td>\n      <td></td>\n      <td>expos</td>\n      <td>2021-07-23 23:30:00+00:00</td>\n      <td>2021-07-25 02:00:00+00:00</td>\n      <td>AU</td>\n      <td>{150.874911,-33.929269}</td>\n      <td>62</td>\n      <td>no venue</td>\n      <td>424-458 Hoxton Park Road\\nLiverpool West NSW 2...</td>\n    </tr>\n    <tr>\n      <th>3</th>\n      <td>5FyorXaGSq9v4pbCZ9</td>\n      <td>Benalla Farmers' Market</td>\n      <td>The Benalla Farmers Market has plenty of stall...</td>\n      <td>community</td>\n      <td>2021-07-23 23:00:00+00:00</td>\n      <td>2021-07-24 03:00:00+00:00</td>\n      <td>AU</td>\n      <td>{145.983564,-36.552345}</td>\n      <td>45</td>\n      <td>no venue</td>\n      <td>no address</td>\n    </tr>\n    <tr>\n      <th>4</th>\n      <td>66Rm432Hr5Dq8KYfwW</td>\n      <td>The National 2021 at AGNSW</td>\n      <td>14 artist projects at the Art Gallery of New S...</td>\n      <td>expos</td>\n      <td>2021-07-23 23:00:00+00:00</td>\n      <td>2021-07-24 07:00:00+00:00</td>\n      <td>AU</td>\n      <td>{151.214894,-33.871516}</td>\n      <td>45</td>\n      <td>no venue</td>\n      <td>no address</td>\n    </tr>\n    <tr>\n      <th>...</th>\n      <td>...</td>\n      <td>...</td>\n      <td>...</td>\n      <td>...</td>\n      <td>...</td>\n      <td>...</td>\n      <td>...</td>\n      <td>...</td>\n      <td>...</td>\n      <td>...</td>\n      <td>...</td>\n    </tr>\n    <tr>\n      <th>1495</th>\n      <td>fx3JfhhiqoysxrXR8g</td>\n      <td>Learn to make cocktails!</td>\n      <td>Learn to make a variety of cocktails, with gui...</td>\n      <td>community</td>\n      <td>2021-07-15 08:00:00+00:00</td>\n      <td>2021-07-15 11:00:00+00:00</td>\n      <td>AU</td>\n      <td>{151.213768,-33.877746}</td>\n      <td>0</td>\n      <td>no venue</td>\n      <td>no address</td>\n    </tr>\n    <tr>\n      <th>1496</th>\n      <td>hAUz3PzJrRsK4FsNZG</td>\n      <td>Absolute Beginners Bachata Classes</td>\n      <td>Never danced before? Not a problem! Tropical S...</td>\n      <td>community</td>\n      <td>2021-07-15 08:00:00+00:00</td>\n      <td>2021-07-15 08:30:00+00:00</td>\n      <td>AU</td>\n      <td>{151.164101,-33.887906}</td>\n      <td>0</td>\n      <td>no venue</td>\n      <td>no address</td>\n    </tr>\n    <tr>\n      <th>1497</th>\n      <td>hhF9KV2dDyP5c2Vdr8</td>\n      <td>Evening Adult Art Classes</td>\n      <td>Learn to see as an artist and develop you skil...</td>\n      <td>community</td>\n      <td>2021-07-15 08:00:00+00:00</td>\n      <td>2021-07-15 09:30:00+00:00</td>\n      <td>AU</td>\n      <td>{152.921212,-29.671462}</td>\n      <td>0</td>\n      <td>no venue</td>\n      <td>no address</td>\n    </tr>\n    <tr>\n      <th>1498</th>\n      <td>x7LXaqKZxNVGKYWo94</td>\n      <td>HSC Up Close</td>\n      <td>Jesse Whelan from Sandbox Learning Australia w...</td>\n      <td>conferences</td>\n      <td>2021-07-15 08:00:00+00:00</td>\n      <td>2021-07-15 09:30:00+00:00</td>\n      <td>AU</td>\n      <td>{151.244995,-33.89296}</td>\n      <td>0</td>\n      <td>no venue</td>\n      <td>32 48 Denison Street\\nBondi Junction NSW 2022\\...</td>\n    </tr>\n    <tr>\n      <th>1499</th>\n      <td>x8tFddmghJwsbCrUbX</td>\n      <td>EQUINOX TOWNSVILLE 2021</td>\n      <td>The boutique architectural exhibition connecti...</td>\n      <td>expos</td>\n      <td>2021-07-15 08:00:00+00:00</td>\n      <td>2021-07-15 10:00:00+00:00</td>\n      <td>AU</td>\n      <td>{146.82597,-19.25388}</td>\n      <td>0</td>\n      <td>no venue</td>\n      <td>Sir Leslie Thiess Dr\\nTownsville QLD 4810\\nAus...</td>\n    </tr>\n  </tbody>\n</table>\n<p>1500 rows × 11 columns</p>\n</div>"
     },
     "metadata": {},
     "execution_count": 14
    }
   ],
   "source": [
    "events_info = pd.read_sql_table('events_table', engine) \n",
    "events_info"
   ]
  },
  {
   "cell_type": "code",
   "execution_count": null,
   "metadata": {},
   "outputs": [],
   "source": []
  }
 ]
}